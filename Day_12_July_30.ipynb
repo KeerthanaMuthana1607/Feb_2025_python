{
 "cells": [
  {
   "cell_type": "code",
   "execution_count": 1,
   "id": "95a9bc77-f2c2-4053-826b-d8255a1a398b",
   "metadata": {},
   "outputs": [
    {
     "name": "stdin",
     "output_type": "stream",
     "text": [
      "Enter a number: 3\n"
     ]
    },
    {
     "name": "stdout",
     "output_type": "stream",
     "text": [
      "Three\n"
     ]
    }
   ],
   "source": [
    "# Q1) WAP ask user enter a number \n",
    "# if num=1 then print('one')\n",
    "# if num=2 then print('Two')\n",
    "# if num=3 then print('Three')\n",
    "# if num=4 then print('Four')\n",
    "\n",
    "\n",
    "num=eval(input(\"Enter a number:\"))\n",
    "if num==1:\n",
    "    print('One')\n",
    "elif num==2:\n",
    "    print('Two')\n",
    "elif num==3:\n",
    "    print('Three')\n",
    "elif num==4:\n",
    "    print('Four')\n",
    "else:\n",
    "    print('Other')"
   ]
  },
  {
   "cell_type": "code",
   "execution_count": 1,
   "id": "f1fac6b6-f0c9-4160-aad6-978f430092b7",
   "metadata": {},
   "outputs": [
    {
     "name": "stdin",
     "output_type": "stream",
     "text": [
      "Enter a number: 5\n"
     ]
    },
    {
     "name": "stdout",
     "output_type": "stream",
     "text": [
      "Other\n"
     ]
    }
   ],
   "source": [
    "# Q2) WAP \n",
    "\n",
    "num=eval(input(\"Enter a number:\"))\n",
    "if num==1:\n",
    "    print('One')\n",
    "if num==2:\n",
    "    print('Two')\n",
    "if num==3:\n",
    "    print('Three')\n",
    "if num==4:\n",
    "    print('Four')\n",
    "else:\n",
    "    print('Other')"
   ]
  },
  {
   "cell_type": "code",
   "execution_count": 10,
   "id": "4c2abcbe-adb8-474a-a565-9ed9c8da9c17",
   "metadata": {},
   "outputs": [
    {
     "name": "stdin",
     "output_type": "stream",
     "text": [
      "Enter a percentage: 70\n"
     ]
    },
    {
     "name": "stdout",
     "output_type": "stream",
     "text": [
      "Grade C\n"
     ]
    }
   ],
   "source": [
    "# Q2) WAP to ask the user enter the percentage \n",
    "\n",
    "percentage=eval(input(\"Enter a percentage:\"))\n",
    "if percentage>=90:\n",
    "    print('Grade A')\n",
    "elif percentage>=75:\n",
    "    print('Grade B')\n",
    "elif percentage>=60:\n",
    "    print('Grade C')\n",
    "elif percentage>=40:\n",
    "    print('Grade D')\n",
    "else:\n",
    "    print('Fail')"
   ]
  },
  {
   "cell_type": "markdown",
   "id": "c223519c-4001-446c-a021-bbaf3dcd852f",
   "metadata": {},
   "source": [
    "- whenever we use if-elif code will stop first True condition only\n",
    "-  For example in the above code per=90\n",
    "- It satisfy all the conditions but first one only print\n",
    "- that is the first true value"
   ]
  },
  {
   "cell_type": "code",
   "execution_count": 11,
   "id": "3645fb05-610b-4b89-9612-0a9edffa9237",
   "metadata": {},
   "outputs": [
    {
     "name": "stdin",
     "output_type": "stream",
     "text": [
      "Enter a percentage: 68\n"
     ]
    },
    {
     "name": "stdout",
     "output_type": "stream",
     "text": [
      "Grade C\n",
      "Grade D\n"
     ]
    }
   ],
   "source": [
    "# percentage=eval(input(\"Enter a percentage:\"))\n",
    "# if percentage>=90:\n",
    "#     print('Grade A')\n",
    "# if percentage>=75:\n",
    "#     print('Grade B')\n",
    "# if percentage>=60:\n",
    "#     print('Grade C')\n",
    "# if percentage>=40:\n",
    "#     print('Grade D')\n",
    "# else:\n",
    "#     print('fail')"
   ]
  },
  {
   "cell_type": "code",
   "execution_count": 17,
   "id": "a0ef72c2-b769-4125-8fdc-228c1a56d78e",
   "metadata": {},
   "outputs": [
    {
     "name": "stdin",
     "output_type": "stream",
     "text": [
      "Enter the age: 58\n"
     ]
    },
    {
     "name": "stdout",
     "output_type": "stream",
     "text": [
      "Middle aged\n"
     ]
    }
   ],
   "source": [
    "# Q3) WAP ask the user enter a age \n",
    "\n",
    "age=eval(input(\"Enter the age:\"))\n",
    "if age>=100:\n",
    "    print(\"Unlucky\")\n",
    "elif age>=60:\n",
    "    print(\"Senior Citizen\")\n",
    "elif age>=30:\n",
    "    print(\"Middle aged\")\n",
    "elif age>=20:\n",
    "    print(\"Young\")\n",
    "elif age>=10:\n",
    "    print(\"Teenage\")\n",
    "else:\n",
    "    print(\"kid\")\n",
    "    "
   ]
  },
  {
   "cell_type": "code",
   "execution_count": 20,
   "id": "c7175b2c-3816-443b-ba63-461e90eebee9",
   "metadata": {},
   "outputs": [
    {
     "name": "stdin",
     "output_type": "stream",
     "text": [
      "Enter the Distance: 5\n"
     ]
    },
    {
     "name": "stdout",
     "output_type": "stream",
     "text": [
      "Free ride\n"
     ]
    }
   ],
   "source": [
    "# WAP ask user enter distance\n",
    "# if charge is\n",
    "\n",
    "distance=eval(input(\"Enter the Distance:\"))\n",
    "if distance>50:\n",
    "    charge=eval(input(\"Enter the charge:\"))\n",
    "    Total_charge=distance*charge\n",
    "    print(Total_charge)\n",
    "elif distance>25:\n",
    "    charge=eval(input(\"Enter the charge:\"))\n",
    "    Total_charge=distance*charge\n",
    "    print(Total_charge)\n",
    "elif distance>10:\n",
    "    charge=eval(input(\"Enter the charge:\"))\n",
    "    Total_charge=distance*charge\n",
    "    print(Total_charge)\n",
    "else:\n",
    "    print(\"Free ride\")"
   ]
  },
  {
   "cell_type": "code",
   "execution_count": 26,
   "id": "a7f8d77f-6774-45fa-9f76-40509856f7fc",
   "metadata": {},
   "outputs": [
    {
     "name": "stdin",
     "output_type": "stream",
     "text": [
      "Enter number1: 3\n",
      "Enter nuber2: 45\n"
     ]
    },
    {
     "name": "stdout",
     "output_type": "stream",
     "text": [
      "Enter 1 for:addition\n",
      "Enter 2 for:multiplication\n",
      "Enter 3 for:subtraction\n",
      "Enter 4 for:division\n"
     ]
    },
    {
     "name": "stdin",
     "output_type": "stream",
     "text": [
      " 4\n"
     ]
    },
    {
     "name": "stdout",
     "output_type": "stream",
     "text": [
      "The division of two numbers is: 0.06666666666666667\n"
     ]
    }
   ],
   "source": [
    "# ask the user number 1\n",
    "\n",
    "import time\n",
    "num1=eval(input(\"Enter number1:\"))\n",
    "num2=eval(input(\"Enter number2:\"))\n",
    "time.sleep(1)\n",
    "\n",
    "print(\"Enter 1 for:addition\")45\n",
    "time.sleep(1)\n",
    "print(\"Enter 2 for:multiplication\")\n",
    "time.sleep(1)\n",
    "print(\"Enter 3 for:subtraction\")\n",
    "time.sleep(1)\n",
    "print(\"Enter 4 for:division\")\n",
    "\n",
    "\n",
    "operation=eval(input())\n",
    "if operation==1:\n",
    "    print(\"The addition of two numbers is:\",num1+num2)\n",
    "elif operation==2:\n",
    "    print(\"The multiplication of two numbers is:\",num1*num2)\n",
    "elif operation==3:\n",
    "    print(\"The subtraction of two numbers is:\",num1-num2)\n",
    "elif operation==4:\n",
    "   print(\"The division of two numbers is:\",num1/num2)\n",
    "else:\n",
    "    print(\"Enter a valid number\")\n",
    "    "
   ]
  },
  {
   "cell_type": "code",
   "execution_count": 2,
   "id": "2a939690-c322-460e-a5c7-a0b2e369ca7d",
   "metadata": {},
   "outputs": [
    {
     "name": "stdin",
     "output_type": "stream",
     "text": [
      "Enter the number: 0\n"
     ]
    },
    {
     "name": "stdout",
     "output_type": "stream",
     "text": [
      "It is Zero\n"
     ]
    }
   ],
   "source": [
    "# WAP ask the user enter a number\n",
    "# if the number greater than equal to zero\n",
    "#        if number equal to zero\n",
    "#              print it is zero\n",
    "#        else\n",
    "#             print it is a positive number\n",
    "# else\n",
    "#   print it is a negative number\n",
    "\n",
    "\n",
    "\n",
    "num=eval(input(\"Enter the number:\"))\n",
    "if num>=0:\n",
    "    if num==0:\n",
    "        print(\"It is Zero\")\n",
    "    else:\n",
    "        print(\"It is a positive number\")\n",
    "else:\n",
    "    print(\"It is a negative number\")"
   ]
  },
  {
   "cell_type": "code",
   "execution_count": 1,
   "id": "0f790d9a-2b0a-4040-b7aa-65e4a8c17ada",
   "metadata": {},
   "outputs": [
    {
     "name": "stdin",
     "output_type": "stream",
     "text": [
      "Enter the number: 3\n"
     ]
    },
    {
     "name": "stdout",
     "output_type": "stream",
     "text": [
      "It is a positive number\n"
     ]
    }
   ],
   "source": [
    "#      (OR) you can write either above code or below code\n",
    "\n",
    "\n",
    "num=eval(input(\"Enter the number:\"))\n",
    "if num>0:\n",
    "    print(\"It is a positive number\")\n",
    "elif num<0:\n",
    "    print(\"It is a negative number\")\n",
    "else:\n",
    "    print(\"It is a zero\")"
   ]
  },
  {
   "cell_type": "code",
   "execution_count": 30,
   "id": "ed8dc392-9e17-4a6a-bcea-54a88fc18070",
   "metadata": {},
   "outputs": [
    {
     "name": "stdin",
     "output_type": "stream",
     "text": [
      "Enter the gender: female\n",
      "Enter the female age: 45\n"
     ]
    },
    {
     "name": "stdout",
     "output_type": "stream",
     "text": [
      "middle aged women\n"
     ]
    }
   ],
   "source": [
    "# WAP ask the user enter gender\n",
    "# if gender equal to male\n",
    "#      ask  the user enter age\n",
    "#      if age greater than 60 print ss\n",
    "#       if age greater than 30 to 60 print mm\n",
    "#       if age b//w 10 to 20 print young man\n",
    "#       otherwise print boy\n",
    "\n",
    "# if gender equal to female\n",
    "#      ask  the user enter age\n",
    "#      if age greater than 60 print ss\n",
    "#       if age greater than 30 to 60 print mw\n",
    "#       if age b//w 10 to print young girl\n",
    "#       otherwise print girl\n",
    "# otherwise print enter a valid gender\n",
    "\n",
    "\n",
    "gender=input(\"Enter the gender:\")\n",
    "if gender=='male':\n",
    "    age=eval(input(\"Enter the male age:\"))\n",
    "    if age>60:\n",
    "        print('senior citizen')\n",
    "    elif age>30:\n",
    "        print('middle aged man')\n",
    "    elif age>10:\n",
    "        print('young man')\n",
    "    else:\n",
    "        print('boy')\n",
    "elif gender=='female':\n",
    "    age=eval(input(\"Enter the female age:\"))\n",
    "    if age>60:\n",
    "        print('senior citizen')\n",
    "    elif age>30:\n",
    "        print('middle aged women')\n",
    "    elif age>10:\n",
    "        print('young girl')\n",
    "    else:\n",
    "        print('girl')\n",
    "else:\n",
    "    print(\"Enter a valid gender\")\n"
   ]
  },
  {
   "cell_type": "code",
   "execution_count": 31,
   "id": "b0b3bfb5-85bf-414c-92ea-45690a3118ce",
   "metadata": {},
   "outputs": [
    {
     "name": "stdin",
     "output_type": "stream",
     "text": [
      "Enter a number1: 20\n",
      "Enter a number1: 30\n"
     ]
    }
   ],
   "source": [
    "# WAP ask the user enter 3 numbers\n",
    "# find the greatest value\n",
    "\n",
    "num1=eval(input(\"Enter a number1:\"))\n",
    "num2=eval(input(\"Enter a number2:\"))\n",
    "num3=eval(input(\"Enter a number3:\"))\n",
    "if num1>num2 and num1>num3:\n",
    "    print(f\"{num1} is greater\")\n",
    "\n",
    "\n",
    "    \n"
   ]
  }
 ],
 "metadata": {
  "kernelspec": {
   "display_name": "Python 3 (ipykernel)",
   "language": "python",
   "name": "python3"
  },
  "language_info": {
   "codemirror_mode": {
    "name": "ipython",
    "version": 3
   },
   "file_extension": ".py",
   "mimetype": "text/x-python",
   "name": "python",
   "nbconvert_exporter": "python",
   "pygments_lexer": "ipython3",
   "version": "3.12.4"
  },
  "widgets": {
   "application/vnd.jupyter.widget-state+json": {
    "state": {},
    "version_major": 2,
    "version_minor": 0
   }
  }
 },
 "nbformat": 4,
 "nbformat_minor": 5
}
