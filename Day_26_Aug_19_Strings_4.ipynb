{
 "cells": [
  {
   "cell_type": "code",
   "execution_count": 9,
   "id": "0d7b42cc-cbe8-44ff-8915-367293178d7f",
   "metadata": {},
   "outputs": [
    {
     "data": {
      "text/plain": [
       "2"
      ]
     },
     "execution_count": 9,
     "metadata": {},
     "output_type": "execute_result"
    }
   ],
   "source": [
    "# Q1) str='hello hai how are you'\n",
    "#   str='Hello Hai How Are You'\n",
    "\n",
    "# Idea is you need to divide the sentence into words\n",
    "# you need to iterate\n",
    "\n",
    "str='ola ola ola'\n",
    "str.count('o',2)\n",
    "# after 2 index how many 'o' s are there"
   ]
  },
  {
   "cell_type": "code",
   "execution_count": 4,
   "id": "59327d51-c088-433e-b0f4-a3ef9a4b4f2d",
   "metadata": {},
   "outputs": [
    {
     "data": {
      "text/plain": [
       "'a ola ola'"
      ]
     },
     "execution_count": 4,
     "metadata": {},
     "output_type": "execute_result"
    }
   ],
   "source": [
    "# o l a   o  l  a    o  l  a\n",
    "# 0 1 2 3 4 5  6   7 8  9  10\n",
    "str[2:]"
   ]
  },
  {
   "cell_type": "code",
   "execution_count": 5,
   "id": "917a0144-7c7d-400f-bb58-f028fae05013",
   "metadata": {},
   "outputs": [
    {
     "data": {
      "text/plain": [
       "'a ola'"
      ]
     },
     "execution_count": 5,
     "metadata": {},
     "output_type": "execute_result"
    }
   ],
   "source": [
    "str[6:]"
   ]
  },
  {
   "cell_type": "code",
   "execution_count": 10,
   "id": "a82cbf7b-4ef9-45bf-b498-edaf09f3494b",
   "metadata": {},
   "outputs": [
    {
     "data": {
      "text/plain": [
       "1"
      ]
     },
     "execution_count": 10,
     "metadata": {},
     "output_type": "execute_result"
    }
   ],
   "source": [
    "str='ola ola ola'\n",
    "str.count('o',2,5)"
   ]
  },
  {
   "cell_type": "code",
   "execution_count": 11,
   "id": "8e5b373f-b80b-4cba-b357-e4db553eeeb6",
   "metadata": {},
   "outputs": [
    {
     "data": {
      "text/plain": [
       "'a o'"
      ]
     },
     "execution_count": 11,
     "metadata": {},
     "output_type": "execute_result"
    }
   ],
   "source": [
    "# o l a   o  l  a    o  l  a\n",
    "# 0 1 2 3 4 5  6   7 8  9  10\n",
    "str[2:]\n",
    "str[2:5]"
   ]
  },
  {
   "cell_type": "code",
   "execution_count": 12,
   "id": "92ea018e-4d6b-4c46-aac7-a2e72785f49c",
   "metadata": {},
   "outputs": [
    {
     "data": {
      "text/plain": [
       "'a '"
      ]
     },
     "execution_count": 12,
     "metadata": {},
     "output_type": "execute_result"
    }
   ],
   "source": [
    "str[2:4]"
   ]
  },
  {
   "cell_type": "markdown",
   "id": "036de642-9dd8-44c9-b59d-b753715dc4ec",
   "metadata": {},
   "source": [
    "**Replace**"
   ]
  },
  {
   "cell_type": "code",
   "execution_count": null,
   "id": "02e18e7f-eb1e-46f5-b68c-fb5122bb3a97",
   "metadata": {},
   "outputs": [],
   "source": [
    "str1='welcome'\n",
    "# o/p:weLcome"
   ]
  },
  {
   "cell_type": "code",
   "execution_count": 13,
   "id": "49029097-8c41-4e08-92e3-cfd8c52cb90f",
   "metadata": {},
   "outputs": [
    {
     "ename": "NameError",
     "evalue": "name 'str1' is not defined",
     "output_type": "error",
     "traceback": [
      "\u001b[1;31m---------------------------------------------------------------------------\u001b[0m",
      "\u001b[1;31mNameError\u001b[0m                                 Traceback (most recent call last)",
      "Cell \u001b[1;32mIn[13], line 1\u001b[0m\n\u001b[1;32m----> 1\u001b[0m str1[\u001b[38;5;241m2\u001b[39m]\u001b[38;5;241m=\u001b[39m\u001b[38;5;124m'\u001b[39m\u001b[38;5;124mL\u001b[39m\u001b[38;5;124m'\u001b[39m\n",
      "\u001b[1;31mNameError\u001b[0m: name 'str1' is not defined"
     ]
    }
   ],
   "source": [
    "str1[2]='L'"
   ]
  },
  {
   "cell_type": "code",
   "execution_count": 14,
   "id": "40890017-33b2-423a-9dc7-5893fbb6d394",
   "metadata": {},
   "outputs": [
    {
     "data": {
      "text/plain": [
       "'weLcome'"
      ]
     },
     "execution_count": 14,
     "metadata": {},
     "output_type": "execute_result"
    }
   ],
   "source": [
    "str1='welcome'\n",
    "str1.replace('l','L')"
   ]
  },
  {
   "cell_type": "code",
   "execution_count": 15,
   "id": "18e1399f-5576-49b1-a962-ded8cc4459b1",
   "metadata": {},
   "outputs": [
    {
     "data": {
      "text/plain": [
       "'wLLLcome'"
      ]
     },
     "execution_count": 15,
     "metadata": {},
     "output_type": "execute_result"
    }
   ],
   "source": [
    "s='wlllcome'\n",
    "s.replace('l','L')  # old='l' new='L'\n",
    "\n",
    "# replace(old,new)\n",
    "# by default it will replace all occurences"
   ]
  },
  {
   "cell_type": "code",
   "execution_count": 16,
   "id": "adc17f51-ebf1-4432-95a8-e9e76afa7128",
   "metadata": {},
   "outputs": [
    {
     "data": {
      "text/plain": [
       "'wLllcome'"
      ]
     },
     "execution_count": 16,
     "metadata": {},
     "output_type": "execute_result"
    }
   ],
   "source": [
    "# I want only one l\n",
    "s='wlllcome'\n",
    "s.replace('l','L',1)"
   ]
  },
  {
   "cell_type": "code",
   "execution_count": 17,
   "id": "3fda12dc-fc95-4017-aac8-1c8243329ec4",
   "metadata": {},
   "outputs": [
    {
     "data": {
      "text/plain": [
       "'wLLlcome'"
      ]
     },
     "execution_count": 17,
     "metadata": {},
     "output_type": "execute_result"
    }
   ],
   "source": [
    "s='wlllcome'\n",
    "s.replace('l','L',2)"
   ]
  },
  {
   "cell_type": "code",
   "execution_count": 18,
   "id": "4d0a2d5b-074d-4f07-aec7-b435d55cdb33",
   "metadata": {},
   "outputs": [
    {
     "data": {
      "text/plain": [
       "'wLLLcome'"
      ]
     },
     "execution_count": 18,
     "metadata": {},
     "output_type": "execute_result"
    }
   ],
   "source": [
    "s='wlllcome'\n",
    "s.replace('l','L',3)"
   ]
  },
  {
   "cell_type": "code",
   "execution_count": 19,
   "id": "b1c98a30-1ec4-4ae4-a984-aff67032743c",
   "metadata": {},
   "outputs": [
    {
     "data": {
      "text/plain": [
       "'wLLLcome'"
      ]
     },
     "execution_count": 19,
     "metadata": {},
     "output_type": "execute_result"
    }
   ],
   "source": [
    "s='wlllcome'\n",
    "s.replace('l','L',4)"
   ]
  },
  {
   "cell_type": "code",
   "execution_count": 26,
   "id": "168c3aca-6f9c-4205-a9b7-27ddd6f097f4",
   "metadata": {},
   "outputs": [
    {
     "data": {
      "text/plain": [
       "'resta$t'"
      ]
     },
     "execution_count": 26,
     "metadata": {},
     "output_type": "execute_result"
    }
   ],
   "source": [
    "# str='restart'\n",
    "# o/p='resta$t'\n",
    "\n",
    "\n",
    "\n",
    "str='restart'\n",
    "str.replace('ar','a$',)"
   ]
  },
  {
   "cell_type": "code",
   "execution_count": 27,
   "id": "793287b7-ae54-422c-b7b3-129fca4bdc76",
   "metadata": {},
   "outputs": [
    {
     "data": {
      "text/plain": [
       "'$esta$t'"
      ]
     },
     "execution_count": 27,
     "metadata": {},
     "output_type": "execute_result"
    }
   ],
   "source": [
    "str='restart'\n",
    "str.replace('r','$',)\n",
    "# in place r all $ will print \n"
   ]
  },
  {
   "cell_type": "code",
   "execution_count": 4,
   "id": "e488ba5a-5f49-4c9e-b236-31f75b0097c3",
   "metadata": {},
   "outputs": [
    {
     "name": "stdout",
     "output_type": "stream",
     "text": [
      "resta$t\n"
     ]
    }
   ],
   "source": [
    "# slice replace concate\n",
    "str1='restart'\n",
    "str2=str1.replace('r','$',2) # output is $esta$t    # in place of 'r' $ will replace only 2 r's why means in the method we given 2\n",
    "str3=str2.replace('$','r',1)  # in place of $ 'r' will replace at 1st r why means in the method we given 1\n",
    "print(str3)\n"
   ]
  },
  {
   "cell_type": "code",
   "execution_count": 36,
   "id": "30d152e6-1033-42b6-9bd7-a5aeb1395263",
   "metadata": {},
   "outputs": [
    {
     "name": "stdout",
     "output_type": "stream",
     "text": [
      "r\n",
      "estart\n",
      "esta$t\n",
      "resta$t\n"
     ]
    }
   ],
   "source": [
    "str1='restart'\n",
    "s1=str1[:1]\n",
    "print(s1)\n",
    "\n",
    "s2=str1[1:]\n",
    "print(s2)\n",
    "s3=s2.replace('r','$')\n",
    "print(s3)\n",
    "s4=s1+s3\n",
    "print(s4)\n",
    "\n",
    "# slice\n",
    "# replace\n",
    "# concate\n",
    "\n",
    "# drawback in this code\n",
    "# what means in the string i will give 'hello hello python restart'\n"
   ]
  },
  {
   "cell_type": "code",
   "execution_count": 12,
   "id": "775f1674-c254-41a7-9d2a-8c4d6d1da8cf",
   "metadata": {},
   "outputs": [
    {
     "data": {
      "text/plain": [
       "'resta$t'"
      ]
     },
     "execution_count": 12,
     "metadata": {},
     "output_type": "execute_result"
    }
   ],
   "source": [
    "s1='restart'\n",
    "\n",
    "# print(s1[::-1])  # reverse of string\n",
    "# s2=s1[::-1]  # reverse of a string  tratser\n",
    "# s3=s2.replace('r','$',1) # t$atser\n",
    "# print(s3)\n",
    "# s3[::-1]  # reverse of s3   resta$t\n",
    "\n",
    "\n",
    "s1[::-1].replace('r','$',1)[::-1]"
   ]
  },
  {
   "cell_type": "code",
   "execution_count": 35,
   "id": "8b15b1ad-93e0-40fb-8c2a-a23ff119a921",
   "metadata": {},
   "outputs": [
    {
     "data": {
      "text/plain": [
       "'resta$t'"
      ]
     },
     "execution_count": 35,
     "metadata": {},
     "output_type": "execute_result"
    }
   ],
   "source": [
    "s1=str1[::-1]\n",
    "s2=s1.replace('r','$',1)\n",
    "s3=s2[::-1]\n",
    "s3"
   ]
  },
  {
   "cell_type": "markdown",
   "id": "9ac37d1f-d800-42c4-b3e3-17d828dca7e2",
   "metadata": {},
   "source": [
    "**Index-find**\n",
    "\n",
    "- Index\n",
    "    - in the above example we are counting the 'r' by own\n",
    "\n",
    "    - here 'r' is first letter then we are able to do\n",
    "    - imagine that 'r' is after 100 characters , we are not able to do\n",
    "    - the index of the 'r' should come automatically"
   ]
  },
  {
   "cell_type": "code",
   "execution_count": 37,
   "id": "9b1b8486-5379-4ef0-9bc9-c66eb3074b41",
   "metadata": {},
   "outputs": [
    {
     "data": {
      "text/plain": [
       "'llo hai how are you'"
      ]
     },
     "execution_count": 37,
     "metadata": {},
     "output_type": "execute_result"
    }
   ],
   "source": [
    "s='hello hai how are you'\n",
    "# s[start:stop:step]\n",
    "# s[start:stop]\n",
    "s[2:]  # start=2  stop="
   ]
  },
  {
   "cell_type": "code",
   "execution_count": 38,
   "id": "e0545010-5e3f-4428-b2e1-1583ef337ced",
   "metadata": {},
   "outputs": [
    {
     "data": {
      "text/plain": [
       "'hello hai '"
      ]
     },
     "execution_count": 38,
     "metadata": {},
     "output_type": "execute_result"
    }
   ],
   "source": [
    "s[:10]  # start=0  stop=10-1=9"
   ]
  },
  {
   "cell_type": "code",
   "execution_count": 39,
   "id": "a984ff6e-b942-4a1f-9912-458756d7f49c",
   "metadata": {},
   "outputs": [
    {
     "data": {
      "text/plain": [
       "'hello hai how are you'"
      ]
     },
     "execution_count": 39,
     "metadata": {},
     "output_type": "execute_result"
    }
   ],
   "source": [
    "s[::] # start=0 stop=till last"
   ]
  },
  {
   "cell_type": "code",
   "execution_count": 40,
   "id": "2871fd82-0fcc-4abe-88c9-7e7c4d9253e9",
   "metadata": {},
   "outputs": [
    {
     "data": {
      "text/plain": [
       "'uoy era woh iah olleh'"
      ]
     },
     "execution_count": 40,
     "metadata": {},
     "output_type": "execute_result"
    }
   ],
   "source": [
    "s[::-1] # reverse of a string"
   ]
  },
  {
   "cell_type": "code",
   "execution_count": 15,
   "id": "0f51b74f-5ff9-48d9-9357-d2d0ce155b32",
   "metadata": {},
   "outputs": [
    {
     "name": "stdout",
     "output_type": "stream",
     "text": [
      "1\n",
      "1\n",
      "9\n"
     ]
    },
    {
     "ename": "ValueError",
     "evalue": "substring not found",
     "output_type": "error",
     "traceback": [
      "\u001b[1;31m---------------------------------------------------------------------------\u001b[0m",
      "\u001b[1;31mValueError\u001b[0m                                Traceback (most recent call last)",
      "Cell \u001b[1;32mIn[15], line 7\u001b[0m\n\u001b[0;32m      5\u001b[0m \u001b[38;5;28mprint\u001b[39m(str1\u001b[38;5;241m.\u001b[39mindex(\u001b[38;5;124m'\u001b[39m\u001b[38;5;124ml\u001b[39m\u001b[38;5;124m'\u001b[39m))  \u001b[38;5;66;03m# Return the lowest index \u001b[39;00m\n\u001b[0;32m      6\u001b[0m \u001b[38;5;28mprint\u001b[39m(str1\u001b[38;5;241m.\u001b[39mindex(\u001b[38;5;124m'\u001b[39m\u001b[38;5;124ml\u001b[39m\u001b[38;5;124m'\u001b[39m,\u001b[38;5;241m6\u001b[39m)) \u001b[38;5;66;03m# we are searching the 'l' index from 5th index\u001b[39;00m\n\u001b[1;32m----> 7\u001b[0m \u001b[38;5;28mprint\u001b[39m(str1\u001b[38;5;241m.\u001b[39mindex(\u001b[38;5;124m'\u001b[39m\u001b[38;5;124ml\u001b[39m\u001b[38;5;124m'\u001b[39m,\u001b[38;5;241m2\u001b[39m,\u001b[38;5;241m4\u001b[39m))\n",
      "\u001b[1;31mValueError\u001b[0m: substring not found"
     ]
    }
   ],
   "source": [
    "str1='ola ola ola'\n",
    "# str1.count()\n",
    "# str1.replace()\n",
    "str1.count(str1[::])\n",
    "print(str1.index('l'))  # Return the lowest index \n",
    "print(str1.index('l',6)) # we are searching the 'l' index from 5th index\n",
    "print(str1.index('l',2,4))"
   ]
  },
  {
   "cell_type": "code",
   "execution_count": null,
   "id": "b33c1797-480f-4c59-b0db-be094b19d418",
   "metadata": {},
   "outputs": [],
   "source": [
    "print(str1.index('l',2,4))\n",
    "# if substring not found it will raise error"
   ]
  },
  {
   "cell_type": "code",
   "execution_count": 48,
   "id": "6b706c32-c2ed-4296-8b30-b32ba659eff4",
   "metadata": {},
   "outputs": [
    {
     "data": {
      "text/plain": [
       "'ola ola ola'"
      ]
     },
     "execution_count": 48,
     "metadata": {},
     "output_type": "execute_result"
    }
   ],
   "source": [
    "str1='ola ola ola'\n",
    "str1.replace('z','l')"
   ]
  },
  {
   "cell_type": "code",
   "execution_count": 49,
   "id": "8a8ab32a-ed70-4fb7-96bf-4567940496e3",
   "metadata": {},
   "outputs": [
    {
     "data": {
      "text/plain": [
       "0"
      ]
     },
     "execution_count": 49,
     "metadata": {},
     "output_type": "execute_result"
    }
   ],
   "source": [
    "str1.count('z')"
   ]
  },
  {
   "cell_type": "code",
   "execution_count": 22,
   "id": "2c03cc09-2518-4909-97e8-a1cca454e9c1",
   "metadata": {},
   "outputs": [
    {
     "name": "stdout",
     "output_type": "stream",
     "text": [
      "5\n"
     ]
    },
    {
     "data": {
      "text/plain": [
       "9"
      ]
     },
     "execution_count": 22,
     "metadata": {},
     "output_type": "execute_result"
    }
   ],
   "source": [
    "str1='ola ola ola'\n",
    "# I want all 'l' indexes\n",
    "\n",
    "str1.index('l')\n",
    "# if i want to get 2nd index our eyes start look from where\n",
    "# after first l\n",
    "# after 1====2\n",
    "print(str1.index('l',2))\n",
    "str1.index('l',6)\n"
   ]
  },
  {
   "cell_type": "code",
   "execution_count": 26,
   "id": "3f8ea1aa-d0fd-40dc-a0da-b3cc6ef675e0",
   "metadata": {},
   "outputs": [
    {
     "name": "stdout",
     "output_type": "stream",
     "text": [
      "1\n",
      "5\n"
     ]
    }
   ],
   "source": [
    "str2='ola ola ola ola ola'\n",
    "print(str2.index('l',1+0))\n",
    "print(str2.index('l',1+1))\n",
    "# print(str2.index('l',1+5))\n",
    "# print(str2.index('l',1+9))\n",
    "# print(str2.index('l',1+13))"
   ]
  },
  {
   "cell_type": "code",
   "execution_count": 27,
   "id": "babe8be0-7b3a-4104-982f-9ce2e29f6007",
   "metadata": {},
   "outputs": [
    {
     "data": {
      "text/plain": [
       "(1, 5, 9, 13, 17)"
      ]
     },
     "execution_count": 27,
     "metadata": {},
     "output_type": "execute_result"
    }
   ],
   "source": [
    "str2='ola ola ola ola ola'\n",
    "i1=str2.index('l',1+0)\n",
    "i2=str2.index('l',1+i1)\n",
    "i3=str2.index('l',1+i2)\n",
    "i4=str2.index('l',1+i3)\n",
    "i5=str2.index('l',1+i4)\n",
    "i1,i2,i3,i4,i5"
   ]
  },
  {
   "cell_type": "markdown",
   "id": "69905f8b-b67d-46da-b1f1-2cf7025664aa",
   "metadata": {},
   "source": [
    "**Find**\n",
    "\n"
   ]
  },
  {
   "cell_type": "code",
   "execution_count": 65,
   "id": "db64784b-2d3d-4066-9f59-ad059fbefe69",
   "metadata": {},
   "outputs": [
    {
     "data": {
      "text/plain": [
       "0"
      ]
     },
     "execution_count": 65,
     "metadata": {},
     "output_type": "execute_result"
    }
   ],
   "source": [
    "str='python'\n",
    "str.find('p')"
   ]
  },
  {
   "cell_type": "code",
   "execution_count": 68,
   "id": "10f85481-9c19-4194-aed9-e3a1bd7dc637",
   "metadata": {},
   "outputs": [
    {
     "data": {
      "text/plain": [
       "(1, 5, 9, 13, 17, -1)"
      ]
     },
     "execution_count": 68,
     "metadata": {},
     "output_type": "execute_result"
    }
   ],
   "source": [
    "str2='ola ola ola ola ola'\n",
    "i1=str2.find('l',1+0)\n",
    "i2=str2.find('l',1+i1)\n",
    "i3=str2.find('l',1+i2)\n",
    "i4=str2.find('l',1+i3)\n",
    "i5=str2.find('l',1+i4)\n",
    "i6=str1.find('l',1+i5)\n",
    "i1,i2,i3,i4,i5,i6"
   ]
  },
  {
   "cell_type": "code",
   "execution_count": 69,
   "id": "a65afb77-3eae-4365-82ce-513de02da575",
   "metadata": {},
   "outputs": [
    {
     "data": {
      "text/plain": [
       "['__add__',\n",
       " '__class__',\n",
       " '__contains__',\n",
       " '__delattr__',\n",
       " '__dir__',\n",
       " '__doc__',\n",
       " '__eq__',\n",
       " '__format__',\n",
       " '__ge__',\n",
       " '__getattribute__',\n",
       " '__getitem__',\n",
       " '__getnewargs__',\n",
       " '__getstate__',\n",
       " '__gt__',\n",
       " '__hash__',\n",
       " '__init__',\n",
       " '__init_subclass__',\n",
       " '__iter__',\n",
       " '__le__',\n",
       " '__len__',\n",
       " '__lt__',\n",
       " '__mod__',\n",
       " '__mul__',\n",
       " '__ne__',\n",
       " '__new__',\n",
       " '__reduce__',\n",
       " '__reduce_ex__',\n",
       " '__repr__',\n",
       " '__rmod__',\n",
       " '__rmul__',\n",
       " '__setattr__',\n",
       " '__sizeof__',\n",
       " '__str__',\n",
       " '__subclasshook__',\n",
       " 'capitalize',\n",
       " 'casefold',\n",
       " 'center',\n",
       " 'count',\n",
       " 'encode',\n",
       " 'endswith',\n",
       " 'expandtabs',\n",
       " 'find',\n",
       " 'format',\n",
       " 'format_map',\n",
       " 'index',\n",
       " 'isalnum',\n",
       " 'isalpha',\n",
       " 'isascii',\n",
       " 'isdecimal',\n",
       " 'isdigit',\n",
       " 'isidentifier',\n",
       " 'islower',\n",
       " 'isnumeric',\n",
       " 'isprintable',\n",
       " 'isspace',\n",
       " 'istitle',\n",
       " 'isupper',\n",
       " 'join',\n",
       " 'ljust',\n",
       " 'lower',\n",
       " 'lstrip',\n",
       " 'maketrans',\n",
       " 'partition',\n",
       " 'removeprefix',\n",
       " 'removesuffix',\n",
       " 'replace',\n",
       " 'rfind',\n",
       " 'rindex',\n",
       " 'rjust',\n",
       " 'rpartition',\n",
       " 'rsplit',\n",
       " 'rstrip',\n",
       " 'split',\n",
       " 'splitlines',\n",
       " 'startswith',\n",
       " 'strip',\n",
       " 'swapcase',\n",
       " 'title',\n",
       " 'translate',\n",
       " 'upper',\n",
       " 'zfill']"
      ]
     },
     "execution_count": 69,
     "metadata": {},
     "output_type": "execute_result"
    }
   ],
   "source": [
    "dir('')"
   ]
  },
  {
   "cell_type": "code",
   "execution_count": null,
   "id": "525e5c5e-eb72-4dad-a757-44ae8bd6eac7",
   "metadata": {},
   "outputs": [],
   "source": []
  }
 ],
 "metadata": {
  "kernelspec": {
   "display_name": "Python 3 (ipykernel)",
   "language": "python",
   "name": "python3"
  },
  "language_info": {
   "codemirror_mode": {
    "name": "ipython",
    "version": 3
   },
   "file_extension": ".py",
   "mimetype": "text/x-python",
   "name": "python",
   "nbconvert_exporter": "python",
   "pygments_lexer": "ipython3",
   "version": "3.12.4"
  },
  "widgets": {
   "application/vnd.jupyter.widget-state+json": {
    "state": {},
    "version_major": 2,
    "version_minor": 0
   }
  }
 },
 "nbformat": 4,
 "nbformat_minor": 5
}
