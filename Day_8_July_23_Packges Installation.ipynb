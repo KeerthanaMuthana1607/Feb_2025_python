{
 "cells": [
  {
   "cell_type": "code",
   "execution_count": null,
   "id": "03f5ff18-9afe-4f36-b4ed-a1fd4364b6e7",
   "metadata": {},
   "outputs": [],
   "source": [
    "# step-1: import package name\n",
    "# step-2: dir(package name) === All the methods\n",
    "# step-3: you can pick one word \n",
    "#           help(package_name.method_name)\n",
    "# step-4:package_name.method_name\n",
    "\n",
    "    # for constants no brackets\n",
    "    # for not a constants we need to use brackets\n",
    "    # inside the brackets do you need to provide any thing"
   ]
  },
  {
   "cell_type": "code",
   "execution_count": 5,
   "id": "c8182a1c-f028-4b26-abac-eea6d0cf0477",
   "metadata": {},
   "outputs": [
    {
     "data": {
      "text/plain": [
       "<function Random.random()>"
      ]
     },
     "execution_count": 5,
     "metadata": {},
     "output_type": "execute_result"
    }
   ],
   "source": [
    "import random\n",
    "import math\n",
    "import time\n",
    "import sys\n",
    "random.random"
   ]
  },
  {
   "cell_type": "code",
   "execution_count": 6,
   "id": "db8cdcde-296c-4d70-8baf-b24ce74af277",
   "metadata": {},
   "outputs": [
    {
     "data": {
      "text/plain": [
       "<bound method Random.randint of <random.Random object at 0x0000017E70BBB8C0>>"
      ]
     },
     "execution_count": 6,
     "metadata": {},
     "output_type": "execute_result"
    }
   ],
   "source": [
    "random.randint"
   ]
  },
  {
   "cell_type": "markdown",
   "id": "5a592864-1493-45bf-b038-f22c48a03587",
   "metadata": {},
   "source": [
    "**bound method means provide the brackets**"
   ]
  },
  {
   "cell_type": "code",
   "execution_count": 7,
   "id": "11d6d633-f587-48f3-949f-89a3be3325ae",
   "metadata": {},
   "outputs": [
    {
     "data": {
      "text/plain": [
       "11"
      ]
     },
     "execution_count": 7,
     "metadata": {},
     "output_type": "execute_result"
    }
   ],
   "source": [
    "random.randint(10,20)\n",
    "\n",
    "# take the cursor inside the bracket\n",
    "# apply shift+tab at a time"
   ]
  },
  {
   "cell_type": "code",
   "execution_count": 8,
   "id": "c822c362-8ce6-4689-82a0-993575385531",
   "metadata": {},
   "outputs": [
    {
     "data": {
      "text/plain": [
       "<function Random.random()>"
      ]
     },
     "execution_count": 8,
     "metadata": {},
     "output_type": "execute_result"
    }
   ],
   "source": [
    "random.random"
   ]
  },
  {
   "cell_type": "code",
   "execution_count": 3,
   "id": "3cdf5597-e850-49df-b0cf-eb257eb4605b",
   "metadata": {},
   "outputs": [
    {
     "data": {
      "text/plain": [
       "<function math.sqrt(x, /)>"
      ]
     },
     "execution_count": 3,
     "metadata": {},
     "output_type": "execute_result"
    }
   ],
   "source": [
    "math.sqrt"
   ]
  },
  {
   "cell_type": "markdown",
   "id": "48feff12-d322-4b8a-9eb2-d87da90d01a1",
   "metadata": {},
   "source": [
    "**function also means provide a brackets**"
   ]
  },
  {
   "cell_type": "code",
   "execution_count": 4,
   "id": "1cf2e6d0-9524-45bb-b15a-26b4ac0954fe",
   "metadata": {},
   "outputs": [
    {
     "data": {
      "text/plain": [
       "5.0"
      ]
     },
     "execution_count": 4,
     "metadata": {},
     "output_type": "execute_result"
    }
   ],
   "source": [
    "math.sqrt(25)"
   ]
  },
  {
   "cell_type": "code",
   "execution_count": 5,
   "id": "1030c1f5-675a-46ee-bb2f-7a527d16cc8d",
   "metadata": {},
   "outputs": [
    {
     "data": {
      "text/plain": [
       "<random.Random at 0x11bfa6c9b40>"
      ]
     },
     "execution_count": 5,
     "metadata": {},
     "output_type": "execute_result"
    }
   ],
   "source": [
    "random.Random()"
   ]
  },
  {
   "cell_type": "markdown",
   "id": "f7ecf625-ff2e-43d5-8796-35eb0eb9a513",
   "metadata": {},
   "source": [
    "**How to install the packages**"
   ]
  },
  {
   "cell_type": "code",
   "execution_count": null,
   "id": "842cbcf0-9861-4b3e-a081-1e746ecac2ad",
   "metadata": {},
   "outputs": [],
   "source": [
    "# package name:cv2:image read\n",
    "                # Computer vision\n",
    "# package name: streamlit\n",
    "                # creating applications\n",
    "# package name: flask\n",
    "                # flask for API testing\n"
   ]
  },
  {
   "cell_type": "markdown",
   "id": "48e35945-505c-47f2-9a23-0e0030d015d3",
   "metadata": {},
   "source": [
    "- TO install packages we need terminal\n",
    "- In our laptop: **Anaconda prompt** is available\n",
    "- all the installations will use only one command\n",
    "    - pip install package name\n",
    "- sometimes the import package name and installation package name might be diferent\n",
    "- 90% both names are same\n"
   ]
  },
  {
   "cell_type": "code",
   "execution_count": 7,
   "id": "bc956b09-85a1-4522-90a5-a21b4a76e39a",
   "metadata": {},
   "outputs": [],
   "source": [
    "import cv2"
   ]
  },
  {
   "cell_type": "code",
   "execution_count": null,
   "id": "89e871b1-eedb-4083-8a38-de0d207c8596",
   "metadata": {},
   "outputs": [],
   "source": [
    "# in the google :install cv2\n",
    "# check in python organisation\n",
    "# pip install opencv-python\n",
    "# install streamlit\n",
    "# to see all the packages ,then go for anaconda prompt type pip freez"
   ]
  },
  {
   "cell_type": "code",
   "execution_count": 8,
   "id": "b412a581-57af-4880-992d-d05263b202d4",
   "metadata": {},
   "outputs": [],
   "source": [
    "import streamlit\n"
   ]
  },
  {
   "cell_type": "code",
   "execution_count": 9,
   "id": "c51cd612-6c63-4bec-8d48-fb7c166f957a",
   "metadata": {},
   "outputs": [
    {
     "ename": "ModuleNotFoundError",
     "evalue": "No module named 'Flask'",
     "output_type": "error",
     "traceback": [
      "\u001b[1;31m---------------------------------------------------------------------------\u001b[0m",
      "\u001b[1;31mModuleNotFoundError\u001b[0m                       Traceback (most recent call last)",
      "Cell \u001b[1;32mIn[9], line 1\u001b[0m\n\u001b[1;32m----> 1\u001b[0m \u001b[38;5;28;01mimport\u001b[39;00m \u001b[38;5;21;01mFlask\u001b[39;00m\n",
      "\u001b[1;31mModuleNotFoundError\u001b[0m: No module named 'Flask'"
     ]
    }
   ],
   "source": [
    "import Flask"
   ]
  },
  {
   "cell_type": "markdown",
   "id": "b7c83697-e4a3-43a1-9287-18d3f1059fcc",
   "metadata": {},
   "source": [
    "**Method-2**\n",
    "\n",
    "- we can install packages in the notebook itself\n",
    "\n",
    "- the only difference is add ! before pip"
   ]
  },
  {
   "cell_type": "code",
   "execution_count": 10,
   "id": "2e531ffc-1e2e-40a8-9424-759ac6989f49",
   "metadata": {},
   "outputs": [
    {
     "name": "stdout",
     "output_type": "stream",
     "text": [
      "Requirement already satisfied: opencv-python in c:\\users\\keert\\anaconda3\\lib\\site-packages (4.10.0.84)\n",
      "Requirement already satisfied: numpy>=1.21.2 in c:\\users\\keert\\anaconda3\\lib\\site-packages (from opencv-python) (1.26.4)\n"
     ]
    }
   ],
   "source": [
    "!pip install opencv-python"
   ]
  },
  {
   "cell_type": "code",
   "execution_count": 11,
   "id": "0f53fdfe-f60b-40b8-a015-ffc80e054fa0",
   "metadata": {},
   "outputs": [],
   "source": [
    "# package name : tensorflow\n",
    "# install tensorflow and copy \n",
    "# Http error: Internet error\n",
    "# could not satisfy the verison\n",
    "import tensorflow"
   ]
  },
  {
   "cell_type": "markdown",
   "id": "40081494-e9cd-424e-89dc-cf2e234ea73e",
   "metadata": {},
   "source": [
    "- In the future also we will get installation error\n",
    "\n",
    "- thats why many people will do using google colab only\n",
    "\n",
    "     - we need to create a virtual enviornment \n",
    "     - we will use google colab"
   ]
  },
  {
   "cell_type": "markdown",
   "id": "7dd4ba69-6d96-43bb-9176-d514d3f255bd",
   "metadata": {},
   "source": [
    "- we know what is the meaning of package \n",
    "\n",
    "- we know how to import the package \n",
    "\n",
    "- we know how to find the methods of the packages\n",
    "\n",
    "- we know how to understand the use of method\n",
    "\n",
    "- we know how to install the packge"
   ]
  },
  {
   "cell_type": "code",
   "execution_count": 12,
   "id": "a12fbeab-c452-46f4-8fa9-4702c6623e62",
   "metadata": {},
   "outputs": [
    {
     "ename": "TypeError",
     "evalue": "eval() arg 1 must be a string, bytes or code object",
     "output_type": "error",
     "traceback": [
      "\u001b[1;31m---------------------------------------------------------------------------\u001b[0m",
      "\u001b[1;31mTypeError\u001b[0m                                 Traceback (most recent call last)",
      "Cell \u001b[1;32mIn[12], line 1\u001b[0m\n\u001b[1;32m----> 1\u001b[0m \u001b[38;5;28meval\u001b[39m(math\u001b[38;5;241m.\u001b[39mpi)\n",
      "\u001b[1;31mTypeError\u001b[0m: eval() arg 1 must be a string, bytes or code object"
     ]
    }
   ],
   "source": [
    "eval(math.pi)\n"
   ]
  },
  {
   "cell_type": "code",
   "execution_count": 13,
   "id": "374e25de-9ed7-4ca1-8373-6b7548eaa8c5",
   "metadata": {},
   "outputs": [
    {
     "ename": "TypeError",
     "evalue": "eval expected at least 1 argument, got 0",
     "output_type": "error",
     "traceback": [
      "\u001b[1;31m---------------------------------------------------------------------------\u001b[0m",
      "\u001b[1;31mTypeError\u001b[0m                                 Traceback (most recent call last)",
      "Cell \u001b[1;32mIn[13], line 1\u001b[0m\n\u001b[1;32m----> 1\u001b[0m \u001b[38;5;28meval\u001b[39m()\n",
      "\u001b[1;31mTypeError\u001b[0m: eval expected at least 1 argument, got 0"
     ]
    }
   ],
   "source": [
    "eval()"
   ]
  },
  {
   "cell_type": "code",
   "execution_count": 14,
   "id": "7483438e-b6c6-4a59-b06f-d6d4fcf805f7",
   "metadata": {},
   "outputs": [
    {
     "ename": "TypeError",
     "evalue": "eval() arg 1 must be a string, bytes or code object",
     "output_type": "error",
     "traceback": [
      "\u001b[1;31m---------------------------------------------------------------------------\u001b[0m",
      "\u001b[1;31mTypeError\u001b[0m                                 Traceback (most recent call last)",
      "Cell \u001b[1;32mIn[14], line 1\u001b[0m\n\u001b[1;32m----> 1\u001b[0m \u001b[38;5;28meval\u001b[39m(\u001b[38;5;241m10\u001b[39m)\n",
      "\u001b[1;31mTypeError\u001b[0m: eval() arg 1 must be a string, bytes or code object"
     ]
    }
   ],
   "source": [
    "eval(10)"
   ]
  },
  {
   "cell_type": "code",
   "execution_count": 15,
   "id": "3cda5202-9301-44aa-9bdd-2f4da2f44c32",
   "metadata": {},
   "outputs": [
    {
     "data": {
      "text/plain": [
       "30"
      ]
     },
     "execution_count": 15,
     "metadata": {},
     "output_type": "execute_result"
    }
   ],
   "source": [
    "eval('30')"
   ]
  },
  {
   "cell_type": "code",
   "execution_count": 16,
   "id": "9f641db9-2b6e-48cc-b7d8-ec9da0ede216",
   "metadata": {},
   "outputs": [
    {
     "data": {
      "text/plain": [
       "3.657"
      ]
     },
     "execution_count": 16,
     "metadata": {},
     "output_type": "execute_result"
    }
   ],
   "source": [
    "eval('3.657')"
   ]
  },
  {
   "cell_type": "code",
   "execution_count": 17,
   "id": "34ae486a-754e-442a-b1f5-c32ec7cb4310",
   "metadata": {},
   "outputs": [
    {
     "ename": "NameError",
     "evalue": "name 'ten' is not defined",
     "output_type": "error",
     "traceback": [
      "\u001b[1;31m---------------------------------------------------------------------------\u001b[0m",
      "\u001b[1;31mNameError\u001b[0m                                 Traceback (most recent call last)",
      "Cell \u001b[1;32mIn[17], line 1\u001b[0m\n\u001b[1;32m----> 1\u001b[0m \u001b[38;5;28meval\u001b[39m(\u001b[38;5;124m'\u001b[39m\u001b[38;5;124mten\u001b[39m\u001b[38;5;124m'\u001b[39m)\n",
      "File \u001b[1;32m<string>:1\u001b[0m\n",
      "\u001b[1;31mNameError\u001b[0m: name 'ten' is not defined"
     ]
    }
   ],
   "source": [
    "eval('ten')"
   ]
  },
  {
   "cell_type": "code",
   "execution_count": null,
   "id": "0b6b113d-34b1-41bc-901f-9e498783f8ba",
   "metadata": {},
   "outputs": [],
   "source": [
    "import tensorflow\n",
    "# dir(tensorflow)"
   ]
  },
  {
   "cell_type": "code",
   "execution_count": 1,
   "id": "d3b33c8f-a46a-4802-920a-35718acd6ac4",
   "metadata": {},
   "outputs": [
    {
     "data": {
      "text/plain": [
       "['__all__',\n",
       " '__builtins__',\n",
       " '__cached__',\n",
       " '__doc__',\n",
       " '__file__',\n",
       " '__loader__',\n",
       " '__name__',\n",
       " '__package__',\n",
       " '__spec__',\n",
       " 'iskeyword',\n",
       " 'issoftkeyword',\n",
       " 'kwlist',\n",
       " 'softkwlist']"
      ]
     },
     "execution_count": 1,
     "metadata": {},
     "output_type": "execute_result"
    }
   ],
   "source": [
    "# package name: keyword\n",
    "import keyword\n",
    "dir(keyword)"
   ]
  },
  {
   "cell_type": "code",
   "execution_count": 3,
   "id": "3c00cd76-eeb9-404d-9624-ad06a099c697",
   "metadata": {},
   "outputs": [
    {
     "data": {
      "text/plain": [
       "35"
      ]
     },
     "execution_count": 3,
     "metadata": {},
     "output_type": "execute_result"
    }
   ],
   "source": [
    "len(keyword.kwlist)"
   ]
  },
  {
   "cell_type": "code",
   "execution_count": 4,
   "id": "e35de8f3-9f23-4a75-8f79-1feb7a9e72a1",
   "metadata": {},
   "outputs": [
    {
     "data": {
      "text/plain": [
       "['False',\n",
       " 'None',\n",
       " 'True',\n",
       " 'and',\n",
       " 'as',\n",
       " 'assert',\n",
       " 'async',\n",
       " 'await',\n",
       " 'break',\n",
       " 'class',\n",
       " 'continue',\n",
       " 'def',\n",
       " 'del',\n",
       " 'elif',\n",
       " 'else',\n",
       " 'except',\n",
       " 'finally',\n",
       " 'for',\n",
       " 'from',\n",
       " 'global',\n",
       " 'if',\n",
       " 'import',\n",
       " 'in',\n",
       " 'is',\n",
       " 'lambda',\n",
       " 'nonlocal',\n",
       " 'not',\n",
       " 'or',\n",
       " 'pass',\n",
       " 'raise',\n",
       " 'return',\n",
       " 'try',\n",
       " 'while',\n",
       " 'with',\n",
       " 'yield']"
      ]
     },
     "execution_count": 4,
     "metadata": {},
     "output_type": "execute_result"
    }
   ],
   "source": [
    "keyword.kwlist"
   ]
  },
  {
   "cell_type": "code",
   "execution_count": 5,
   "id": "a1dfb7bd-eb30-4c11-bfc6-310eb8429023",
   "metadata": {},
   "outputs": [
    {
     "data": {
      "text/plain": [
       "['_', 'case', 'match', 'type']"
      ]
     },
     "execution_count": 5,
     "metadata": {},
     "output_type": "execute_result"
    }
   ],
   "source": [
    "import keyword\n",
    "keyword.softkwlist\n"
   ]
  },
  {
   "cell_type": "code",
   "execution_count": 6,
   "id": "94175477-4788-482b-bf41-849763f78830",
   "metadata": {},
   "outputs": [
    {
     "data": {
      "text/plain": [
       "<function frozenset.__contains__>"
      ]
     },
     "execution_count": 6,
     "metadata": {},
     "output_type": "execute_result"
    }
   ],
   "source": [
    "keyword.iskeyword"
   ]
  },
  {
   "cell_type": "code",
   "execution_count": 7,
   "id": "79899605-509a-4c0a-800b-2f1b31450eb0",
   "metadata": {},
   "outputs": [
    {
     "ename": "TypeError",
     "evalue": "frozenset.__contains__() takes exactly one argument (0 given)",
     "output_type": "error",
     "traceback": [
      "\u001b[1;31m---------------------------------------------------------------------------\u001b[0m",
      "\u001b[1;31mTypeError\u001b[0m                                 Traceback (most recent call last)",
      "Cell \u001b[1;32mIn[7], line 1\u001b[0m\n\u001b[1;32m----> 1\u001b[0m keyword\u001b[38;5;241m.\u001b[39miskeyword()\n",
      "\u001b[1;31mTypeError\u001b[0m: frozenset.__contains__() takes exactly one argument (0 given)"
     ]
    }
   ],
   "source": [
    "keyword.iskeyword()"
   ]
  },
  {
   "cell_type": "code",
   "execution_count": 8,
   "id": "df130ec2-2aa0-4e1b-b81a-d03ee6cd5635",
   "metadata": {},
   "outputs": [
    {
     "data": {
      "text/plain": [
       "True"
      ]
     },
     "execution_count": 8,
     "metadata": {},
     "output_type": "execute_result"
    }
   ],
   "source": [
    "keyword.iskeyword('True')"
   ]
  },
  {
   "cell_type": "code",
   "execution_count": 9,
   "id": "12b04704-f765-4bda-b7a1-d219a302bd6f",
   "metadata": {},
   "outputs": [
    {
     "data": {
      "text/plain": [
       "False"
      ]
     },
     "execution_count": 9,
     "metadata": {},
     "output_type": "execute_result"
    }
   ],
   "source": [
    "keyword.iskeyword(1)"
   ]
  },
  {
   "cell_type": "code",
   "execution_count": 10,
   "id": "191f1c90-684a-4ee2-ac12-6aefdb4c5710",
   "metadata": {},
   "outputs": [
    {
     "data": {
      "text/plain": [
       "True"
      ]
     },
     "execution_count": 10,
     "metadata": {},
     "output_type": "execute_result"
    }
   ],
   "source": [
    "keyword.iskeyword('if')"
   ]
  },
  {
   "cell_type": "code",
   "execution_count": null,
   "id": "7b621bda-01db-4efd-96c3-bf16c1cf1dc3",
   "metadata": {},
   "outputs": [],
   "source": [
    "in\n",
    "as\n",
    "True\n",
    "False \n",
    "if \n",
    "else\n",
    "elif\n",
    "for\n",
    "while\n",
    "break\n",
    "or\n",
    "not"
   ]
  },
  {
   "cell_type": "code",
   "execution_count": null,
   "id": "fdefb875-ffbc-414f-8f7d-b05ea5ac5c4f",
   "metadata": {},
   "outputs": [],
   "source": []
  },
  {
   "cell_type": "code",
   "execution_count": null,
   "id": "4a2f81fa-79d6-40fc-b06c-81dbb7eae415",
   "metadata": {},
   "outputs": [],
   "source": []
  },
  {
   "cell_type": "code",
   "execution_count": null,
   "id": "a6aa67be-818a-4a9d-a51c-39dd586221c5",
   "metadata": {},
   "outputs": [],
   "source": []
  }
 ],
 "metadata": {
  "kernelspec": {
   "display_name": "Python 3 (ipykernel)",
   "language": "python",
   "name": "python3"
  },
  "language_info": {
   "codemirror_mode": {
    "name": "ipython",
    "version": 3
   },
   "file_extension": ".py",
   "mimetype": "text/x-python",
   "name": "python",
   "nbconvert_exporter": "python",
   "pygments_lexer": "ipython3",
   "version": "3.12.4"
  },
  "widgets": {
   "application/vnd.jupyter.widget-state+json": {
    "state": {},
    "version_major": 2,
    "version_minor": 0
   }
  }
 },
 "nbformat": 4,
 "nbformat_minor": 5
}
