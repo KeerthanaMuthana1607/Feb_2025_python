{
 "cells": [
  {
   "cell_type": "markdown",
   "id": "1ffeed15-4ef8-4556-aff9-a2a2f8e55921",
   "metadata": {},
   "source": [
    "**Conditional Statements**\n",
    "\n",
    "- we want to execute python statements based on condition\n",
    "- For eample:\n",
    "    - I want to play cricket ,if there is No rain\n",
    "    - I want to eat icecream,if there is rain.\n",
    "- if\n",
    "- if-else\n",
    "- if-elif-else\n",
    "  "
   ]
  },
  {
   "cell_type": "markdown",
   "id": "762f5d9a-4be7-4243-b846-8519094e3ebe",
   "metadata": {},
   "source": [
    "**Case -1**\n",
    "\n",
    "**if**"
   ]
  },
  {
   "cell_type": "code",
   "execution_count": null,
   "id": "e4217ea0-1a72-4948-babb-2d40a7703c9d",
   "metadata": {},
   "outputs": [],
   "source": [
    "# syntax\n",
    "\n",
    "if <write some conditin>:\n",
    "    <code line1>\n",
    "    <code line2>\n",
    "# whenever if we start any line with keyword \n",
    "# at the end of the line we have:\n",
    "# whenever we have a colon\n",
    "# the next lines will start by maintaing some gap\n",
    "# that gap is called as indentation\n",
    "# keyword------- colon-------indentation\n"
   ]
  },
  {
   "cell_type": "code",
   "execution_count": 1,
   "id": "74cea7a1-f178-4149-a659-9bcb4cff8099",
   "metadata": {},
   "outputs": [
    {
     "data": {
      "text/plain": [
       "True"
      ]
     },
     "execution_count": 1,
     "metadata": {},
     "output_type": "execute_result"
    }
   ],
   "source": [
    "100>10\n"
   ]
  },
  {
   "cell_type": "code",
   "execution_count": 2,
   "id": "f50f1786-7e8e-4a4c-80fc-2d4b1a405146",
   "metadata": {},
   "outputs": [
    {
     "name": "stdout",
     "output_type": "stream",
     "text": [
      "answer is correct\n"
     ]
    }
   ],
   "source": [
    "if 100>10:\n",
    "    print('answer is correct')\n",
    "\n",
    "# step-1: condition 100>10:True if   True\n",
    "\n",
    "# step-2: It is enternig inside  \n",
    "\n",
    "#            inside print statement is there: 'the answer is correct'\n",
    "\n"
   ]
  },
  {
   "cell_type": "code",
   "execution_count": 3,
   "id": "0dbf668d-3c13-4888-a472-06c8bed7406f",
   "metadata": {},
   "outputs": [],
   "source": [
    "if 100<10:\n",
    "    print('the answer is correct')\n",
    "\n",
    "# step-1: condition 100<10: False if False\n",
    "\n",
    "# step-2: The condition is false, the compiler will not enter into the if block\n",
    "\n",
    "# No \n"
   ]
  },
  {
   "cell_type": "code",
   "execution_count": 4,
   "id": "6b744b28-6cb8-4c42-9488-c6480bde45bc",
   "metadata": {},
   "outputs": [
    {
     "ename": "IndentationError",
     "evalue": "expected an indented block after 'if' statement on line 1 (3663483495.py, line 2)",
     "output_type": "error",
     "traceback": [
      "\u001b[1;36m  Cell \u001b[1;32mIn[4], line 2\u001b[1;36m\u001b[0m\n\u001b[1;33m    print(\"hello\")\u001b[0m\n\u001b[1;37m    ^\u001b[0m\n\u001b[1;31mIndentationError\u001b[0m\u001b[1;31m:\u001b[0m expected an indented block after 'if' statement on line 1\n"
     ]
    }
   ],
   "source": [
    "if 100>10:\n",
    "print(\"hello\")"
   ]
  },
  {
   "cell_type": "markdown",
   "id": "5d13c0a6-88de-4a73-a375-1c66a86de75d",
   "metadata": {},
   "source": [
    "- what is the input number cell number : cell In[4]\n",
    "\n",
    "- what is the line\n",
    "\n",
    "- where is error : starting upcap\n"
   ]
  },
  {
   "cell_type": "code",
   "execution_count": 5,
   "id": "7828f3e8-77cb-47c4-8da9-f81fe5901cc1",
   "metadata": {},
   "outputs": [
    {
     "name": "stdout",
     "output_type": "stream",
     "text": [
      "hello\n"
     ]
    }
   ],
   "source": [
    "if 100>10:\n",
    "    print(\"hello\")"
   ]
  },
  {
   "cell_type": "code",
   "execution_count": 9,
   "id": "707a40d4-02e4-4565-9fc5-4a3c070c38e5",
   "metadata": {},
   "outputs": [
    {
     "name": "stdout",
     "output_type": "stream",
     "text": [
      "The addition of 10 and 20: 30\n"
     ]
    }
   ],
   "source": [
    "if 100>10:\n",
    "    a=10\n",
    "    b=20\n",
    "print(f\"The addition of {a} and {b}:\",a+b)"
   ]
  },
  {
   "cell_type": "code",
   "execution_count": 12,
   "id": "5b67dc2b-741c-4340-ab33-d29589d6337f",
   "metadata": {},
   "outputs": [],
   "source": [
    "# area of triangle\n",
    "# 0.5*breadth*height\n",
    "\n",
    "if 100<10:\n",
    "    breadth=eval(input(\"Enter breadth:\"))\n",
    "    height=eval(input(\"Enter height:\"))\n",
    "    area=0.5*breadth*height\n",
    "    print(f\"the area of triangle is:{area}\")"
   ]
  },
  {
   "cell_type": "code",
   "execution_count": 13,
   "id": "2e87ede3-a45b-4f65-b35e-03e4756ce2b8",
   "metadata": {},
   "outputs": [
    {
     "name": "stdin",
     "output_type": "stream",
     "text": [
      "Enter breadth: 20\n",
      "Enter height: 40\n"
     ]
    },
    {
     "name": "stdout",
     "output_type": "stream",
     "text": [
      "the area of triangle is:400.0\n"
     ]
    }
   ],
   "source": [
    "if 5<10:\n",
    "    breadth=eval(input(\"Enter breadth:\"))\n",
    "    height=eval(input(\"Enter height:\"))\n",
    "    area=0.5*breadth*height\n",
    "    print(f\"the area of triangle is:{area}\")"
   ]
  },
  {
   "cell_type": "code",
   "execution_count": 14,
   "id": "f0c1747d-4a8c-42f1-83c9-43a615b9ed77",
   "metadata": {},
   "outputs": [
    {
     "name": "stdout",
     "output_type": "stream",
     "text": [
      "sandeep\n",
      "prajwal\n"
     ]
    }
   ],
   "source": [
    "print('sandeep')\n",
    "print('prajwal')\n",
    "if 100<10:  # False condition break\n",
    "    print('sultana')"
   ]
  },
  {
   "cell_type": "code",
   "execution_count": 15,
   "id": "a993467f-d4be-4880-a319-9da4c3856fc1",
   "metadata": {},
   "outputs": [
    {
     "name": "stdout",
     "output_type": "stream",
     "text": [
      "sandeep\n",
      "prajwal\n",
      "sultana\n",
      "raj\n"
     ]
    }
   ],
   "source": [
    "print('sandeep')\n",
    "print('prajwal')\n",
    "if 100>10:  # True condition continue\n",
    "    print('sultana')\n",
    "    print('raj')"
   ]
  },
  {
   "cell_type": "code",
   "execution_count": 16,
   "id": "80a5fb1f-54c4-4b02-8027-49235a2d4321",
   "metadata": {},
   "outputs": [
    {
     "name": "stdout",
     "output_type": "stream",
     "text": [
      "sandeep\n",
      "prajwal\n",
      "sultana\n",
      "raj\n",
      "bye\n",
      "katam Zindagi\n"
     ]
    }
   ],
   "source": [
    "print('sandeep')\n",
    "print('prajwal')\n",
    "if 100>10:  # True condition continue\n",
    "    print('sultana')\n",
    "    print('raj')\n",
    "print('bye')\n",
    "print('katam Zindagi')"
   ]
  },
  {
   "cell_type": "code",
   "execution_count": 17,
   "id": "f3e01316-4023-4957-82da-a3dc1263fa13",
   "metadata": {},
   "outputs": [
    {
     "name": "stdout",
     "output_type": "stream",
     "text": [
      "sandeep\n",
      "prajwal\n",
      "bye\n",
      "katam Zindagi\n"
     ]
    }
   ],
   "source": [
    "print('sandeep')\n",
    "print('prajwal')\n",
    "if 100<10:  # False condition break\n",
    "    print('sultana') # break\n",
    "    print('raj') # break \n",
    "print('bye') #continue\n",
    "print('katam Zindagi') # continue"
   ]
  },
  {
   "cell_type": "code",
   "execution_count": 7,
   "id": "977f8836-3b84-422e-8ac8-75cae77cd1e5",
   "metadata": {},
   "outputs": [
    {
     "name": "stdin",
     "output_type": "stream",
     "text": [
      "Enter breadth: 20\n",
      "Enter height: 20\n"
     ]
    },
    {
     "name": "stdout",
     "output_type": "stream",
     "text": [
      "the area of triangle is:  \" 200.0\" \n"
     ]
    }
   ],
   "source": [
    "\n",
    "# area will print in quotes\n",
    "# The area of triangle is: \"400\"\n",
    "\n",
    "breadth=eval(input(\"Enter breadth:\"))\n",
    "height=eval(input(\"Enter height:\"))\n",
    "area=0.5*breadth*height\n",
    "print(\"the area of triangle is:\",f\" \\\" {area}\\\" \")\n"
   ]
  },
  {
   "cell_type": "code",
   "execution_count": 18,
   "id": "7b655ba4-47fc-47de-8966-45cf171849a0",
   "metadata": {},
   "outputs": [
    {
     "ename": "SyntaxError",
     "evalue": "invalid syntax (2381061989.py, line 1)",
     "output_type": "error",
     "traceback": [
      "\u001b[1;36m  Cell \u001b[1;32mIn[18], line 1\u001b[1;36m\u001b[0m\n\u001b[1;33m    if:\u001b[0m\n\u001b[1;37m      ^\u001b[0m\n\u001b[1;31mSyntaxError\u001b[0m\u001b[1;31m:\u001b[0m invalid syntax\n"
     ]
    }
   ],
   "source": [
    "if:\n",
    "    print('hii')"
   ]
  },
  {
   "cell_type": "markdown",
   "id": "f2fbe0f6-55e8-4f95-ba7c-1a51c000852f",
   "metadata": {},
   "source": [
    "**if-else**"
   ]
  },
  {
   "cell_type": "code",
   "execution_count": null,
   "id": "41d736c8-de58-44d2-b710-2d605edbcacc",
   "metadata": {},
   "outputs": [],
   "source": [
    "# syntax:\n",
    "\n",
    "#if <write your condition>\n",
    "#     <lines>\n",
    "#else:\n",
    "#     <lines>"
   ]
  },
  {
   "cell_type": "code",
   "execution_count": 19,
   "id": "04e0cbda-3d76-442c-aaba-c4110dc263ac",
   "metadata": {},
   "outputs": [
    {
     "name": "stdout",
     "output_type": "stream",
     "text": [
      "your condition is wrong\n",
      "you are out\n"
     ]
    }
   ],
   "source": [
    "if 100>10:\n",
    "    print(\"your condition is correct\")\n",
    "    print(\"you are in\")\n",
    "else:\n",
    "    print(\"your condition is wrong\")\n",
    "    print(\"you are out\")"
   ]
  },
  {
   "cell_type": "code",
   "execution_count": 20,
   "id": "89c9a191-9b28-43e1-8b67-c26862731369",
   "metadata": {},
   "outputs": [
    {
     "name": "stdout",
     "output_type": "stream",
     "text": [
      "your condition is wrong\n",
      "you are out\n"
     ]
    }
   ],
   "source": [
    "if 100<10:\n",
    "    print(\"your condition is correct\")\n",
    "    print(\"you are in\")\n",
    "else:\n",
    "    print(\"your condition is wrong\")\n",
    "    print(\"you are out\")"
   ]
  },
  {
   "cell_type": "code",
   "execution_count": 21,
   "id": "900fef82-9894-43dd-b80d-c281972159da",
   "metadata": {},
   "outputs": [
    {
     "name": "stdout",
     "output_type": "stream",
     "text": [
      "hello\n",
      "your condition is wrong\n",
      "you are out\n",
      "bye\n"
     ]
    }
   ],
   "source": [
    "print(\"hello\")\n",
    "if 100<10:\n",
    "    print(\"your condition is correct\")\n",
    "    print(\"you are in\")\n",
    "else:\n",
    "    print(\"your condition is wrong\")\n",
    "    print(\"you are out\")\n",
    "print(\"bye\")"
   ]
  },
  {
   "cell_type": "code",
   "execution_count": 22,
   "id": "57dc205f-27a0-42b4-87ea-5d226d96a25b",
   "metadata": {},
   "outputs": [
    {
     "ename": "SyntaxError",
     "evalue": "invalid syntax (3269337637.py, line 7)",
     "output_type": "error",
     "traceback": [
      "\u001b[1;36m  Cell \u001b[1;32mIn[22], line 7\u001b[1;36m\u001b[0m\n\u001b[1;33m    else:\u001b[0m\n\u001b[1;37m    ^\u001b[0m\n\u001b[1;31mSyntaxError\u001b[0m\u001b[1;31m:\u001b[0m invalid syntax\n"
     ]
    }
   ],
   "source": [
    "print(\"hello\")\n",
    "if 100<10:\n",
    "    print(\"your condition is correct\")\n",
    "    print(\"you are in\")\n",
    "print(\"hi\")\n",
    "print(\"why are you in middle\")\n",
    "else:\n",
    "    print(\"your condition is wrong\")\n",
    "    print(\"you are out\")\n",
    "print(\"bye\")"
   ]
  },
  {
   "cell_type": "code",
   "execution_count": null,
   "id": "e3cbd97e-bfd4-48d9-85db-6835040d36eb",
   "metadata": {},
   "outputs": [],
   "source": []
  }
 ],
 "metadata": {
  "kernelspec": {
   "display_name": "Python 3 (ipykernel)",
   "language": "python",
   "name": "python3"
  },
  "language_info": {
   "codemirror_mode": {
    "name": "ipython",
    "version": 3
   },
   "file_extension": ".py",
   "mimetype": "text/x-python",
   "name": "python",
   "nbconvert_exporter": "python",
   "pygments_lexer": "ipython3",
   "version": "3.12.4"
  },
  "widgets": {
   "application/vnd.jupyter.widget-state+json": {
    "state": {},
    "version_major": 2,
    "version_minor": 0
   }
  }
 },
 "nbformat": 4,
 "nbformat_minor": 5
}
