{
 "cells": [
  {
   "cell_type": "code",
   "execution_count": 1,
   "id": "5a179ec3-04aa-4ee6-b1cd-a6111512d0e9",
   "metadata": {},
   "outputs": [
    {
     "ename": "ValueError",
     "evalue": "substring not found",
     "output_type": "error",
     "traceback": [
      "\u001b[1;31m---------------------------------------------------------------------------\u001b[0m",
      "\u001b[1;31mValueError\u001b[0m                                Traceback (most recent call last)",
      "Cell \u001b[1;32mIn[1], line 4\u001b[0m\n\u001b[0;32m      2\u001b[0m str1\u001b[38;5;241m.\u001b[39mcount(\u001b[38;5;124m'\u001b[39m\u001b[38;5;124mz\u001b[39m\u001b[38;5;124m'\u001b[39m)\n\u001b[0;32m      3\u001b[0m str1\u001b[38;5;241m.\u001b[39mreplace(\u001b[38;5;124m'\u001b[39m\u001b[38;5;124mz\u001b[39m\u001b[38;5;124m'\u001b[39m,\u001b[38;5;124m'\u001b[39m\u001b[38;5;124ma\u001b[39m\u001b[38;5;124m'\u001b[39m)\n\u001b[1;32m----> 4\u001b[0m str1\u001b[38;5;241m.\u001b[39mindex(\u001b[38;5;124m'\u001b[39m\u001b[38;5;124mz\u001b[39m\u001b[38;5;124m'\u001b[39m)\n\u001b[0;32m      5\u001b[0m str1\u001b[38;5;241m.\u001b[39mfind(\u001b[38;5;124m'\u001b[39m\u001b[38;5;124mz\u001b[39m\u001b[38;5;124m'\u001b[39m)\n",
      "\u001b[1;31mValueError\u001b[0m: substring not found"
     ]
    }
   ],
   "source": [
    "str1='ola ola ola'\n",
    "str1.count('z') # 0\n",
    "str1.replace('z','a') # same string\n",
    "str1.index('z') # value error\n",
    "str1.find('z') # -1"
   ]
  },
  {
   "cell_type": "markdown",
   "id": "9278ec2f-1e31-4e3a-bf8d-508c1fc716c0",
   "metadata": {},
   "source": [
    "**lstrip-rstrip-strip**"
   ]
  },
  {
   "cell_type": "code",
   "execution_count": 2,
   "id": "0ee5ec65-4615-46bf-9898-76ffdd47e9e1",
   "metadata": {},
   "outputs": [
    {
     "data": {
      "text/plain": [
       "'hai how are you'"
      ]
     },
     "execution_count": 2,
     "metadata": {},
     "output_type": "execute_result"
    }
   ],
   "source": [
    "str1=' hai how are you ' # strip\n",
    "str2='hai how are you '  # right side rstrip\n",
    "str3=' hai how are you'  # left side means left strip\n",
    "str1.strip()"
   ]
  },
  {
   "cell_type": "code",
   "execution_count": 3,
   "id": "d3b1a0d0-1591-4f53-ab13-23ec93c8faf0",
   "metadata": {},
   "outputs": [
    {
     "data": {
      "text/plain": [
       "'hai how are you'"
      ]
     },
     "execution_count": 3,
     "metadata": {},
     "output_type": "execute_result"
    }
   ],
   "source": [
    "str2.rstrip()"
   ]
  },
  {
   "cell_type": "code",
   "execution_count": 4,
   "id": "6e571c05-ab35-424d-9c96-58b64798bc12",
   "metadata": {},
   "outputs": [
    {
     "data": {
      "text/plain": [
       "'hai how are you'"
      ]
     },
     "execution_count": 4,
     "metadata": {},
     "output_type": "execute_result"
    }
   ],
   "source": [
    "str3.lstrip()"
   ]
  },
  {
   "cell_type": "code",
   "execution_count": 5,
   "id": "e3274592-f7d2-4ada-88a3-33224e09160f",
   "metadata": {},
   "outputs": [
    {
     "name": "stdout",
     "output_type": "stream",
     "text": [
      "hai how are you\n",
      "hai how are you\n",
      "hai how are you\n"
     ]
    }
   ],
   "source": [
    "str1=' hai how are you ' # strip\n",
    "str2='hai how are you '  # right side rstrip\n",
    "str3=' hai how are you'  # left side means left strip\n",
    "print(str1.strip())\n",
    "print(str2.rstrip())\n",
    "print(str3.lstrip())"
   ]
  },
  {
   "cell_type": "code",
   "execution_count": 6,
   "id": "7cc2f832-f342-4b25-9a2a-e0393dccfee8",
   "metadata": {},
   "outputs": [
    {
     "data": {
      "text/plain": [
       "' hai how are you'"
      ]
     },
     "execution_count": 6,
     "metadata": {},
     "output_type": "execute_result"
    }
   ],
   "source": [
    "str1.rstrip()"
   ]
  },
  {
   "cell_type": "code",
   "execution_count": 7,
   "id": "b2728838-3b79-46b4-8207-58952beb6cb1",
   "metadata": {},
   "outputs": [
    {
     "data": {
      "text/plain": [
       "'hai how are you '"
      ]
     },
     "execution_count": 7,
     "metadata": {},
     "output_type": "execute_result"
    }
   ],
   "source": [
    "str1.lstrip()"
   ]
  },
  {
   "cell_type": "code",
   "execution_count": 8,
   "id": "a10a3ef3-93a1-4953-ad69-d07a16644aa7",
   "metadata": {},
   "outputs": [
    {
     "data": {
      "text/plain": [
       "(' hai how are you', 'hai how are you ')"
      ]
     },
     "execution_count": 8,
     "metadata": {},
     "output_type": "execute_result"
    }
   ],
   "source": [
    "str1.rstrip(),str1.lstrip()"
   ]
  },
  {
   "cell_type": "code",
   "execution_count": null,
   "id": "56738939-90e4-40d9-a6bc-c18f2e7d7adc",
   "metadata": {},
   "outputs": [],
   "source": [
    "str2.lstrip(),str2.lstrip(),str2.lstrip"
   ]
  },
  {
   "cell_type": "markdown",
   "id": "6c39c5ea-d9d0-4358-8f4b-2fc6914ad252",
   "metadata": {},
   "source": [
    "**startswith-endswith**"
   ]
  },
  {
   "cell_type": "code",
   "execution_count": 9,
   "id": "5e89aab8-b3f8-4f2f-82df-ede8d8ddbae2",
   "metadata": {},
   "outputs": [
    {
     "data": {
      "text/plain": [
       "True"
      ]
     },
     "execution_count": 9,
     "metadata": {},
     "output_type": "execute_result"
    }
   ],
   "source": [
    "str1='hello hai how are you'\n",
    "str1.startswith('hello')"
   ]
  },
  {
   "cell_type": "code",
   "execution_count": 10,
   "id": "2a107b6b-3958-4eee-b0ab-10f1865380e8",
   "metadata": {},
   "outputs": [
    {
     "data": {
      "text/plain": [
       "False"
      ]
     },
     "execution_count": 10,
     "metadata": {},
     "output_type": "execute_result"
    }
   ],
   "source": [
    "str1='hello hai how are you'\n",
    "str1.startswith('Hello')"
   ]
  },
  {
   "cell_type": "code",
   "execution_count": 11,
   "id": "f09eeb8d-6ded-405d-85a1-7c06ba1ccdb8",
   "metadata": {},
   "outputs": [
    {
     "data": {
      "text/plain": [
       "True"
      ]
     },
     "execution_count": 11,
     "metadata": {},
     "output_type": "execute_result"
    }
   ],
   "source": [
    "str1='hello hai how are you'\n",
    "str1.endswith('you')"
   ]
  },
  {
   "cell_type": "code",
   "execution_count": 12,
   "id": "3410c28d-255b-4d68-8386-492d67311fbe",
   "metadata": {},
   "outputs": [
    {
     "data": {
      "text/plain": [
       "True"
      ]
     },
     "execution_count": 12,
     "metadata": {},
     "output_type": "execute_result"
    }
   ],
   "source": [
    "str1='hello hai how are you'\n",
    "str1.endswith(' you')"
   ]
  },
  {
   "cell_type": "code",
   "execution_count": 13,
   "id": "86f2dd29-ac38-46e0-990b-b19b60050b3b",
   "metadata": {},
   "outputs": [
    {
     "data": {
      "text/plain": [
       "True"
      ]
     },
     "execution_count": 13,
     "metadata": {},
     "output_type": "execute_result"
    }
   ],
   "source": [
    "str1='hello hai how are you'\n",
    "str1.endswith(' you')"
   ]
  },
  {
   "cell_type": "code",
   "execution_count": 14,
   "id": "415e5359-a896-4de7-ae88-94bd00c75cd5",
   "metadata": {},
   "outputs": [
    {
     "data": {
      "text/plain": [
       "True"
      ]
     },
     "execution_count": 14,
     "metadata": {},
     "output_type": "execute_result"
    }
   ],
   "source": [
    "str1='hello hai how are you'\n",
    "str1.startswith(str1) # true\n",
    "str1.endswith(str1)  # true\n"
   ]
  },
  {
   "cell_type": "code",
   "execution_count": 23,
   "id": "7fcbe8d3-2d7e-473a-96a4-bcfd699ed41b",
   "metadata": {},
   "outputs": [
    {
     "data": {
      "text/plain": [
       "3"
      ]
     },
     "execution_count": 23,
     "metadata": {},
     "output_type": "execute_result"
    }
   ],
   "source": [
    "'omkar.nallagoni@cognizant.com'\n",
    "'virat.kohli@rcb.com'\n",
    "'rohit.sharma@mi.com'\n",
    "'a.b@c.com'\n",
    "\n",
    "# 3 indexes\n",
    "# first dot index\n",
    "# @ index\n",
    "# second dot index\n",
    "# apply the slice\n",
    "str='omkar.nallagoni@cognizant.com'\n",
    "str.index('.',1)\n",
    "str.index('@',1)\n",
    "a=str[::-1]\n",
    "a.index('.',1)\n",
    "\n",
    "\n",
    "\n"
   ]
  },
  {
   "cell_type": "code",
   "execution_count": 24,
   "id": "12dc10d4-5b77-406b-9812-466ed203903a",
   "metadata": {},
   "outputs": [
    {
     "data": {
      "text/plain": [
       "(5, 15, 25)"
      ]
     },
     "execution_count": 24,
     "metadata": {},
     "output_type": "execute_result"
    }
   ],
   "source": [
    "str='omkar.nallagoni@cognizant.com'\n",
    "first_dot=str.index('.')\n",
    "at_the_rate=str.index('@')\n",
    "second_dot=str.index('.com')\n",
    "first_dot,at_the_rate,second_dot\n"
   ]
  },
  {
   "cell_type": "code",
   "execution_count": 32,
   "id": "4a3e1f0d-3a03-421e-b762-3f4385cf873d",
   "metadata": {},
   "outputs": [
    {
     "data": {
      "text/plain": [
       "(5, 15, 25)"
      ]
     },
     "execution_count": 32,
     "metadata": {},
     "output_type": "execute_result"
    }
   ],
   "source": [
    "str='omkar.nallagoni@cognizant.com'\n",
    "first_dot=str.index('.')\n",
    "at_the_rate=str.index('@')\n",
    "second_dot=str.index('.',1+first_dot)\n",
    "first_dot,at_the_rate,second_dot\n"
   ]
  },
  {
   "cell_type": "code",
   "execution_count": 37,
   "id": "793aa8a1-1852-4723-b1e0-87421a92d449",
   "metadata": {},
   "outputs": [
    {
     "data": {
      "text/plain": [
       "('omkar', 'nallagoni', 'cognizant')"
      ]
     },
     "execution_count": 37,
     "metadata": {},
     "output_type": "execute_result"
    }
   ],
   "source": [
    "fname=str[:first_dot]\n",
    "sname=str[first_dot+1:at_the_rate]\n",
    "cname=str[at_the_rate+1:second_dot]\n",
    "fname,sname,cname"
   ]
  },
  {
   "cell_type": "code",
   "execution_count": 38,
   "id": "279df462-c1c4-47ee-a23b-3eea6afdfdff",
   "metadata": {},
   "outputs": [
    {
     "name": "stdout",
     "output_type": "stream",
     "text": [
      "5 15 25\n",
      "omkar nallagoni cognizant\n"
     ]
    }
   ],
   "source": [
    "str='omkar.nallagoni@cognizant.com'\n",
    "first_dot=str.index('.')\n",
    "at_the_rate=str.index('@')\n",
    "second_dot=str.index('.',1+first_dot)\n",
    "print(first_dot,at_the_rate,second_dot)\n",
    "\n",
    "fname=str[:first_dot]\n",
    "sname=str[first_dot+1:at_the_rate]\n",
    "cname=str[at_the_rate+1:second_dot]\n",
    "print(fname,sname,cname)\n"
   ]
  },
  {
   "cell_type": "code",
   "execution_count": 25,
   "id": "1d8da65b-da84-455a-9f32-59d7f5b465e9",
   "metadata": {},
   "outputs": [
    {
     "name": "stdin",
     "output_type": "stream",
     "text": [
      "Enter your email id: keerthi.muthana@gmail.com\n"
     ]
    },
    {
     "data": {
      "text/plain": [
       "('keerthi', 'muthana', 'gmail')"
      ]
     },
     "execution_count": 25,
     "metadata": {},
     "output_type": "execute_result"
    }
   ],
   "source": [
    "str1=input(\"Enter your email id:\")\n",
    "first_name=str1[:str1.index('.')]\n",
    "last_name=str1[str1.index('.')+1:str1.index('@')]\n",
    "company_name=str1[str1.index('@')+1:str1.index('.com')]\n",
    "first_name,last_name,company_name\n",
    "\n"
   ]
  },
  {
   "cell_type": "code",
   "execution_count": 30,
   "id": "f10fa89c-8b1d-4b5f-aa64-8aaf5ec50949",
   "metadata": {},
   "outputs": [
    {
     "data": {
      "text/plain": [
       "(5, 16, 26)"
      ]
     },
     "execution_count": 30,
     "metadata": {},
     "output_type": "execute_result"
    }
   ],
   "source": [
    "str1='divya.katragadda@capgemini.com'\n",
    "first_dot=str1.index('.')\n",
    "symbol=str1.index('@')\n",
    "second_dot=str1.index('.',symbol)\n",
    "first_dot,symbol,second_dot\n"
   ]
  },
  {
   "cell_type": "code",
   "execution_count": 28,
   "id": "d3e51c1c-2472-4480-85b0-4ef50c04c43a",
   "metadata": {},
   "outputs": [
    {
     "name": "stdout",
     "output_type": "stream",
     "text": [
      "Omakr nallagoni\n"
     ]
    }
   ],
   "source": [
    "# from Rashid Khan to everyone:    11:20 AM\n",
    "email='Omakr.nallagoni@cognizant.com'\n",
    "dot = email.find('.')\n",
    "atTheRate = email.find('@')\n",
    "first_name = email[:dot]\n",
    "last_name = email[dot + 1:atTheRate]\n",
    "print(first_name,last_name)\n"
   ]
  },
  {
   "cell_type": "code",
   "execution_count": 29,
   "id": "936b1dae-6d7d-4a53-b2c0-28df9e016911",
   "metadata": {},
   "outputs": [
    {
     "data": {
      "text/plain": [
       "('rohit', 'sharma', 'mi')"
      ]
     },
     "execution_count": 29,
     "metadata": {},
     "output_type": "execute_result"
    }
   ],
   "source": [
    "str1='rohit.sharma@mi.com'\n",
    "i1=str1.index('.')\n",
    "i2=str1.index('@')\n",
    "i3=str1.index('.',i1+1)\n",
    "first_name=str1[:i1]\n",
    "second_name=str1[i1+1:i2]\n",
    "cname=str1[i2+1:i3]\n",
    "first_name,second_name,cname"
   ]
  },
  {
   "cell_type": "code",
   "execution_count": 31,
   "id": "96a5ea3b-7881-450c-bf85-1852824e16e5",
   "metadata": {},
   "outputs": [
    {
     "name": "stdout",
     "output_type": "stream",
     "text": [
      "Omakr nallagoni\n"
     ]
    }
   ],
   "source": [
    "email='Omakr.nallagoni@cognizant.com'\n",
    "dot=email.find('.')\n",
    "attherate=email.find(\"@\") \n",
    "first_name=email[:dot]\n",
    "last_name=email[dot+1:attherate]\n",
    "print(first_name,last_name)\n"
   ]
  },
  {
   "cell_type": "markdown",
   "id": "495729a8-e684-482e-9791-82e22b2b429c",
   "metadata": {},
   "source": [
    "**split**"
   ]
  },
  {
   "cell_type": "code",
   "execution_count": 39,
   "id": "a0990453-fe7d-4ce1-bb8b-515ba52bf525",
   "metadata": {},
   "outputs": [
    {
     "data": {
      "text/plain": [
       "['hello', 'hai', 'how', 'are', 'you']"
      ]
     },
     "execution_count": 39,
     "metadata": {},
     "output_type": "execute_result"
    }
   ],
   "source": [
    "str1='hello hai how are you'\n",
    "str1.split()\n"
   ]
  },
  {
   "cell_type": "code",
   "execution_count": 40,
   "id": "3bd4ff83-7ad3-4158-a762-d79e2589a02d",
   "metadata": {},
   "outputs": [
    {
     "data": {
      "text/plain": [
       "['hello hai', ' how are you']"
      ]
     },
     "execution_count": 40,
     "metadata": {},
     "output_type": "execute_result"
    }
   ],
   "source": [
    "str1='hello hai, how are you'\n",
    "str1.split(',')\n"
   ]
  },
  {
   "cell_type": "code",
   "execution_count": 42,
   "id": "293ba63c-3925-4384-834e-7f9a66b8e8eb",
   "metadata": {},
   "outputs": [
    {
     "data": {
      "text/plain": [
       "['', 'ello ', 'ai, ', 'ow are you']"
      ]
     },
     "execution_count": 42,
     "metadata": {},
     "output_type": "execute_result"
    }
   ],
   "source": [
    "str1='hello hai, how are you'\n",
    "str1.split('h')\n",
    "\n",
    "# \n",
    "# ello\n",
    "# ai,\n",
    "# ow are you\n"
   ]
  },
  {
   "cell_type": "code",
   "execution_count": null,
   "id": "929a39ff-e681-45db-9ece-85cfd9f00f2a",
   "metadata": {},
   "outputs": [],
   "source": []
  }
 ],
 "metadata": {
  "kernelspec": {
   "display_name": "Python 3 (ipykernel)",
   "language": "python",
   "name": "python3"
  },
  "language_info": {
   "codemirror_mode": {
    "name": "ipython",
    "version": 3
   },
   "file_extension": ".py",
   "mimetype": "text/x-python",
   "name": "python",
   "nbconvert_exporter": "python",
   "pygments_lexer": "ipython3",
   "version": "3.12.4"
  },
  "widgets": {
   "application/vnd.jupyter.widget-state+json": {
    "state": {},
    "version_major": 2,
    "version_minor": 0
   }
  }
 },
 "nbformat": 4,
 "nbformat_minor": 5
}
