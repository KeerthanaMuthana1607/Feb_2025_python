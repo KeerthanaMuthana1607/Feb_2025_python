{
 "cells": [
  {
   "cell_type": "code",
   "execution_count": 1,
   "id": "9e4e37b4-6779-4998-a7eb-4be80ac617d6",
   "metadata": {},
   "outputs": [
    {
     "name": "stdout",
     "output_type": "stream",
     "text": [
      "The total bill is: 20000.0\n"
     ]
    }
   ],
   "source": [
    "# Wap to create the function\n",
    "# for bill pay\n",
    "# bill amount\n",
    "# tip per\n",
    "# calculate total bill\n",
    "# return the total bill\n",
    "\n",
    "\n",
    "\n",
    "def bill_pay(bill_amount,tip_perc):\n",
    "    tip_amount=bill_amount*tip_perc/100\n",
    "    total_bill=tip_amount+bill_amount\n",
    "    return (total_bill)\n",
    "\n",
    "total_bill=bill_pay(10000,100)\n",
    "print(\"The total bill is:\",total_bill)\n",
    "    "
   ]
  },
  {
   "cell_type": "code",
   "execution_count": 2,
   "id": "a9fbe052-b690-43ca-bae6-22bcbc21c6c4",
   "metadata": {},
   "outputs": [
    {
     "name": "stdout",
     "output_type": "stream",
     "text": [
      "The total bill is: 20000.0\n",
      "The tip_amount is: 10000.0\n"
     ]
    }
   ],
   "source": [
    "def bill_pay(bill_amount,tip_perc):\n",
    "    tip_amount=bill_amount*tip_perc/100\n",
    "    total_bill=tip_amount+bill_amount\n",
    "    return (total_bill,tip_amount)\n",
    "\n",
    "total_bill,tip_amount=bill_pay(10000,100)\n",
    "print(\"The total bill is:\",total_bill)\n",
    "print(\"The tip_amount is:\",tip_amount)\n",
    "    "
   ]
  },
  {
   "cell_type": "code",
   "execution_count": 3,
   "id": "df8d15e6-516f-427d-9125-76c272cccfd3",
   "metadata": {},
   "outputs": [
    {
     "name": "stdout",
     "output_type": "stream",
     "text": [
      "The total bill is: (20000.0, 10000.0)\n",
      "The tip_amount is: 10000.0\n"
     ]
    }
   ],
   "source": [
    "def bill_pay(bill_amount,tip_perc):\n",
    "    tip_amount=bill_amount*tip_perc/100\n",
    "    total_bill=tip_amount+bill_amount\n",
    "    return (total_bill,tip_amount)\n",
    "\n",
    "total_bill=bill_pay(10000,100)\n",
    "print(\"The total bill is:\",total_bill)\n",
    "# print(\"The tip_amount is:\",tip_amount)\n",
    "    "
   ]
  },
  {
   "cell_type": "code",
   "execution_count": 6,
   "id": "d8a56257-e748-40a2-857c-2bef273e8d75",
   "metadata": {},
   "outputs": [
    {
     "name": "stdin",
     "output_type": "stream",
     "text": [
      "Enter the bill: 10000\n",
      "Enter the tip percentage: 10\n"
     ]
    },
    {
     "name": "stdout",
     "output_type": "stream",
     "text": [
      "The total bill is: (11000.0, 1000.0)\n"
     ]
    }
   ],
   "source": [
    "def bill_pay():\n",
    "    bill_amount=eval(input(\"Enter the bill:\"))\n",
    "    tip_perc=eval(input(\"Enter the tip percentage:\"))\n",
    "    tip_amount=bill_amount*tip_perc/100\n",
    "    total_bill=tip_amount+bill_amount\n",
    "    return (total_bill,tip_amount)\n",
    "\n",
    "total_bill=bill_pay()\n",
    "print(\"The total bill is:\",total_bill)\n",
    "# print(\"The tip_amount is:\",tip_amount)\n",
    "    "
   ]
  },
  {
   "cell_type": "code",
   "execution_count": 7,
   "id": "8dadb201-2111-469a-be46-200004d724b9",
   "metadata": {},
   "outputs": [
    {
     "name": "stdin",
     "output_type": "stream",
     "text": [
      "Enter the bill: 1000\n",
      "Enter the tip percentage: 10\n"
     ]
    },
    {
     "name": "stdout",
     "output_type": "stream",
     "text": [
      "The total bill is: (1100.0, 100.0)\n"
     ]
    }
   ],
   "source": [
    "def bill_pay():\n",
    "    # bill_amount=eval(input(\"Enter the bill:\"))\n",
    "    # tip_perc=eval(input(\"Enter the tip percentage:\"))\n",
    "    tip_amount=bill_amount*tip_perc/100\n",
    "    total_bill=tip_amount+bill_amount\n",
    "    return (total_bill,tip_amount)\n",
    "    \n",
    "bill_amount=eval(input(\"Enter the bill:\"))\n",
    "tip_perc=eval(input(\"Enter the tip percentage:\"))\n",
    "\n",
    "total_bill=bill_pay()\n",
    "print(\"The total bill is:\",total_bill)\n",
    "\n",
    "# step-1: Define the functions\n",
    "# step-2: taking the bill amount\n",
    "# step-3: taking the tip per\n",
    "# step-4: run"
   ]
  },
  {
   "cell_type": "code",
   "execution_count": 8,
   "id": "54f93ac9-2e80-4916-bb59-2fe9fca2f2c5",
   "metadata": {},
   "outputs": [
    {
     "name": "stdin",
     "output_type": "stream",
     "text": [
      "Enter the bill: 1000\n",
      "Enter the tip percentage: 10\n"
     ]
    },
    {
     "name": "stdout",
     "output_type": "stream",
     "text": [
      "The total bill is: (1100.0, 100.0)\n"
     ]
    }
   ],
   "source": [
    "bill_amount=eval(input(\"Enter the bill:\"))\n",
    "tip_perc=eval(input(\"Enter the tip percentage:\"))\n",
    "\n",
    "def bill_pay():\n",
    "    # bill_amount=eval(input(\"Enter the bill:\"))\n",
    "    # tip_perc=eval(input(\"Enter the tip percentage:\"))\n",
    "    tip_amount=bill_amount*tip_perc/100\n",
    "    total_bill=tip_amount+bill_amount\n",
    "    return (total_bill,tip_amount)\n",
    "    \n",
    "# bill_amount=eval(input(\"Enter the bill:\"))\n",
    "# tip_perc=eval(input(\"Enter the tip percentage:\"))\n",
    "\n",
    "total_bill=bill_pay()\n",
    "print(\"The total bill is:\",total_bill)\n",
    "\n",
    "# step-1: Define the functions\n",
    "# step-2: taking the bill amount\n",
    "# step-3: taking the tip per\n",
    "# step-4: run\n",
    "\n"
   ]
  },
  {
   "cell_type": "markdown",
   "id": "984953ea-c850-46c6-b8a0-a962efe73e9a",
   "metadata": {},
   "source": [
    "- Global variables can initialize anywhere\n",
    "- By the time of the calling functions\n",
    "- Is variables are available or not?\n",
    "- If the variables are available then function works"
   ]
  },
  {
   "cell_type": "code",
   "execution_count": 12,
   "id": "96cd4e04-ec58-40a0-a615-9969ce2a29df",
   "metadata": {},
   "outputs": [
    {
     "name": "stdout",
     "output_type": "stream",
     "text": [
      "100.0\n",
      "the total bill is: 1100.0\n"
     ]
    },
    {
     "ename": "NameError",
     "evalue": "name 'tip_amount1' is not defined",
     "output_type": "error",
     "traceback": [
      "\u001b[1;31m---------------------------------------------------------------------------\u001b[0m",
      "\u001b[1;31mNameError\u001b[0m                                 Traceback (most recent call last)",
      "Cell \u001b[1;32mIn[12], line 9\u001b[0m\n\u001b[0;32m      7\u001b[0m total_bill1\u001b[38;5;241m=\u001b[39mbill_pay(\u001b[38;5;241m1000\u001b[39m,\u001b[38;5;241m10\u001b[39m)\n\u001b[0;32m      8\u001b[0m \u001b[38;5;28mprint\u001b[39m(\u001b[38;5;124m'\u001b[39m\u001b[38;5;124mthe total bill is:\u001b[39m\u001b[38;5;124m'\u001b[39m,total_bill1)\n\u001b[1;32m----> 9\u001b[0m \u001b[38;5;28mprint\u001b[39m(\u001b[38;5;124m'\u001b[39m\u001b[38;5;124mthe  tip amount is:\u001b[39m\u001b[38;5;124m'\u001b[39m,tip_amount1)\n",
      "\u001b[1;31mNameError\u001b[0m: name 'tip_amount1' is not defined"
     ]
    }
   ],
   "source": [
    "def bill_pay1(bill_amount,tip_per):\n",
    "    tip_amount1=bill_amount*tip_per/100\n",
    "    total_bill1=tip_amount+bill_amount\n",
    "    print(tip_amount)\n",
    "    return(total_bill)\n",
    "\n",
    "total_bill1=bill_pay(1000,10)\n",
    "print('the total bill is:',total_bill1)\n",
    "print('the  tip amount is:',tip_amount1)\n",
    "\n",
    "# global variable\n",
    "# not returned\n",
    "# you "
   ]
  },
  {
   "cell_type": "code",
   "execution_count": 13,
   "id": "77f4ae21-ba01-460d-b8c2-adaf5dc57c44",
   "metadata": {},
   "outputs": [
    {
     "name": "stdin",
     "output_type": "stream",
     "text": [
      "Enter the bill amount 1000\n"
     ]
    },
    {
     "ename": "TypeError",
     "evalue": "bill_pay() missing 2 required positional arguments: 'bill_amount' and 'tip_per'",
     "output_type": "error",
     "traceback": [
      "\u001b[1;31m---------------------------------------------------------------------------\u001b[0m",
      "\u001b[1;31mTypeError\u001b[0m                                 Traceback (most recent call last)",
      "Cell \u001b[1;32mIn[13], line 7\u001b[0m\n\u001b[0;32m      4\u001b[0m     \u001b[38;5;28;01mreturn\u001b[39;00m total_bill2\n\u001b[0;32m      6\u001b[0m bill_amount2\u001b[38;5;241m=\u001b[39m\u001b[38;5;28meval\u001b[39m(\u001b[38;5;28minput\u001b[39m(\u001b[38;5;124m\"\u001b[39m\u001b[38;5;124mEnter the bill amount\u001b[39m\u001b[38;5;124m\"\u001b[39m))\n\u001b[1;32m----> 7\u001b[0m total_bill2\u001b[38;5;241m=\u001b[39mbill_pay()\n\u001b[0;32m      8\u001b[0m tip_perc2\u001b[38;5;241m=\u001b[39m\u001b[38;5;28meval\u001b[39m(\u001b[38;5;28minput\u001b[39m())\n\u001b[0;32m      9\u001b[0m \u001b[38;5;28mprint\u001b[39m(\u001b[38;5;124m\"\u001b[39m\u001b[38;5;124mThe total bill is:\u001b[39m\u001b[38;5;124m\"\u001b[39m)\n",
      "\u001b[1;31mTypeError\u001b[0m: bill_pay() missing 2 required positional arguments: 'bill_amount' and 'tip_per'"
     ]
    }
   ],
   "source": [
    "def bill_pay2():\n",
    "    tip_amount2=bill_amount2*tip_perc2/100\n",
    "    total_bill2=tip_amount2+bill_amount2\n",
    "    return total_bill2\n",
    "\n",
    "bill_amount2=eval(input(\"Enter the bill amount\"))\n",
    "total_bill2=bill_pay()\n",
    "tip_perc2=eval(input())\n",
    "print(\"The total bill is:\")"
   ]
  },
  {
   "cell_type": "code",
   "execution_count": 15,
   "id": "290ae762-5bb2-44b2-9efe-d5cfdd8c9054",
   "metadata": {},
   "outputs": [
    {
     "name": "stdout",
     "output_type": "stream",
     "text": [
      "hello good morning\n",
      "good night\n"
     ]
    }
   ],
   "source": [
    "def greet1():\n",
    "    print('hello good morning')\n",
    "def greet2():\n",
    "    print(\"good night\")\n",
    "greet1()\n",
    "greet2()"
   ]
  },
  {
   "cell_type": "code",
   "execution_count": 16,
   "id": "988e5291-3ed2-400b-95ec-c228ca5b4244",
   "metadata": {},
   "outputs": [
    {
     "name": "stdout",
     "output_type": "stream",
     "text": [
      "hello good morning\n",
      "good night\n"
     ]
    }
   ],
   "source": [
    "def greet1():\n",
    "    print('hello good morning')\n",
    "    greet2()\n",
    "    \n",
    "def greet2():\n",
    "    print(\"good night\")\n",
    "    \n",
    "greet1()\n",
    "\n",
    "# step-1: define the greet1\n",
    "# step-2:define the greet2\n",
    "# step-3:calling the greet1()\n",
    "# step-4:run the greet1()\n",
    "#        print === hello good morning\n",
    "#        calling the greet2()\n",
    "#        print ==== good night\n"
   ]
  },
  {
   "cell_type": "code",
   "execution_count": 17,
   "id": "bd074017-3523-4273-9d03-a2732c611bbe",
   "metadata": {},
   "outputs": [
    {
     "name": "stdout",
     "output_type": "stream",
     "text": [
      "good night\n",
      "hello good morning\n"
     ]
    }
   ],
   "source": [
    "def greet1():\n",
    "    print('hello good morning')\n",
    "    # greet2()\n",
    "    \n",
    "def greet2():\n",
    "    print(\"good night\")\n",
    "    greet1()\n",
    "    \n",
    "greet2()\n"
   ]
  },
  {
   "cell_type": "code",
   "execution_count": null,
   "id": "b758a5da-142c-4ea2-b7ba-9a78fad7053b",
   "metadata": {},
   "outputs": [],
   "source": [
    "# infinite times it will print\n",
    "\n",
    "def greet1():\n",
    "    print('hello good morning')\n",
    "    greet2()\n",
    "    \n",
    "def greet2():\n",
    "    print(\"good night\")\n",
    "    greet1()\n",
    "    \n",
    "greet2()\n"
   ]
  },
  {
   "cell_type": "markdown",
   "id": "11850d87-d5dd-4ebd-9467-0c44d385f04a",
   "metadata": {},
   "source": [
    "**task-1**\n",
    "\n",
    "- create a function1\n",
    "\n",
    "- take the the 3 values from user\n",
    "\n",
    "- num1=eval(input())\n",
    "\n",
    "- return those three values\n",
    "\n",
    "\n",
    "- create a function2\n",
    "\n",
    "- inside function2 call the function1\n",
    "- we already know function1 returning 3 values\n",
    "- so here store in three variables\n",
    "- and find the average and return it\n",
    "\n",
    "\n",
    "\n",
    "\n"
   ]
  },
  {
   "cell_type": "code",
   "execution_count": 33,
   "id": "ccc79bb4-54c0-4900-9dee-5a773b941bbe",
   "metadata": {},
   "outputs": [
    {
     "name": "stdin",
     "output_type": "stream",
     "text": [
      "Enter the number1: 10\n",
      "Enter the number2: 20\n",
      "Enter the number3: 30\n"
     ]
    },
    {
     "name": "stdout",
     "output_type": "stream",
     "text": [
      "The average of 3 numbers is: 20.0\n"
     ]
    }
   ],
   "source": [
    "def fun_1():\n",
    "    num1=eval(input(\"Enter the number1:\"))\n",
    "    num2=eval(input(\"Enter the number2:\"))\n",
    "    num3=eval(input(\"Enter the number3:\"))\n",
    "    return (num1,num2,num3)\n",
    "\n",
    "def fun_2():\n",
    "    num1,num2,num3=fun_1()\n",
    "    average=(num1+num2+num3)/3\n",
    "    return average\n",
    "\n",
    "# print(f\"The average of 3 numbers is:{fun_2()}\")\n",
    "print(\"The average of 3 numbers is:\",fun_2())\n"
   ]
  },
  {
   "cell_type": "code",
   "execution_count": 1,
   "id": "01e322fc-6a38-474b-b2d0-1937d5948139",
   "metadata": {},
   "outputs": [
    {
     "name": "stdout",
     "output_type": "stream",
     "text": [
      "======== Average starts ==============\n"
     ]
    },
    {
     "name": "stdin",
     "output_type": "stream",
     "text": [
      "enter the num1: 12\n",
      "enter the num2: 34\n"
     ]
    },
    {
     "name": "stdout",
     "output_type": "stream",
     "text": [
      "The avergae is: 23.0\n",
      "======== Addition stats ==============\n"
     ]
    },
    {
     "name": "stdin",
     "output_type": "stream",
     "text": [
      "enter the num1: 12\n",
      "enter the num2: 12\n"
     ]
    },
    {
     "name": "stdout",
     "output_type": "stream",
     "text": [
      "The addition is: 24\n",
      "======== Subtraction starts ==============\n"
     ]
    },
    {
     "name": "stdin",
     "output_type": "stream",
     "text": [
      "enter the num1: 12\n",
      "enter the num2: 13\n"
     ]
    },
    {
     "name": "stdout",
     "output_type": "stream",
     "text": [
      "The subtraction is: -1\n",
      "======== Multiplication stats ==============\n"
     ]
    },
    {
     "name": "stdin",
     "output_type": "stream",
     "text": [
      "enter the num1: 14\n",
      "enter the num2: 56\n"
     ]
    },
    {
     "name": "stdout",
     "output_type": "stream",
     "text": [
      "The multiplication is: 784\n"
     ]
    }
   ],
   "source": [
    "def fun1():\n",
    "    n1=eval(input('enter the num1:'))\n",
    "    n2=eval(input('enter the num2:'))\n",
    "    return(n1,n2)\n",
    "def Average():\n",
    "    print(\"======== Average starts ==============\")\n",
    "    n1,n2=fun1()\n",
    "    avg=(n1+n2)/2\n",
    "    return(avg)\n",
    "avg=Average()\n",
    "print(\"The avergae is:\",avg)\n",
    "def addition():\n",
    "    print(\"======== Addition stats ==============\")\n",
    "    n1,n2=fun1()\n",
    "    add=(n1+n2)\n",
    "    return(add)\n",
    "add=addition()\n",
    "print(\"The addition is:\",add)\n",
    "def subtraction():\n",
    "    print(\"======== Subtraction starts ==============\")\n",
    "    n1,n2=fun1()\n",
    "    sub=(n1-n2)\n",
    "    return(sub)\n",
    "sub=subutraction()\n",
    "print(\"The subtraction is:\",sub)\n",
    "def multiplicaton():\n",
    "    print(\"======== Multiplication stats ==============\")\n",
    "    n1,n2=fun1()\n",
    "    mul=(n1*n2)\n",
    "    return(mul)\n",
    "mul=multiplicaton()\n",
    "print(\"The multiplication is:\",mul)"
   ]
  },
  {
   "cell_type": "code",
   "execution_count": 3,
   "id": "01e77be4-9fcc-472c-a2fd-6046fe2171ba",
   "metadata": {},
   "outputs": [
    {
     "name": "stdin",
     "output_type": "stream",
     "text": [
      "Enter the operation value: 5\n",
      "Enter the value1: 3\n",
      "Enter the value2: 4\n"
     ]
    },
    {
     "name": "stdout",
     "output_type": "stream",
     "text": [
      "please enter the valid operation\n"
     ]
    }
   ],
   "source": [
    "# Step-1: Create a add function\n",
    "#return the values\n",
    "# Example\n",
    "    #def add(a,b):\n",
    "    #return(a+b)\n",
    "\n",
    "# step-2: mul\n",
    "# step-3: sub\n",
    "# step-4: div\n",
    "\n",
    "# step-5: if-else calculator\n",
    "    # print the statement\n",
    "    # enter 1 ==== add\n",
    "    # enter 2 ==== sub\n",
    "    # enter 3===== mul\n",
    "    # enter 4 ===== div\n",
    "\n",
    "# step-6: ask the user enter the option\n",
    "# step-7 : ask the user enter two values a,b\n",
    "# step-8: if option==1:\n",
    "    # =add()\n",
    "    # print the value\n",
    "# step-9\n",
    "# step-10\n",
    "# step-11\n",
    "\n",
    "\n",
    "\n",
    "def add(a,b):\n",
    "    return a+b\n",
    "\n",
    "def sub(a,b):\n",
    "    return a-b\n",
    "\n",
    "def mul(a,b):\n",
    "    return a*b\n",
    "\n",
    "def div(a,b):\n",
    "    return a/b\n",
    "\n",
    "\n",
    "def calculator():\n",
    "    operation=eval(input(\"Enter the operation value:\"))\n",
    "    value1=eval(input(\"Enter the value1:\"))\n",
    "    value2=eval(input(\"Enter the value2:\"))\n",
    "    if operation==1:\n",
    "        print(f\"The addition of {value1} and {value2} is:{add(value1,value2)}\")\n",
    "    elif operation==2:\n",
    "        print(f\"The subtraction of {value1} and {value2} is:{sub(value1,value2)}\")\n",
    "    elif operation==3:\n",
    "        print(f\"The multiplication of {value1} and {value2} is:{mul(value1,value2)}\")\n",
    "    elif operation==4:\n",
    "        print(f\"The Division of {value1} and {value2} is:{div(value1,value2)}\")\n",
    "    else:\n",
    "        print(\"please enter the valid operation\")\n",
    "calculator()\n",
    "        "
   ]
  },
  {
   "cell_type": "code",
   "execution_count": null,
   "id": "00d458dc-4ce1-4fb0-ba65-6afd0ae658a0",
   "metadata": {},
   "outputs": [],
   "source": []
  }
 ],
 "metadata": {
  "kernelspec": {
   "display_name": "Python 3 (ipykernel)",
   "language": "python",
   "name": "python3"
  },
  "language_info": {
   "codemirror_mode": {
    "name": "ipython",
    "version": 3
   },
   "file_extension": ".py",
   "mimetype": "text/x-python",
   "name": "python",
   "nbconvert_exporter": "python",
   "pygments_lexer": "ipython3",
   "version": "3.12.4"
  },
  "widgets": {
   "application/vnd.jupyter.widget-state+json": {
    "state": {},
    "version_major": 2,
    "version_minor": 0
   }
  }
 },
 "nbformat": 4,
 "nbformat_minor": 5
}
