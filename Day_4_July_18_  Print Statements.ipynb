{
 "cells": [
  {
   "cell_type": "markdown",
   "id": "0d08af4d-51a2-4301-864d-b230d68e8005",
   "metadata": {},
   "source": [
    "**Print Statements**"
   ]
  },
  {
   "cell_type": "markdown",
   "id": "df7256f4-93b6-4567-be22-a1e78440301c",
   "metadata": {},
   "source": [
    "- print is inbuilt function, to  see the answers\n",
    "- In jupyter notebook we can see latest value with out using print\n",
    "- If you want see all the values we need to use print\n",
    "- In VScode,pycharm there is no markdown option\n",
    "- If you want to see any answer , we need to use print statement"
   ]
  },
  {
   "cell_type": "code",
   "execution_count": 1,
   "id": "068c3535-860d-4d15-bbb0-07360934a5f7",
   "metadata": {},
   "outputs": [
    {
     "data": {
      "text/plain": [
       "200"
      ]
     },
     "execution_count": 1,
     "metadata": {},
     "output_type": "execute_result"
    }
   ],
   "source": [
    "num1=100\n",
    "num2=200\n",
    "num1\n",
    "num2"
   ]
  },
  {
   "cell_type": "code",
   "execution_count": 2,
   "id": "a13b2f1a-c700-4eb8-a6d3-6e66a09cb7f5",
   "metadata": {},
   "outputs": [
    {
     "name": "stdout",
     "output_type": "stream",
     "text": [
      "100\n",
      "200\n"
     ]
    }
   ],
   "source": [
    "print(num1)\n",
    "print(num2)"
   ]
  },
  {
   "cell_type": "code",
   "execution_count": 7,
   "id": "7d9ee69d-8b49-4713-b16a-476c788ebc08",
   "metadata": {},
   "outputs": [
    {
     "name": "stdout",
     "output_type": "stream",
     "text": [
      "100 200\n",
      "10 20 30\n",
      "hello\n",
      "hello bye\n",
      "hello bye 100 200 10 20\n"
     ]
    }
   ],
   "source": [
    "num1=100\n",
    "num2=200\n",
    "print(num1,num2)\n",
    "print(10,20,30)\n",
    "print('hello')\n",
    "print('hello','bye')\n",
    "print('hello','bye',num1,num2,10,20)"
   ]
  },
  {
   "cell_type": "code",
   "execution_count": 12,
   "id": "172f04e6-6949-4dc1-bc3a-910b049ca0fa",
   "metadata": {},
   "outputs": [
    {
     "name": "stdout",
     "output_type": "stream",
     "text": [
      "hello\n",
      "<class 'str'>\n"
     ]
    }
   ],
   "source": [
    "str1=\"hello\"\n",
    "print(str1)\n",
    "print(type(str1))"
   ]
  },
  {
   "cell_type": "code",
   "execution_count": 17,
   "id": "9d87cdec-8b3a-4238-b881-7671759c61a2",
   "metadata": {},
   "outputs": [
    {
     "name": "stdout",
     "output_type": "stream",
     "text": [
      "The addition of 10 and 20 is: 30\n",
      "The addition of 10 and 20 is 30\n",
      "The addition of 10 and 20 is:30\n"
     ]
    }
   ],
   "source": [
    "a=10\n",
    "b=20\n",
    "c=a+b\n",
    "c\n",
    "# The addition of 10 and 20 is 30\n",
    "print(\"The addition of 10 and 20 is:\",c)\n",
    "print(\"The addition of\",a,\"and\",b,\"is\",c)\n",
    "print(f\"The addition of {a} and {b} is:{c}\") # we can apply format\n"
   ]
  },
  {
   "cell_type": "code",
   "execution_count": 8,
   "id": "df48553c-c04b-457c-8ada-abd041340ad2",
   "metadata": {},
   "outputs": [
    {
     "name": "stdout",
     "output_type": "stream",
     "text": [
      "my name is keerthana I am 21 years old and came from kadiri\n",
      "my name is keerthana I am 21 years old and came from kadiri\n"
     ]
    }
   ],
   "source": [
    "name=\"keerthana\"\n",
    "age=21\n",
    "city=\"kadiri\"\n",
    "print(\"my name is\",name,\"I am\",age,\"years old and came from\",city)\n",
    "print(f\"my name is {name} I am {age} years old and came from {city}\")"
   ]
  },
  {
   "cell_type": "code",
   "execution_count": 5,
   "id": "cdf091e2-8c2b-48d9-9239-9fa71bc20a20",
   "metadata": {},
   "outputs": [
    {
     "name": "stdout",
     "output_type": "stream",
     "text": [
      "The addition of 10,20 is 30\n",
      "The addition of {},{} is {}\n",
      "The addition of 10,20 is 30\n"
     ]
    }
   ],
   "source": [
    "a=10\n",
    "b=20\n",
    "c=a+b\n",
    "print(\"The addition of 10,20 is 30\")\n",
    "print(\"The addition of {},{} is {}\")\n",
    "print(\"The addition of {},{} is {}\".format(a,b,c))"
   ]
  },
  {
   "cell_type": "markdown",
   "id": "f8aebc58-9e59-4a80-b740-a1678b48822a",
   "metadata": {},
   "source": [
    "**f string method**"
   ]
  },
  {
   "cell_type": "code",
   "execution_count": 11,
   "id": "2863e07a-e185-4ec7-9237-524be11874bf",
   "metadata": {},
   "outputs": [
    {
     "name": "stdout",
     "output_type": "stream",
     "text": [
      "The addition of 10 and 20 is 30\n",
      "The subtraction of 10 and 20 is -10\n",
      "The multiplication of 10 and 20 is 200\n",
      "The division of 10 and 20 is 0.5\n"
     ]
    }
   ],
   "source": [
    "# take two numbers and perform add,sub,mul,div operations\n",
    "a=10\n",
    "b=20\n",
    "print(f\"The addition of {a} and {b} is {a+b}\")\n",
    "print(f\"The subtraction of {a} and {b} is {a-b}\")\n",
    "print(f\"The multiplication of {a} and {b} is {a*b}\")\n",
    "print(f\"The division of {a} and {b} is {a/b}\")"
   ]
  },
  {
   "cell_type": "code",
   "execution_count": 13,
   "id": "42e8e3fb-6b70-4729-ac87-ff34814ba644",
   "metadata": {},
   "outputs": [
    {
     "name": "stdout",
     "output_type": "stream",
     "text": [
      "The addition of 10 and 20 is 30\n",
      "The subtraction of 10 and 20 is -10\n",
      "The multiplication of 10 and 20 is 200\n",
      "The division of 10 and 20 is 0.5\n"
     ]
    }
   ],
   "source": [
    "print(\"The addition of {} and {} is {}\".format(a,b,a+b))\n",
    "print(\"The subtraction of {} and {} is {}\".format(a,b,a-b))\n",
    "print(\"The multiplication of {} and {} is {}\".format(a,b,a*b))\n",
    "print(\"The division of {} and {} is {}\".format(a,b,a/b))"
   ]
  },
  {
   "cell_type": "code",
   "execution_count": 4,
   "id": "61fa3b52-3967-41ff-8587-0484d84db8a3",
   "metadata": {},
   "outputs": [
    {
     "name": "stdout",
     "output_type": "stream",
     "text": [
      "The addition is 30\n",
      "subtraction is -10\n",
      "multiplication is 200\n",
      "division is 0.5\n"
     ]
    }
   ],
   "source": [
    "# we print in a single line of code\n",
    "a=10\n",
    "b=20\n",
    "add=a+b\n",
    "sub=a-b\n",
    "mul=a*b\n",
    "div=a/b\n",
    "print(f\"The addition is {add}\\nsubtraction is {sub}\\nmultiplication is {mul}\\ndivision is {div}\")"
   ]
  },
  {
   "cell_type": "markdown",
   "id": "ce88e450-e3d8-47a8-84e6-c6fb11a96f6e",
   "metadata": {},
   "source": [
    "**end operator**"
   ]
  },
  {
   "cell_type": "code",
   "execution_count": 27,
   "id": "adb3b170-409d-4822-a537-e3bee4a73a25",
   "metadata": {},
   "outputs": [
    {
     "name": "stdout",
     "output_type": "stream",
     "text": [
      "10\n",
      "20\n",
      "10 30"
     ]
    }
   ],
   "source": [
    "\n",
    "print(10)\n",
    "print(20)\n",
    "\n",
    "# using two print statements \n",
    "# we need to write 10,20\n",
    "print(10,end=' 30')"
   ]
  },
  {
   "cell_type": "code",
   "execution_count": 22,
   "id": "b28f357b-e5a1-427c-a8e3-bc7631217893",
   "metadata": {},
   "outputs": [
    {
     "name": "stdout",
     "output_type": "stream",
     "text": [
      "10 20\n"
     ]
    }
   ],
   "source": [
    "print(10,end=' ')\n",
    "print(20)\n"
   ]
  },
  {
   "cell_type": "code",
   "execution_count": 23,
   "id": "70f0c963-36f3-4838-a506-153889a31236",
   "metadata": {},
   "outputs": [
    {
     "name": "stdout",
     "output_type": "stream",
     "text": [
      "10&20\n"
     ]
    }
   ],
   "source": [
    "print(10,end='&')\n",
    "print(20)"
   ]
  },
  {
   "cell_type": "code",
   "execution_count": 24,
   "id": "050d54e3-d66b-41f8-86df-716c02470d86",
   "metadata": {},
   "outputs": [
    {
     "name": "stdout",
     "output_type": "stream",
     "text": [
      "10--->20\n"
     ]
    }
   ],
   "source": [
    "print(10,end='--->')\n",
    "print(20)"
   ]
  },
  {
   "cell_type": "code",
   "execution_count": 25,
   "id": "4deabfc0-a49f-4f95-8a06-6097158ef522",
   "metadata": {},
   "outputs": [
    {
     "name": "stdout",
     "output_type": "stream",
     "text": [
      "10 20 30\n"
     ]
    }
   ],
   "source": [
    "print(10, 20,end=' ')\n",
    "print(30)"
   ]
  },
  {
   "cell_type": "code",
   "execution_count": 28,
   "id": "b52fb137-d755-4ecc-a83e-12419e4a90d9",
   "metadata": {},
   "outputs": [
    {
     "name": "stdout",
     "output_type": "stream",
     "text": [
      "10--->20--->30\n"
     ]
    }
   ],
   "source": [
    "print(10,end='--->')\n",
    "print(20,end='--->')\n",
    "print(30)\n"
   ]
  },
  {
   "cell_type": "code",
   "execution_count": 31,
   "id": "0bd3a269-cd96-418a-92bd-45d628515962",
   "metadata": {},
   "outputs": [
    {
     "name": "stdout",
     "output_type": "stream",
     "text": [
      "10--->20--->30\n",
      "10$20$30\n"
     ]
    }
   ],
   "source": [
    "# using one print statement\n",
    "# 10--->20---->30\n",
    "# print(10,'---->',20,'--->')\n",
    "# seperating all values inside print statements\n",
    "\n",
    "\n",
    "print(10,20,30,sep='--->')\n",
    "print(10,20,30,sep='$')"
   ]
  },
  {
   "cell_type": "code",
   "execution_count": 32,
   "id": "bc155d72-5709-49b4-aa87-578a75c155dd",
   "metadata": {},
   "outputs": [
    {
     "name": "stdout",
     "output_type": "stream",
     "text": [
      "10+20=30\n"
     ]
    }
   ],
   "source": [
    "# 10+20=30\n",
    "print(10,end='+')\n",
    "print(20,end='=')\n",
    "print(30)"
   ]
  },
  {
   "cell_type": "code",
   "execution_count": 33,
   "id": "18e82fc0-ab4d-400e-8df5-c42f67f142fb",
   "metadata": {},
   "outputs": [
    {
     "name": "stdout",
     "output_type": "stream",
     "text": [
      "10+20=30.\n"
     ]
    }
   ],
   "source": [
    "print(10,end='+')\n",
    "print(20,end='=')\n",
    "print(30,'.',sep='')"
   ]
  },
  {
   "cell_type": "code",
   "execution_count": 36,
   "id": "5f646128-ac01-4df9-97fd-9ff31f5fa5be",
   "metadata": {},
   "outputs": [
    {
     "name": "stdout",
     "output_type": "stream",
     "text": [
      "10+20=30\n"
     ]
    }
   ],
   "source": [
    "print(10,20,sep='+',end='=')\n",
    "print(30)"
   ]
  },
  {
   "cell_type": "code",
   "execution_count": null,
   "id": "4b9a61aa-0dba-4fce-a2a5-994fa3d68393",
   "metadata": {},
   "outputs": [],
   "source": []
  },
  {
   "cell_type": "code",
   "execution_count": null,
   "id": "115779c0-b188-4561-beaf-d5f93ae550e5",
   "metadata": {},
   "outputs": [],
   "source": []
  },
  {
   "cell_type": "code",
   "execution_count": null,
   "id": "766bf55e-98ac-4099-815c-f4610241ea19",
   "metadata": {},
   "outputs": [],
   "source": []
  },
  {
   "cell_type": "code",
   "execution_count": null,
   "id": "72c35c88-dcf4-4385-9a1b-478cd2cf53ff",
   "metadata": {},
   "outputs": [],
   "source": []
  },
  {
   "cell_type": "code",
   "execution_count": null,
   "id": "d2aac49b-2f9f-4ca3-8b78-907f6fbe996b",
   "metadata": {},
   "outputs": [],
   "source": []
  },
  {
   "cell_type": "code",
   "execution_count": null,
   "id": "a405fbb1-0ccd-42dd-9438-d5ee0eadebbb",
   "metadata": {},
   "outputs": [],
   "source": []
  },
  {
   "cell_type": "code",
   "execution_count": null,
   "id": "24e087d3-1713-4f39-84c4-511508460d65",
   "metadata": {},
   "outputs": [],
   "source": []
  },
  {
   "cell_type": "code",
   "execution_count": null,
   "id": "a3f9b9e7-fb07-4888-9fd8-2f9f097b5b63",
   "metadata": {},
   "outputs": [],
   "source": []
  },
  {
   "cell_type": "code",
   "execution_count": null,
   "id": "2dc2abbe-64bd-442f-aa12-8e779a40d0bd",
   "metadata": {},
   "outputs": [],
   "source": []
  },
  {
   "cell_type": "code",
   "execution_count": null,
   "id": "7ba84661-a42a-4d39-81b2-6dcc4a22b35e",
   "metadata": {},
   "outputs": [],
   "source": []
  },
  {
   "cell_type": "code",
   "execution_count": null,
   "id": "430fd042-a9ff-4c37-8f83-1bf131dc6e04",
   "metadata": {},
   "outputs": [],
   "source": []
  },
  {
   "cell_type": "code",
   "execution_count": null,
   "id": "7693e5c6-e5ee-43c1-814c-b7d8317fdcae",
   "metadata": {},
   "outputs": [],
   "source": []
  },
  {
   "cell_type": "code",
   "execution_count": null,
   "id": "d79c790e-5bc5-40d3-a7c3-483b2fdcf275",
   "metadata": {},
   "outputs": [],
   "source": []
  },
  {
   "cell_type": "code",
   "execution_count": null,
   "id": "c25cb088-9478-4e5f-ad9d-900de9be3988",
   "metadata": {},
   "outputs": [],
   "source": []
  },
  {
   "cell_type": "code",
   "execution_count": null,
   "id": "37985a6c-d16e-4d80-8b76-1c8d8f531c57",
   "metadata": {},
   "outputs": [],
   "source": []
  },
  {
   "cell_type": "code",
   "execution_count": null,
   "id": "1c5a03a7-a9f7-431b-a9e7-df0f89aa0f22",
   "metadata": {},
   "outputs": [],
   "source": []
  },
  {
   "cell_type": "code",
   "execution_count": null,
   "id": "a97d0c0d-d22f-4208-bf56-b0a705d8e28c",
   "metadata": {},
   "outputs": [],
   "source": []
  },
  {
   "cell_type": "code",
   "execution_count": null,
   "id": "f0f64f52-52e1-4573-9fcc-ed1d5e087f72",
   "metadata": {},
   "outputs": [],
   "source": []
  },
  {
   "cell_type": "code",
   "execution_count": null,
   "id": "763cff5f-e060-4264-9b60-5c4926af5f07",
   "metadata": {},
   "outputs": [],
   "source": []
  },
  {
   "cell_type": "code",
   "execution_count": null,
   "id": "6e92ea8b-bd36-45a4-b443-0d25d06915cc",
   "metadata": {},
   "outputs": [],
   "source": []
  },
  {
   "cell_type": "code",
   "execution_count": null,
   "id": "04f843ec-f2f1-4344-875c-fb36141970b3",
   "metadata": {},
   "outputs": [],
   "source": []
  }
 ],
 "metadata": {
  "kernelspec": {
   "display_name": "Python 3 (ipykernel)",
   "language": "python",
   "name": "python3"
  },
  "language_info": {
   "codemirror_mode": {
    "name": "ipython",
    "version": 3
   },
   "file_extension": ".py",
   "mimetype": "text/x-python",
   "name": "python",
   "nbconvert_exporter": "python",
   "pygments_lexer": "ipython3",
   "version": "3.12.4"
  },
  "widgets": {
   "application/vnd.jupyter.widget-state+json": {
    "state": {},
    "version_major": 2,
    "version_minor": 0
   }
  }
 },
 "nbformat": 4,
 "nbformat_minor": 5
}
