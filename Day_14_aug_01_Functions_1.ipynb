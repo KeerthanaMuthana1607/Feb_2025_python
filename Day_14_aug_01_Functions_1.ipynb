{
 "cells": [
  {
   "cell_type": "markdown",
   "id": "b938d39b-b14e-474c-af39-1bd7ceeb224c",
   "metadata": {},
   "source": [
    "**Functions**\n",
    "\n",
    "**syntax** :\n",
    "-        def <write your function name()>:\n",
    "-            <write your code>\n",
    "  "
   ]
  },
  {
   "cell_type": "code",
   "execution_count": 1,
   "id": "631c8d3d-cc4d-4c18-b5ca-693e890d20f6",
   "metadata": {},
   "outputs": [
    {
     "name": "stdout",
     "output_type": "stream",
     "text": [
      "30\n"
     ]
    }
   ],
   "source": [
    "# Write a addition program\n",
    "num1=10\n",
    "num2=20\n",
    "print(num1+num2)\n"
   ]
  },
  {
   "cell_type": "code",
   "execution_count": 1,
   "id": "7388ba4f-9a77-45fc-9f51-776c8db2f809",
   "metadata": {},
   "outputs": [],
   "source": [
    "def addition():\n",
    "    num1=10\n",
    "    num2=20\n",
    "    print(num1+num2)\n",
    "  \n"
   ]
  },
  {
   "cell_type": "code",
   "execution_count": 3,
   "id": "ce33ee3e-0aab-4939-89c1-4290e4a5db46",
   "metadata": {},
   "outputs": [
    {
     "data": {
      "text/plain": [
       "<function __main__.addition()>"
      ]
     },
     "execution_count": 3,
     "metadata": {},
     "output_type": "execute_result"
    }
   ],
   "source": [
    "# in order to see the output we need to call the function\n",
    "# function name:addition\n",
    "\n",
    "def addition():\n",
    "    num1=10\n",
    "    num2=20\n",
    "    print(num1+num2)\n",
    "addition"
   ]
  },
  {
   "cell_type": "code",
   "execution_count": 5,
   "id": "e0164300-2f7c-4998-8c7e-f2088e4d020d",
   "metadata": {},
   "outputs": [
    {
     "data": {
      "text/plain": [
       "<bound method Random.randint of <random.Random object at 0x0000019FA41E4D20>>"
      ]
     },
     "execution_count": 5,
     "metadata": {},
     "output_type": "execute_result"
    }
   ],
   "source": [
    "import random\n",
    "random.randint"
   ]
  },
  {
   "cell_type": "markdown",
   "id": "f2fb055e-9194-4585-aeff-3428402d7689",
   "metadata": {},
   "source": [
    "- whenever we see function \n",
    "- whenever we see bound method \n",
    "- then add normal brackets\n",
    "- functions or methods always normal brackets only"
   ]
  },
  {
   "cell_type": "code",
   "execution_count": 7,
   "id": "f138a4b3-413e-4aca-969d-44eaa6d742ef",
   "metadata": {},
   "outputs": [
    {
     "name": "stdout",
     "output_type": "stream",
     "text": [
      "30\n"
     ]
    }
   ],
   "source": [
    "# defining the function\n",
    "def addition():\n",
    "    num1=10\n",
    "    num2=20\n",
    "    print(num1+num2)\n",
    "\n",
    "# call the function\n",
    "addition()"
   ]
  },
  {
   "cell_type": "code",
   "execution_count": 11,
   "id": "bdfa3b71-621b-43f4-a809-61ed58f121b9",
   "metadata": {},
   "outputs": [
    {
     "name": "stdout",
     "output_type": "stream",
     "text": [
      "30\n",
      "None\n"
     ]
    }
   ],
   "source": [
    "print(addition())\n",
    "# dont print the function name\n",
    "# print is used for only see the output"
   ]
  },
  {
   "cell_type": "code",
   "execution_count": 13,
   "id": "5aa19ffc-ce68-4458-9b73-c02a3421be19",
   "metadata": {},
   "outputs": [
    {
     "name": "stdin",
     "output_type": "stream",
     "text": [
      "Enter the number1: 54\n",
      "Enter the number1: 2\n"
     ]
    },
    {
     "name": "stdout",
     "output_type": "stream",
     "text": [
      "The addition of 54 and 2 is:56\n"
     ]
    }
   ],
   "source": [
    "def addition1():\n",
    "    num1=eval(input(\"Enter the number1:\"))\n",
    "    num2=eval(input(\"Enter the number1:\"))\n",
    "    print(f\"The addition of {num1} and {num2} is:{num1+num2}\")\n",
    "\n",
    "# call the function\n",
    "addition1()"
   ]
  },
  {
   "cell_type": "code",
   "execution_count": 15,
   "id": "542458b0-0e38-44d8-bdee-7466a7ec6c75",
   "metadata": {},
   "outputs": [
    {
     "name": "stdout",
     "output_type": "stream",
     "text": [
      "The addition of 98 and 5 is:103\n"
     ]
    }
   ],
   "source": [
    "import random\n",
    "def addition2():\n",
    "    \n",
    "    num1=random.randint(1,100)\n",
    "    num2=random.randint(1,10)\n",
    "    print(f\"The addition of {num1} and {num2} is:{num1+num2}\")\n",
    "\n",
    "# call the function\n",
    "addition2()"
   ]
  },
  {
   "cell_type": "code",
   "execution_count": 1,
   "id": "9a6678cb-a4a4-454a-850e-c1fdc622024b",
   "metadata": {},
   "outputs": [
    {
     "name": "stdout",
     "output_type": "stream",
     "text": [
      "The addition of 96 and 11 is:107\n"
     ]
    }
   ],
   "source": [
    "import random\n",
    "def add():\n",
    "    num1=random.randint(1,100)\n",
    "    num2=random.randint(10,15)\n",
    "    add=num1+num2\n",
    "    print(f\"The addition of {num1} and {num2} is:{add}\")\n",
    "add()"
   ]
  },
  {
   "cell_type": "markdown",
   "id": "9a6f8f20-4681-4670-85b8-4f7e2566ec3a",
   "metadata": {},
   "source": [
    "- function name should not same as variable name\n",
    "\n",
    "- function rules same as variable rules\n",
    "\n",
    "- function name and your file name should not be same\n",
    "\n",
    "- function name should not same as package name"
   ]
  },
  {
   "cell_type": "code",
   "execution_count": 18,
   "id": "07d9fa01-8e42-43ac-aeae-3eb8b126d8dc",
   "metadata": {},
   "outputs": [],
   "source": [
    "def add3():\n",
    "    num1=eval(input(\"Enter the number1:\"))\n",
    "    num2=eval(input(\"Enter the number1:\"))\n",
    "    print(f\"The addition of {numm1} and {num2} is:{num1+num2}\")\n",
    "\n",
    "# call the function\n"
   ]
  },
  {
   "cell_type": "code",
   "execution_count": 19,
   "id": "8ad2da4e-f5b0-46c0-988a-2b0f739f717f",
   "metadata": {},
   "outputs": [
    {
     "name": "stdin",
     "output_type": "stream",
     "text": [
      "Enter the number1: 3\n",
      "Enter the number1: 4\n"
     ]
    },
    {
     "ename": "NameError",
     "evalue": "name 'numm1' is not defined",
     "output_type": "error",
     "traceback": [
      "\u001b[1;31m---------------------------------------------------------------------------\u001b[0m",
      "\u001b[1;31mNameError\u001b[0m                                 Traceback (most recent call last)",
      "Cell \u001b[1;32mIn[19], line 1\u001b[0m\n\u001b[1;32m----> 1\u001b[0m add3()\n",
      "Cell \u001b[1;32mIn[18], line 4\u001b[0m, in \u001b[0;36madd3\u001b[1;34m()\u001b[0m\n\u001b[0;32m      2\u001b[0m num1\u001b[38;5;241m=\u001b[39m\u001b[38;5;28meval\u001b[39m(\u001b[38;5;28minput\u001b[39m(\u001b[38;5;124m\"\u001b[39m\u001b[38;5;124mEnter the number1:\u001b[39m\u001b[38;5;124m\"\u001b[39m))\n\u001b[0;32m      3\u001b[0m num2\u001b[38;5;241m=\u001b[39m\u001b[38;5;28meval\u001b[39m(\u001b[38;5;28minput\u001b[39m(\u001b[38;5;124m\"\u001b[39m\u001b[38;5;124mEnter the number1:\u001b[39m\u001b[38;5;124m\"\u001b[39m))\n\u001b[1;32m----> 4\u001b[0m \u001b[38;5;28mprint\u001b[39m(\u001b[38;5;124mf\u001b[39m\u001b[38;5;124m\"\u001b[39m\u001b[38;5;124mThe addition of \u001b[39m\u001b[38;5;132;01m{\u001b[39;00mnumm1\u001b[38;5;132;01m}\u001b[39;00m\u001b[38;5;124m and \u001b[39m\u001b[38;5;132;01m{\u001b[39;00mnum2\u001b[38;5;132;01m}\u001b[39;00m\u001b[38;5;124m is:\u001b[39m\u001b[38;5;132;01m{\u001b[39;00mnum1\u001b[38;5;241m+\u001b[39mnum2\u001b[38;5;132;01m}\u001b[39;00m\u001b[38;5;124m\"\u001b[39m)\n",
      "\u001b[1;31mNameError\u001b[0m: name 'numm1' is not defined"
     ]
    }
   ],
   "source": [
    "add3()"
   ]
  },
  {
   "cell_type": "markdown",
   "id": "484ecaa6-11ec-49a6-9f88-9ce4c9e63b40",
   "metadata": {},
   "source": [
    "- when you define the function , if any error is there It will not show \n",
    "\n",
    "- If you want to see the error or output\n",
    "\n",
    "- you need to call the function only"
   ]
  },
  {
   "cell_type": "code",
   "execution_count": 28,
   "id": "d73f029c-3962-449c-98ad-e403e0a7cab1",
   "metadata": {},
   "outputs": [
    {
     "name": "stdin",
     "output_type": "stream",
     "text": [
      "Enter the height: 40\n",
      "Enter the breadth: 20\n"
     ]
    },
    {
     "name": "stdout",
     "output_type": "stream",
     "text": [
      "The area of the right angle triangle is:400\n"
     ]
    }
   ],
   "source": [
    "# Q1) WAP ask the user take height of the triangle ,breadth of the triangle\n",
    "# calculate the area of the right angle triangle\n",
    "# Formula is :1/2*b*h\n",
    "\n",
    "\n",
    "def triangle():\n",
    "    height=eval(input(\"Enter the height:\"))\n",
    "    breadth=eval(input(\"Enter the breadth:\"))\n",
    "    area=round(1/2*height*breadth)\n",
    "    print(f\"The area of the right angle triangle is:{area}\")\n",
    "triangle()"
   ]
  },
  {
   "cell_type": "code",
   "execution_count": 29,
   "id": "2677a3d9-a745-4b77-895a-b5f2bd3caa45",
   "metadata": {},
   "outputs": [
    {
     "name": "stdin",
     "output_type": "stream",
     "text": [
      "enter the radius: 25\n"
     ]
    },
    {
     "name": "stdout",
     "output_type": "stream",
     "text": [
      "The area of the circle is:1962\n"
     ]
    }
   ],
   "source": [
    "# Q2)  WAP ask the user take the radius of the circle\n",
    "# calculate the area of the circle\n",
    "# Formula: pi*r*r where pi=3.14\n",
    "\n",
    "def circle():\n",
    "    radius=eval(input(\"enter the radius:\"))\n",
    "    pi=3.14\n",
    "    area=round(pi*radius*radius)\n",
    "    print(f\"The area of the circle is:{area}\")\n",
    "circle()\n"
   ]
  },
  {
   "cell_type": "code",
   "execution_count": 30,
   "id": "0333f929-f0b9-4d28-b2ce-d7a265358bac",
   "metadata": {},
   "outputs": [
    {
     "name": "stdin",
     "output_type": "stream",
     "text": [
      "Enter the length: 32\n",
      "Enter the breadth: 24\n"
     ]
    },
    {
     "name": "stdout",
     "output_type": "stream",
     "text": [
      "The area of the 32 and 24 is:768\n"
     ]
    }
   ],
   "source": [
    "# Q3) WAP to ask user take the length and breadth\n",
    "# calculate the area of the rectangle\n",
    "# Formula :length*breadth\n",
    "\n",
    "def rectangle():\n",
    "    length=eval(input(\"Enter the length:\"))\n",
    "    breadth=eval(input(\"Enter the breadth:\"))\n",
    "    area=length*breadth\n",
    "    print(f\"The area of the {length} and {breadth} is:{area}\")\n",
    "rectangle()"
   ]
  },
  {
   "cell_type": "code",
   "execution_count": 31,
   "id": "6f54084e-989c-4e78-bedb-743567abcd34",
   "metadata": {},
   "outputs": [
    {
     "name": "stdin",
     "output_type": "stream",
     "text": [
      "Enter the bill amount: 10000\n",
      "Enter the tip percentage: 25\n"
     ]
    },
    {
     "name": "stdout",
     "output_type": "stream",
     "text": [
      "Total bill is:12500.0\n"
     ]
    }
   ],
   "source": [
    "# Q4) WAP ask the user how much bill he wants to pay \n",
    "#                     how much tip percentage he wants to give\n",
    "#                     calculate the total bill amount\n",
    "# bill amount=1000\n",
    "# you want to give 10% tip = 1000*10/100\n",
    "# total bill=1000+100=1100\n",
    "\n",
    "\n",
    "def bill():\n",
    "    bill_amount=eval(input(\"Enter the bill amount:\"))\n",
    "    tip_percentage=eval(input(\"Enter the tip percentage:\"))\n",
    "    tip_amount=bill_amount*tip_percentage/100\n",
    "    total_bill=bill_amount+tip_amount\n",
    "    print(f\"Total bill is:{total_bill}\")\n",
    "bill()"
   ]
  },
  {
   "cell_type": "code",
   "execution_count": 3,
   "id": "c2ca4b15-d0f7-46bb-ba13-f7c676e5c4dc",
   "metadata": {},
   "outputs": [
    {
     "name": "stdin",
     "output_type": "stream",
     "text": [
      "Enter your telugu marks: 89\n",
      "Enter your hindi marks: 97\n",
      "Enter your english marks: 87\n",
      "Enter your maths marks: 69\n",
      "Enter your science marks: 77\n",
      "Enter your social marks: 88\n"
     ]
    },
    {
     "name": "stdout",
     "output_type": "stream",
     "text": [
      "Dad: You scored 84.5%\n"
     ]
    }
   ],
   "source": [
    "# Q5)\n",
    "# A story between you and your dad\n",
    "# He wants to know your marks\n",
    "# He wants to know your percentage of marks\n",
    "\n",
    "# son:Hey dad\n",
    "# Dad: Hi beta\n",
    "# son: Whatsapp dad\n",
    "# dad: i got know that your exams results are out  \n",
    "# son: Yes dad\n",
    "# dad: Do you pass the exam\n",
    "# son:ofcourse dad\n",
    "# dad: Tell me the percentage\n",
    "# son: You know maths , I will give give the score cal per\n",
    "# dad: okay\n",
    "\n",
    "# telugu:91\n",
    "# hindi: 82\n",
    "# English: 92\n",
    "# Maths : 89\n",
    "# science:90\n",
    "# social: 94\n",
    "# perc\n",
    "# print the perc\n",
    "\n",
    "\n",
    "def percentage_of_marks():\n",
    "    telugu = eval(input(\"Enter your telugu marks:\"))\n",
    "    hindi = eval(input(\"Enter your hindi marks:\"))\n",
    "    english = eval(input(\"Enter your english marks:\"))\n",
    "    maths = eval(input(\"Enter your maths marks:\"))\n",
    "    science = eval(input(\"Enter your science marks:\"))\n",
    "    social = eval(input(\"Enter your social marks:\"))\n",
    "    Total_marks=telugu+hindi+english+maths+science+social\n",
    "    percentage=(Total_marks/600)*100\n",
    "    # round_percentage=round(percentage,1)\n",
    "    print(f\"Dad: You scored {percentage}%\")\n",
    "percentage_of_marks()\n",
    "\n"
   ]
  },
  {
   "cell_type": "code",
   "execution_count": null,
   "id": "bf589769-851b-42ad-8d19-6e79b8e27068",
   "metadata": {},
   "outputs": [
    {
     "name": "stdout",
     "output_type": "stream",
     "text": [
      "30\n",
      "The addition of 38 and 7 is:45\n"
     ]
    }
   ],
   "source": [
    "addition()\n",
    "\n",
    "addition2()\n",
    "triangle()\n",
    "rectangle()\n",
    "circle()"
   ]
  },
  {
   "cell_type": "markdown",
   "id": "eea15798-9efc-4112-a413-f5948fa31c65",
   "metadata": {},
   "source": [
    "- something we are not providing inside the brackets means\n",
    "- It is called as **Functions without arguments**"
   ]
  },
  {
   "cell_type": "markdown",
   "id": "52d65fe3-cb69-4ee6-8848-9d2938acbd7e",
   "metadata": {},
   "source": [
    "**Function with arguments**\n",
    "\n",
    "- First check the how many variables are there inside the function\n",
    "\n",
    "- There are 3 variables\n",
    "\n",
    "- In the how many input variables are there: 2 a,b\n",
    "\n",
    "    - input variables means user will provide\n",
    " \n",
    "    - here a,b provided by user only\n",
    " \n",
    "- In that how many output variables are there: 1 c\n",
    "  \n",
    "    - output variables are provided by code by using input variable\n",
    " \n",
    "- Dont touch **output variable**\n",
    "      "
   ]
  },
  {
   "cell_type": "code",
   "execution_count": 5,
   "id": "bf650b97-c9f3-4b0e-8024-7d811a0c00b7",
   "metadata": {},
   "outputs": [
    {
     "ename": "NameError",
     "evalue": "name 'a1' is not defined",
     "output_type": "error",
     "traceback": [
      "\u001b[1;31m---------------------------------------------------------------------------\u001b[0m",
      "\u001b[1;31mNameError\u001b[0m                                 Traceback (most recent call last)",
      "Cell \u001b[1;32mIn[5], line 4\u001b[0m\n\u001b[0;32m      2\u001b[0m     c\u001b[38;5;241m=\u001b[39ma1\u001b[38;5;241m+\u001b[39mb2\n\u001b[0;32m      3\u001b[0m     \u001b[38;5;28mprint\u001b[39m(c)\n\u001b[1;32m----> 4\u001b[0m add4()\n",
      "Cell \u001b[1;32mIn[5], line 2\u001b[0m, in \u001b[0;36madd4\u001b[1;34m()\u001b[0m\n\u001b[0;32m      1\u001b[0m \u001b[38;5;28;01mdef\u001b[39;00m \u001b[38;5;21madd4\u001b[39m():\n\u001b[1;32m----> 2\u001b[0m     c\u001b[38;5;241m=\u001b[39ma1\u001b[38;5;241m+\u001b[39mb2\n\u001b[0;32m      3\u001b[0m     \u001b[38;5;28mprint\u001b[39m(c)\n",
      "\u001b[1;31mNameError\u001b[0m: name 'a1' is not defined"
     ]
    }
   ],
   "source": [
    "def add4():\n",
    "    c=a1+b1\n",
    "    print(c)\n",
    "add4()\n",
    "    "
   ]
  },
  {
   "cell_type": "code",
   "execution_count": 6,
   "id": "f7906a4e-0a31-491f-bddc-1062f575e9d1",
   "metadata": {},
   "outputs": [
    {
     "ename": "TypeError",
     "evalue": "add4() missing 2 required positional arguments: 'a1' and 'b1'",
     "output_type": "error",
     "traceback": [
      "\u001b[1;31m---------------------------------------------------------------------------\u001b[0m",
      "\u001b[1;31mTypeError\u001b[0m                                 Traceback (most recent call last)",
      "Cell \u001b[1;32mIn[6], line 4\u001b[0m\n\u001b[0;32m      2\u001b[0m     c\u001b[38;5;241m=\u001b[39ma1\u001b[38;5;241m+\u001b[39mb1\n\u001b[0;32m      3\u001b[0m     \u001b[38;5;28mprint\u001b[39m(c)\n\u001b[1;32m----> 4\u001b[0m add4()\n",
      "\u001b[1;31mTypeError\u001b[0m: add4() missing 2 required positional arguments: 'a1' and 'b1'"
     ]
    }
   ],
   "source": [
    "def add4(a1,b1):\n",
    "    c=a1+b1\n",
    "    print(c)\n",
    "add4()\n",
    "    "
   ]
  },
  {
   "cell_type": "code",
   "execution_count": 8,
   "id": "8d4cf3a9-f47e-4bf6-b8f1-c52b66df51af",
   "metadata": {},
   "outputs": [
    {
     "name": "stdout",
     "output_type": "stream",
     "text": [
      "The addition of 10 and 20 is:30\n"
     ]
    }
   ],
   "source": [
    "def add4(a1,b1):\n",
    "    c=a1+b1\n",
    "    print(f\"The addition of {a1} and {b1} is:{c}\")\n",
    "add4(10,20)\n",
    "    "
   ]
  },
  {
   "cell_type": "code",
   "execution_count": 12,
   "id": "2b6634f5-20f8-4ff4-8e42-ab4aa23f7b57",
   "metadata": {},
   "outputs": [
    {
     "name": "stdin",
     "output_type": "stream",
     "text": [
      "Enter num1: 25\n",
      "Enter num2: 45\n",
      "Enter num3: 25\n"
     ]
    },
    {
     "name": "stdout",
     "output_type": "stream",
     "text": [
      "The average of 25,45 and 25 is: 31.67\n"
     ]
    }
   ],
   "source": [
    "# function without arguments \n",
    "\n",
    "def average():\n",
    "    num1=eval(input(\"Enter num1:\"))\n",
    "    num2=eval(input(\"Enter num2:\"))\n",
    "    num3=eval(input(\"Enter num3:\"))\n",
    "    avg=(num1+num2+num3)/3\n",
    "    avg1=round(avg,2)\n",
    "    print(f\"The average of {num1},{num2} and {num3} is:\",avg1)\n",
    "average()\n",
    "    \n"
   ]
  },
  {
   "cell_type": "code",
   "execution_count": 11,
   "id": "68e52849-e420-42db-8ff0-a11ba768b3ef",
   "metadata": {},
   "outputs": [
    {
     "name": "stdout",
     "output_type": "stream",
     "text": [
      "The average of 10,15 and 20 is: 15.0\n"
     ]
    }
   ],
   "source": [
    "# function with arguments\n",
    "def average(num1,num2,num3):\n",
    "    avg=(num1+num2+num3)/3\n",
    "    avg1=round(avg,2)\n",
    "    print(f\"The average of {num1},{num2} and {num3} is:\",avg1)\n",
    "average(10,15,20)\n",
    "    "
   ]
  },
  {
   "cell_type": "code",
   "execution_count": null,
   "id": "1b531e28-1a1c-443a-8570-fa4ed730723f",
   "metadata": {},
   "outputs": [],
   "source": []
  }
 ],
 "metadata": {
  "kernelspec": {
   "display_name": "Python 3 (ipykernel)",
   "language": "python",
   "name": "python3"
  },
  "language_info": {
   "codemirror_mode": {
    "name": "ipython",
    "version": 3
   },
   "file_extension": ".py",
   "mimetype": "text/x-python",
   "name": "python",
   "nbconvert_exporter": "python",
   "pygments_lexer": "ipython3",
   "version": "3.12.4"
  },
  "widgets": {
   "application/vnd.jupyter.widget-state+json": {
    "state": {},
    "version_major": 2,
    "version_minor": 0
   }
  }
 },
 "nbformat": 4,
 "nbformat_minor": 5
}
