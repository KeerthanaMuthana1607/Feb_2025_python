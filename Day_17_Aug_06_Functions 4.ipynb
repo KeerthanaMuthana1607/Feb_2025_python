{
 "cells": [
  {
   "cell_type": "code",
   "execution_count": 1,
   "id": "029cbcd0-2285-4b14-b1ad-dbf331d9ded3",
   "metadata": {},
   "outputs": [
    {
     "name": "stdout",
     "output_type": "stream",
     "text": [
      "30\n"
     ]
    }
   ],
   "source": [
    "# Global Variable means outside  the function\n",
    "# Local Variable means inside the function\n",
    "\n",
    "\n",
    "\n",
    "def add():\n",
    "    a=10\n",
    "    b=20\n",
    "    sum=30\n",
    "    print(sum)\n",
    "add()"
   ]
  },
  {
   "cell_type": "code",
   "execution_count": 2,
   "id": "d9e49bc1-08b7-4884-a27a-d793f3020b9b",
   "metadata": {},
   "outputs": [
    {
     "ename": "NameError",
     "evalue": "name 'a' is not defined",
     "output_type": "error",
     "traceback": [
      "\u001b[1;31m---------------------------------------------------------------------------\u001b[0m",
      "\u001b[1;31mNameError\u001b[0m                                 Traceback (most recent call last)",
      "Cell \u001b[1;32mIn[2], line 1\u001b[0m\n\u001b[1;32m----> 1\u001b[0m a\n",
      "\u001b[1;31mNameError\u001b[0m: name 'a' is not defined"
     ]
    }
   ],
   "source": [
    "a\n"
   ]
  },
  {
   "cell_type": "code",
   "execution_count": 4,
   "id": "cc979a9f-70db-49fa-a3c3-8ad346909cc4",
   "metadata": {},
   "outputs": [
    {
     "data": {
      "text/plain": [
       "<function sum(iterable, /, start=0)>"
      ]
     },
     "execution_count": 4,
     "metadata": {},
     "output_type": "execute_result"
    }
   ],
   "source": [
    "sum"
   ]
  },
  {
   "cell_type": "markdown",
   "id": "4ee8b791-584e-4d16-8e56-ae8c0995ecf6",
   "metadata": {},
   "source": [
    "- Local variables cannot use outside the function\n",
    "\n",
    "- Here a,b, sum are local variables \n",
    "\n",
    "- There are working and we are able to print the answer also\n",
    "\n",
    "- but when we want print **sum**, **a**, **b**\n",
    "\n",
    "- we are not able to access the values"
   ]
  },
  {
   "cell_type": "code",
   "execution_count": 10,
   "id": "a4bec5cd-f97d-486f-9ddf-3d5e0821ca7f",
   "metadata": {},
   "outputs": [
    {
     "name": "stdout",
     "output_type": "stream",
     "text": [
      "60\n",
      "n1: 20\n",
      "n2: 40\n"
     ]
    },
    {
     "ename": "NameError",
     "evalue": "name 'summ1' is not defined",
     "output_type": "error",
     "traceback": [
      "\u001b[1;31m---------------------------------------------------------------------------\u001b[0m",
      "\u001b[1;31mNameError\u001b[0m                                 Traceback (most recent call last)",
      "Cell \u001b[1;32mIn[10], line 9\u001b[0m\n\u001b[0;32m      7\u001b[0m \u001b[38;5;28mprint\u001b[39m(\u001b[38;5;124m'\u001b[39m\u001b[38;5;124mn1:\u001b[39m\u001b[38;5;124m'\u001b[39m,n1)\n\u001b[0;32m      8\u001b[0m \u001b[38;5;28mprint\u001b[39m(\u001b[38;5;124m'\u001b[39m\u001b[38;5;124mn2:\u001b[39m\u001b[38;5;124m'\u001b[39m,n2)\n\u001b[1;32m----> 9\u001b[0m \u001b[38;5;28mprint\u001b[39m(summ1)\n",
      "\u001b[1;31mNameError\u001b[0m: name 'summ1' is not defined"
     ]
    }
   ],
   "source": [
    "n1=20\n",
    "n2=40\n",
    "def add1():\n",
    "    summ1=n1+n2\n",
    "    print(summ1)\n",
    "add1()\n",
    "print('n1:',n1)\n",
    "print('n2:',n2)\n",
    "print(summ1)\n",
    "\n",
    "# summ1 is local variable"
   ]
  },
  {
   "cell_type": "code",
   "execution_count": 6,
   "id": "7af999fd-4653-4370-86de-ac75a70686b4",
   "metadata": {},
   "outputs": [
    {
     "data": {
      "text/plain": [
       "6"
      ]
     },
     "execution_count": 6,
     "metadata": {},
     "output_type": "execute_result"
    }
   ],
   "source": [
    "sum([1,2,3])\n",
    "\n",
    "# do not use sum as variable "
   ]
  },
  {
   "cell_type": "markdown",
   "id": "b6a739e7-b2f1-475f-b5b6-9129d72b0bdb",
   "metadata": {},
   "source": [
    "**How to use local variable outside the function**\n",
    "\n",
    "- we already know that local variable can not use outside the function call\n",
    "\n",
    "- But we can use those local variables outside the function call \n",
    "\n",
    "- By using a keyword called **Global**\n",
    "\n",
    "\n"
   ]
  },
  {
   "cell_type": "code",
   "execution_count": 11,
   "id": "db907177-cb16-479e-89b4-c7c31b745cc3",
   "metadata": {},
   "outputs": [
    {
     "name": "stdout",
     "output_type": "stream",
     "text": [
      "30\n",
      "The sum is: 30\n"
     ]
    }
   ],
   "source": [
    "def add():\n",
    "    global summ\n",
    "    a=10\n",
    "    b=20\n",
    "    summ=30\n",
    "    print(summ)\n",
    "add()\n",
    "print(\"The sum is:\",summ)"
   ]
  },
  {
   "cell_type": "code",
   "execution_count": 13,
   "id": "6972e5a2-e5cd-4b51-bd09-7a5fd7299dfe",
   "metadata": {},
   "outputs": [
    {
     "name": "stdout",
     "output_type": "stream",
     "text": [
      "30 -10\n",
      "The sum is: 30\n"
     ]
    },
    {
     "ename": "NameError",
     "evalue": "name 'sub' is not defined",
     "output_type": "error",
     "traceback": [
      "\u001b[1;31m---------------------------------------------------------------------------\u001b[0m",
      "\u001b[1;31mNameError\u001b[0m                                 Traceback (most recent call last)",
      "Cell \u001b[1;32mIn[13], line 10\u001b[0m\n\u001b[0;32m      8\u001b[0m add()\n\u001b[0;32m      9\u001b[0m \u001b[38;5;28mprint\u001b[39m(\u001b[38;5;124m\"\u001b[39m\u001b[38;5;124mThe sum is:\u001b[39m\u001b[38;5;124m\"\u001b[39m,summ)\n\u001b[1;32m---> 10\u001b[0m \u001b[38;5;28mprint\u001b[39m(\u001b[38;5;124m\"\u001b[39m\u001b[38;5;124mThe sub is:\u001b[39m\u001b[38;5;124m\"\u001b[39m,sub)\n",
      "\u001b[1;31mNameError\u001b[0m: name 'sub' is not defined"
     ]
    }
   ],
   "source": [
    "def add_sub():\n",
    "    global summ\n",
    "    a=10\n",
    "    b=20\n",
    "    summ=a+b\n",
    "    sub=a-b\n",
    "    print(summ,sub)\n",
    "add_sub()\n",
    "print(\"The sum is:\",summ)\n",
    "print(\"The sub is:\",sub)"
   ]
  },
  {
   "cell_type": "code",
   "execution_count": 14,
   "id": "834b3d6e-af48-444c-85c6-a2d3efe8e9b3",
   "metadata": {},
   "outputs": [
    {
     "name": "stdout",
     "output_type": "stream",
     "text": [
      "30 -10\n",
      "The sum is: 30\n",
      "The sub is: -10\n"
     ]
    }
   ],
   "source": [
    "def add_sub():\n",
    "    global summ,sub\n",
    "    a=10\n",
    "    b=20\n",
    "    summ=a+b\n",
    "    sub=a-b\n",
    "    print(summ,sub)\n",
    "add_sub()\n",
    "print(\"The sum is:\",summ)\n",
    "print(\"The sub is:\",sub)"
   ]
  },
  {
   "cell_type": "markdown",
   "id": "f8f4725f-14e9-4b8f-b563-ed787519eb15",
   "metadata": {},
   "source": [
    "**use case**\n",
    "\n",
    "- imagine we initialize a value with sum number\n",
    "\n",
    "- we updated that value inside function\n",
    "\n",
    "- but when we want to use that value ouside function\n",
    "\n",
    "- we will not able to use\n"
   ]
  },
  {
   "cell_type": "code",
   "execution_count": 16,
   "id": "075275fd-b46d-4908-b6bf-7895d9dd4bcc",
   "metadata": {},
   "outputs": [
    {
     "name": "stdout",
     "output_type": "stream",
     "text": [
      "30\n"
     ]
    }
   ],
   "source": [
    "age=0\n",
    "def age_update():\n",
    "    age=30\n",
    "    print(age)\n",
    "\n",
    "age_update()"
   ]
  },
  {
   "cell_type": "code",
   "execution_count": 18,
   "id": "9b9a7946-00fa-48dd-b5ee-74fa498a6a98",
   "metadata": {},
   "outputs": [
    {
     "data": {
      "text/plain": [
       "0"
      ]
     },
     "execution_count": 18,
     "metadata": {},
     "output_type": "execute_result"
    }
   ],
   "source": [
    "age\n",
    "# here age is not giving updated value"
   ]
  },
  {
   "cell_type": "code",
   "execution_count": 19,
   "id": "aeeb42a6-679e-411d-b7f6-fff9f9cf667b",
   "metadata": {},
   "outputs": [
    {
     "name": "stdout",
     "output_type": "stream",
     "text": [
      "30\n"
     ]
    }
   ],
   "source": [
    "age=0\n",
    "def age_update():\n",
    "    global age\n",
    "    age=30\n",
    "    print(age)\n",
    "\n",
    "age_update()"
   ]
  },
  {
   "cell_type": "code",
   "execution_count": 20,
   "id": "569bde39-f476-4c7c-98f1-4feec59168ae",
   "metadata": {},
   "outputs": [
    {
     "data": {
      "text/plain": [
       "30"
      ]
     },
     "execution_count": 20,
     "metadata": {},
     "output_type": "execute_result"
    }
   ],
   "source": [
    "age"
   ]
  },
  {
   "cell_type": "code",
   "execution_count": 21,
   "id": "65590c38-f4c9-4c7e-b5ed-d89d01cfca4e",
   "metadata": {},
   "outputs": [
    {
     "ename": "UnboundLocalError",
     "evalue": "cannot access local variable 'x' where it is not associated with a value",
     "output_type": "error",
     "traceback": [
      "\u001b[1;31m---------------------------------------------------------------------------\u001b[0m",
      "\u001b[1;31mUnboundLocalError\u001b[0m                         Traceback (most recent call last)",
      "Cell \u001b[1;32mIn[21], line 6\u001b[0m\n\u001b[0;32m      4\u001b[0m     \u001b[38;5;28mprint\u001b[39m(x)\n\u001b[0;32m      5\u001b[0m     x\u001b[38;5;241m=\u001b[39m\u001b[38;5;241m30\u001b[39m\n\u001b[1;32m----> 6\u001b[0m fun1()\n",
      "Cell \u001b[1;32mIn[21], line 4\u001b[0m, in \u001b[0;36mfun1\u001b[1;34m()\u001b[0m\n\u001b[0;32m      3\u001b[0m \u001b[38;5;28;01mdef\u001b[39;00m \u001b[38;5;21mfun1\u001b[39m():\n\u001b[1;32m----> 4\u001b[0m     \u001b[38;5;28mprint\u001b[39m(x)\n\u001b[0;32m      5\u001b[0m     x\u001b[38;5;241m=\u001b[39m\u001b[38;5;241m30\u001b[39m\n",
      "\u001b[1;31mUnboundLocalError\u001b[0m: cannot access local variable 'x' where it is not associated with a value"
     ]
    }
   ],
   "source": [
    "x=10\n",
    "\n",
    "def fun1():\n",
    "    print(x)\n",
    "    x=30\n",
    "fun1()    "
   ]
  },
  {
   "cell_type": "code",
   "execution_count": 22,
   "id": "df38adf0-a9c4-4111-ad76-60eaff235129",
   "metadata": {},
   "outputs": [
    {
     "name": "stdout",
     "output_type": "stream",
     "text": [
      "30\n"
     ]
    }
   ],
   "source": [
    "x=10\n",
    "\n",
    "def fun1():\n",
    "    # print(x)\n",
    "    x=30\n",
    "    print(x)\n",
    "fun1()    "
   ]
  },
  {
   "cell_type": "code",
   "execution_count": 23,
   "id": "0080e91b-8e08-49c8-95c2-ab639ce44904",
   "metadata": {},
   "outputs": [
    {
     "name": "stdout",
     "output_type": "stream",
     "text": [
      "10\n"
     ]
    }
   ],
   "source": [
    "x=10\n",
    "\n",
    "def fun1():\n",
    "    # print(x)\n",
    "    # x=30\n",
    "    print(x)\n",
    "fun1()    "
   ]
  },
  {
   "cell_type": "code",
   "execution_count": 24,
   "id": "2ff604cb-1b1b-4b6c-aac2-3bdc7c772209",
   "metadata": {},
   "outputs": [
    {
     "ename": "UnboundLocalError",
     "evalue": "cannot access local variable 'x' where it is not associated with a value",
     "output_type": "error",
     "traceback": [
      "\u001b[1;31m---------------------------------------------------------------------------\u001b[0m",
      "\u001b[1;31mUnboundLocalError\u001b[0m                         Traceback (most recent call last)",
      "Cell \u001b[1;32mIn[24], line 6\u001b[0m\n\u001b[0;32m      4\u001b[0m     \u001b[38;5;28mprint\u001b[39m(x)\n\u001b[0;32m      5\u001b[0m     x\u001b[38;5;241m=\u001b[39m\u001b[38;5;241m30\u001b[39m\n\u001b[1;32m----> 6\u001b[0m fun1()\n",
      "Cell \u001b[1;32mIn[24], line 4\u001b[0m, in \u001b[0;36mfun1\u001b[1;34m()\u001b[0m\n\u001b[0;32m      3\u001b[0m \u001b[38;5;28;01mdef\u001b[39;00m \u001b[38;5;21mfun1\u001b[39m():\n\u001b[1;32m----> 4\u001b[0m     \u001b[38;5;28mprint\u001b[39m(x)\n\u001b[0;32m      5\u001b[0m     x\u001b[38;5;241m=\u001b[39m\u001b[38;5;241m30\u001b[39m\n",
      "\u001b[1;31mUnboundLocalError\u001b[0m: cannot access local variable 'x' where it is not associated with a value"
     ]
    }
   ],
   "source": [
    "# x=10\n",
    "\n",
    "def fun1():\n",
    "    print(x)\n",
    "    x=30\n",
    "fun1()    "
   ]
  },
  {
   "cell_type": "markdown",
   "id": "606ae6bc-1bb0-45b6-a415-5516922c61ec",
   "metadata": {},
   "source": [
    "- First check local variable and global variable both have same name\n",
    "\n",
    "- Inside the function without initializing are we using local variable\n",
    "\n"
   ]
  },
  {
   "cell_type": "code",
   "execution_count": 25,
   "id": "9cf7314f-9714-41e4-8c1a-815e8a023bdc",
   "metadata": {},
   "outputs": [
    {
     "name": "stdout",
     "output_type": "stream",
     "text": [
      "10\n"
     ]
    }
   ],
   "source": [
    "s=0\n",
    "\n",
    "def fun2():\n",
    "    a=s+10\n",
    "    print(a)\n",
    "fun2()"
   ]
  },
  {
   "cell_type": "code",
   "execution_count": 26,
   "id": "695db474-8704-40d5-b83b-02e6b41c8075",
   "metadata": {},
   "outputs": [
    {
     "ename": "UnboundLocalError",
     "evalue": "cannot access local variable 's' where it is not associated with a value",
     "output_type": "error",
     "traceback": [
      "\u001b[1;31m---------------------------------------------------------------------------\u001b[0m",
      "\u001b[1;31mUnboundLocalError\u001b[0m                         Traceback (most recent call last)",
      "Cell \u001b[1;32mIn[26], line 6\u001b[0m\n\u001b[0;32m      4\u001b[0m     s\u001b[38;5;241m=\u001b[39ms\u001b[38;5;241m+\u001b[39m\u001b[38;5;241m10\u001b[39m\n\u001b[0;32m      5\u001b[0m     \u001b[38;5;28mprint\u001b[39m(s)\n\u001b[1;32m----> 6\u001b[0m fun2()\n",
      "Cell \u001b[1;32mIn[26], line 4\u001b[0m, in \u001b[0;36mfun2\u001b[1;34m()\u001b[0m\n\u001b[0;32m      3\u001b[0m \u001b[38;5;28;01mdef\u001b[39;00m \u001b[38;5;21mfun2\u001b[39m():\n\u001b[1;32m----> 4\u001b[0m     s\u001b[38;5;241m=\u001b[39ms\u001b[38;5;241m+\u001b[39m\u001b[38;5;241m10\u001b[39m\n\u001b[0;32m      5\u001b[0m     \u001b[38;5;28mprint\u001b[39m(s)\n",
      "\u001b[1;31mUnboundLocalError\u001b[0m: cannot access local variable 's' where it is not associated with a value"
     ]
    }
   ],
   "source": [
    "s=0\n",
    "\n",
    "def fun2():\n",
    "    s=s+10\n",
    "    print(s)\n",
    "fun2()"
   ]
  },
  {
   "cell_type": "code",
   "execution_count": 28,
   "id": "3b9c9454-42d0-4f36-aeef-6347cda3c414",
   "metadata": {},
   "outputs": [
    {
     "ename": "UnboundLocalError",
     "evalue": "cannot access local variable 's' where it is not associated with a value",
     "output_type": "error",
     "traceback": [
      "\u001b[1;31m---------------------------------------------------------------------------\u001b[0m",
      "\u001b[1;31mUnboundLocalError\u001b[0m                         Traceback (most recent call last)",
      "Cell \u001b[1;32mIn[28], line 6\u001b[0m\n\u001b[0;32m      4\u001b[0m     s\u001b[38;5;241m=\u001b[39ms\u001b[38;5;241m+\u001b[39m\u001b[38;5;241m10\u001b[39m\n\u001b[0;32m      5\u001b[0m     \u001b[38;5;28mprint\u001b[39m(s)\n\u001b[1;32m----> 6\u001b[0m fun2()\n",
      "Cell \u001b[1;32mIn[28], line 4\u001b[0m, in \u001b[0;36mfun2\u001b[1;34m()\u001b[0m\n\u001b[0;32m      3\u001b[0m \u001b[38;5;28;01mdef\u001b[39;00m \u001b[38;5;21mfun2\u001b[39m():\n\u001b[1;32m----> 4\u001b[0m     s\u001b[38;5;241m=\u001b[39ms\u001b[38;5;241m+\u001b[39m\u001b[38;5;241m10\u001b[39m\n\u001b[0;32m      5\u001b[0m     \u001b[38;5;28mprint\u001b[39m(s)\n",
      "\u001b[1;31mUnboundLocalError\u001b[0m: cannot access local variable 's' where it is not associated with a value"
     ]
    }
   ],
   "source": [
    "# s=0\n",
    "\n",
    "def fun2():\n",
    "    s=s+10\n",
    "    print(s)\n",
    "fun2()"
   ]
  },
  {
   "cell_type": "code",
   "execution_count": 30,
   "id": "f6f1ac51-215a-4c4d-992b-634bc06a9a86",
   "metadata": {},
   "outputs": [
    {
     "ename": "UnboundLocalError",
     "evalue": "cannot access local variable 's' where it is not associated with a value",
     "output_type": "error",
     "traceback": [
      "\u001b[1;31m---------------------------------------------------------------------------\u001b[0m",
      "\u001b[1;31mUnboundLocalError\u001b[0m                         Traceback (most recent call last)",
      "Cell \u001b[1;32mIn[30], line 7\u001b[0m\n\u001b[0;32m      5\u001b[0m     s\u001b[38;5;241m=\u001b[39ms\u001b[38;5;241m+\u001b[39m\u001b[38;5;241m10\u001b[39m\n\u001b[0;32m      6\u001b[0m     \u001b[38;5;28mprint\u001b[39m(s)\n\u001b[1;32m----> 7\u001b[0m fun2()\n",
      "Cell \u001b[1;32mIn[30], line 4\u001b[0m, in \u001b[0;36mfun2\u001b[1;34m()\u001b[0m\n\u001b[0;32m      3\u001b[0m \u001b[38;5;28;01mdef\u001b[39;00m \u001b[38;5;21mfun2\u001b[39m():\n\u001b[1;32m----> 4\u001b[0m     \u001b[38;5;28mprint\u001b[39m(s)\n\u001b[0;32m      5\u001b[0m     s\u001b[38;5;241m=\u001b[39ms\u001b[38;5;241m+\u001b[39m\u001b[38;5;241m10\u001b[39m\n\u001b[0;32m      6\u001b[0m     \u001b[38;5;28mprint\u001b[39m(s)\n",
      "\u001b[1;31mUnboundLocalError\u001b[0m: cannot access local variable 's' where it is not associated with a value"
     ]
    }
   ],
   "source": [
    "s=0\n",
    "\n",
    "def fun2():\n",
    "    print(s)\n",
    "    s=s+10\n",
    "    print(s)\n",
    "fun2()"
   ]
  },
  {
   "cell_type": "code",
   "execution_count": 32,
   "id": "3808d0dc-d091-4d5a-8442-0fc2f97f9a66",
   "metadata": {},
   "outputs": [
    {
     "ename": "UnboundLocalError",
     "evalue": "cannot access local variable 's' where it is not associated with a value",
     "output_type": "error",
     "traceback": [
      "\u001b[1;31m---------------------------------------------------------------------------\u001b[0m",
      "\u001b[1;31mUnboundLocalError\u001b[0m                         Traceback (most recent call last)",
      "Cell \u001b[1;32mIn[32], line 7\u001b[0m\n\u001b[0;32m      5\u001b[0m     s\u001b[38;5;241m=\u001b[39ms\u001b[38;5;241m+\u001b[39m\u001b[38;5;241m10\u001b[39m\n\u001b[0;32m      6\u001b[0m     \u001b[38;5;66;03m# print(s)\u001b[39;00m\n\u001b[1;32m----> 7\u001b[0m fun2()\n\u001b[0;32m      8\u001b[0m \u001b[38;5;28mprint\u001b[39m(s)\n",
      "Cell \u001b[1;32mIn[32], line 5\u001b[0m, in \u001b[0;36mfun2\u001b[1;34m()\u001b[0m\n\u001b[0;32m      3\u001b[0m \u001b[38;5;28;01mdef\u001b[39;00m \u001b[38;5;21mfun2\u001b[39m():\n\u001b[0;32m      4\u001b[0m     \u001b[38;5;66;03m# print(s)\u001b[39;00m\n\u001b[1;32m----> 5\u001b[0m     s\u001b[38;5;241m=\u001b[39ms\u001b[38;5;241m+\u001b[39m\u001b[38;5;241m10\u001b[39m\n",
      "\u001b[1;31mUnboundLocalError\u001b[0m: cannot access local variable 's' where it is not associated with a value"
     ]
    }
   ],
   "source": [
    "s=0\n",
    "\n",
    "def fun2():\n",
    "    # print(s)\n",
    "    s=s+10\n",
    "    # print(s)\n",
    "fun2()\n",
    "print(s)"
   ]
  },
  {
   "cell_type": "code",
   "execution_count": 29,
   "id": "da41a2ae-793d-49c7-be48-864816fbc9a2",
   "metadata": {},
   "outputs": [
    {
     "name": "stdout",
     "output_type": "stream",
     "text": [
      "20\n"
     ]
    }
   ],
   "source": [
    "s=0\n",
    "\n",
    "def fun2():\n",
    "    s=10\n",
    "    s=s+10\n",
    "    print(s)\n",
    "fun2()"
   ]
  },
  {
   "cell_type": "markdown",
   "id": "17ec876f-ce47-4082-9c27-db97e05b5934",
   "metadata": {},
   "source": [
    "**CASE-2**"
   ]
  },
  {
   "cell_type": "code",
   "execution_count": 33,
   "id": "e8cd5f08-991f-47ac-ab8c-2905245e4bd0",
   "metadata": {},
   "outputs": [
    {
     "name": "stdout",
     "output_type": "stream",
     "text": [
      "30\n"
     ]
    }
   ],
   "source": [
    "x=10\n",
    "def fun1():\n",
    "    x=30\n",
    "    print(x)\n",
    "fun1()\n",
    "\n",
    "# no error"
   ]
  },
  {
   "cell_type": "code",
   "execution_count": 35,
   "id": "6ec5e06b-417b-47f2-86f0-72bcffa1bdbd",
   "metadata": {},
   "outputs": [
    {
     "ename": "UnboundLocalError",
     "evalue": "cannot access local variable 'x' where it is not associated with a value",
     "output_type": "error",
     "traceback": [
      "\u001b[1;31m---------------------------------------------------------------------------\u001b[0m",
      "\u001b[1;31mUnboundLocalError\u001b[0m                         Traceback (most recent call last)",
      "Cell \u001b[1;32mIn[35], line 6\u001b[0m\n\u001b[0;32m      4\u001b[0m     \u001b[38;5;28mprint\u001b[39m(x)\n\u001b[0;32m      5\u001b[0m     x\u001b[38;5;241m=\u001b[39m\u001b[38;5;241m30\u001b[39m\n\u001b[1;32m----> 6\u001b[0m fun1()\n",
      "Cell \u001b[1;32mIn[35], line 4\u001b[0m, in \u001b[0;36mfun1\u001b[1;34m()\u001b[0m\n\u001b[0;32m      2\u001b[0m \u001b[38;5;28;01mdef\u001b[39;00m \u001b[38;5;21mfun1\u001b[39m():\n\u001b[1;32m----> 4\u001b[0m     \u001b[38;5;28mprint\u001b[39m(x)\n\u001b[0;32m      5\u001b[0m     x\u001b[38;5;241m=\u001b[39m\u001b[38;5;241m30\u001b[39m\n",
      "\u001b[1;31mUnboundLocalError\u001b[0m: cannot access local variable 'x' where it is not associated with a value"
     ]
    }
   ],
   "source": [
    "x=10\n",
    "def fun1():\n",
    "    \n",
    "    print(x)\n",
    "    x=30\n",
    "fun1()\n",
    "# error will come"
   ]
  },
  {
   "cell_type": "markdown",
   "id": "090fa228-243a-4ce4-b983-1253c6e89eb4",
   "metadata": {},
   "source": [
    "**CASE-4**"
   ]
  },
  {
   "cell_type": "code",
   "execution_count": 36,
   "id": "3f385ceb-1dec-4dea-9f17-0a04e138489e",
   "metadata": {},
   "outputs": [
    {
     "ename": "UnboundLocalError",
     "evalue": "cannot access local variable 's' where it is not associated with a value",
     "output_type": "error",
     "traceback": [
      "\u001b[1;31m---------------------------------------------------------------------------\u001b[0m",
      "\u001b[1;31mUnboundLocalError\u001b[0m                         Traceback (most recent call last)",
      "Cell \u001b[1;32mIn[36], line 5\u001b[0m\n\u001b[0;32m      3\u001b[0m     s\u001b[38;5;241m=\u001b[39ms\u001b[38;5;241m+\u001b[39m\u001b[38;5;241m10\u001b[39m\n\u001b[0;32m      4\u001b[0m     \u001b[38;5;28mprint\u001b[39m(s)\n\u001b[1;32m----> 5\u001b[0m fun2()\n",
      "Cell \u001b[1;32mIn[36], line 3\u001b[0m, in \u001b[0;36mfun2\u001b[1;34m()\u001b[0m\n\u001b[0;32m      2\u001b[0m \u001b[38;5;28;01mdef\u001b[39;00m \u001b[38;5;21mfun2\u001b[39m():\n\u001b[1;32m----> 3\u001b[0m     s\u001b[38;5;241m=\u001b[39ms\u001b[38;5;241m+\u001b[39m\u001b[38;5;241m10\u001b[39m\n\u001b[0;32m      4\u001b[0m     \u001b[38;5;28mprint\u001b[39m(s)\n",
      "\u001b[1;31mUnboundLocalError\u001b[0m: cannot access local variable 's' where it is not associated with a value"
     ]
    }
   ],
   "source": [
    "s=0\n",
    "def fun2():\n",
    "    s=s+10\n",
    "    print(s)\n",
    "fun2()\n",
    "\n",
    "# Error"
   ]
  },
  {
   "cell_type": "code",
   "execution_count": 37,
   "id": "d47902dd-0773-4eda-876a-3cea9449261d",
   "metadata": {},
   "outputs": [
    {
     "name": "stdout",
     "output_type": "stream",
     "text": [
      "10\n"
     ]
    }
   ],
   "source": [
    "s=0\n",
    "def fun2():\n",
    "    global s\n",
    "    s=s+10\n",
    "    print(s)\n",
    "fun2()"
   ]
  },
  {
   "cell_type": "code",
   "execution_count": 38,
   "id": "19dcd645-41ff-4a4d-9fe9-9be336d4b0b6",
   "metadata": {},
   "outputs": [
    {
     "name": "stdout",
     "output_type": "stream",
     "text": [
      "20\n"
     ]
    }
   ],
   "source": [
    "x2=20\n",
    "def add2():\n",
    "    print(x2)\n",
    "add2()"
   ]
  },
  {
   "cell_type": "markdown",
   "id": "71d5b7df-5762-4c1e-a690-8182080365e0",
   "metadata": {},
   "source": [
    "**All errors convert as a answers** "
   ]
  },
  {
   "cell_type": "code",
   "execution_count": 39,
   "id": "01288894-eb1c-4c74-823e-191a0905dea5",
   "metadata": {},
   "outputs": [
    {
     "name": "stdout",
     "output_type": "stream",
     "text": [
      "10\n"
     ]
    }
   ],
   "source": [
    "s=0\n",
    "def fun2():\n",
    "    global s\n",
    "    s=s+10\n",
    "    print(s)\n",
    "fun2()\n"
   ]
  },
  {
   "cell_type": "code",
   "execution_count": 40,
   "id": "0933cbd1-56bd-499e-8ee9-f567db1704e3",
   "metadata": {},
   "outputs": [
    {
     "name": "stdout",
     "output_type": "stream",
     "text": [
      "10\n"
     ]
    }
   ],
   "source": [
    "x=10\n",
    "def fun1():\n",
    "    global x\n",
    "    print(x)\n",
    "    x=30\n",
    "fun1()"
   ]
  },
  {
   "cell_type": "code",
   "execution_count": 41,
   "id": "68aa5127-f43d-4a43-ad39-15e20850b168",
   "metadata": {},
   "outputs": [
    {
     "name": "stdout",
     "output_type": "stream",
     "text": [
      "10\n"
     ]
    }
   ],
   "source": [
    "x=10\n",
    "def fun1():\n",
    "    x=10\n",
    "    \n",
    "    \n",
    "    print(x)\n",
    "    x=30\n",
    "fun1()"
   ]
  },
  {
   "cell_type": "code",
   "execution_count": 43,
   "id": "f84ce31c-5b82-44ad-b44f-a55c7b3fb438",
   "metadata": {},
   "outputs": [
    {
     "ename": "UnboundLocalError",
     "evalue": "cannot access local variable 'n2' where it is not associated with a value",
     "output_type": "error",
     "traceback": [
      "\u001b[1;31m---------------------------------------------------------------------------\u001b[0m",
      "\u001b[1;31mUnboundLocalError\u001b[0m                         Traceback (most recent call last)",
      "Cell \u001b[1;32mIn[43], line 9\u001b[0m\n\u001b[0;32m      7\u001b[0m     n3\u001b[38;5;241m=\u001b[39mn1\u001b[38;5;241m+\u001b[39mn2\n\u001b[0;32m      8\u001b[0m     \u001b[38;5;28mprint\u001b[39m(n1,n2,n3)\n\u001b[1;32m----> 9\u001b[0m fun3()\n",
      "Cell \u001b[1;32mIn[43], line 6\u001b[0m, in \u001b[0;36mfun3\u001b[1;34m()\u001b[0m\n\u001b[0;32m      4\u001b[0m \u001b[38;5;28;01mdef\u001b[39;00m \u001b[38;5;21mfun3\u001b[39m():\n\u001b[0;32m      5\u001b[0m     n1\u001b[38;5;241m=\u001b[39m\u001b[38;5;241m100\u001b[39m\n\u001b[1;32m----> 6\u001b[0m     n2\u001b[38;5;241m=\u001b[39mn1\u001b[38;5;241m+\u001b[39mn2\n\u001b[0;32m      7\u001b[0m     n3\u001b[38;5;241m=\u001b[39mn1\u001b[38;5;241m+\u001b[39mn2\n\u001b[0;32m      8\u001b[0m     \u001b[38;5;28mprint\u001b[39m(n1,n2,n3)\n",
      "\u001b[1;31mUnboundLocalError\u001b[0m: cannot access local variable 'n2' where it is not associated with a value"
     ]
    }
   ],
   "source": [
    "n1=10\n",
    "n2=20\n",
    "n3=30\n",
    "def fun3():\n",
    "    n1=100\n",
    "    n2=n1+n2  # n2 we are using without initializing in local variable\n",
    "    n3=n1+n2\n",
    "    print(n1,n2,n3)\n",
    "fun3()\n",
    "    "
   ]
  },
  {
   "cell_type": "code",
   "execution_count": 45,
   "id": "a9a81129-c4b4-44d7-b07d-5e7efd489ca5",
   "metadata": {},
   "outputs": [
    {
     "name": "stdout",
     "output_type": "stream",
     "text": [
      "100 120 220\n"
     ]
    }
   ],
   "source": [
    "n1=10\n",
    "n2=20\n",
    "n3=30\n",
    "def fun3():\n",
    "    global n2\n",
    "    n1=100\n",
    "    n2=n1+n2  # 100+20=120\n",
    "    n3=n1+n2  # 100+120=220\n",
    "    print(n1,n2,n3)\n",
    "fun3()"
   ]
  },
  {
   "cell_type": "code",
   "execution_count": 48,
   "id": "b4090e53-11dd-4462-89d6-593cb9b5f4e2",
   "metadata": {},
   "outputs": [
    {
     "name": "stdout",
     "output_type": "stream",
     "text": [
      "20\n",
      "120\n",
      "120\n",
      "340\n"
     ]
    }
   ],
   "source": [
    "n1=10\n",
    "n2=20\n",
    "n3=30\n",
    "def fun3():\n",
    "    global n2\n",
    "    n1=100\n",
    "    print(n2) # 20\n",
    "    n3=n1+n2 \n",
    "    print(n3) # 100+20=120\n",
    "    \n",
    "    n4=n1+n2\n",
    "    print(n4) # 100+20=120\n",
    "    print(n1+n3+n4) # 100+120+120=340\n",
    "fun3()\n",
    "\n",
    "# n1 is global and local\n",
    "# n2 is only global\n",
    "# n3 is"
   ]
  },
  {
   "cell_type": "code",
   "execution_count": 49,
   "id": "945a00bb-24a4-4324-bf94-5d4cc7d67cf9",
   "metadata": {},
   "outputs": [
    {
     "ename": "UnboundLocalError",
     "evalue": "cannot access local variable 'n2' where it is not associated with a value",
     "output_type": "error",
     "traceback": [
      "\u001b[1;31m---------------------------------------------------------------------------\u001b[0m",
      "\u001b[1;31mUnboundLocalError\u001b[0m                         Traceback (most recent call last)",
      "Cell \u001b[1;32mIn[49], line 7\u001b[0m\n\u001b[0;32m      5\u001b[0m     n1\u001b[38;5;241m=\u001b[39mn2  \u001b[38;5;66;03m# 20  n1=20\u001b[39;00m\n\u001b[0;32m      6\u001b[0m     n2\u001b[38;5;241m=\u001b[39mn2\u001b[38;5;241m+\u001b[39mn3  \u001b[38;5;66;03m# \u001b[39;00m\n\u001b[1;32m----> 7\u001b[0m fun4()\n",
      "Cell \u001b[1;32mIn[49], line 5\u001b[0m, in \u001b[0;36mfun4\u001b[1;34m()\u001b[0m\n\u001b[0;32m      4\u001b[0m \u001b[38;5;28;01mdef\u001b[39;00m \u001b[38;5;21mfun4\u001b[39m():\n\u001b[1;32m----> 5\u001b[0m     n1\u001b[38;5;241m=\u001b[39mn2  \u001b[38;5;66;03m# 20  n1=20\u001b[39;00m\n\u001b[0;32m      6\u001b[0m     n2\u001b[38;5;241m=\u001b[39mn2\u001b[38;5;241m+\u001b[39mn3\n",
      "\u001b[1;31mUnboundLocalError\u001b[0m: cannot access local variable 'n2' where it is not associated with a value"
     ]
    }
   ],
   "source": [
    "n1=10\n",
    "n2=20\n",
    "n3=30\n",
    "def fun4():\n",
    "    n1=n2  # 20  n1=20\n",
    "    n2=n2+n3  # \n",
    "fun4()"
   ]
  },
  {
   "cell_type": "code",
   "execution_count": 4,
   "id": "24603064-7b0a-4410-bd0c-d9ed428eb0d0",
   "metadata": {},
   "outputs": [
    {
     "ename": "UnboundLocalError",
     "evalue": "cannot access local variable 'b' where it is not associated with a value",
     "output_type": "error",
     "traceback": [
      "\u001b[1;31m---------------------------------------------------------------------------\u001b[0m",
      "\u001b[1;31mUnboundLocalError\u001b[0m                         Traceback (most recent call last)",
      "Cell \u001b[1;32mIn[4], line 9\u001b[0m\n\u001b[0;32m      7\u001b[0m     \u001b[38;5;66;03m# c=c\u001b[39;00m\n\u001b[0;32m      8\u001b[0m     \u001b[38;5;28mprint\u001b[39m(a,b,c)\n\u001b[1;32m----> 9\u001b[0m fun5()\n",
      "Cell \u001b[1;32mIn[4], line 5\u001b[0m, in \u001b[0;36mfun5\u001b[1;34m()\u001b[0m\n\u001b[0;32m      4\u001b[0m \u001b[38;5;28;01mdef\u001b[39;00m \u001b[38;5;21mfun5\u001b[39m():\n\u001b[1;32m----> 5\u001b[0m     a\u001b[38;5;241m=\u001b[39mc\u001b[38;5;241m+\u001b[39mb\n\u001b[0;32m      6\u001b[0m     b\u001b[38;5;241m=\u001b[39mc\u001b[38;5;241m+\u001b[39ma\n\u001b[0;32m      7\u001b[0m     \u001b[38;5;66;03m# c=c\u001b[39;00m\n",
      "\u001b[1;31mUnboundLocalError\u001b[0m: cannot access local variable 'b' where it is not associated with a value"
     ]
    }
   ],
   "source": [
    "a=10\n",
    "b=20\n",
    "c=30\n",
    "def fun5():\n",
    "    a=c+b\n",
    "    b=c+a\n",
    "    c=c\n",
    "    print(a,b,c)\n",
    "fun5()"
   ]
  },
  {
   "cell_type": "code",
   "execution_count": 55,
   "id": "3e13311b-4b62-4aee-959b-91d9ddea9f9e",
   "metadata": {},
   "outputs": [
    {
     "ename": "UnboundLocalError",
     "evalue": "cannot access local variable 'c' where it is not associated with a value",
     "output_type": "error",
     "traceback": [
      "\u001b[1;31m---------------------------------------------------------------------------\u001b[0m",
      "\u001b[1;31mUnboundLocalError\u001b[0m                         Traceback (most recent call last)",
      "Cell \u001b[1;32mIn[55], line 5\u001b[0m\n\u001b[0;32m      3\u001b[0m     c\u001b[38;5;241m=\u001b[39mc\u001b[38;5;241m+\u001b[39m\u001b[38;5;241m1\u001b[39m\n\u001b[0;32m      4\u001b[0m     \u001b[38;5;28mprint\u001b[39m(c)\n\u001b[1;32m----> 5\u001b[0m fun6()\n",
      "Cell \u001b[1;32mIn[55], line 3\u001b[0m, in \u001b[0;36mfun6\u001b[1;34m()\u001b[0m\n\u001b[0;32m      2\u001b[0m \u001b[38;5;28;01mdef\u001b[39;00m \u001b[38;5;21mfun6\u001b[39m():\n\u001b[1;32m----> 3\u001b[0m     c\u001b[38;5;241m=\u001b[39mc\u001b[38;5;241m+\u001b[39m\u001b[38;5;241m1\u001b[39m\n\u001b[0;32m      4\u001b[0m     \u001b[38;5;28mprint\u001b[39m(c)\n",
      "\u001b[1;31mUnboundLocalError\u001b[0m: cannot access local variable 'c' where it is not associated with a value"
     ]
    }
   ],
   "source": [
    "c=0\n",
    "def fun6():\n",
    "    c=c+1\n",
    "    print(c)\n",
    "fun6()"
   ]
  },
  {
   "cell_type": "code",
   "execution_count": 6,
   "id": "f57fc884-0350-4163-9167-f9a1d9aa291c",
   "metadata": {},
   "outputs": [
    {
     "name": "stdout",
     "output_type": "stream",
     "text": [
      "0\n"
     ]
    }
   ],
   "source": [
    "c=0\n",
    "def fun6():\n",
    "    a=c+1\n",
    "    print(c)\n",
    "fun6()"
   ]
  },
  {
   "cell_type": "markdown",
   "id": "8afd34f3-7696-4f58-a0ff-ee5035d7f022",
   "metadata": {},
   "source": [
    "**Return Statements**\n",
    "\n",
    "  - As of now we are defining functions\n",
    "- we are calling the functions \n",
    "- if any operations we are performing inside function\n",
    "- we are able to use that values using **global** keyword\n",
    "- we also can use that values using return statement"
   ]
  },
  {
   "cell_type": "code",
   "execution_count": 58,
   "id": "841f6b58-6104-47e1-a74e-3d1c89d3b3c2",
   "metadata": {},
   "outputs": [
    {
     "name": "stdout",
     "output_type": "stream",
     "text": [
      "20.0\n"
     ]
    }
   ],
   "source": [
    "def average(a,b,c):\n",
    "    avg=(a+b+c)/3\n",
    "    print(avg)\n",
    "average(10,20,30)"
   ]
  },
  {
   "cell_type": "code",
   "execution_count": 59,
   "id": "157da90f-7476-4bf4-a0ed-bab2361c9dca",
   "metadata": {},
   "outputs": [
    {
     "ename": "NameError",
     "evalue": "name 'avg' is not defined",
     "output_type": "error",
     "traceback": [
      "\u001b[1;31m---------------------------------------------------------------------------\u001b[0m",
      "\u001b[1;31mNameError\u001b[0m                                 Traceback (most recent call last)",
      "Cell \u001b[1;32mIn[59], line 1\u001b[0m\n\u001b[1;32m----> 1\u001b[0m avg\n",
      "\u001b[1;31mNameError\u001b[0m: name 'avg' is not defined"
     ]
    }
   ],
   "source": [
    "avg\n",
    "\n",
    "# because local variable cannot use the outside the function"
   ]
  },
  {
   "cell_type": "code",
   "execution_count": 61,
   "id": "90984de6-2028-4ab0-b9e6-2f6886f740d1",
   "metadata": {},
   "outputs": [],
   "source": [
    "def average(a,b,c):\n",
    "    avg=(a+b+c)/3\n",
    "    return(avg)\n",
    "\n",
    "# The above function performing the avg calculation and it is returnig\n",
    "# that return value we are storing in a variable\n",
    "# called avg\n",
    "\n",
    "# generally we will keep the variable same as\n",
    "# return variable only\n",
    "\n",
    "\n",
    "avg=average(10,20,30)\n"
   ]
  },
  {
   "cell_type": "code",
   "execution_count": 62,
   "id": "2d57b247-c1bf-49af-abeb-349e2c6fb2ab",
   "metadata": {},
   "outputs": [
    {
     "name": "stdout",
     "output_type": "stream",
     "text": [
      "20.0\n"
     ]
    }
   ],
   "source": [
    "print(avg)"
   ]
  },
  {
   "cell_type": "code",
   "execution_count": 63,
   "id": "4c47115b-b513-4b34-adf4-9414638761a8",
   "metadata": {},
   "outputs": [
    {
     "data": {
      "text/plain": [
       "20.0"
      ]
     },
     "execution_count": 63,
     "metadata": {},
     "output_type": "execute_result"
    }
   ],
   "source": [
    "avg"
   ]
  },
  {
   "cell_type": "code",
   "execution_count": 64,
   "id": "abb1cfdc-ccbd-42b7-9903-6555b60dc711",
   "metadata": {},
   "outputs": [
    {
     "data": {
      "text/plain": [
       "(30.0, 90)"
      ]
     },
     "execution_count": 64,
     "metadata": {},
     "output_type": "execute_result"
    }
   ],
   "source": [
    "def fun7(a,b,c):\n",
    "    avg=(a+b+c)/3\n",
    "    summ=a+b+c\n",
    "    return(avg,summ)\n",
    "fun7(20,30,40)"
   ]
  },
  {
   "cell_type": "code",
   "execution_count": null,
   "id": "a82c5717-15be-4750-b3df-54e90e20742f",
   "metadata": {},
   "outputs": [],
   "source": [
    "a=10\n",
    "b=20\n",
    "a=10,20\n",
    "a,b=10,20\n",
    "a,b=10\n"
   ]
  },
  {
   "cell_type": "code",
   "execution_count": 65,
   "id": "92aa5897-f5f8-470b-bf88-ca3375aa1dc0",
   "metadata": {},
   "outputs": [
    {
     "data": {
      "text/plain": [
       "(10, 20)"
      ]
     },
     "execution_count": 65,
     "metadata": {},
     "output_type": "execute_result"
    }
   ],
   "source": [
    "a=10,20\n",
    "a"
   ]
  },
  {
   "cell_type": "code",
   "execution_count": 66,
   "id": "612a2d1b-37e1-4904-8406-fb42592212b2",
   "metadata": {},
   "outputs": [
    {
     "data": {
      "text/plain": [
       "(10, 20)"
      ]
     },
     "execution_count": 66,
     "metadata": {},
     "output_type": "execute_result"
    }
   ],
   "source": [
    "a,b=10,20\n",
    "a,b"
   ]
  },
  {
   "cell_type": "code",
   "execution_count": 67,
   "id": "7083a500-3450-42c5-8c0c-1728e6f70c61",
   "metadata": {},
   "outputs": [
    {
     "ename": "TypeError",
     "evalue": "cannot unpack non-iterable int object",
     "output_type": "error",
     "traceback": [
      "\u001b[1;31m---------------------------------------------------------------------------\u001b[0m",
      "\u001b[1;31mTypeError\u001b[0m                                 Traceback (most recent call last)",
      "Cell \u001b[1;32mIn[67], line 1\u001b[0m\n\u001b[1;32m----> 1\u001b[0m a,b\u001b[38;5;241m=\u001b[39m\u001b[38;5;241m10\u001b[39m\n\u001b[0;32m      2\u001b[0m a,b\n",
      "\u001b[1;31mTypeError\u001b[0m: cannot unpack non-iterable int object"
     ]
    }
   ],
   "source": [
    "a,b=10\n",
    "a,b"
   ]
  },
  {
   "cell_type": "code",
   "execution_count": 8,
   "id": "1e14e571-e500-44fc-8cba-e18425d87af8",
   "metadata": {},
   "outputs": [
    {
     "name": "stdout",
     "output_type": "stream",
     "text": [
      "90\n"
     ]
    }
   ],
   "source": [
    "def fun7(a,b,c):\n",
    "    avg=(a+b+c)/3\n",
    "    summ=a+b+c\n",
    "    return(avg,summ)\n",
    "value1,value2=fun7(20,30,40)\n",
    "print(value1)\n",
    "print(value2)"
   ]
  },
  {
   "cell_type": "code",
   "execution_count": null,
   "id": "87041772-c19e-4233-85d3-9b7c7da3908f",
   "metadata": {},
   "outputs": [],
   "source": []
  }
 ],
 "metadata": {
  "kernelspec": {
   "display_name": "Python 3 (ipykernel)",
   "language": "python",
   "name": "python3"
  },
  "language_info": {
   "codemirror_mode": {
    "name": "ipython",
    "version": 3
   },
   "file_extension": ".py",
   "mimetype": "text/x-python",
   "name": "python",
   "nbconvert_exporter": "python",
   "pygments_lexer": "ipython3",
   "version": "3.12.4"
  },
  "widgets": {
   "application/vnd.jupyter.widget-state+json": {
    "state": {},
    "version_major": 2,
    "version_minor": 0
   }
  }
 },
 "nbformat": 4,
 "nbformat_minor": 5
}
