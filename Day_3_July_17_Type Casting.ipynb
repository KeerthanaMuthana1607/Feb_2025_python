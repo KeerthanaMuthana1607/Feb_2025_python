{
 "cells": [
  {
   "cell_type": "code",
   "execution_count": null,
   "id": "f8cb0e5f-599e-4f9d-8b38-80a829ed7398",
   "metadata": {},
   "outputs": [],
   "source": [
    "- integer ==== int\n",
    "- float === float\n",
    "- bool === bool"
   ]
  },
  {
   "cell_type": "markdown",
   "id": "eb5ca85d-3544-41da-a31b-5aa9da60d68d",
   "metadata": {},
   "source": [
    "**Integer to other datatypes**"
   ]
  },
  {
   "cell_type": "code",
   "execution_count": 12,
   "id": "0c9ab3a1-99f0-4312-b2fd-14c6012b6186",
   "metadata": {},
   "outputs": [
    {
     "data": {
      "text/plain": [
       "int"
      ]
     },
     "execution_count": 12,
     "metadata": {},
     "output_type": "execute_result"
    }
   ],
   "source": [
    "num1=100\n",
    "type(num1)"
   ]
  },
  {
   "cell_type": "code",
   "execution_count": 10,
   "id": "42dc35ee-5df7-4226-b2dd-46342706fd72",
   "metadata": {},
   "outputs": [
    {
     "data": {
      "text/plain": [
       "100.0"
      ]
     },
     "execution_count": 10,
     "metadata": {},
     "output_type": "execute_result"
    }
   ],
   "source": [
    "num_float=float(num1)\n",
    "num_float\n"
   ]
  },
  {
   "cell_type": "code",
   "execution_count": 11,
   "id": "93ac1683-79f7-47bc-b8cf-8b8137876491",
   "metadata": {},
   "outputs": [
    {
     "data": {
      "text/plain": [
       "float"
      ]
     },
     "execution_count": 11,
     "metadata": {},
     "output_type": "execute_result"
    }
   ],
   "source": [
    "type(num_float)"
   ]
  },
  {
   "cell_type": "markdown",
   "id": "79da2673-c60d-477a-bbec-6e87a3c66771",
   "metadata": {},
   "source": [
    "- num1 is a variable stored value:100\n",
    "\n",
    "- num1 is a integer type\n",
    "\n",
    "- to convert float , float(num1)\n",
    "\n",
    "-  float(num1) gives 100.0\n",
    "\n",
    "-  float(num1) stored in a variable : num_float\n",
    "\n",
    "- num_float is float type\n",
    "\n"
   ]
  },
  {
   "cell_type": "code",
   "execution_count": 13,
   "id": "8e5eaf29-ee0b-440b-9e1e-a13a3c152e0f",
   "metadata": {},
   "outputs": [
    {
     "ename": "NameError",
     "evalue": "name 'python' is not defined",
     "output_type": "error",
     "traceback": [
      "\u001b[1;31m---------------------------------------------------------------------------\u001b[0m",
      "\u001b[1;31mNameError\u001b[0m                                 Traceback (most recent call last)",
      "Cell \u001b[1;32mIn[13], line 1\u001b[0m\n\u001b[1;32m----> 1\u001b[0m python\n",
      "\u001b[1;31mNameError\u001b[0m: name 'python' is not defined"
     ]
    }
   ],
   "source": [
    "python"
   ]
  },
  {
   "cell_type": "code",
   "execution_count": 1,
   "id": "d44c54d8-1fc8-4945-b3f3-27ecf0582dba",
   "metadata": {},
   "outputs": [
    {
     "data": {
      "text/plain": [
       "10"
      ]
     },
     "execution_count": 1,
     "metadata": {},
     "output_type": "execute_result"
    }
   ],
   "source": [
    "python=10\n",
    "python"
   ]
  },
  {
   "cell_type": "code",
   "execution_count": 15,
   "id": "57b53fe0-e347-44b7-aabf-c8ebfc7af0cd",
   "metadata": {},
   "outputs": [
    {
     "ename": "NameError",
     "evalue": "name 'naresh' is not defined",
     "output_type": "error",
     "traceback": [
      "\u001b[1;31m---------------------------------------------------------------------------\u001b[0m",
      "\u001b[1;31mNameError\u001b[0m                                 Traceback (most recent call last)",
      "Cell \u001b[1;32mIn[15], line 1\u001b[0m\n\u001b[1;32m----> 1\u001b[0m naresh\n",
      "\u001b[1;31mNameError\u001b[0m: name 'naresh' is not defined"
     ]
    }
   ],
   "source": [
    "naresh"
   ]
  },
  {
   "cell_type": "markdown",
   "id": "da45009b-3439-4ebe-8a4e-4bbaed47d9a6",
   "metadata": {},
   "source": [
    "**Name error occurs**\n",
    "\n",
    "- whenever if we see name error means that corresponding variable not initialized\n",
    "- For example in above naresh is a varible\n",
    "- Is not defined before ,thats why we are getting error\n",
    "- So go above the lines and search for variable : naresh\n",
    "- if you fell that is already defined then run again"
   ]
  },
  {
   "cell_type": "code",
   "execution_count": 20,
   "id": "fcafb1b0-a428-4eef-9d49-37c54c4fce4e",
   "metadata": {},
   "outputs": [
    {
     "data": {
      "text/plain": [
       "'100'"
      ]
     },
     "execution_count": 20,
     "metadata": {},
     "output_type": "execute_result"
    }
   ],
   "source": [
    "# integer to string conversion\n",
    "num=100\n",
    "num_string=str(num)\n",
    "num_string\n"
   ]
  },
  {
   "cell_type": "code",
   "execution_count": 18,
   "id": "b1809996-623d-45de-9e7f-1f7001b3bce5",
   "metadata": {},
   "outputs": [
    {
     "data": {
      "text/plain": [
       "str"
      ]
     },
     "execution_count": 18,
     "metadata": {},
     "output_type": "execute_result"
    }
   ],
   "source": [
    "type(num_string)"
   ]
  },
  {
   "cell_type": "code",
   "execution_count": 21,
   "id": "b81fa4d7-a2a4-4bec-b908-f52ba3451d9e",
   "metadata": {},
   "outputs": [
    {
     "data": {
      "text/plain": [
       "True"
      ]
     },
     "execution_count": 21,
     "metadata": {},
     "output_type": "execute_result"
    }
   ],
   "source": [
    "# integer to bool conversion\n",
    "num=100\n",
    "num_bool=bool(num)\n",
    "num_bool\n"
   ]
  },
  {
   "cell_type": "code",
   "execution_count": 22,
   "id": "60c6bcfd-9c99-4b7c-ab9a-c0a73b30eca0",
   "metadata": {},
   "outputs": [
    {
     "data": {
      "text/plain": [
       "bool"
      ]
     },
     "execution_count": 22,
     "metadata": {},
     "output_type": "execute_result"
    }
   ],
   "source": [
    "type(num_bool)"
   ]
  },
  {
   "cell_type": "code",
   "execution_count": 23,
   "id": "05e90b75-7637-49cf-b29b-45324f819c6d",
   "metadata": {},
   "outputs": [
    {
     "data": {
      "text/plain": [
       "True"
      ]
     },
     "execution_count": 23,
     "metadata": {},
     "output_type": "execute_result"
    }
   ],
   "source": [
    "num2=-100\n",
    "bool(num2)"
   ]
  },
  {
   "cell_type": "code",
   "execution_count": 24,
   "id": "6ded3a52-0a0a-4350-b2a5-f234442092b9",
   "metadata": {},
   "outputs": [
    {
     "data": {
      "text/plain": [
       "False"
      ]
     },
     "execution_count": 24,
     "metadata": {},
     "output_type": "execute_result"
    }
   ],
   "source": [
    "num2=0\n",
    "bool(num2)\n"
   ]
  },
  {
   "cell_type": "markdown",
   "id": "4c37c261-5776-46f9-9aea-067b0c21c257",
   "metadata": {},
   "source": [
    "**Note**\n",
    "- when boolean conversion of integer gives False\n",
    "    - For 0 value,it gives False\n",
    "    - For 1 value,it gives True\n",
    "\n"
   ]
  },
  {
   "cell_type": "code",
   "execution_count": 27,
   "id": "f69da3b5-d2f2-4fb8-87f1-81b154a3ad7a",
   "metadata": {},
   "outputs": [
    {
     "data": {
      "text/plain": [
       "(100.0, '100', True)"
      ]
     },
     "execution_count": 27,
     "metadata": {},
     "output_type": "execute_result"
    }
   ],
   "source": [
    "num1=100\n",
    "num_float=float(num1)\n",
    "num_str=str(num1)\n",
    "num_bool=bool(num1)\n",
    "num_float,num_str,num_bool\n"
   ]
  },
  {
   "cell_type": "code",
   "execution_count": 34,
   "id": "74037289-796b-4663-9471-fd3d4231ed7d",
   "metadata": {},
   "outputs": [
    {
     "data": {
      "text/plain": [
       "(100.0, '100', True)"
      ]
     },
     "execution_count": 34,
     "metadata": {},
     "output_type": "execute_result"
    }
   ],
   "source": [
    "# Directly we can write\n",
    "\n",
    "float(100),str(100),bool(100)"
   ]
  },
  {
   "cell_type": "markdown",
   "id": "9f0894cc-519d-4f01-ba4a-e477b5899560",
   "metadata": {},
   "source": [
    "**Float to other Data Types**\n"
   ]
  },
  {
   "cell_type": "code",
   "execution_count": 30,
   "id": "c473b493-de5d-441d-98ac-3eb4b50390dd",
   "metadata": {},
   "outputs": [
    {
     "data": {
      "text/plain": [
       "100"
      ]
     },
     "execution_count": 30,
     "metadata": {},
     "output_type": "execute_result"
    }
   ],
   "source": [
    "num1=100.0\n",
    "int(num1)"
   ]
  },
  {
   "cell_type": "code",
   "execution_count": 31,
   "id": "cad20b93-b849-4cb3-80a3-734e5d1660b4",
   "metadata": {},
   "outputs": [
    {
     "data": {
      "text/plain": [
       "'100.0'"
      ]
     },
     "execution_count": 31,
     "metadata": {},
     "output_type": "execute_result"
    }
   ],
   "source": [
    "str(num1)"
   ]
  },
  {
   "cell_type": "code",
   "execution_count": 32,
   "id": "5b297315-d62e-4a3a-b2a6-0af908d08bc2",
   "metadata": {},
   "outputs": [
    {
     "data": {
      "text/plain": [
       "True"
      ]
     },
     "execution_count": 32,
     "metadata": {},
     "output_type": "execute_result"
    }
   ],
   "source": [
    "bool(num1)"
   ]
  },
  {
   "cell_type": "code",
   "execution_count": 35,
   "id": "93616196-cd8d-4398-b55b-b056da73d320",
   "metadata": {},
   "outputs": [
    {
     "data": {
      "text/plain": [
       "(100, '100.5', True)"
      ]
     },
     "execution_count": 35,
     "metadata": {},
     "output_type": "execute_result"
    }
   ],
   "source": [
    "num1=100.5\n",
    "num_int=int(num1)\n",
    "num_str=str(num1)\n",
    "num_bool=bool(num1)\n",
    "num_int,num_str,num_bool\n"
   ]
  },
  {
   "cell_type": "code",
   "execution_count": 38,
   "id": "04a67b52-f290-4305-900c-c8abc81d8cac",
   "metadata": {},
   "outputs": [
    {
     "data": {
      "text/plain": [
       "(0, '0.0', False)"
      ]
     },
     "execution_count": 38,
     "metadata": {},
     "output_type": "execute_result"
    }
   ],
   "source": [
    "int(0.0),str(0.0),bool(0.0)\n"
   ]
  },
  {
   "cell_type": "code",
   "execution_count": 39,
   "id": "e202e1b9-9f97-4a8c-8cc9-07c30914232c",
   "metadata": {},
   "outputs": [
    {
     "ename": "ValueError",
     "evalue": "invalid literal for int() with base 10: 'apple'",
     "output_type": "error",
     "traceback": [
      "\u001b[1;31m---------------------------------------------------------------------------\u001b[0m",
      "\u001b[1;31mValueError\u001b[0m                                Traceback (most recent call last)",
      "Cell \u001b[1;32mIn[39], line 2\u001b[0m\n\u001b[0;32m      1\u001b[0m \u001b[38;5;28mstr\u001b[39m\u001b[38;5;241m=\u001b[39m\u001b[38;5;124m'\u001b[39m\u001b[38;5;124mapple\u001b[39m\u001b[38;5;124m'\u001b[39m\n\u001b[1;32m----> 2\u001b[0m \u001b[38;5;28mint\u001b[39m(\u001b[38;5;124m'\u001b[39m\u001b[38;5;124mapple\u001b[39m\u001b[38;5;124m'\u001b[39m)\n\u001b[0;32m      3\u001b[0m \u001b[38;5;28mfloat\u001b[39m(\u001b[38;5;124m'\u001b[39m\u001b[38;5;124mapple\u001b[39m\u001b[38;5;124m'\u001b[39m)\n\u001b[0;32m      4\u001b[0m \u001b[38;5;28mbool\u001b[39m(\u001b[38;5;124m'\u001b[39m\u001b[38;5;124mapple\u001b[39m\u001b[38;5;124m'\u001b[39m)\n",
      "\u001b[1;31mValueError\u001b[0m: invalid literal for int() with base 10: 'apple'"
     ]
    }
   ],
   "source": [
    "# Case-1\n",
    "str='apple'\n",
    "int('apple') # error\n",
    "float('apple') # error\n",
    "bool('apple') # true"
   ]
  },
  {
   "cell_type": "code",
   "execution_count": 40,
   "id": "29b95a90-2dd9-4175-b452-7d7e896cd5db",
   "metadata": {},
   "outputs": [
    {
     "ename": "ValueError",
     "evalue": "invalid literal for int() with base 10: 'apple'",
     "output_type": "error",
     "traceback": [
      "\u001b[1;31m---------------------------------------------------------------------------\u001b[0m",
      "\u001b[1;31mValueError\u001b[0m                                Traceback (most recent call last)",
      "Cell \u001b[1;32mIn[40], line 1\u001b[0m\n\u001b[1;32m----> 1\u001b[0m \u001b[38;5;28mint\u001b[39m(\u001b[38;5;124m'\u001b[39m\u001b[38;5;124mapple\u001b[39m\u001b[38;5;124m'\u001b[39m)\n",
      "\u001b[1;31mValueError\u001b[0m: invalid literal for int() with base 10: 'apple'"
     ]
    }
   ],
   "source": [
    "int('apple')\n"
   ]
  },
  {
   "cell_type": "code",
   "execution_count": 41,
   "id": "56bedf2f-76fa-4765-b834-b82d24e5ac01",
   "metadata": {},
   "outputs": [
    {
     "ename": "ValueError",
     "evalue": "could not convert string to float: 'apple'",
     "output_type": "error",
     "traceback": [
      "\u001b[1;31m---------------------------------------------------------------------------\u001b[0m",
      "\u001b[1;31mValueError\u001b[0m                                Traceback (most recent call last)",
      "Cell \u001b[1;32mIn[41], line 1\u001b[0m\n\u001b[1;32m----> 1\u001b[0m \u001b[38;5;28mfloat\u001b[39m(\u001b[38;5;124m'\u001b[39m\u001b[38;5;124mapple\u001b[39m\u001b[38;5;124m'\u001b[39m)\n",
      "\u001b[1;31mValueError\u001b[0m: could not convert string to float: 'apple'"
     ]
    }
   ],
   "source": [
    "float('apple')"
   ]
  },
  {
   "cell_type": "code",
   "execution_count": 42,
   "id": "0b746bf3-5157-4159-979c-11afb6f41d27",
   "metadata": {},
   "outputs": [
    {
     "data": {
      "text/plain": [
       "True"
      ]
     },
     "execution_count": 42,
     "metadata": {},
     "output_type": "execute_result"
    }
   ],
   "source": [
    "bool('apple')"
   ]
  },
  {
   "cell_type": "code",
   "execution_count": 43,
   "id": "f2a79b3a-4387-4d93-b009-f88bda32f02e",
   "metadata": {},
   "outputs": [
    {
     "ename": "ValueError",
     "evalue": "invalid literal for int() with base 10: 'apple123'",
     "output_type": "error",
     "traceback": [
      "\u001b[1;31m---------------------------------------------------------------------------\u001b[0m",
      "\u001b[1;31mValueError\u001b[0m                                Traceback (most recent call last)",
      "Cell \u001b[1;32mIn[43], line 3\u001b[0m\n\u001b[0;32m      1\u001b[0m \u001b[38;5;66;03m# Case-2:\u001b[39;00m\n\u001b[0;32m      2\u001b[0m \u001b[38;5;28mstr\u001b[39m\u001b[38;5;241m=\u001b[39m\u001b[38;5;124m'\u001b[39m\u001b[38;5;124mapple123\u001b[39m\u001b[38;5;124m'\u001b[39m\n\u001b[1;32m----> 3\u001b[0m \u001b[38;5;28mint\u001b[39m(\u001b[38;5;28mstr\u001b[39m)\n",
      "\u001b[1;31mValueError\u001b[0m: invalid literal for int() with base 10: 'apple123'"
     ]
    }
   ],
   "source": [
    "# Case-2:\n",
    "str='apple123'\n",
    "int(str)"
   ]
  },
  {
   "cell_type": "code",
   "execution_count": 44,
   "id": "bc3f41d3-4e4a-46f7-adcf-0447613f0f0e",
   "metadata": {},
   "outputs": [
    {
     "ename": "ValueError",
     "evalue": "could not convert string to float: 'apple123'",
     "output_type": "error",
     "traceback": [
      "\u001b[1;31m---------------------------------------------------------------------------\u001b[0m",
      "\u001b[1;31mValueError\u001b[0m                                Traceback (most recent call last)",
      "Cell \u001b[1;32mIn[44], line 1\u001b[0m\n\u001b[1;32m----> 1\u001b[0m \u001b[38;5;28mfloat\u001b[39m(\u001b[38;5;28mstr\u001b[39m)\n",
      "\u001b[1;31mValueError\u001b[0m: could not convert string to float: 'apple123'"
     ]
    }
   ],
   "source": [
    "float(str)"
   ]
  },
  {
   "cell_type": "code",
   "execution_count": 45,
   "id": "b9f7576d-39e4-4ad5-8f09-3c499ef0dba3",
   "metadata": {},
   "outputs": [
    {
     "data": {
      "text/plain": [
       "True"
      ]
     },
     "execution_count": 45,
     "metadata": {},
     "output_type": "execute_result"
    }
   ],
   "source": [
    "bool(str)"
   ]
  },
  {
   "cell_type": "code",
   "execution_count": 46,
   "id": "ebf143df-cc19-4124-88a1-294fc776c833",
   "metadata": {},
   "outputs": [
    {
     "data": {
      "text/plain": [
       "0"
      ]
     },
     "execution_count": 46,
     "metadata": {},
     "output_type": "execute_result"
    }
   ],
   "source": [
    "# Case-3:\n",
    "str='0'\n",
    "int('0')"
   ]
  },
  {
   "cell_type": "code",
   "execution_count": 47,
   "id": "32b70bd8-4c9b-44b7-8d64-6ea1ef0a34d2",
   "metadata": {},
   "outputs": [
    {
     "data": {
      "text/plain": [
       "0.0"
      ]
     },
     "execution_count": 47,
     "metadata": {},
     "output_type": "execute_result"
    }
   ],
   "source": [
    "float('0')"
   ]
  },
  {
   "cell_type": "code",
   "execution_count": 48,
   "id": "883b5ab7-234b-4c91-a5ee-232763a5783e",
   "metadata": {},
   "outputs": [
    {
     "data": {
      "text/plain": [
       "True"
      ]
     },
     "execution_count": 48,
     "metadata": {},
     "output_type": "execute_result"
    }
   ],
   "source": [
    "bool('0')"
   ]
  },
  {
   "cell_type": "code",
   "execution_count": 49,
   "id": "d65cf677-d31f-4a6a-838d-409a65f48311",
   "metadata": {},
   "outputs": [
    {
     "ename": "ValueError",
     "evalue": "invalid literal for int() with base 10: ''",
     "output_type": "error",
     "traceback": [
      "\u001b[1;31m---------------------------------------------------------------------------\u001b[0m",
      "\u001b[1;31mValueError\u001b[0m                                Traceback (most recent call last)",
      "Cell \u001b[1;32mIn[49], line 3\u001b[0m\n\u001b[0;32m      1\u001b[0m \u001b[38;5;66;03m# Case-4:\u001b[39;00m\n\u001b[0;32m      2\u001b[0m \u001b[38;5;28mstr\u001b[39m\u001b[38;5;241m=\u001b[39m\u001b[38;5;124m'\u001b[39m\u001b[38;5;124m'\u001b[39m\n\u001b[1;32m----> 3\u001b[0m \u001b[38;5;28mint\u001b[39m(\u001b[38;5;124m'\u001b[39m\u001b[38;5;124m'\u001b[39m)\n",
      "\u001b[1;31mValueError\u001b[0m: invalid literal for int() with base 10: ''"
     ]
    }
   ],
   "source": [
    "# Case-4:\n",
    "str=''\n",
    "int('')\n"
   ]
  },
  {
   "cell_type": "code",
   "execution_count": 50,
   "id": "22cf0452-50d1-499e-b086-c465cdaf4d5e",
   "metadata": {},
   "outputs": [
    {
     "ename": "ValueError",
     "evalue": "could not convert string to float: ''",
     "output_type": "error",
     "traceback": [
      "\u001b[1;31m---------------------------------------------------------------------------\u001b[0m",
      "\u001b[1;31mValueError\u001b[0m                                Traceback (most recent call last)",
      "Cell \u001b[1;32mIn[50], line 1\u001b[0m\n\u001b[1;32m----> 1\u001b[0m \u001b[38;5;28mfloat\u001b[39m(\u001b[38;5;124m'\u001b[39m\u001b[38;5;124m'\u001b[39m)\n",
      "\u001b[1;31mValueError\u001b[0m: could not convert string to float: ''"
     ]
    }
   ],
   "source": [
    "float('')"
   ]
  },
  {
   "cell_type": "code",
   "execution_count": 51,
   "id": "f9615168-74fe-4aca-836d-faac5b053e3a",
   "metadata": {},
   "outputs": [
    {
     "data": {
      "text/plain": [
       "False"
      ]
     },
     "execution_count": 51,
     "metadata": {},
     "output_type": "execute_result"
    }
   ],
   "source": [
    "bool()"
   ]
  },
  {
   "cell_type": "code",
   "execution_count": 52,
   "id": "7424f3f7-2d41-4dcd-8468-7bd6d589d328",
   "metadata": {},
   "outputs": [
    {
     "data": {
      "text/plain": [
       "10"
      ]
     },
     "execution_count": 52,
     "metadata": {},
     "output_type": "execute_result"
    }
   ],
   "source": [
    "# Case-5:\n",
    "str='10'\n",
    "int(str)"
   ]
  },
  {
   "cell_type": "code",
   "execution_count": 53,
   "id": "48b01dea-74cd-4b4a-952a-76e56deb7be9",
   "metadata": {},
   "outputs": [
    {
     "data": {
      "text/plain": [
       "10.0"
      ]
     },
     "execution_count": 53,
     "metadata": {},
     "output_type": "execute_result"
    }
   ],
   "source": [
    "float(str)"
   ]
  },
  {
   "cell_type": "code",
   "execution_count": 54,
   "id": "409f3851-0c85-41a4-91c0-f63676721065",
   "metadata": {},
   "outputs": [
    {
     "data": {
      "text/plain": [
       "True"
      ]
     },
     "execution_count": 54,
     "metadata": {},
     "output_type": "execute_result"
    }
   ],
   "source": [
    "bool(str)"
   ]
  },
  {
   "cell_type": "code",
   "execution_count": 56,
   "id": "1b6457a3-6b7f-4f0d-a5c1-3fec8ff4e415",
   "metadata": {},
   "outputs": [
    {
     "ename": "ValueError",
     "evalue": "invalid literal for int() with base 10: '10.5'",
     "output_type": "error",
     "traceback": [
      "\u001b[1;31m---------------------------------------------------------------------------\u001b[0m",
      "\u001b[1;31mValueError\u001b[0m                                Traceback (most recent call last)",
      "Cell \u001b[1;32mIn[56], line 2\u001b[0m\n\u001b[0;32m      1\u001b[0m \u001b[38;5;28mstr\u001b[39m\u001b[38;5;241m=\u001b[39m\u001b[38;5;124m'\u001b[39m\u001b[38;5;124m10.5\u001b[39m\u001b[38;5;124m'\u001b[39m\n\u001b[1;32m----> 2\u001b[0m \u001b[38;5;28mint\u001b[39m(\u001b[38;5;28mstr\u001b[39m)\n",
      "\u001b[1;31mValueError\u001b[0m: invalid literal for int() with base 10: '10.5'"
     ]
    }
   ],
   "source": [
    "str='10.5'\n",
    "int(str)"
   ]
  },
  {
   "cell_type": "code",
   "execution_count": 6,
   "id": "0a326cb1-fc10-466e-9287-da6f4efdf576",
   "metadata": {},
   "outputs": [
    {
     "data": {
      "text/plain": [
       "10.5"
      ]
     },
     "execution_count": 6,
     "metadata": {},
     "output_type": "execute_result"
    }
   ],
   "source": [
    "str='10.5'\n",
    "float(str)\n"
   ]
  },
  {
   "cell_type": "code",
   "execution_count": 7,
   "id": "6d45c96e-f94b-49e1-91dc-123b63d998b8",
   "metadata": {},
   "outputs": [
    {
     "data": {
      "text/plain": [
       "True"
      ]
     },
     "execution_count": 7,
     "metadata": {},
     "output_type": "execute_result"
    }
   ],
   "source": [
    "bool(str)"
   ]
  },
  {
   "cell_type": "code",
   "execution_count": 8,
   "id": "76cd4538-53b5-4158-be1d-b7d0d7eae7eb",
   "metadata": {},
   "outputs": [
    {
     "data": {
      "text/plain": [
       "10.0"
      ]
     },
     "execution_count": 8,
     "metadata": {},
     "output_type": "execute_result"
    }
   ],
   "source": [
    "float('10')"
   ]
  },
  {
   "cell_type": "code",
   "execution_count": 60,
   "id": "14715ce5-7fe6-4244-84c3-96143c4beabe",
   "metadata": {},
   "outputs": [
    {
     "data": {
      "text/plain": [
       "10"
      ]
     },
     "execution_count": 60,
     "metadata": {},
     "output_type": "execute_result"
    }
   ],
   "source": [
    "int('10')"
   ]
  },
  {
   "cell_type": "code",
   "execution_count": 61,
   "id": "1f73ce80-cb08-4cf8-9de6-ac0989e2a000",
   "metadata": {},
   "outputs": [
    {
     "ename": "ValueError",
     "evalue": "invalid literal for int() with base 10: '10.568'",
     "output_type": "error",
     "traceback": [
      "\u001b[1;31m---------------------------------------------------------------------------\u001b[0m",
      "\u001b[1;31mValueError\u001b[0m                                Traceback (most recent call last)",
      "Cell \u001b[1;32mIn[61], line 1\u001b[0m\n\u001b[1;32m----> 1\u001b[0m \u001b[38;5;28mint\u001b[39m(\u001b[38;5;124m'\u001b[39m\u001b[38;5;124m10.568\u001b[39m\u001b[38;5;124m'\u001b[39m)\n",
      "\u001b[1;31mValueError\u001b[0m: invalid literal for int() with base 10: '10.568'"
     ]
    }
   ],
   "source": [
    "int('10.568')"
   ]
  },
  {
   "cell_type": "code",
   "execution_count": 62,
   "id": "e43a1094-76bc-4ad5-9d54-507370fb4d60",
   "metadata": {},
   "outputs": [
    {
     "data": {
      "text/plain": [
       "10"
      ]
     },
     "execution_count": 62,
     "metadata": {},
     "output_type": "execute_result"
    }
   ],
   "source": [
    "int(float('10.568')) # inner brackets will print first = 10.568\n",
    "                     # int(10.568)=10"
   ]
  },
  {
   "cell_type": "markdown",
   "id": "0a5fa0c2-f737-4487-b04f-8b9425e81358",
   "metadata": {},
   "source": [
    "**Float is the boss**\n",
    "\n",
    "- Float('10')\n",
    "- float('10.5')\n",
    "\n",
    "**int will works only int family**\n",
    "- int('10')\n",
    "- int('10.5') # error\n",
    "\n",
    "- boolean conversion of empty string gives False\n",
    "\n",
    "- Otherwise True"
   ]
  },
  {
   "cell_type": "code",
   "execution_count": 63,
   "id": "2d61ac22-959f-4dbb-9161-423f5fab607e",
   "metadata": {},
   "outputs": [
    {
     "data": {
      "text/plain": [
       "(False, True)"
      ]
     },
     "execution_count": 63,
     "metadata": {},
     "output_type": "execute_result"
    }
   ],
   "source": [
    "bool(''),bool('  ')  # empty is also a one character"
   ]
  },
  {
   "cell_type": "code",
   "execution_count": 66,
   "id": "e595dbcd-c584-4f72-a74d-26bc0ab5ba62",
   "metadata": {},
   "outputs": [
    {
     "data": {
      "text/plain": [
       "True"
      ]
     },
     "execution_count": 66,
     "metadata": {},
     "output_type": "execute_result"
    }
   ],
   "source": [
    "bool('6.5')"
   ]
  },
  {
   "cell_type": "code",
   "execution_count": null,
   "id": "f7e572f1-a393-4db3-915a-170edba0c680",
   "metadata": {},
   "outputs": [],
   "source": [
    "int(True) # 1\n",
    "float(True) # 1.0\n",
    "str(True) # 'True'"
   ]
  },
  {
   "cell_type": "code",
   "execution_count": null,
   "id": "df09d59d-45bf-4a7a-b9bc-19a7e856f872",
   "metadata": {},
   "outputs": [],
   "source": [
    "int(False) # 0\n",
    "float(False) # 0.0\n",
    "str(False) # 'False'"
   ]
  },
  {
   "cell_type": "code",
   "execution_count": 70,
   "id": "a8672e86-83af-4c9c-8d2c-7dd698b06421",
   "metadata": {},
   "outputs": [
    {
     "data": {
      "text/plain": [
       "1.0"
      ]
     },
     "execution_count": 70,
     "metadata": {},
     "output_type": "execute_result"
    }
   ],
   "source": [
    "float(True)"
   ]
  },
  {
   "cell_type": "code",
   "execution_count": 71,
   "id": "b40bcdd0-4c84-4438-bad1-46d6944a6224",
   "metadata": {},
   "outputs": [
    {
     "data": {
      "text/plain": [
       "1"
      ]
     },
     "execution_count": 71,
     "metadata": {},
     "output_type": "execute_result"
    }
   ],
   "source": [
    "int(True)"
   ]
  },
  {
   "cell_type": "code",
   "execution_count": 1,
   "id": "0d543911-e4ae-477c-bf2f-5dde682ae76c",
   "metadata": {},
   "outputs": [
    {
     "data": {
      "text/plain": [
       "'True'"
      ]
     },
     "execution_count": 1,
     "metadata": {},
     "output_type": "execute_result"
    }
   ],
   "source": [
    "str(True)"
   ]
  },
  {
   "cell_type": "code",
   "execution_count": 72,
   "id": "e4325aed-c31e-4558-8ba9-16b207cb2954",
   "metadata": {},
   "outputs": [
    {
     "data": {
      "text/plain": [
       "0"
      ]
     },
     "execution_count": 72,
     "metadata": {},
     "output_type": "execute_result"
    }
   ],
   "source": [
    "int(False)"
   ]
  },
  {
   "cell_type": "code",
   "execution_count": 73,
   "id": "3d9ee0d3-288a-4d8c-92c4-b5d5f386ece7",
   "metadata": {},
   "outputs": [
    {
     "data": {
      "text/plain": [
       "0.0"
      ]
     },
     "execution_count": 73,
     "metadata": {},
     "output_type": "execute_result"
    }
   ],
   "source": [
    "float(False)"
   ]
  },
  {
   "cell_type": "code",
   "execution_count": 2,
   "id": "647d95a1-c92a-47e8-8e76-ec99925b1ead",
   "metadata": {},
   "outputs": [
    {
     "data": {
      "text/plain": [
       "'False'"
      ]
     },
     "execution_count": 2,
     "metadata": {},
     "output_type": "execute_result"
    }
   ],
   "source": [
    "str(False)"
   ]
  },
  {
   "cell_type": "markdown",
   "id": "2b6ccfec-d04d-422a-9f7b-f861ec89fb64",
   "metadata": {},
   "source": [
    "**suppose you are getting error restart the kernel**"
   ]
  },
  {
   "cell_type": "code",
   "execution_count": 1,
   "id": "08526c17-3bf9-4b03-bb19-9eae1212270b",
   "metadata": {},
   "outputs": [
    {
     "data": {
      "text/plain": [
       "'True'"
      ]
     },
     "execution_count": 1,
     "metadata": {},
     "output_type": "execute_result"
    }
   ],
   "source": [
    "\n",
    "str(True)"
   ]
  },
  {
   "cell_type": "code",
   "execution_count": 2,
   "id": "d8b21782-e624-4432-a2d4-75373c6dfedf",
   "metadata": {},
   "outputs": [
    {
     "data": {
      "text/plain": [
       "'False'"
      ]
     },
     "execution_count": 2,
     "metadata": {},
     "output_type": "execute_result"
    }
   ],
   "source": [
    "str(False)"
   ]
  },
  {
   "cell_type": "code",
   "execution_count": null,
   "id": "f10280b8-0580-4078-80a6-0a1ecdd66020",
   "metadata": {},
   "outputs": [],
   "source": []
  }
 ],
 "metadata": {
  "kernelspec": {
   "display_name": "Python 3 (ipykernel)",
   "language": "python",
   "name": "python3"
  },
  "language_info": {
   "codemirror_mode": {
    "name": "ipython",
    "version": 3
   },
   "file_extension": ".py",
   "mimetype": "text/x-python",
   "name": "python",
   "nbconvert_exporter": "python",
   "pygments_lexer": "ipython3",
   "version": "3.12.4"
  },
  "widgets": {
   "application/vnd.jupyter.widget-state+json": {
    "state": {},
    "version_major": 2,
    "version_minor": 0
   }
  }
 },
 "nbformat": 4,
 "nbformat_minor": 5
}
