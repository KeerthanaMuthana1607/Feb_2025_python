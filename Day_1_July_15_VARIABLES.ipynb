{
 "cells": [
  {
   "cell_type": "code",
   "execution_count": null,
   "id": "bba1508d-e485-4a2f-86ba-81280dca35f1",
   "metadata": {},
   "outputs": [],
   "source": [
    "a=10\n",
    "a    #to run this code press shift+enter at a time(OR)To click the run button"
   ]
  },
  {
   "cell_type": "code",
   "execution_count": null,
   "id": "3e2d4430-fa2b-4c57-bb76-1524b8f21d4d",
   "metadata": {},
   "outputs": [],
   "source": [
    "b=20\n",
    "b"
   ]
  },
  {
   "cell_type": "code",
   "execution_count": null,
   "id": "e4b50f7d-f334-4911-8cf9-0fa1ef7bcda4",
   "metadata": {},
   "outputs": [],
   "source": [
    "c=30\n",
    "c"
   ]
  },
  {
   "cell_type": "code",
   "execution_count": 1,
   "id": "7e0d7e4d-1859-45cc-8188-0eb2fc741228",
   "metadata": {},
   "outputs": [
    {
     "data": {
      "text/plain": [
       "40"
      ]
     },
     "execution_count": 1,
     "metadata": {},
     "output_type": "execute_result"
    }
   ],
   "source": [
    "d=40\n",
    "d"
   ]
  },
  {
   "cell_type": "code",
   "execution_count": 3,
   "id": "800af88f-2f02-4d09-b219-d28372c859ac",
   "metadata": {},
   "outputs": [
    {
     "name": "stdout",
     "output_type": "stream",
     "text": [
      "3\n"
     ]
    }
   ],
   "source": [
    "print(10//3)"
   ]
  },
  {
   "cell_type": "code",
   "execution_count": null,
   "id": "3c17a24e-8746-40a5-b2e3-55863305528f",
   "metadata": {},
   "outputs": [],
   "source": [
    "a+b+c+d"
   ]
  },
  {
   "cell_type": "code",
   "execution_count": 1,
   "id": "d4aa9c8d-75c4-4ff0-96e3-afb13ca06f95",
   "metadata": {},
   "outputs": [
    {
     "name": "stdout",
     "output_type": "stream",
     "text": [
      "0\n",
      "1\n",
      "2\n",
      "3\n",
      "4\n",
      "5\n",
      "6\n",
      "7\n",
      "8\n",
      "9\n"
     ]
    }
   ],
   "source": [
    "for i in range (10):\n",
    "    print(i)\n",
    "#if kernel is busy or die don't give extra work_restart the kernel"
   ]
  },
  {
   "cell_type": "code",
   "execution_count": 1,
   "id": "bb6d4b3a-4e2e-4ab1-afb5-8e3f1118021d",
   "metadata": {},
   "outputs": [
    {
     "data": {
      "text/plain": [
       "10"
      ]
     },
     "execution_count": 1,
     "metadata": {},
     "output_type": "execute_result"
    }
   ],
   "source": [
    "a=10\n",
    "a"
   ]
  },
  {
   "cell_type": "markdown",
   "id": "81e80186-6aae-4b24-88a9-43c9744a5800",
   "metadata": {},
   "source": [
    "# hello python\n",
    "\n",
    "- we are getting error because it is in code mode\n",
    "- code mode cells always have square brackets\n",
    "- if we want to write story we need to change code mode to  markdown mode\n",
    "- im successfully able to change markdown mode\n",
    "- code mode to markdown : esc+m\n",
    "- markdown to code:esc+y"
   ]
  },
  {
   "cell_type": "code",
   "execution_count": null,
   "id": "af69e63b-882e-4416-ae1f-ea0393b88c60",
   "metadata": {},
   "outputs": [],
   "source": [
    "# python"
   ]
  },
  {
   "cell_type": "code",
   "execution_count": null,
   "id": "b325598d-ba94-4cc4-a0a3-636df3ea3032",
   "metadata": {},
   "outputs": [],
   "source": [
    "## python"
   ]
  },
  {
   "cell_type": "code",
   "execution_count": null,
   "id": "0d62f950-e170-4bb8-9ea3-ed1cfc47cd90",
   "metadata": {},
   "outputs": [],
   "source": [
    "### python"
   ]
  },
  {
   "cell_type": "code",
   "execution_count": null,
   "id": "d99165c2-761a-4dfb-940a-58d70ff807a3",
   "metadata": {},
   "outputs": [],
   "source": [
    "#### python"
   ]
  },
  {
   "cell_type": "code",
   "execution_count": null,
   "id": "fc10e0b4-ea9e-41d3-a8cf-79983e17bfcc",
   "metadata": {},
   "outputs": [],
   "source": [
    "##### python"
   ]
  },
  {
   "cell_type": "code",
   "execution_count": null,
   "id": "d3d9f357-67a4-4df5-b9a4-d510a931b516",
   "metadata": {},
   "outputs": [],
   "source": [
    "###### pyhton"
   ]
  },
  {
   "cell_type": "markdown",
   "id": "94dbc6ca-e614-46a3-9c99-fd98b7bc1281",
   "metadata": {},
   "source": [
    "- ash symbol can use code mode as a comment\n",
    "\n",
    "- ash symbol can use in markdown mode as a header\n",
    "\n"
   ]
  },
  {
   "cell_type": "markdown",
   "id": "f30ccc81-9549-46a7-a2c1-7d552b97bf62",
   "metadata": {},
   "source": [
    "**how to insert the image**"
   ]
  },
  {
   "cell_type": "code",
   "execution_count": null,
   "id": "fce2125c-a29e-4b2e-be1d-a5e66c1489e0",
   "metadata": {},
   "outputs": [],
   "source": [
    "ctrl+a\n",
    "ctrl+c\n",
    "ctrl+v\n",
    "esc+m\n",
    "shift+enter"
   ]
  },
  {
   "cell_type": "markdown",
   "id": "60cafa89-4f21-4045-973f-8d69c62c7c15",
   "metadata": {},
   "source": [
    "<img src=\"https://th.bing.com/th/id/OIP.oaix4lX1mRoPxN1AfZ470AAAAA?rs=1&amp;pid=ImgDetMain\" alt=\"The Impact of Artificial Intelligence (AI) on Business | IT Chronicles\" class=\" nofocus\" tabindex=\"0\" aria-label=\"The Impact of Artificial Intelligence (AI) on Business | IT Chronicles\" role=\"button\" width=\"250\" height=\"200\">\n"
   ]
  },
  {
   "cell_type": "markdown",
   "id": "7f5bb27c-2278-4122-a1b3-3f53866ec9e2",
   "metadata": {},
   "source": [
    "<img src=\"https://itchronicles.com/wp-content/uploads/2020/11/where-is-ai-used.jpg\" width=400 height=400>\n",
    "#  convert code mode to markdown mode"
   ]
  },
  {
   "cell_type": "code",
   "execution_count": 2,
   "id": "737459b5-3c22-4463-9758-b889caf522da",
   "metadata": {},
   "outputs": [
    {
     "data": {
      "text/plain": [
       "'C:\\\\Users\\\\keert\\\\Documents\\\\Data Science\\\\Python'"
      ]
     },
     "execution_count": 2,
     "metadata": {},
     "output_type": "execute_result"
    }
   ],
   "source": [
    "import os \n",
    "os.getcwd()"
   ]
  },
  {
   "cell_type": "markdown",
   "id": "2d514972-675c-4d76-9f17-17ea84cef80c",
   "metadata": {},
   "source": [
    "**VARIABLES**\n",
    "\n",
    "- Variables are used to store the values\n",
    "- Variables can be change their values\n",
    "- varyyy:Varying"
   ]
  },
  {
   "cell_type": "code",
   "execution_count": 1,
   "id": "dac1518d-936f-47b2-9a05-009513845812",
   "metadata": {},
   "outputs": [
    {
     "data": {
      "text/plain": [
       "100"
      ]
     },
     "execution_count": 1,
     "metadata": {},
     "output_type": "execute_result"
    }
   ],
   "source": [
    "number=100\n",
    "number\n",
    "# 100 is storing in a variable called number"
   ]
  },
  {
   "cell_type": "code",
   "execution_count": 2,
   "id": "7e9eed15-3456-49ba-9f1c-c4660fcb435a",
   "metadata": {},
   "outputs": [
    {
     "data": {
      "text/plain": [
       "200"
      ]
     },
     "execution_count": 2,
     "metadata": {},
     "output_type": "execute_result"
    }
   ],
   "source": [
    "number=200\n",
    "number\n"
   ]
  },
  {
   "cell_type": "code",
   "execution_count": 3,
   "id": "0ebc61c1-5fbb-4088-b15d-085f6e873e34",
   "metadata": {},
   "outputs": [
    {
     "ename": "SyntaxError",
     "evalue": "invalid decimal literal (2583594693.py, line 1)",
     "output_type": "error",
     "traceback": [
      "\u001b[1;36m  Cell \u001b[1;32mIn[3], line 1\u001b[1;36m\u001b[0m\n\u001b[1;33m    123number123=500\u001b[0m\n\u001b[1;37m      ^\u001b[0m\n\u001b[1;31mSyntaxError\u001b[0m\u001b[1;31m:\u001b[0m invalid decimal literal\n"
     ]
    }
   ],
   "source": [
    "123number123=500\n",
    "123number\n",
    "\n",
    "# Variables does not have numbers as prefix\n",
    "# Variables should not start with numbers"
   ]
  },
  {
   "cell_type": "code",
   "execution_count": 4,
   "id": "3de25429-4aea-4024-ab8c-e41205f59ba7",
   "metadata": {},
   "outputs": [
    {
     "ename": "SyntaxError",
     "evalue": "cannot assign to expression here. Maybe you meant '==' instead of '='? (2320124088.py, line 1)",
     "output_type": "error",
     "traceback": [
      "\u001b[1;36m  Cell \u001b[1;32mIn[4], line 1\u001b[1;36m\u001b[0m\n\u001b[1;33m    Number*one=500\u001b[0m\n\u001b[1;37m    ^\u001b[0m\n\u001b[1;31mSyntaxError\u001b[0m\u001b[1;31m:\u001b[0m cannot assign to expression here. Maybe you meant '==' instead of '='?\n"
     ]
    }
   ],
   "source": [
    "Number*one=500\n",
    "Number*one\n",
    "\n",
    "# Variables does not have special characters"
   ]
  },
  {
   "cell_type": "code",
   "execution_count": 5,
   "id": "8c0eba9c-444f-4537-be0b-6cfdcd378fb7",
   "metadata": {},
   "outputs": [
    {
     "data": {
      "text/plain": [
       "600"
      ]
     },
     "execution_count": 5,
     "metadata": {},
     "output_type": "execute_result"
    }
   ],
   "source": [
    "number_one=600\n",
    "number_one\n",
    "\n",
    "# Variables can have underscores"
   ]
  },
  {
   "cell_type": "code",
   "execution_count": 6,
   "id": "ef64be15-06b2-4be2-8a59-e8d07d2bab0b",
   "metadata": {},
   "outputs": [
    {
     "name": "stdout",
     "output_type": "stream",
     "text": [
      "900\n"
     ]
    }
   ],
   "source": [
    "_=900\n",
    "\n",
    "# only underscore can represent as variables\n",
    "Apple=900\n",
    "print(Apple)"
   ]
  },
  {
   "cell_type": "markdown",
   "id": "61406c1e-e795-45fa-a74d-b58f127da61d",
   "metadata": {},
   "source": [
    "**RULES OF VARIABLES**\n",
    "\n",
    "- Variables are case sensitive\n",
    "\n",
    "- Variables can represent as capital letters\n",
    "\n",
    "- Variables can represent as Small Letters\n",
    "\n",
    "- Variables can have both combinations\n",
    "\n",
    "- Pyhton will consider latest value\n",
    "\n",
    "- Variables does not start with numbers\n",
    "\n",
    "- Variables can have numbers at last\n",
    "\n",
    "- Variables does not contain any special character ,except underscore\n",
    "\n",
    "- Varibles does not contain any space between the letters:- Ex:number one\n",
    "\n",
    "- Only underscore can use as variable\n",
    "\n",
    "- keywords or reserved words will not use as varibles:if,else\n"
   ]
  },
  {
   "cell_type": "code",
   "execution_count": 7,
   "id": "fd0f9803-280c-41df-92df-ddeb148f4949",
   "metadata": {},
   "outputs": [
    {
     "data": {
      "text/plain": [
       "900"
      ]
     },
     "execution_count": 7,
     "metadata": {},
     "output_type": "execute_result"
    }
   ],
   "source": [
    "number_123_two=900\n",
    "number_123_two"
   ]
  },
  {
   "cell_type": "code",
   "execution_count": null,
   "id": "18cb0c73-19fa-4dca-9774-5149c0525f4e",
   "metadata": {},
   "outputs": [],
   "source": []
  }
 ],
 "metadata": {
  "kernelspec": {
   "display_name": "Python 3 (ipykernel)",
   "language": "python",
   "name": "python3"
  },
  "language_info": {
   "codemirror_mode": {
    "name": "ipython",
    "version": 3
   },
   "file_extension": ".py",
   "mimetype": "text/x-python",
   "name": "python",
   "nbconvert_exporter": "python",
   "pygments_lexer": "ipython3",
   "version": "3.12.4"
  },
  "widgets": {
   "application/vnd.jupyter.widget-state+json": {
    "state": {},
    "version_major": 2,
    "version_minor": 0
   }
  }
 },
 "nbformat": 4,
 "nbformat_minor": 5
}
