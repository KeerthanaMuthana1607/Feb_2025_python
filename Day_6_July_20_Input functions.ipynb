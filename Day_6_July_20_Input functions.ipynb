{
 "cells": [
  {
   "cell_type": "code",
   "execution_count": 1,
   "id": "2c88b422-e572-4f3c-8f30-2fcddfec396f",
   "metadata": {},
   "outputs": [
    {
     "data": {
      "text/plain": [
       "'C:\\\\Users\\\\keert\\\\Documents\\\\Data Science\\\\Python'"
      ]
     },
     "execution_count": 1,
     "metadata": {},
     "output_type": "execute_result"
    }
   ],
   "source": [
    "import os\n",
    "os.getcwd()"
   ]
  },
  {
   "cell_type": "markdown",
   "id": "8a277b9d-d59d-4fa9-b30c-0bb3a95f5ae3",
   "metadata": {},
   "source": [
    "**name error**\n",
    "\n",
    "- variable not defined\n",
    "- variables is in black color\n",
    "- string is in red color\n",
    "- keywords are in green color\n",
    "  "
   ]
  },
  {
   "cell_type": "code",
   "execution_count": 3,
   "id": "486c4bfe-3bb4-4864-b631-eb53b7c906bc",
   "metadata": {},
   "outputs": [
    {
     "ename": "NameError",
     "evalue": "name 'q4' is not defined",
     "output_type": "error",
     "traceback": [
      "\u001b[1;31m---------------------------------------------------------------------------\u001b[0m",
      "\u001b[1;31mNameError\u001b[0m                                 Traceback (most recent call last)",
      "Cell \u001b[1;32mIn[3], line 1\u001b[0m\n\u001b[1;32m----> 1\u001b[0m q4\n\u001b[0;32m      2\u001b[0m a\u001b[38;5;241m=\u001b[39m\u001b[38;5;241m10\u001b[39m\n\u001b[0;32m      3\u001b[0m \u001b[38;5;28mprint\u001b[39m(a)\n",
      "\u001b[1;31mNameError\u001b[0m: name 'q4' is not defined"
     ]
    }
   ],
   "source": [
    "q4  # you are not assigning value so you get error \n",
    "a=10\n",
    "print(a) "
   ]
  },
  {
   "cell_type": "markdown",
   "id": "3322d422-f480-436f-a900-3c59aa654830",
   "metadata": {},
   "source": [
    "**Input**"
   ]
  },
  {
   "cell_type": "markdown",
   "id": "30e5f9cd-2bef-4aa5-8810-02e6e310157d",
   "metadata": {},
   "source": [
    "- We can take the values directly in python code\n",
    "    - ex: num = 10\n",
    "- We can take the values from user like from keyboard\n",
    "\n",
    "- Imagine there is application form we need to fill\n",
    "\n",
    "- In the application form name:square box will appear\n",
    "\n",
    "- You need to enter your name\n",
    "\n",
    "- This is acheived by a keyword **input**"
   ]
  },
  {
   "cell_type": "code",
   "execution_count": 4,
   "id": "15582c6f-1081-4b62-8707-be64c0e1316a",
   "metadata": {},
   "outputs": [
    {
     "name": "stdin",
     "output_type": "stream",
     "text": [
      " Keerthana\n"
     ]
    },
    {
     "data": {
      "text/plain": [
       "'Keerthana'"
      ]
     },
     "execution_count": 4,
     "metadata": {},
     "output_type": "execute_result"
    }
   ],
   "source": [
    "input()"
   ]
  },
  {
   "cell_type": "markdown",
   "id": "507bffa6-b337-4a3c-a0dc-fd17cbf9b8da",
   "metadata": {},
   "source": [
    "- When we type input()\n",
    "- A square box will appear\n",
    "- You need to observe 3 things\n",
    "    - Square box\n",
    "    - \"*\" mark inside square brackets that is before the code cell\n",
    "    - pyhton kernel is black color\n",
    "- mark and black color means kernel is busy\n",
    "- first fill the box with some value\n",
    "- then do enter"
   ]
  },
  {
   "cell_type": "code",
   "execution_count": 5,
   "id": "01e940cb-2e5f-48ca-bb3e-89d9558b3c85",
   "metadata": {},
   "outputs": [
    {
     "name": "stdin",
     "output_type": "stream",
     "text": [
      " keerthi\n"
     ]
    },
    {
     "data": {
      "text/plain": [
       "'keerthi'"
      ]
     },
     "execution_count": 5,
     "metadata": {},
     "output_type": "execute_result"
    }
   ],
   "source": [
    "input() "
   ]
  },
  {
   "cell_type": "code",
   "execution_count": 6,
   "id": "97979c5d-73ce-42d8-8bb8-61b1cf0812b0",
   "metadata": {},
   "outputs": [
    {
     "name": "stdin",
     "output_type": "stream",
     "text": [
      " 1000\n"
     ]
    },
    {
     "data": {
      "text/plain": [
       "'1000'"
      ]
     },
     "execution_count": 6,
     "metadata": {},
     "output_type": "execute_result"
    }
   ],
   "source": [
    "input()\n"
   ]
  },
  {
   "cell_type": "markdown",
   "id": "581ae1ce-494e-45d3-b883-a69483d14698",
   "metadata": {},
   "source": [
    "**Note**\n",
    "\n",
    "- What ever we type in square brackets , the output display in quotes\n",
    "- the ouput default type is string type"
   ]
  },
  {
   "cell_type": "code",
   "execution_count": 8,
   "id": "b138b5bf-f93d-4a8a-bae2-e994fdc53037",
   "metadata": {},
   "outputs": [
    {
     "name": "stdin",
     "output_type": "stream",
     "text": [
      " keerthi\n",
      " 1234 true\n",
      " 12015\n"
     ]
    },
    {
     "data": {
      "text/plain": [
       "'12015'"
      ]
     },
     "execution_count": 8,
     "metadata": {},
     "output_type": "execute_result"
    }
   ],
   "source": [
    "input()\n",
    "input()\n",
    "input()\n"
   ]
  },
  {
   "cell_type": "code",
   "execution_count": 10,
   "id": "26f30e1c-3f27-487d-92f9-e9118797082a",
   "metadata": {},
   "outputs": [
    {
     "name": "stdin",
     "output_type": "stream",
     "text": [
      " 10\n",
      " 20\n"
     ]
    },
    {
     "name": "stdout",
     "output_type": "stream",
     "text": [
      "10\n",
      "20\n",
      "The value of a is: 10 and b is: 20\n"
     ]
    }
   ],
   "source": [
    "a=input()\n",
    "b=input()\n",
    "print(a)\n",
    "print(b)\n",
    "print(f'The value of a is: {a} and b is: {b}')"
   ]
  },
  {
   "cell_type": "code",
   "execution_count": 12,
   "id": "2f064657-26e3-45de-a3b1-cff93c15343e",
   "metadata": {},
   "outputs": [
    {
     "name": "stdin",
     "output_type": "stream",
     "text": [
      " keerthana\n",
      " kadiri\n",
      " India\n"
     ]
    },
    {
     "name": "stdout",
     "output_type": "stream",
     "text": [
      "My name is keerthana ,I am from kadiri,Which is located in India\n"
     ]
    }
   ],
   "source": [
    "name=input()\n",
    "city=input()\n",
    "country=input()\n",
    "print(f'My name is {name} ,I am from {city},Which is located in {country}')"
   ]
  },
  {
   "cell_type": "code",
   "execution_count": 13,
   "id": "9620bc7b-1b28-4df1-9d70-24c10dce1629",
   "metadata": {},
   "outputs": [
    {
     "name": "stdin",
     "output_type": "stream",
     "text": [
      " 10\n",
      "Enter the Name: keerthana\n",
      "Enter the city: kadiri\n",
      "Enter the Country: India\n",
      "Enter: okay\n"
     ]
    },
    {
     "data": {
      "text/plain": [
       "'okay'"
      ]
     },
     "execution_count": 13,
     "metadata": {},
     "output_type": "execute_result"
    }
   ],
   "source": [
    "input()\n",
    "input(\"Enter the Name:\")\n",
    "input(\"Enter the city:\")\n",
    "input(\"Enter the Country:\")\n",
    "input(\"Enter:\")\n"
   ]
  },
  {
   "cell_type": "code",
   "execution_count": 14,
   "id": "a1fbe581-0f6a-4874-9b62-927f0dfd1e00",
   "metadata": {},
   "outputs": [
    {
     "name": "stdin",
     "output_type": "stream",
     "text": [
      " 10\n",
      "Enter the Name: keerthana\n",
      "Enter the city: kadiri\n",
      "Enter the Country: I\n",
      "Enter: okay\n"
     ]
    },
    {
     "name": "stdout",
     "output_type": "stream",
     "text": [
      "My id is 10,My name is keerthana I am from kadiri which is located in I\n"
     ]
    }
   ],
   "source": [
    "num=input()\n",
    "name=input(\"Enter the Name:\")\n",
    "city=input(\"Enter the city:\")\n",
    "country=input(\"Enter the Country:\")\n",
    "a=input(\"Enter:\")\n",
    "print(f\"My id is {num},My name is {name} I am from {city} which is located in {country}\")\n"
   ]
  },
  {
   "cell_type": "code",
   "execution_count": 15,
   "id": "a9d59457-a8d6-4192-858d-29640ffaa0ef",
   "metadata": {},
   "outputs": [
    {
     "name": "stdin",
     "output_type": "stream",
     "text": [
      "Enter value1: 10\n",
      "Enter the value2: 20\n"
     ]
    },
    {
     "name": "stdout",
     "output_type": "stream",
     "text": [
      "The num1 is 10 and num2 is 20 and sum is:1020\n"
     ]
    }
   ],
   "source": [
    "num1=input(\"Enter value1:\")\n",
    "num2=input(\"Enter the value2:\")\n",
    "\n",
    "print(f\"The num1 is {num1} and num2 is {num2} and sum is:{num1+num2}\") # '10'+'20'='1020'"
   ]
  },
  {
   "cell_type": "code",
   "execution_count": null,
   "id": "df44120f-1efa-4d10-ae0b-6b72a2381adb",
   "metadata": {},
   "outputs": [],
   "source": [
    "- why it is coming 1020 means it takes like string\n",
    "- string cannot add the integers\n",
    "- so we can convert into int datatype"
   ]
  },
  {
   "cell_type": "code",
   "execution_count": 16,
   "id": "2d9de329-6786-417f-9844-86515c02dae1",
   "metadata": {},
   "outputs": [
    {
     "data": {
      "text/plain": [
       "300"
      ]
     },
     "execution_count": 16,
     "metadata": {},
     "output_type": "execute_result"
    }
   ],
   "source": [
    "n1=int('100')\n",
    "n2=int('200')\n",
    "n1+n2\n"
   ]
  },
  {
   "cell_type": "code",
   "execution_count": 17,
   "id": "1168cf25-825a-4f3e-b1d7-adf3e3fe9557",
   "metadata": {},
   "outputs": [
    {
     "name": "stdin",
     "output_type": "stream",
     "text": [
      "Enter value1: 10\n",
      "Enter the value2: 20\n"
     ]
    },
    {
     "name": "stdout",
     "output_type": "stream",
     "text": [
      "The num1 is 10 and num2 is 20 and sum is:30\n"
     ]
    }
   ],
   "source": [
    "num1=int(input(\"Enter value1:\"))       # num1=int('10')=10\n",
    "num2=int(input(\"Enter the value2:\"))   # num2=int('20')=20\n",
    "\n",
    "print(f\"The num1 is {num1} and num2 is {num2} and sum is:{num1+num2}\") # num1+num2=10+20=30"
   ]
  },
  {
   "cell_type": "code",
   "execution_count": 21,
   "id": "20024c21-ab18-4d15-854f-09ae17e0608a",
   "metadata": {},
   "outputs": [
    {
     "data": {
      "text/plain": [
       "300"
      ]
     },
     "execution_count": 21,
     "metadata": {},
     "output_type": "execute_result"
    }
   ],
   "source": [
    "n1='100'\n",
    "n2='200'\n",
    "int(n1)+int(n2)\n"
   ]
  },
  {
   "cell_type": "code",
   "execution_count": 22,
   "id": "cbbe84fd-66a7-49eb-9f9b-fdab434e0a59",
   "metadata": {},
   "outputs": [
    {
     "data": {
      "text/plain": [
       "100200"
      ]
     },
     "execution_count": 22,
     "metadata": {},
     "output_type": "execute_result"
    }
   ],
   "source": [
    "n1='100'\n",
    "n2='200'\n",
    "int(n1+n2) # Wrong method y means it cannot convert as integer             add(int('100'+'200'))"
   ]
  },
  {
   "cell_type": "code",
   "execution_count": 23,
   "id": "29535425-2a6c-4a95-8f98-16db2e88db47",
   "metadata": {},
   "outputs": [
    {
     "name": "stdin",
     "output_type": "stream",
     "text": [
      "Enter the number1: 100\n",
      "Enter the number2: 200.25\n"
     ]
    },
    {
     "ename": "ValueError",
     "evalue": "invalid literal for int() with base 10: '200.25'",
     "output_type": "error",
     "traceback": [
      "\u001b[1;31m---------------------------------------------------------------------------\u001b[0m",
      "\u001b[1;31mValueError\u001b[0m                                Traceback (most recent call last)",
      "Cell \u001b[1;32mIn[23], line 2\u001b[0m\n\u001b[0;32m      1\u001b[0m n1\u001b[38;5;241m=\u001b[39m\u001b[38;5;28mint\u001b[39m(\u001b[38;5;28minput\u001b[39m(\u001b[38;5;124m\"\u001b[39m\u001b[38;5;124mEnter the number1:\u001b[39m\u001b[38;5;124m\"\u001b[39m))\n\u001b[1;32m----> 2\u001b[0m n2\u001b[38;5;241m=\u001b[39m\u001b[38;5;28mint\u001b[39m(\u001b[38;5;28minput\u001b[39m(\u001b[38;5;124m\"\u001b[39m\u001b[38;5;124mEnter the number2:\u001b[39m\u001b[38;5;124m\"\u001b[39m))\n\u001b[0;32m      3\u001b[0m n1\u001b[38;5;241m+\u001b[39mn2\n",
      "\u001b[1;31mValueError\u001b[0m: invalid literal for int() with base 10: '200.25'"
     ]
    }
   ],
   "source": [
    "n1=int(input(\"Enter the number1:\"))\n",
    "n2=int(input(\"Enter the number2:\"))\n",
    "n1+n2\n",
    "             "
   ]
  },
  {
   "cell_type": "code",
   "execution_count": null,
   "id": "07805c7b-acbe-494d-9d12-805e2ab5ca37",
   "metadata": {},
   "outputs": [],
   "source": [
    "n1=int(input(\"Enter the number1:\"))\n",
    "n2=eval(input(\"Enter the number2:\")) # we cannot give eval in n2 why because user give input  any either n1 or n2\n",
    "n1+n2"
   ]
  },
  {
   "cell_type": "markdown",
   "id": "60152c65-9d65-4147-a272-36ac99146cd1",
   "metadata": {},
   "source": [
    "**eval**\n",
    "\n",
    "- whenever you listen eval: evaluate\n",
    "- evaluate is belongs to math family\n",
    "- It will convert integer value to the integer\n",
    "- It will convert float value to the float only\n",
    "- directly apply the eval and it will convert into corresponding data type\n",
    "- whenever you use eval,dont provide strings:it will give the error\n"
   ]
  },
  {
   "cell_type": "code",
   "execution_count": 24,
   "id": "84b6f545-f8f2-419f-88df-6443f67f78b0",
   "metadata": {},
   "outputs": [
    {
     "name": "stdin",
     "output_type": "stream",
     "text": [
      "Enter the number1: 10\n",
      "Enter the number2: 20.567\n"
     ]
    },
    {
     "data": {
      "text/plain": [
       "30.567"
      ]
     },
     "execution_count": 24,
     "metadata": {},
     "output_type": "execute_result"
    }
   ],
   "source": [
    "n1=eval(input(\"Enter the number1:\"))\n",
    "n2=eval(input(\"Enter the number2:\"))\n",
    "n1+n2"
   ]
  },
  {
   "cell_type": "code",
   "execution_count": null,
   "id": "689d53d1-5cdf-4e5e-b3f4-be4de1011f06",
   "metadata": {},
   "outputs": [],
   "source": [
    "# Q1) Ask the user take the 3 numbers from the keyboard find the avg\n",
    "# Q2) Ask the user take the height and breadth find the right angle triangle are\n",
    "# Q3) ask the user enter length,breadth,calculate area of rectangle\n",
    "# Q4) ask the user take radius calculate area of the circle\n",
    "# Q5) Ask the user how much bill amount\n",
    "#         How much tip_per you want to pay\n",
    "#          calculate the total bill"
   ]
  },
  {
   "cell_type": "code",
   "execution_count": 27,
   "id": "57f6893b-f41b-407b-9ae8-2c7b4058c487",
   "metadata": {},
   "outputs": [
    {
     "name": "stdin",
     "output_type": "stream",
     "text": [
      "Enter value1: 10\n",
      "Enter value2: 20.53\n",
      "Enter value3: 30\n"
     ]
    },
    {
     "name": "stdout",
     "output_type": "stream",
     "text": [
      "The value1 is 10 ,value2 is 20.53, value3 is 30 and the average is:41\n"
     ]
    }
   ],
   "source": [
    "# Q1) Ask the user take the 3 numbers from the keyboard find the avg\n",
    "\n",
    "n1=eval(input(\"Enter value1:\"))\n",
    "n2=eval(input(\"Enter value2:\"))\n",
    "n3=eval(input(\"Enter value3:\"))\n",
    "avg=round(n1+n2+n3/3)\n",
    "print(f\"The value1 is {n1} ,value2 is {n2}, value3 is {n3} and the average is:{avg}\")\n"
   ]
  },
  {
   "cell_type": "code",
   "execution_count": 29,
   "id": "a89c0728-4719-4490-87be-edfc9b7832a1",
   "metadata": {},
   "outputs": [
    {
     "name": "stdin",
     "output_type": "stream",
     "text": [
      "Enter the height: 50\n",
      "Enter the breadth: 20\n"
     ]
    },
    {
     "name": "stdout",
     "output_type": "stream",
     "text": [
      "The area of right angle triangle is:500\n"
     ]
    }
   ],
   "source": [
    "# Q2) Ask the user take the height and breadth find the right angle triangle area\n",
    "\n",
    "height=eval(input(\"Enter the height:\"))\n",
    "breadth=eval(input(\"Enter the breadth:\"))\n",
    "area=round(0.5*height*breadth)\n",
    "print(f\"The area of right angle triangle is:{area}\")\n",
    "\n",
    "                   "
   ]
  },
  {
   "cell_type": "code",
   "execution_count": 33,
   "id": "2fe18489-6a44-4257-8826-cec01377b8f3",
   "metadata": {},
   "outputs": [
    {
     "name": "stdin",
     "output_type": "stream",
     "text": [
      "Enter the length: 25\n",
      "Enter the breadth: 40.35\n"
     ]
    },
    {
     "name": "stdout",
     "output_type": "stream",
     "text": [
      "The area of rectangle is:1009\n"
     ]
    }
   ],
   "source": [
    "# Q3) ask the user enter length,breadth,calculate area of rectangle\n",
    "\n",
    "length=eval(input(\"Enter the length:\"))\n",
    "breadth=eval(input(\"Enter the breadth:\"))\n",
    "area=round(length*breadth)\n",
    "print(f\"The area of rectangle is:{area}\")"
   ]
  },
  {
   "cell_type": "code",
   "execution_count": 2,
   "id": "0456a835-c095-48a7-a5f1-83ea8d2d7932",
   "metadata": {},
   "outputs": [
    {
     "name": "stdin",
     "output_type": "stream",
     "text": [
      "Enter the radius: 20\n"
     ]
    },
    {
     "name": "stdout",
     "output_type": "stream",
     "text": [
      "The area of the circle is:1256\n"
     ]
    }
   ],
   "source": [
    "# Q4) ask the user take radius calculate area of the circle\n",
    "radius=eval(input(\"Enter the radius:\"))\n",
    "area=round(3.14*radius*radius)\n",
    "print(f\"The area of the circle is:{area}\")\n"
   ]
  },
  {
   "cell_type": "code",
   "execution_count": 3,
   "id": "3ac0348a-417b-4434-ae24-5c537b5dbc8c",
   "metadata": {},
   "outputs": [
    {
     "name": "stdin",
     "output_type": "stream",
     "text": [
      "Enter the bill_amount: 500\n",
      "Enter the tip in percentage: 20\n"
     ]
    },
    {
     "name": "stdout",
     "output_type": "stream",
     "text": [
      "Total bill is:600.0\n"
     ]
    }
   ],
   "source": [
    "# Q5) Ask the user how much bill amount\n",
    "#         How much tip_per you want to pay\n",
    "#          calculate the total bill\n",
    "\n",
    "bill_amount=eval(input(\"Enter the bill_amount:\"))\n",
    "tip_percentage=eval(input(\"Enter the tip in percentage:\"))\n",
    "tip_amount=bill_amount*tip_percentage/100\n",
    "total_bill=bill_amount+tip_amount\n",
    "print(f\"Total bill is:{total_bill}\")"
   ]
  },
  {
   "cell_type": "code",
   "execution_count": null,
   "id": "8d0d22fb-fe4c-439a-8efc-8e04cd1c90ec",
   "metadata": {},
   "outputs": [],
   "source": []
  }
 ],
 "metadata": {
  "kernelspec": {
   "display_name": "Python 3 (ipykernel)",
   "language": "python",
   "name": "python3"
  },
  "language_info": {
   "codemirror_mode": {
    "name": "ipython",
    "version": 3
   },
   "file_extension": ".py",
   "mimetype": "text/x-python",
   "name": "python",
   "nbconvert_exporter": "python",
   "pygments_lexer": "ipython3",
   "version": "3.12.4"
  },
  "widgets": {
   "application/vnd.jupyter.widget-state+json": {
    "state": {},
    "version_major": 2,
    "version_minor": 0
   }
  }
 },
 "nbformat": 4,
 "nbformat_minor": 5
}
