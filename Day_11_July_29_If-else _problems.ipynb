{
 "cells": [
  {
   "cell_type": "code",
   "execution_count": 1,
   "id": "cd146635-186e-4f53-a9d5-fd09c26d043e",
   "metadata": {},
   "outputs": [
    {
     "data": {
      "text/plain": [
       "(2.5, 2.0)"
      ]
     },
     "execution_count": 1,
     "metadata": {},
     "output_type": "execute_result"
    }
   ],
   "source": [
    "float(2.5),float(2)"
   ]
  },
  {
   "cell_type": "code",
   "execution_count": 2,
   "id": "f13b8357-ffd8-4527-b69f-d779de7e5501",
   "metadata": {},
   "outputs": [
    {
     "data": {
      "text/plain": [
       "2"
      ]
     },
     "execution_count": 2,
     "metadata": {},
     "output_type": "execute_result"
    }
   ],
   "source": [
    "int(2.5)"
   ]
  },
  {
   "cell_type": "code",
   "execution_count": 4,
   "id": "4e6bfd40-f9c2-4e0c-8d36-f8debbd13419",
   "metadata": {},
   "outputs": [
    {
     "ename": "TypeError",
     "evalue": "eval() arg 1 must be a string, bytes or code object",
     "output_type": "error",
     "traceback": [
      "\u001b[1;31m---------------------------------------------------------------------------\u001b[0m",
      "\u001b[1;31mTypeError\u001b[0m                                 Traceback (most recent call last)",
      "Cell \u001b[1;32mIn[4], line 1\u001b[0m\n\u001b[1;32m----> 1\u001b[0m \u001b[38;5;28meval\u001b[39m(\u001b[38;5;241m2.5\u001b[39m),\u001b[38;5;28meval\u001b[39m(\u001b[38;5;241m2\u001b[39m)\n",
      "\u001b[1;31mTypeError\u001b[0m: eval() arg 1 must be a string, bytes or code object"
     ]
    }
   ],
   "source": [
    "eval(2.5),eval(2)"
   ]
  },
  {
   "cell_type": "code",
   "execution_count": 5,
   "id": "d8010d36-160b-4b49-bf73-6fe6167f508a",
   "metadata": {},
   "outputs": [
    {
     "data": {
      "text/plain": [
       "(2.5, 2)"
      ]
     },
     "execution_count": 5,
     "metadata": {},
     "output_type": "execute_result"
    }
   ],
   "source": [
    "eval('2.5'),eval('2')"
   ]
  },
  {
   "cell_type": "markdown",
   "id": "077edddd-6655-498c-89eb-bf5ee2a45c70",
   "metadata": {},
   "source": [
    "- eval is using \n",
    "- why not float\n",
    "- is eval takes the user input:No\n",
    "      - input will take the user value from the keyboard\n",
    "- you are giving the direct numerical values to the eval\n",
    "     - eval is math family\n",
    "     - direct numbers means already same family\n",
    "     - no need to provide direct values\n",
    "- you are giving english inside the eval\n",
    "      - eval is math family\n",
    "      - english \n"
   ]
  },
  {
   "cell_type": "code",
   "execution_count": 6,
   "id": "351df079-e905-4b59-a506-1cc356ed0be6",
   "metadata": {},
   "outputs": [
    {
     "name": "stdin",
     "output_type": "stream",
     "text": [
      "Enter the Course name: data science\n",
      "Enter the institute name: naresh it\n"
     ]
    },
    {
     "name": "stdout",
     "output_type": "stream",
     "text": [
      "GOOD\n"
     ]
    }
   ],
   "source": [
    "# Q1) WAp ask the user \n",
    "# enter course name\n",
    "# enter institute name\n",
    "# if course name equal to datascience\n",
    "# and institute name naresh it\n",
    "# then print good\n",
    "# other wise print bad\n",
    "\n",
    "\n",
    "course_name=input(\"Enter the Course name:\")\n",
    "institute_name=input(\"Enter the institute name:\")\n",
    "if course_name=='data science' and institute_name=='naresh it':\n",
    "    print(\"GOOD\")\n",
    "else:\n",
    "    print(\"BAD\")\n",
    "\n"
   ]
  },
  {
   "cell_type": "code",
   "execution_count": 5,
   "id": "7291e626-8633-463b-895d-31cddeff75b8",
   "metadata": {},
   "outputs": [
    {
     "name": "stdin",
     "output_type": "stream",
     "text": [
      "Enter the Course name: devops\n",
      "Enter the institute name: naresh it\n"
     ]
    },
    {
     "name": "stdout",
     "output_type": "stream",
     "text": [
      "GOOD\n"
     ]
    }
   ],
   "source": [
    "course_name=input(\"Enter the Course name:\")\n",
    "institute_name=input(\"Enter the institute name:\")\n",
    "if course_name=='data science' or institute_name=='naresh it':\n",
    "    print(\"GOOD\")\n",
    "else:\n",
    "    print(\"BAD\")\n"
   ]
  },
  {
   "cell_type": "code",
   "execution_count": 8,
   "id": "914cbbd6-698e-4539-af55-37b08748a4fa",
   "metadata": {},
   "outputs": [
    {
     "name": "stdin",
     "output_type": "stream",
     "text": [
      "Enter the Course name: deveops\n",
      "Enter the institute name: byjus\n"
     ]
    },
    {
     "name": "stdout",
     "output_type": "stream",
     "text": [
      "BAD\n"
     ]
    }
   ],
   "source": [
    "course_name=input(\"Enter the Course name:\")\n",
    "institute_name=input(\"Enter the institute name:\")\n",
    "if course_name=='data science' or institute_name=='naresh it':\n",
    "    print(\"GOOD\")\n",
    "else:\n",
    "    print(\"BAD\")"
   ]
  },
  {
   "cell_type": "code",
   "execution_count": 1,
   "id": "f7e96835-16b6-4c8b-b41d-0cf2e156feb6",
   "metadata": {},
   "outputs": [
    {
     "name": "stdin",
     "output_type": "stream",
     "text": [
      "Enter the Course name: full stack\n",
      "Enter the institute name: naresh it\n"
     ]
    },
    {
     "name": "stdout",
     "output_type": "stream",
     "text": [
      "BAD\n"
     ]
    }
   ],
   "source": [
    "course_name=input(\"Enter the Course name:\")\n",
    "institute_name=input(\"Enter the institute name:\")\n",
    "preferred_course_name='data science'\n",
    "preferred_institute_name='naresh it'\n",
    "if course_name==preferred_course_name and institute_name==preferred_institute_name:\n",
    "    print(\"GOOD\")\n",
    "else:\n",
    "    print(\"BAD\")"
   ]
  },
  {
   "cell_type": "code",
   "execution_count": 10,
   "id": "41a0ab97-aa23-43fb-b31b-0aed538d0c1e",
   "metadata": {},
   "outputs": [
    {
     "name": "stdin",
     "output_type": "stream",
     "text": [
      "Enter the Course name: data science\n",
      "Enter the institute name: naresh it\n"
     ]
    },
    {
     "name": "stdout",
     "output_type": "stream",
     "text": [
      "GOOD\n"
     ]
    }
   ],
   "source": [
    "course_name=input(\"Enter the Course name:\")\n",
    "institute_name=input(\"Enter the institute name:\")\n",
    "preferred_course_name='data science'\n",
    "preferred_institute_name='naresh it'\n",
    "if course_name==preferred_course_name or institute_name==preferred_institute_name:\n",
    "    print(\"GOOD\")\n",
    "else:\n",
    "    print(\"BAD\")"
   ]
  },
  {
   "cell_type": "code",
   "execution_count": 11,
   "id": "d6fc9062-753a-4f23-b58b-0587abc2134d",
   "metadata": {},
   "outputs": [
    {
     "name": "stdout",
     "output_type": "stream",
     "text": [
      "hello\n",
      "bye\n"
     ]
    }
   ],
   "source": [
    "print('hello')\n",
    "if 100>10:\n",
    "    print('bye')"
   ]
  },
  {
   "cell_type": "code",
   "execution_count": 13,
   "id": "0442a38b-17de-4ad3-900c-f73c8f56346b",
   "metadata": {},
   "outputs": [
    {
     "name": "stdout",
     "output_type": "stream",
     "text": [
      "hello\n",
      "bye\n"
     ]
    }
   ],
   "source": [
    "print('hello')\n",
    "if True:\n",
    "    print('bye')"
   ]
  },
  {
   "cell_type": "code",
   "execution_count": 14,
   "id": "315361c5-7da4-430b-abd2-f9262fafb000",
   "metadata": {},
   "outputs": [
    {
     "name": "stdout",
     "output_type": "stream",
     "text": [
      "hello\n"
     ]
    }
   ],
   "source": [
    "print('hello')\n",
    "if False:\n",
    "    print('bye')"
   ]
  },
  {
   "cell_type": "code",
   "execution_count": 15,
   "id": "e25568e6-a597-4147-9221-16386681e2b1",
   "metadata": {},
   "outputs": [
    {
     "name": "stdout",
     "output_type": "stream",
     "text": [
      "hello\n",
      "bye\n",
      "2.5\n"
     ]
    },
    {
     "ename": "ZeroDivisionError",
     "evalue": "division by zero",
     "output_type": "error",
     "traceback": [
      "\u001b[1;31m---------------------------------------------------------------------------\u001b[0m",
      "\u001b[1;31mZeroDivisionError\u001b[0m                         Traceback (most recent call last)",
      "Cell \u001b[1;32mIn[15], line 5\u001b[0m\n\u001b[0;32m      3\u001b[0m \u001b[38;5;28mprint\u001b[39m(\u001b[38;5;124m'\u001b[39m\u001b[38;5;124mbye\u001b[39m\u001b[38;5;124m'\u001b[39m)\n\u001b[0;32m      4\u001b[0m \u001b[38;5;28mprint\u001b[39m(\u001b[38;5;241m5\u001b[39m\u001b[38;5;241m/\u001b[39m\u001b[38;5;241m2\u001b[39m)\n\u001b[1;32m----> 5\u001b[0m \u001b[38;5;28mprint\u001b[39m(\u001b[38;5;241m2\u001b[39m\u001b[38;5;241m/\u001b[39m\u001b[38;5;241m0\u001b[39m)\n",
      "\u001b[1;31mZeroDivisionError\u001b[0m: division by zero"
     ]
    }
   ],
   "source": [
    "print('hello')\n",
    "if 100>10:\n",
    "    print('bye')\n",
    "    print(5/2)\n",
    "    print(2/0)"
   ]
  },
  {
   "cell_type": "code",
   "execution_count": 16,
   "id": "8ee2f3aa-5d7c-4345-b3fd-6c4bd6f4d047",
   "metadata": {},
   "outputs": [
    {
     "ename": "ZeroDivisionError",
     "evalue": "division by zero",
     "output_type": "error",
     "traceback": [
      "\u001b[1;31m---------------------------------------------------------------------------\u001b[0m",
      "\u001b[1;31mZeroDivisionError\u001b[0m                         Traceback (most recent call last)",
      "Cell \u001b[1;32mIn[16], line 1\u001b[0m\n\u001b[1;32m----> 1\u001b[0m \u001b[38;5;28mprint\u001b[39m(\u001b[38;5;241m0\u001b[39m\u001b[38;5;241m/\u001b[39m\u001b[38;5;241m0\u001b[39m)\n",
      "\u001b[1;31mZeroDivisionError\u001b[0m: division by zero"
     ]
    }
   ],
   "source": [
    "print(0/0)\n"
   ]
  },
  {
   "cell_type": "code",
   "execution_count": 19,
   "id": "bbb103f7-9b6a-4d3e-83f3-fe9d0cff615e",
   "metadata": {},
   "outputs": [
    {
     "name": "stdout",
     "output_type": "stream",
     "text": [
      "5.25\n",
      "7\n",
      "0\n"
     ]
    }
   ],
   "source": [
    "print(21/4)   # Normal division takes the quotient\n",
    "print(21//3)  #  Floor division takes the round of the quotient\n",
    "print(21%3)   # modulus takes the remainder"
   ]
  },
  {
   "cell_type": "code",
   "execution_count": 22,
   "id": "a995952a-5741-419c-a9f7-74f185d5b81a",
   "metadata": {},
   "outputs": [
    {
     "name": "stdin",
     "output_type": "stream",
     "text": [
      "Enter a number: 4\n"
     ]
    },
    {
     "name": "stdout",
     "output_type": "stream",
     "text": [
      "4 is Even number\n"
     ]
    }
   ],
   "source": [
    "# ASk the user the the number from keybord\n",
    "# print the number is even or odd\n",
    "\n",
    "num=eval(input(\"Enter a number:\"))\n",
    "if num%2==0:\n",
    "    print(f\"{num} is Even number\")\n",
    "else:\n",
    "    print(f\"{num} is Odd number\")"
   ]
  },
  {
   "cell_type": "code",
   "execution_count": 29,
   "id": "61283295-5f29-4b26-9533-a7293f3385c5",
   "metadata": {},
   "outputs": [
    {
     "name": "stdout",
     "output_type": "stream",
     "text": [
      "57 is Odd number\n"
     ]
    }
   ],
   "source": [
    "# ask the user get a random number b/w 1 to 100\n",
    "import random\n",
    "num=random.randint(1,100)\n",
    "if num%2==0:\n",
    "    print(f\"{num} is Even number\")\n",
    "else:\n",
    "    print(f\"{num} is Odd number\")"
   ]
  },
  {
   "cell_type": "markdown",
   "id": "206669ac-1f60-4b89-b340-d321f5ce7e14",
   "metadata": {},
   "source": [
    "**Concentrate how we are prividing the numbers**\n",
    "\n",
    "- we can provide hard code: direct value\n",
    "- we can provide from keyword: **input**\n",
    "- we can provide randomly: **using random package**"
   ]
  },
  {
   "cell_type": "code",
   "execution_count": 31,
   "id": "c6704ad0-b5b9-472d-89ac-44fd98b57c80",
   "metadata": {},
   "outputs": [
    {
     "name": "stdout",
     "output_type": "stream",
     "text": [
      "10 is Even number\n"
     ]
    },
    {
     "name": "stdin",
     "output_type": "stream",
     "text": [
      "Enter a number: 35\n"
     ]
    },
    {
     "name": "stdout",
     "output_type": "stream",
     "text": [
      "35 is Odd number\n",
      "89 is Odd number\n"
     ]
    }
   ],
   "source": [
    "num=10\n",
    "if num%2==0:\n",
    "    print(f\"{num} is Even number\")\n",
    "else:\n",
    "    print(f\"{num} is Odd number\")\n",
    "\n",
    "# you can the user input\n",
    "num=eval(input(\"Enter a number:\"))\n",
    "if num%2==0:\n",
    "    print(f\"{num} is Even number\")\n",
    "else:\n",
    "    print(f\"{num} is Odd number\")\n",
    "\n",
    "\n",
    "\n",
    "# ask the user get a random number b/w 1 to 100\n",
    "import random\n",
    "num=random.randint(1,100)\n",
    "if num%2==0:\n",
    "    print(f\"{num} is Even number\")\n",
    "else:\n",
    "    print(f\"{num} is Odd number\")"
   ]
  },
  {
   "cell_type": "code",
   "execution_count": 43,
   "id": "3a440bbd-9e48-4089-aa5f-0908b98c1163",
   "metadata": {},
   "outputs": [
    {
     "name": "stdin",
     "output_type": "stream",
     "text": [
      "Enter num2: 3\n"
     ]
    },
    {
     "name": "stdout",
     "output_type": "stream",
     "text": [
      "You Loss\n"
     ]
    }
   ],
   "source": [
    "# Wap ask the user get a random integer number b/w 1 to 10\n",
    "# ask the user take another number from keyboard\n",
    "# if num1 equal to num2\n",
    "#   print won\n",
    "# other wise print Loss\n",
    "\n",
    "num1=random.randint(1,10)\n",
    "num2=eval(input(\"Enter num2:\"))\n",
    "if num1==num2:\n",
    "    print(\"You Won\")\n",
    "else:\n",
    "    print(\"You Loss\")"
   ]
  },
  {
   "cell_type": "code",
   "execution_count": 44,
   "id": "ca1c3945-7430-4a67-b937-c9ee0bf11369",
   "metadata": {},
   "outputs": [
    {
     "name": "stdout",
     "output_type": "stream",
     "text": [
      "3\n"
     ]
    },
    {
     "name": "stdin",
     "output_type": "stream",
     "text": [
      "Enter num2: 3\n"
     ]
    },
    {
     "name": "stdout",
     "output_type": "stream",
     "text": [
      "You Won\n"
     ]
    }
   ],
   "source": [
    "num1=random.randint(1,10)\n",
    "print(num1)\n",
    "num2=eval(input(\"Enter num2:\"))\n",
    "if num1==num2:\n",
    "    print(\"You Won\")\n",
    "else:\n",
    "    print(\"You Loss\")"
   ]
  },
  {
   "cell_type": "markdown",
   "id": "e0b5751c-ba42-4611-91ac-82b6c61c7824",
   "metadata": {},
   "source": [
    "**if-elif-else**\n",
    "\n",
    "- if cond:\n",
    "    statements\n",
    "- elif cond:\n",
    "    statements\n",
    "- else:\n",
    "    statements\n"
   ]
  },
  {
   "cell_type": "code",
   "execution_count": null,
   "id": "5b747c39-2884-483b-8177-d29e4223baf7",
   "metadata": {},
   "outputs": [],
   "source": []
  }
 ],
 "metadata": {
  "kernelspec": {
   "display_name": "Python 3 (ipykernel)",
   "language": "python",
   "name": "python3"
  },
  "language_info": {
   "codemirror_mode": {
    "name": "ipython",
    "version": 3
   },
   "file_extension": ".py",
   "mimetype": "text/x-python",
   "name": "python",
   "nbconvert_exporter": "python",
   "pygments_lexer": "ipython3",
   "version": "3.12.4"
  },
  "widgets": {
   "application/vnd.jupyter.widget-state+json": {
    "state": {},
    "version_major": 2,
    "version_minor": 0
   }
  }
 },
 "nbformat": 4,
 "nbformat_minor": 5
}
