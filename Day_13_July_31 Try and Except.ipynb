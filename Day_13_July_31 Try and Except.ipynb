{
 "cells": [
  {
   "cell_type": "markdown",
   "id": "9c006cd2-f4db-47c2-873c-8ae6090e2bce",
   "metadata": {},
   "source": [
    "- python is a step by step process\n",
    "\n",
    "- If we get any error,kernel will not excute the other lines\n",
    "\n",
    "- for exmaple we written 1000 lines of code\n",
    "\n",
    "- there is an error at 500 line\n",
    "\n",
    "- then remaining 500 lines will not excute \n",
    "\n",
    "- but you know that error not a logical error\n",
    "\n",
    "- even though we got error we wants to make sure run our code\n",
    "\n",
    "- second use case: we need to capture the error also\n",
    "    \n",
    "\n"
   ]
  },
  {
   "cell_type": "code",
   "execution_count": 15,
   "id": "14cf574d-5b03-42af-bcf3-d70e29dc4bde",
   "metadata": {},
   "outputs": [
    {
     "name": "stdin",
     "output_type": "stream",
     "text": [
      "Enter the number1: 10\n",
      "Enter the number2: 0\n"
     ]
    },
    {
     "ename": "ZeroDivisionError",
     "evalue": "division by zero",
     "output_type": "error",
     "traceback": [
      "\u001b[1;31m---------------------------------------------------------------------------\u001b[0m",
      "\u001b[1;31mZeroDivisionError\u001b[0m                         Traceback (most recent call last)",
      "Cell \u001b[1;32mIn[15], line 3\u001b[0m\n\u001b[0;32m      1\u001b[0m a\u001b[38;5;241m=\u001b[39m\u001b[38;5;28meval\u001b[39m(\u001b[38;5;28minput\u001b[39m(\u001b[38;5;124m\"\u001b[39m\u001b[38;5;124mEnter the number1:\u001b[39m\u001b[38;5;124m\"\u001b[39m))\n\u001b[0;32m      2\u001b[0m b\u001b[38;5;241m=\u001b[39m\u001b[38;5;28meval\u001b[39m(\u001b[38;5;28minput\u001b[39m(\u001b[38;5;124m\"\u001b[39m\u001b[38;5;124mEnter the number2:\u001b[39m\u001b[38;5;124m\"\u001b[39m))\n\u001b[1;32m----> 3\u001b[0m \u001b[38;5;28mprint\u001b[39m(\u001b[38;5;124m\"\u001b[39m\u001b[38;5;124mThe division of a and b is:\u001b[39m\u001b[38;5;124m\"\u001b[39m,a\u001b[38;5;241m/\u001b[39mb)\n\u001b[0;32m      4\u001b[0m \u001b[38;5;28mprint\u001b[39m(\u001b[38;5;124m\"\u001b[39m\u001b[38;5;124mhello\u001b[39m\u001b[38;5;124m\"\u001b[39m)\n",
      "\u001b[1;31mZeroDivisionError\u001b[0m: division by zero"
     ]
    }
   ],
   "source": [
    "a=eval(input(\"Enter the number1:\"))\n",
    "b=eval(input(\"Enter the number2:\"))\n",
    "print(\"The division of a and b is:\",a/b)\n",
    "print(\"hello\")\n",
    "\n"
   ]
  },
  {
   "cell_type": "code",
   "execution_count": null,
   "id": "ac52fe66-f481-4856-b075-89b3cc331bfb",
   "metadata": {},
   "outputs": [],
   "source": [
    "**try-except**\n",
    "\n",
    "- try and except both are keywords\n",
    "\n",
    "- try block has original code\n",
    "\n",
    "- except block is used to capture the error\n",
    "\n",
    "- it is similar to if-else\n",
    "\n",
    "- try-except should come together\n",
    "\n",
    "- first the code will run try block ,whenever the error occurs immediately it will redirect to except block"
   ]
  },
  {
   "cell_type": "code",
   "execution_count": 18,
   "id": "0980f192-dc6f-4f88-a081-e146e27a6888",
   "metadata": {},
   "outputs": [
    {
     "name": "stdin",
     "output_type": "stream",
     "text": [
      "Enter the number1: 10\n",
      "Enter the number2: 0\n"
     ]
    },
    {
     "name": "stdout",
     "output_type": "stream",
     "text": [
      "error is coming\n",
      "error is zero division error\n"
     ]
    }
   ],
   "source": [
    "try:\n",
    "    a=eval(input(\"Enter the number1:\"))\n",
    "    b=eval(input(\"Enter the number2:\"))\n",
    "    print(\"The division of a and b is:\",a/b)\n",
    "    print(\"hello\")\n",
    "except:\n",
    "    print(\"error is coming\")\n",
    "    print(\"error is zero division error\")\n",
    "\n",
    "    "
   ]
  },
  {
   "cell_type": "code",
   "execution_count": null,
   "id": "2945653f-536d-44c2-9ed5-4c0d4da5baa2",
   "metadata": {},
   "outputs": [],
   "source": [
    "# in except block we have written hard coding statements\n",
    "# In a particular code there are many types of errors\n",
    "# "
   ]
  },
  {
   "cell_type": "code",
   "execution_count": 2,
   "id": "06f6d597-cddb-4f91-b4cc-de38d88f2970",
   "metadata": {},
   "outputs": [
    {
     "ename": "SyntaxError",
     "evalue": "unterminated string literal (detected at line 3) (522481329.py, line 3)",
     "output_type": "error",
     "traceback": [
      "\u001b[1;36m  Cell \u001b[1;32mIn[2], line 3\u001b[1;36m\u001b[0m\n\u001b[1;33m    b=eval(input(\"Enter the number2:))\u001b[0m\n\u001b[1;37m                 ^\u001b[0m\n\u001b[1;31mSyntaxError\u001b[0m\u001b[1;31m:\u001b[0m unterminated string literal (detected at line 3)\n"
     ]
    }
   ],
   "source": [
    "try:\n",
    "    a=eval(input(\"Enter the number1:\"))\n",
    "    b=eval(input(\"Enter the number2:))\n",
    "    print(\"The division of a and b is:\",a/b)\n",
    "    print(\"hello\")\n",
    "except Exception as e:\n",
    "    print(e)"
   ]
  },
  {
   "cell_type": "markdown",
   "id": "cde61028-efbb-47ef-bb7b-42e02c2744ea",
   "metadata": {},
   "source": [
    "**case-1:miss the brackets**\n",
    "    - syntax error will come\n",
    "**miss the quotes**\n",
    "    - unterminated string literal means you did not close the quotes\n"
   ]
  },
  {
   "cell_type": "code",
   "execution_count": 4,
   "id": "90d6b0db-4f4a-4297-aa0a-def7baa12e4d",
   "metadata": {},
   "outputs": [
    {
     "name": "stdout",
     "output_type": "stream",
     "text": [
      "module 'random' has no attribute 'randin'\n"
     ]
    }
   ],
   "source": [
    "# do the even-odd program by taking a random number\n",
    "\n",
    "try:\n",
    "    import random\n",
    "    num=random.randin(1,100)\n",
    "    if num%2==0:\n",
    "        print(f\"The given {num} is even\")\n",
    "    else:\n",
    "        print(f\"The given {num} is odd\")\n",
    "\n",
    "except Exception as e:\n",
    "    print(e)\n"
   ]
  },
  {
   "cell_type": "code",
   "execution_count": null,
   "id": "dc4e0ab8-6830-4f5e-b660-dfb9fb0907bc",
   "metadata": {},
   "outputs": [],
   "source": [
    "may I know why this * is coming while excuting\n",
    "\n",
    "* kernel "
   ]
  },
  {
   "cell_type": "code",
   "execution_count": 34,
   "id": "6e3d525e-464a-45d2-a173-9f23ca4ae18f",
   "metadata": {},
   "outputs": [
    {
     "name": "stdout",
     "output_type": "stream",
     "text": [
      "correct\n",
      "dont know\n"
     ]
    }
   ],
   "source": [
    "try:\n",
    "    print(\"correct\")\n",
    "except:\n",
    "    print(\"error will occur\")\n",
    "finally:\n",
    "    print(\"dont know\")\n",
    "    "
   ]
  },
  {
   "cell_type": "code",
   "execution_count": null,
   "id": "6520e017-26d7-48b7-a0b8-54361dbc6d16",
   "metadata": {},
   "outputs": [],
   "source": []
  },
  {
   "cell_type": "code",
   "execution_count": null,
   "id": "0656ac32-f5b8-4d77-9aa7-7a271b1d7869",
   "metadata": {},
   "outputs": [],
   "source": []
  },
  {
   "cell_type": "code",
   "execution_count": null,
   "id": "b5745bd6-cd12-4a7e-88e9-c8f7831bd335",
   "metadata": {},
   "outputs": [],
   "source": []
  },
  {
   "cell_type": "code",
   "execution_count": null,
   "id": "03fbd859-146b-4755-ba11-7e19f53fec86",
   "metadata": {},
   "outputs": [],
   "source": []
  },
  {
   "cell_type": "code",
   "execution_count": null,
   "id": "b36f0216-67ce-46ab-bf69-4227d79019c2",
   "metadata": {},
   "outputs": [],
   "source": []
  },
  {
   "cell_type": "code",
   "execution_count": 14,
   "id": "ee44a8e7-6472-4222-980d-4a6dd0a8fc89",
   "metadata": {},
   "outputs": [
    {
     "name": "stdin",
     "output_type": "stream",
     "text": [
      "Enter the number: 12345\n"
     ]
    },
    {
     "name": "stdout",
     "output_type": "stream",
     "text": [
      "5\n",
      "1234\n",
      "4\n",
      "123\n",
      "5\n",
      "1234\n",
      "5\n",
      "1234\n",
      "5\n",
      "1234\n"
     ]
    }
   ],
   "source": [
    "# if a four digit \n",
    "\n",
    "num=eval(input(\"Enter the number:\"))\n",
    "a=num%10\n",
    "print(a)\n",
    "b=num//10\n",
    "print(b)\n",
    "c=b%10\n",
    "print(c)\n",
    "d=b//10\n",
    "print(d)\n",
    "e=num%10\n",
    "print(e)\n",
    "f=num//10\n",
    "print(f)\n",
    "g=num%10\n",
    "print(g)\n",
    "h=num//10\n",
    "print(h)\n",
    "i=num%10\n",
    "print(i)\n",
    "j=num//10\n",
    "print(j)"
   ]
  },
  {
   "cell_type": "markdown",
   "id": "512fef00-01b1-42cd-9bab-3c12f4b4e831",
   "metadata": {},
   "source": [
    "**absolute value**\n",
    "\n",
    "- it will like a mod operator\n",
    "- |-5|=5\n",
    "- |5\\=5"
   ]
  },
  {
   "cell_type": "code",
   "execution_count": 11,
   "id": "e1444114-c8a0-4760-8e0a-d94dd73520cb",
   "metadata": {},
   "outputs": [
    {
     "data": {
      "text/plain": [
       "3"
      ]
     },
     "execution_count": 11,
     "metadata": {},
     "output_type": "execute_result"
    }
   ],
   "source": [
    "abs(2-5)"
   ]
  },
  {
   "cell_type": "code",
   "execution_count": 7,
   "id": "218b5bd5-5c43-4218-bad4-4974d092730a",
   "metadata": {},
   "outputs": [],
   "source": []
  },
  {
   "cell_type": "code",
   "execution_count": null,
   "id": "c469fb53-3cec-48b5-8d58-507dde0230ab",
   "metadata": {},
   "outputs": [],
   "source": []
  }
 ],
 "metadata": {
  "kernelspec": {
   "display_name": "Python 3 (ipykernel)",
   "language": "python",
   "name": "python3"
  },
  "language_info": {
   "codemirror_mode": {
    "name": "ipython",
    "version": 3
   },
   "file_extension": ".py",
   "mimetype": "text/x-python",
   "name": "python",
   "nbconvert_exporter": "python",
   "pygments_lexer": "ipython3",
   "version": "3.12.4"
  },
  "widgets": {
   "application/vnd.jupyter.widget-state+json": {
    "state": {},
    "version_major": 2,
    "version_minor": 0
   }
  }
 },
 "nbformat": 4,
 "nbformat_minor": 5
}
