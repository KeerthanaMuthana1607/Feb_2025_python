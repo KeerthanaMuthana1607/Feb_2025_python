{
 "cells": [
  {
   "cell_type": "code",
   "execution_count": 13,
   "id": "8af85ec4-232a-4c1d-975d-8d5036ee8124",
   "metadata": {},
   "outputs": [
    {
     "name": "stdin",
     "output_type": "stream",
     "text": [
      "Enter a number 13\n"
     ]
    },
    {
     "name": "stdout",
     "output_type": "stream",
     "text": [
      "Prime\n"
     ]
    }
   ],
   "source": [
    "number=eval(input(\"Enter a number\"))\n",
    "c=0\n",
    "for i in range(1,number+1):\n",
    "    if number%i==0:\n",
    "        c=c+1\n",
    "if c==2:\n",
    "    print(\"Prime\")\n",
    "else:\n",
    "    print(\"not prime\")"
   ]
  },
  {
   "cell_type": "code",
   "execution_count": 3,
   "id": "e5cd0658-a5bd-45ac-8ad9-887eb8cae75e",
   "metadata": {},
   "outputs": [
    {
     "name": "stdout",
     "output_type": "stream",
     "text": [
      "5 is an odd\n",
      "36 is an even\n",
      "83 is an odd\n",
      "52 is an even\n",
      "12 is an even\n",
      "The total number of evens are:3\n",
      "The total number of odds are:2\n"
     ]
    }
   ],
   "source": [
    "# wap ask the user take 5 random numbers\n",
    "# provide me that count\n",
    "# print in that how many are even and how many odd\n",
    "\n",
    "\n",
    "\n",
    "import random\n",
    "even_count,odd_count=0,0\n",
    "for i in range(5):\n",
    "    num1=random.randint(1,100)\n",
    "    if num1%2==0:\n",
    "        print(num1,\"is an even\")\n",
    "        even_count=even_count+1\n",
    "    else:\n",
    "        print(num1,\"is an odd\")\n",
    "        odd_count=odd_count+1\n",
    "print(f\"The total number of evens are:{even_count}\")\n",
    "print(f\"The total number of odds are:{odd_count}\")"
   ]
  },
  {
   "cell_type": "code",
   "execution_count": 20,
   "id": "e111222a-08dc-46bf-a550-129386850516",
   "metadata": {},
   "outputs": [
    {
     "name": "stdout",
     "output_type": "stream",
     "text": [
      "78 is an even\n",
      "8 is an even\n",
      "91 is an odd\n",
      "87 is an odd\n",
      "31 is an odd\n",
      "The total number of evens are:2\n",
      "The total number of odds are:3\n",
      "86\n",
      "209\n"
     ]
    }
   ],
   "source": [
    "import random\n",
    "\n",
    "even_count,odd_count=0,0\n",
    "even_sum,odd_sum=0,0\n",
    "\n",
    "for i in range(5):\n",
    "    \n",
    "    num1=random.randint(1,100)\n",
    "    \n",
    "    if num1%2==0:\n",
    "        print(f\"{num1} is an even\")\n",
    "        even_count=even_count+1\n",
    "        even_sum+=num1\n",
    "        \n",
    "    else:\n",
    "        print(f\"{num1} is an odd\")\n",
    "        odd_count=odd_count+1\n",
    "        odd_sum+=num1\n",
    "        \n",
    "print(f\"The total number of evens are:{even_count}\")\n",
    "print(f\"The total number of odds are:{odd_count}\")\n",
    "\n",
    "print(even_sum)\n",
    "print(odd_sum)"
   ]
  },
  {
   "cell_type": "markdown",
   "id": "66669899-8cc2-4231-be04-e47821268bca",
   "metadata": {},
   "source": [
    "**in operator**\n",
    "\n",
    "- in for loop iteration possible with 2 ways\n",
    "    - range\n",
    "    - in\n",
    "\n",
    "- range is math related word ,so it takes numbers\n",
    "\n",
    "- in operator directly access with characters\n",
    "\n",
    "- in the naive way in operator only for strings\n"
   ]
  },
  {
   "cell_type": "code",
   "execution_count": 27,
   "id": "edd61720-21a8-41e3-9203-ef93cadd5ec5",
   "metadata": {},
   "outputs": [
    {
     "data": {
      "text/plain": [
       "True"
      ]
     },
     "execution_count": 27,
     "metadata": {},
     "output_type": "execute_result"
    }
   ],
   "source": [
    "str1=\"python\"\n",
    "\n",
    "'p' in str1  # 'p' is avilable in str1\n",
    "'y' in str1\n",
    "'t' in str1\n",
    "'h' in str1\n",
    "'o' in str1\n",
    "'n' in str1\n",
    "\n"
   ]
  },
  {
   "cell_type": "code",
   "execution_count": 23,
   "id": "256cd02d-f819-4846-a641-127e15422d12",
   "metadata": {},
   "outputs": [
    {
     "data": {
      "text/plain": [
       "True"
      ]
     },
     "execution_count": 23,
     "metadata": {},
     "output_type": "execute_result"
    }
   ],
   "source": [
    "'y'in str1\n"
   ]
  },
  {
   "cell_type": "code",
   "execution_count": 24,
   "id": "5851a2c1-bfb5-47d2-aac0-b2a025d1fc97",
   "metadata": {},
   "outputs": [
    {
     "data": {
      "text/plain": [
       "False"
      ]
     },
     "execution_count": 24,
     "metadata": {},
     "output_type": "execute_result"
    }
   ],
   "source": [
    "'H' in str1"
   ]
  },
  {
   "cell_type": "code",
   "execution_count": 28,
   "id": "52de23e5-a0d9-48bb-86e0-500c74087ef0",
   "metadata": {},
   "outputs": [
    {
     "name": "stdout",
     "output_type": "stream",
     "text": [
      "p\n",
      "y\n",
      "t\n",
      "h\n",
      "o\n",
      "n\n"
     ]
    }
   ],
   "source": [
    "for i in str1:\n",
    "    print(i)"
   ]
  },
  {
   "cell_type": "code",
   "execution_count": 29,
   "id": "23532377-cb7e-4e5e-bb84-c9fa1e5c4c89",
   "metadata": {},
   "outputs": [
    {
     "name": "stdout",
     "output_type": "stream",
     "text": [
      "h\n",
      "e\n",
      "l\n",
      "l\n",
      "o\n"
     ]
    }
   ],
   "source": [
    "for i in 'hello':\n",
    "    print(i)\n",
    "    "
   ]
  },
  {
   "cell_type": "code",
   "execution_count": 5,
   "id": "f5e45a6f-80f5-4652-a41b-44690ee506b9",
   "metadata": {},
   "outputs": [
    {
     "ename": "TypeError",
     "evalue": "'str' object cannot be interpreted as an integer",
     "output_type": "error",
     "traceback": [
      "\u001b[1;31m---------------------------------------------------------------------------\u001b[0m",
      "\u001b[1;31mTypeError\u001b[0m                                 Traceback (most recent call last)",
      "Cell \u001b[1;32mIn[5], line 1\u001b[0m\n\u001b[1;32m----> 1\u001b[0m \u001b[38;5;28;01mfor\u001b[39;00m i \u001b[38;5;129;01min\u001b[39;00m \u001b[38;5;28mrange\u001b[39m(\u001b[38;5;124m'\u001b[39m\u001b[38;5;124mhello\u001b[39m\u001b[38;5;124m'\u001b[39m):\n\u001b[0;32m      2\u001b[0m     \u001b[38;5;28mprint\u001b[39m(i)\n",
      "\u001b[1;31mTypeError\u001b[0m: 'str' object cannot be interpreted as an integer"
     ]
    }
   ],
   "source": [
    "for i in range('hello'):\n",
    "    print(i)"
   ]
  },
  {
   "cell_type": "code",
   "execution_count": 31,
   "id": "3044120c-679a-4752-88e2-72e3bbd3a429",
   "metadata": {},
   "outputs": [
    {
     "ename": "NameError",
     "evalue": "name 'hello' is not defined",
     "output_type": "error",
     "traceback": [
      "\u001b[1;31m---------------------------------------------------------------------------\u001b[0m",
      "\u001b[1;31mNameError\u001b[0m                                 Traceback (most recent call last)",
      "Cell \u001b[1;32mIn[31], line 1\u001b[0m\n\u001b[1;32m----> 1\u001b[0m \u001b[38;5;28;01mfor\u001b[39;00m i \u001b[38;5;129;01min\u001b[39;00m \u001b[38;5;28mrange\u001b[39m(\u001b[38;5;28meval\u001b[39m(\u001b[38;5;124m'\u001b[39m\u001b[38;5;124mhello\u001b[39m\u001b[38;5;124m'\u001b[39m)):\n\u001b[0;32m      2\u001b[0m     \u001b[38;5;28mprint\u001b[39m(i)\n",
      "File \u001b[1;32m<string>:1\u001b[0m\n",
      "\u001b[1;31mNameError\u001b[0m: name 'hello' is not defined"
     ]
    }
   ],
   "source": [
    "for i in range(eval('hello')):\n",
    "    print(i)"
   ]
  },
  {
   "cell_type": "code",
   "execution_count": 7,
   "id": "500d9318-5d13-4b2c-837e-c928cddaa22c",
   "metadata": {},
   "outputs": [
    {
     "name": "stdout",
     "output_type": "stream",
     "text": [
      "0 1 2 3 4 "
     ]
    }
   ],
   "source": [
    "\n",
    "# It will print index numbers of a string\n",
    "\n",
    "for i in range(len('hello')):\n",
    "    print(i,end=\" \")"
   ]
  },
  {
   "cell_type": "markdown",
   "id": "c2069501-1d3b-4873-8469-79ac7d966d80",
   "metadata": {},
   "source": [
    "- range and eval will not process strings english characters\n",
    "\n",
    "- range is a data type\n",
    "\n",
    "- eval is not a data type"
   ]
  },
  {
   "cell_type": "code",
   "execution_count": 32,
   "id": "02e5281a-d91b-4c0b-9af5-4aea676d8072",
   "metadata": {},
   "outputs": [
    {
     "data": {
      "text/plain": [
       "False"
      ]
     },
     "execution_count": 32,
     "metadata": {},
     "output_type": "execute_result"
    }
   ],
   "source": [
    "'a'<'A'  # F\n",
    "'a'>'A'  # T\n",
    "'p'>'y'  # F"
   ]
  },
  {
   "cell_type": "markdown",
   "id": "519cce47-2cdf-4c8e-9f65-ea41339aa796",
   "metadata": {},
   "source": [
    "**ASCII**\n",
    "\n",
    "- American standard code for Information Interchange\n"
   ]
  },
  {
   "cell_type": "markdown",
   "id": "95752fdc-f58d-44dc-a047-15c39c7da4c3",
   "metadata": {},
   "source": [
    "**Ord-chr**\n",
    "\n",
    "- ord and chr are in-built functions\n",
    "\n",
    "- ord will give the ascii number of character \n",
    "\n",
    "- chr will give the character of a number"
   ]
  },
  {
   "cell_type": "code",
   "execution_count": 33,
   "id": "589f7a39-8838-438c-be1a-4cb841cee6d3",
   "metadata": {},
   "outputs": [
    {
     "data": {
      "text/plain": [
       "True"
      ]
     },
     "execution_count": 33,
     "metadata": {},
     "output_type": "execute_result"
    }
   ],
   "source": [
    "'a'>'A'  # 97>65"
   ]
  },
  {
   "cell_type": "code",
   "execution_count": 35,
   "id": "86b0ab8d-03a0-44e2-bae4-f06b5def6aa7",
   "metadata": {},
   "outputs": [
    {
     "data": {
      "text/plain": [
       "('A', 'a')"
      ]
     },
     "execution_count": 35,
     "metadata": {},
     "output_type": "execute_result"
    }
   ],
   "source": [
    "chr(65),chr(97)\n"
   ]
  },
  {
   "cell_type": "code",
   "execution_count": 36,
   "id": "e5307904-61dd-45f3-ad84-05d719fec792",
   "metadata": {},
   "outputs": [
    {
     "data": {
      "text/plain": [
       "97"
      ]
     },
     "execution_count": 36,
     "metadata": {},
     "output_type": "execute_result"
    }
   ],
   "source": [
    "ord('a')"
   ]
  },
  {
   "cell_type": "code",
   "execution_count": 38,
   "id": "2ce213b0-8b59-478b-b270-ab0684507e6b",
   "metadata": {},
   "outputs": [
    {
     "data": {
      "text/plain": [
       "122"
      ]
     },
     "execution_count": 38,
     "metadata": {},
     "output_type": "execute_result"
    }
   ],
   "source": [
    "ord('z')"
   ]
  },
  {
   "cell_type": "markdown",
   "id": "35f1ad2b-5c8f-408a-ba71-cc001c4edeb0",
   "metadata": {},
   "source": [
    "**task-1**\n",
    "\n",
    "- print all ascii numbeer of A to Z using for loop\n",
    "\n",
    "\n"
   ]
  },
  {
   "cell_type": "markdown",
   "id": "8d8db02b-8648-448b-a406-0328f05af310",
   "metadata": {},
   "source": [
    "package name:string\n",
    "import string\n",
    "dir string\n",
    "find out the method which will give capital letters\n",
    "\n",
    "packagename.methodname"
   ]
  },
  {
   "cell_type": "code",
   "execution_count": 40,
   "id": "bb95b2be-8c74-4fb1-a256-dfb789866877",
   "metadata": {},
   "outputs": [
    {
     "data": {
      "text/plain": [
       "'ABCDEFGHIJKLMNOPQRSTUVWXYZ'"
      ]
     },
     "execution_count": 40,
     "metadata": {},
     "output_type": "execute_result"
    }
   ],
   "source": [
    "import string\n",
    "\n",
    "dir(string)\n",
    "string.ascii_uppercase"
   ]
  },
  {
   "cell_type": "code",
   "execution_count": 11,
   "id": "30644da8-956e-4203-9927-a1b4121f1592",
   "metadata": {},
   "outputs": [
    {
     "name": "stdout",
     "output_type": "stream",
     "text": [
      "A B C D E F G H I J K L M N O P Q R S T U V W X Y Z "
     ]
    }
   ],
   "source": [
    "import string\n",
    "for i in string.ascii_uppercase:\n",
    "    print(i,end=' ')\n",
    "\n",
    "\n"
   ]
  },
  {
   "cell_type": "code",
   "execution_count": 13,
   "id": "e9787a3d-4aa8-41d5-8fe1-de5642e9fbab",
   "metadata": {},
   "outputs": [
    {
     "name": "stdout",
     "output_type": "stream",
     "text": [
      "a b c d e f g h i j k l m n o p q r s t u v w x y z "
     ]
    }
   ],
   "source": [
    "for i in string.ascii_lowercase:\n",
    "    print(i,end=\" \")\n",
    "    "
   ]
  },
  {
   "cell_type": "code",
   "execution_count": 44,
   "id": "d0af41aa-8055-4fcc-b18f-b0fc4af6fbe0",
   "metadata": {},
   "outputs": [
    {
     "data": {
      "text/plain": [
       "['Formatter',\n",
       " 'Template',\n",
       " '_ChainMap',\n",
       " '__all__',\n",
       " '__builtins__',\n",
       " '__cached__',\n",
       " '__doc__',\n",
       " '__file__',\n",
       " '__loader__',\n",
       " '__name__',\n",
       " '__package__',\n",
       " '__spec__',\n",
       " '_re',\n",
       " '_sentinel_dict',\n",
       " '_string',\n",
       " 'ascii_letters',\n",
       " 'ascii_lowercase',\n",
       " 'ascii_uppercase',\n",
       " 'capwords',\n",
       " 'digits',\n",
       " 'hexdigits',\n",
       " 'octdigits',\n",
       " 'printable',\n",
       " 'punctuation',\n",
       " 'whitespace']"
      ]
     },
     "execution_count": 44,
     "metadata": {},
     "output_type": "execute_result"
    }
   ],
   "source": [
    "dir(string)"
   ]
  },
  {
   "cell_type": "code",
   "execution_count": 46,
   "id": "5f7bb275-861c-4297-9e59-6f23d9a78f30",
   "metadata": {},
   "outputs": [
    {
     "data": {
      "text/plain": [
       "'abcdefghijklmnopqrstuvwxyzABCDEFGHIJKLMNOPQRSTUVWXYZ'"
      ]
     },
     "execution_count": 46,
     "metadata": {},
     "output_type": "execute_result"
    }
   ],
   "source": [
    "string.ascii_letters"
   ]
  },
  {
   "cell_type": "code",
   "execution_count": 47,
   "id": "c4470a9e-c3df-4c1a-ab05-bc3a3cf5c6cd",
   "metadata": {},
   "outputs": [
    {
     "data": {
      "text/plain": [
       "'abcdefghijklmnopqrstuvwxyz'"
      ]
     },
     "execution_count": 47,
     "metadata": {},
     "output_type": "execute_result"
    }
   ],
   "source": [
    "string.ascii_lowercase"
   ]
  },
  {
   "cell_type": "code",
   "execution_count": 48,
   "id": "2bc39fc4-b9c3-4cbc-8cc8-71a0fce44088",
   "metadata": {},
   "outputs": [
    {
     "data": {
      "text/plain": [
       "'ABCDEFGHIJKLMNOPQRSTUVWXYZ'"
      ]
     },
     "execution_count": 48,
     "metadata": {},
     "output_type": "execute_result"
    }
   ],
   "source": [
    "string.ascii_uppercase"
   ]
  },
  {
   "cell_type": "code",
   "execution_count": 49,
   "id": "82f76148-9ef0-461c-9746-fe2255803c52",
   "metadata": {},
   "outputs": [
    {
     "data": {
      "text/plain": [
       "<function string.capwords(s, sep=None)>"
      ]
     },
     "execution_count": 49,
     "metadata": {},
     "output_type": "execute_result"
    }
   ],
   "source": [
    "string.capwords"
   ]
  },
  {
   "cell_type": "code",
   "execution_count": 15,
   "id": "82da2251-4355-4e6c-afa9-fe773ff9493e",
   "metadata": {},
   "outputs": [
    {
     "ename": "TypeError",
     "evalue": "capwords() missing 1 required positional argument: 's'",
     "output_type": "error",
     "traceback": [
      "\u001b[1;31m---------------------------------------------------------------------------\u001b[0m",
      "\u001b[1;31mTypeError\u001b[0m                                 Traceback (most recent call last)",
      "Cell \u001b[1;32mIn[15], line 1\u001b[0m\n\u001b[1;32m----> 1\u001b[0m string\u001b[38;5;241m.\u001b[39mcapwords()\n",
      "\u001b[1;31mTypeError\u001b[0m: capwords() missing 1 required positional argument: 's'"
     ]
    }
   ],
   "source": [
    "string.capwords()"
   ]
  },
  {
   "cell_type": "code",
   "execution_count": 51,
   "id": "5fb35fb5-fa72-4fb6-95c4-b5c4a354faec",
   "metadata": {},
   "outputs": [
    {
     "ename": "NameError",
     "evalue": "name 's' is not defined",
     "output_type": "error",
     "traceback": [
      "\u001b[1;31m---------------------------------------------------------------------------\u001b[0m",
      "\u001b[1;31mNameError\u001b[0m                                 Traceback (most recent call last)",
      "Cell \u001b[1;32mIn[51], line 1\u001b[0m\n\u001b[1;32m----> 1\u001b[0m string\u001b[38;5;241m.\u001b[39mcapwords(s)\n",
      "\u001b[1;31mNameError\u001b[0m: name 's' is not defined"
     ]
    }
   ],
   "source": [
    "string.capwords(s)"
   ]
  },
  {
   "cell_type": "code",
   "execution_count": 52,
   "id": "e131379a-1189-49d7-8206-b02afe14f574",
   "metadata": {},
   "outputs": [
    {
     "data": {
      "text/plain": [
       "'S'"
      ]
     },
     "execution_count": 52,
     "metadata": {},
     "output_type": "execute_result"
    }
   ],
   "source": [
    "string.capwords('s')"
   ]
  },
  {
   "cell_type": "code",
   "execution_count": 16,
   "id": "15a8b07d-a9c1-48ab-8e3e-dc9182879d7a",
   "metadata": {},
   "outputs": [
    {
     "data": {
      "text/plain": [
       "'A'"
      ]
     },
     "execution_count": 16,
     "metadata": {},
     "output_type": "execute_result"
    }
   ],
   "source": [
    "string.capwords('a')"
   ]
  },
  {
   "cell_type": "code",
   "execution_count": 54,
   "id": "8e565e89-79b5-4f92-9f72-768369be71c2",
   "metadata": {},
   "outputs": [
    {
     "name": "stdout",
     "output_type": "stream",
     "text": [
      "a:97 b:98 c:99 d:100 e:101 f:102 g:103 h:104 i:105 j:106 k:107 l:108 m:109 n:110 o:111 p:112 q:113 r:114 s:115 t:116 u:117 v:118 w:119 x:120 y:121 z:122 "
     ]
    }
   ],
   "source": [
    "for i in string.ascii_lowercase:\n",
    "    print(f\"{i}:{ord(i)}\",end=\" \")"
   ]
  },
  {
   "cell_type": "code",
   "execution_count": 55,
   "id": "41c9abe0-53fb-43b0-9af4-4594cdba3a3a",
   "metadata": {},
   "outputs": [
    {
     "name": "stdout",
     "output_type": "stream",
     "text": [
      "!:33 \":34 #:35 $:36 %:37 &:38 ':39 (:40 ):41 *:42 +:43 ,:44 -:45 .:46 /:47 ::58 ;:59 <:60 =:61 >:62 ?:63 @:64 [:91 \\:92 ]:93 ^:94 _:95 `:96 {:123 |:124 }:125 ~:126 "
     ]
    }
   ],
   "source": [
    "for i in string.punctuation:\n",
    "    print(f\"{i}:{ord(i)}\",end=\" \")"
   ]
  },
  {
   "cell_type": "code",
   "execution_count": 61,
   "id": "778fc39c-1db3-4808-8ccf-f2c15f17f1c0",
   "metadata": {},
   "outputs": [
    {
     "name": "stdout",
     "output_type": "stream",
     "text": [
      "1:\u0001 2:\u0002 3:\u0003 4:\u0004 5:\u0005 6:\u0006 7:\u0007 8 9:\t 10:\n",
      " 14:\u000e 15:\u000f 16:\u0010 17:\u0011 18:\u0012 19:\u0013 20:\u0014 21:\u0015 22:\u0016 23:\u0017 24:\u0018 25:\u0019 26:\u001a 27:\u001b 28:\u001c",
      " 29:\u001d",
      " 30:\u001e",
      " 31:\u001f 32:  33:! 34:\" 35:# 36:$ 37:% 38:& 39:' 40:( 41:) 42:* 43:+ 44:, 45:- 46:. 47:/ 48:0 49:1 50:2 51:3 52:4 53:5 54:6 55:7 56:8 57:9 58:: 59:; 60:< 61:= 62:> 63:? 64:@ 65:A 66:B 67:C 68:D 69:E 70:F 71:G 72:H 73:I 74:J 75:K 76:L 77:M 78:N 79:O 80:P 81:Q 82:R 83:S 84:T 85:U 86:V 87:W 88:X 89:Y 90:Z 91:[ 92:\\ 93:] 94:^ 95:_ 96:` 97:a 98:b 99:c 100:d 101:e 102:f 103:g 104:h 105:i 106:j 107:k 108:l 109:m 110:n 111:o 112:p 113:q 114:r 115:s 116:t 117:u 118:v 119:w 120:x 121:y 122:z 123:{ 124:| 125:} 126:~ 127: 128: 129: 130: 131: 132: 133:",
      " 134: 135: 136: 137: 138: 139: 140: 141: 142: 143: 144: 145: 146: 147: 148: 149: 150: 151: 152: 153: 154: 155: 156: 157: 158: 159: 160:  161:¡ 162:¢ 163:£ 164:¤ 165:¥ 166:¦ 167:§ 168:¨ 169:© 170:ª 171:« 172:¬ 173:­ 174:® 175:¯ 176:° 177:± 178:² 179:³ 180:´ 181:µ 182:¶ 183:· 184:¸ 185:¹ 186:º 187:» 188:¼ 189:½ 190:¾ 191:¿ 192:À 193:Á 194:Â 195:Ã 196:Ä 197:Å 198:Æ 199:Ç "
     ]
    }
   ],
   "source": [
    "for i in range(1,200):\n",
    "    print(f\"{i}:{chr(i)}\",end=\" \")\n",
    "    "
   ]
  },
  {
   "cell_type": "code",
   "execution_count": 62,
   "id": "5dc44fd4-5703-427b-80a0-f95813ddc2f4",
   "metadata": {},
   "outputs": [
    {
     "name": "stdout",
     "output_type": "stream",
     "text": [
      "2308:ऄ 2309:अ 2310:आ 2311:इ 2312:ई 2313:उ 2314:ऊ 2315:ऋ 2316:ऌ 2317:ऍ 2318:ऎ 2319:ए 2320:ऐ 2321:ऑ 2322:ऒ 2323:ओ 2324:औ 2325:क 2326:ख 2327:ग 2328:घ 2329:ङ 2330:च 2331:छ 2332:ज 2333:झ 2334:ञ 2335:ट 2336:ठ 2337:ड 2338:ढ 2339:ण 2340:त 2341:थ 2342:द 2343:ध 2344:न 2345:ऩ 2346:प 2347:फ 2348:ब 2349:भ 2350:म 2351:य 2352:र 2353:ऱ 2354:ल 2355:ळ 2356:ऴ 2357:व 2358:श 2359:ष 2360:स 2361:ह 2362:ऺ 2363:ऻ 2364:़ 2365:ऽ 2366:ा 2367:ि 2368:ी 2369:ु 2370:ू 2371:ृ 2372:ॄ 2373:ॅ 2374:ॆ 2375:े 2376:ै 2377:ॉ 2378:ॊ 2379:ो 2380:ौ 2381:् 2382:ॎ 2383:ॏ 2384:ॐ 2385:॑ 2386:॒ 2387:॓ 2388:॔ 2389:ॕ 2390:ॖ 2391:ॗ 2392:क़ 2393:ख़ 2394:ग़ 2395:ज़ 2396:ड़ 2397:ढ़ 2398:फ़ 2399:य़ 2400:ॠ 2401:ॡ 2402:ॢ 2403:ॣ 2404:। 2405:॥ 2406:० 2407:१ 2408:२ 2409:३ 2410:४ 2411:५ 2412:६ 2413:७ 2414:८ 2415:९ 2416:॰ 2417:ॱ 2418:ॲ 2419:ॳ 2420:ॴ 2421:ॵ 2422:ॶ 2423:ॷ 2424:ॸ 2425:ॹ 2426:ॺ 2427:ॻ 2428:ॼ 2429:ॽ 2430:ॾ 2431:ॿ 2432:ঀ 2433:ঁ 2434:ং 2435:ঃ 2436:঄ 2437:অ 2438:আ 2439:ই 2440:ঈ 2441:উ 2442:ঊ 2443:ঋ 2444:ঌ 2445:঍ 2446:঎ 2447:এ 2448:ঐ 2449:঑ 2450:঒ 2451:ও 2452:ঔ 2453:ক 2454:খ 2455:গ 2456:ঘ 2457:ঙ 2458:চ 2459:ছ 2460:জ 2461:ঝ 2462:ঞ 2463:ট 2464:ঠ 2465:ড 2466:ঢ 2467:ণ 2468:ত 2469:থ 2470:দ 2471:ধ 2472:ন 2473:঩ 2474:প 2475:ফ 2476:ব 2477:ভ 2478:ম 2479:য 2480:র 2481:঱ 2482:ল 2483:঳ 2484:঴ 2485:঵ 2486:শ 2487:ষ 2488:স 2489:হ 2490:঺ 2491:঻ 2492:় 2493:ঽ 2494:া 2495:ি 2496:ী 2497:ু 2498:ূ 2499:ৃ 2500:ৄ 2501:৅ 2502:৆ 2503:ে 2504:ৈ 2505:৉ 2506:৊ 2507:ো 2508:ৌ 2509:্ 2510:ৎ 2511:৏ 2512:৐ 2513:৑ 2514:৒ 2515:৓ 2516:৔ 2517:৕ 2518:৖ 2519:ৗ 2520:৘ 2521:৙ 2522:৚ 2523:৛ 2524:ড় 2525:ঢ় 2526:৞ 2527:য় 2528:ৠ 2529:ৡ 2530:ৢ 2531:ৣ 2532:৤ 2533:৥ 2534:০ 2535:১ 2536:২ 2537:৩ 2538:৪ 2539:৫ 2540:৬ 2541:৭ 2542:৮ 2543:৯ 2544:ৰ 2545:ৱ 2546:৲ 2547:৳ 2548:৴ 2549:৵ 2550:৶ 2551:৷ 2552:৸ 2553:৹ 2554:৺ 2555:৻ 2556:ৼ 2557:৽ 2558:৾ 2559:৿ 2560:਀ 2561:ਁ 2562:ਂ 2563:ਃ 2564:਄ 2565:ਅ 2566:ਆ 2567:ਇ 2568:ਈ 2569:ਉ 2570:ਊ 2571:਋ 2572:਌ 2573:਍ 2574:਎ 2575:ਏ 2576:ਐ 2577:਑ 2578:਒ 2579:ਓ 2580:ਔ 2581:ਕ 2582:ਖ 2583:ਗ 2584:ਘ 2585:ਙ 2586:ਚ 2587:ਛ 2588:ਜ 2589:ਝ 2590:ਞ 2591:ਟ 2592:ਠ 2593:ਡ 2594:ਢ 2595:ਣ 2596:ਤ 2597:ਥ 2598:ਦ 2599:ਧ "
     ]
    }
   ],
   "source": [
    "for i in range(2308,2600):\n",
    "    print(f\"{i}:{chr(i)}\",end=\" \")\n",
    "    "
   ]
  },
  {
   "cell_type": "code",
   "execution_count": 63,
   "id": "d8ff3389-f7fe-49d0-b680-4c68263ebfb3",
   "metadata": {},
   "outputs": [
    {
     "name": "stdout",
     "output_type": "stream",
     "text": [
      "3077:అ 3078:ఆ 3079:ఇ 3080:ఈ 3081:ఉ 3082:ఊ 3083:ఋ 3084:ఌ 3085:఍ 3086:ఎ 3087:ఏ 3088:ఐ 3089:఑ 3090:ఒ 3091:ఓ 3092:ఔ 3093:క 3094:ఖ 3095:గ 3096:ఘ 3097:ఙ 3098:చ 3099:ఛ 3100:జ 3101:ఝ 3102:ఞ 3103:ట 3104:ఠ 3105:డ 3106:ఢ 3107:ణ 3108:త 3109:థ 3110:ద 3111:ధ 3112:న 3113:఩ 3114:ప 3115:ఫ 3116:బ 3117:భ 3118:మ 3119:య 3120:ర 3121:ఱ 3122:ల 3123:ళ 3124:ఴ 3125:వ 3126:శ 3127:ష 3128:స 3129:హ 3130:఺ 3131:఻ 3132:఼ 3133:ఽ 3134:ా 3135:ి 3136:ీ 3137:ు 3138:ూ 3139:ృ 3140:ౄ 3141:౅ 3142:ె 3143:ే 3144:ై 3145:౉ 3146:ొ 3147:ో 3148:ౌ 3149:్ 3150:౎ 3151:౏ 3152:౐ 3153:౑ 3154:౒ 3155:౓ 3156:౔ 3157:ౕ 3158:ౖ 3159:౗ 3160:ౘ 3161:ౙ 3162:ౚ 3163:౛ 3164:౜ 3165:ౝ 3166:౞ 3167:౟ 3168:ౠ 3169:ౡ 3170:ౢ 3171:ౣ 3172:౤ 3173:౥ 3174:౦ 3175:౧ 3176:౨ 3177:౩ 3178:౪ 3179:౫ 3180:౬ 3181:౭ 3182:౮ 3183:౯ 3184:౰ 3185:౱ 3186:౲ 3187:౳ 3188:౴ 3189:౵ 3190:౶ 3191:౷ 3192:౸ 3193:౹ 3194:౺ 3195:౻ 3196:౼ 3197:౽ 3198:౾ 3199:౿ 3200:ಀ 3201:ಁ 3202:ಂ 3203:ಃ 3204:಄ 3205:ಅ 3206:ಆ 3207:ಇ 3208:ಈ 3209:ಉ 3210:ಊ 3211:ಋ 3212:ಌ 3213:಍ 3214:ಎ 3215:ಏ 3216:ಐ 3217:಑ 3218:ಒ 3219:ಓ 3220:ಔ 3221:ಕ 3222:ಖ 3223:ಗ 3224:ಘ 3225:ಙ 3226:ಚ 3227:ಛ 3228:ಜ 3229:ಝ 3230:ಞ 3231:ಟ 3232:ಠ 3233:ಡ 3234:ಢ 3235:ಣ 3236:ತ 3237:ಥ 3238:ದ 3239:ಧ 3240:ನ 3241:಩ 3242:ಪ 3243:ಫ 3244:ಬ 3245:ಭ 3246:ಮ 3247:ಯ 3248:ರ 3249:ಱ 3250:ಲ 3251:ಳ 3252:಴ 3253:ವ 3254:ಶ 3255:ಷ 3256:ಸ 3257:ಹ 3258:಺ 3259:಻ 3260:಼ 3261:ಽ 3262:ಾ 3263:ಿ 3264:ೀ 3265:ು 3266:ೂ 3267:ೃ 3268:ೄ 3269:೅ 3270:ೆ 3271:ೇ 3272:ೈ 3273:೉ 3274:ೊ 3275:ೋ 3276:ೌ 3277:್ 3278:೎ 3279:೏ 3280:೐ 3281:೑ 3282:೒ 3283:೓ 3284:೔ 3285:ೕ 3286:ೖ 3287:೗ 3288:೘ 3289:೙ 3290:೚ 3291:೛ 3292:೜ 3293:ೝ 3294:ೞ 3295:೟ 3296:ೠ 3297:ೡ 3298:ೢ 3299:ೣ 3300:೤ 3301:೥ 3302:೦ 3303:೧ 3304:೨ 3305:೩ 3306:೪ 3307:೫ 3308:೬ 3309:೭ 3310:೮ 3311:೯ 3312:೰ 3313:ೱ 3314:ೲ 3315:ೳ 3316:೴ 3317:೵ 3318:೶ 3319:೷ 3320:೸ 3321:೹ 3322:೺ 3323:೻ 3324:೼ 3325:೽ 3326:೾ 3327:೿ 3328:ഀ 3329:ഁ 3330:ം 3331:ഃ 3332:ഄ "
     ]
    }
   ],
   "source": [
    "for i in range(3077,3333):\n",
    "    print(f\"{i}:{chr(i)}\",end=\" \")\n",
    "    "
   ]
  },
  {
   "cell_type": "code",
   "execution_count": 64,
   "id": "7d328453-5e28-4694-9216-a05cb632b690",
   "metadata": {},
   "outputs": [
    {
     "name": "stdout",
     "output_type": "stream",
     "text": [
      "9758:☞ 9759:☟ 9760:☠ 9761:☡ 9762:☢ 9763:☣ 9764:☤ 9765:☥ 9766:☦ 9767:☧ 9768:☨ 9769:☩ 9770:☪ 9771:☫ 9772:☬ 9773:☭ 9774:☮ 9775:☯ 9776:☰ 9777:☱ 9778:☲ 9779:☳ 9780:☴ 9781:☵ 9782:☶ 9783:☷ 9784:☸ 9785:☹ 9786:☺ 9787:☻ 9788:☼ 9789:☽ 9790:☾ 9791:☿ 9792:♀ 9793:♁ 9794:♂ 9795:♃ 9796:♄ 9797:♅ 9798:♆ 9799:♇ 9800:♈ 9801:♉ 9802:♊ 9803:♋ 9804:♌ 9805:♍ 9806:♎ 9807:♏ 9808:♐ 9809:♑ 9810:♒ 9811:♓ 9812:♔ 9813:♕ 9814:♖ 9815:♗ 9816:♘ 9817:♙ 9818:♚ 9819:♛ 9820:♜ 9821:♝ 9822:♞ 9823:♟ 9824:♠ 9825:♡ 9826:♢ 9827:♣ 9828:♤ 9829:♥ 9830:♦ 9831:♧ 9832:♨ 9833:♩ 9834:♪ 9835:♫ 9836:♬ 9837:♭ 9838:♮ 9839:♯ 9840:♰ 9841:♱ 9842:♲ 9843:♳ 9844:♴ 9845:♵ 9846:♶ 9847:♷ 9848:♸ 9849:♹ 9850:♺ 9851:♻ 9852:♼ 9853:♽ 9854:♾ 9855:♿ 9856:⚀ 9857:⚁ 9858:⚂ 9859:⚃ 9860:⚄ 9861:⚅ 9862:⚆ 9863:⚇ 9864:⚈ 9865:⚉ 9866:⚊ 9867:⚋ 9868:⚌ 9869:⚍ 9870:⚎ 9871:⚏ 9872:⚐ 9873:⚑ 9874:⚒ 9875:⚓ 9876:⚔ 9877:⚕ 9878:⚖ 9879:⚗ 9880:⚘ 9881:⚙ 9882:⚚ 9883:⚛ 9884:⚜ 9885:⚝ 9886:⚞ 9887:⚟ 9888:⚠ 9889:⚡ 9890:⚢ 9891:⚣ 9892:⚤ 9893:⚥ 9894:⚦ 9895:⚧ 9896:⚨ 9897:⚩ 9898:⚪ 9899:⚫ 9900:⚬ 9901:⚭ 9902:⚮ 9903:⚯ 9904:⚰ 9905:⚱ 9906:⚲ 9907:⚳ 9908:⚴ 9909:⚵ 9910:⚶ 9911:⚷ 9912:⚸ 9913:⚹ 9914:⚺ 9915:⚻ 9916:⚼ 9917:⚽ 9918:⚾ 9919:⚿ 9920:⛀ 9921:⛁ 9922:⛂ 9923:⛃ 9924:⛄ 9925:⛅ 9926:⛆ 9927:⛇ 9928:⛈ 9929:⛉ 9930:⛊ 9931:⛋ 9932:⛌ 9933:⛍ 9934:⛎ 9935:⛏ 9936:⛐ 9937:⛑ 9938:⛒ 9939:⛓ 9940:⛔ 9941:⛕ 9942:⛖ 9943:⛗ 9944:⛘ 9945:⛙ 9946:⛚ 9947:⛛ 9948:⛜ 9949:⛝ 9950:⛞ 9951:⛟ 9952:⛠ 9953:⛡ 9954:⛢ 9955:⛣ 9956:⛤ 9957:⛥ 9958:⛦ 9959:⛧ 9960:⛨ 9961:⛩ 9962:⛪ 9963:⛫ 9964:⛬ 9965:⛭ 9966:⛮ 9967:⛯ 9968:⛰ 9969:⛱ 9970:⛲ 9971:⛳ 9972:⛴ 9973:⛵ 9974:⛶ 9975:⛷ 9976:⛸ 9977:⛹ 9978:⛺ 9979:⛻ 9980:⛼ 9981:⛽ 9982:⛾ 9983:⛿ 9984:✀ 9985:✁ 9986:✂ 9987:✃ 9988:✄ 9989:✅ 9990:✆ 9991:✇ 9992:✈ 9993:✉ 9994:✊ 9995:✋ 9996:✌ 9997:✍ 9998:✎ 9999:✏ "
     ]
    }
   ],
   "source": [
    "for i in range(9758,10000):\n",
    "    print(f\"{i}:{chr(i)}\",end=\" \")\n",
    "    "
   ]
  },
  {
   "cell_type": "code",
   "execution_count": null,
   "id": "5d74b9f2-3a6e-4cbb-9ecd-e4707bbed9ed",
   "metadata": {},
   "outputs": [],
   "source": []
  }
 ],
 "metadata": {
  "kernelspec": {
   "display_name": "Python 3 (ipykernel)",
   "language": "python",
   "name": "python3"
  },
  "language_info": {
   "codemirror_mode": {
    "name": "ipython",
    "version": 3
   },
   "file_extension": ".py",
   "mimetype": "text/x-python",
   "name": "python",
   "nbconvert_exporter": "python",
   "pygments_lexer": "ipython3",
   "version": "3.12.4"
  },
  "widgets": {
   "application/vnd.jupyter.widget-state+json": {
    "state": {},
    "version_major": 2,
    "version_minor": 0
   }
  }
 },
 "nbformat": 4,
 "nbformat_minor": 5
}
