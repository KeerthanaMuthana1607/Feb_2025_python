{
 "cells": [
  {
   "cell_type": "markdown",
   "id": "08cfcd81-92fb-465e-b0fd-d0d67ec04410",
   "metadata": {},
   "source": [
    "**Function with arguments**"
   ]
  },
  {
   "cell_type": "code",
   "execution_count": 8,
   "id": "2dfa05a8-aa91-4b9f-914a-4a4e170a2c75",
   "metadata": {},
   "outputs": [
    {
     "name": "stdout",
     "output_type": "stream",
     "text": [
      "The area of the right angle triangle is:100\n"
     ]
    }
   ],
   "source": [
    "# Q1) WAP \n",
    "def triangle(height,breadth):\n",
    "    # height=eval(input(\"Enter the height:\"))\n",
    "    # breadth=eval(input(\"Enter the breadth:\"))\n",
    "    area=round(1/2*height*breadth)\n",
    "    print(f\"The area of the right angle triangle is:{area}\")\n",
    "triangle(10,20)"
   ]
  },
  {
   "cell_type": "code",
   "execution_count": 3,
   "id": "39b07718-140c-4318-a6ec-bc8b37dc470c",
   "metadata": {},
   "outputs": [
    {
     "name": "stdin",
     "output_type": "stream",
     "text": [
      "enter the radius: 15\n"
     ]
    },
    {
     "name": "stdout",
     "output_type": "stream",
     "text": [
      "The area of the circle is:706\n"
     ]
    }
   ],
   "source": [
    "# Q2)  WAP ask the user take the radius of the circle\n",
    "# calculate the area of the circle\n",
    "# Formula: pi*r*r where pi=3.14\n",
    "\n",
    "def circle(radius):\n",
    "    radius=eval(input(\"enter the radius:\"))\n",
    "    pi=3.14\n",
    "    area=round(pi*radius*radius)\n",
    "    print(f\"The area of the circle is:{area}\")\n",
    "circle(10)"
   ]
  },
  {
   "cell_type": "code",
   "execution_count": 4,
   "id": "b452189e-5b9f-446c-a7b8-cb7ea6fc95bc",
   "metadata": {},
   "outputs": [
    {
     "name": "stdout",
     "output_type": "stream",
     "text": [
      "The area of the 10 and 15 is:150\n"
     ]
    }
   ],
   "source": [
    "# Q3) WAP to ask user take the length and breadth\n",
    "# calculate the area of the rectangle\n",
    "# Formula :length*breadth\n",
    "\n",
    "def rectangle(length,breadth):\n",
    "    # length=eval(input(\"Enter the length:\"))\n",
    "    # breadth=eval(input(\"Enter the breadth:\"))\n",
    "    area=length*breadth\n",
    "    print(f\"The area of the {length} and {breadth} is:{area}\")\n",
    "rectangle(10,15)"
   ]
  },
  {
   "cell_type": "code",
   "execution_count": 5,
   "id": "5e6490ee-fdfc-4cc5-b85b-83ebeae7a614",
   "metadata": {},
   "outputs": [
    {
     "name": "stdout",
     "output_type": "stream",
     "text": [
      "Total bill is:11500.0\n"
     ]
    }
   ],
   "source": [
    "# Q4) WAP ask the user how much bill he wants to pay \n",
    "#                     how much tip percentage he wants to give\n",
    "#                     calculate the total bill amount\n",
    "# bill amount=1000\n",
    "# you want to give 10% tip = 1000*10/100\n",
    "# total bill=1000+100=1100\n",
    "\n",
    "\n",
    "def bill(bill_amount,tip_percentage):\n",
    "    # bill_amount=eval(input(\"Enter the bill amount:\"))\n",
    "    # tip_percentage=eval(input(\"Enter the tip percentage:\"))\n",
    "    tip_amount=bill_amount*tip_percentage/100\n",
    "    total_bill=bill_amount+tip_amount\n",
    "    print(f\"Total bill is:{total_bill}\")\n",
    "bill(10000,15)"
   ]
  },
  {
   "cell_type": "code",
   "execution_count": 12,
   "id": "c829b6c6-47dc-4b14-b123-26254f08d757",
   "metadata": {},
   "outputs": [
    {
     "name": "stdout",
     "output_type": "stream",
     "text": [
      "The greatest number is 76.76\n"
     ]
    }
   ],
   "source": [
    "# Q5)\n",
    "def greatest_num(num1,num2):\n",
    "    # num1=eval(input(\"Enter a value1:\"))\n",
    "    # num2=eval(input(\"Enter a value2:\"))\n",
    "    if num1>num2:\n",
    "        print(f\"The greatest number is {num1}\")\n",
    "    else:\n",
    "        print(f\"The greatest number is {num2}\")\n",
    "greatest_num(76.76,76.67)\n"
   ]
  },
  {
   "cell_type": "code",
   "execution_count": 15,
   "id": "3173a093-f786-4c1b-9c87-00f51ac2f157",
   "metadata": {},
   "outputs": [
    {
     "name": "stdout",
     "output_type": "stream",
     "text": [
      "Free ride\n"
     ]
    }
   ],
   "source": [
    "# Q6) WAP ask the user enter the distance\n",
    "# if the distance  >25 ,the ask the user enter the charge\n",
    "# and print the total charge\n",
    "# otherwise (distance<25) print free ride\n",
    "\n",
    "def distance(distance,charge):\n",
    "    # distance=eval(input(\"Enter the distance:\"))\n",
    "    if distance>25:\n",
    "        # charge=eval(input(\"Enter the charge:\"))\n",
    "        total_charge=distance*charge\n",
    "        print(f\"The total charge is {total_charge}\")\n",
    "    else:\n",
    "        print(\"Free ride\")\n",
    "\n",
    "distance(10,10)\n",
    "\n",
    "\n",
    "#     (OR)\n",
    "\n",
    "# in place of else you can write if also#\n",
    "# if distance<25:\n",
    "#     print(\"Free ride\")\n",
    "    \n",
    "    "
   ]
  },
  {
   "cell_type": "code",
   "execution_count": 17,
   "id": "b5007a72-ed8d-4525-b05a-87f36464dbb5",
   "metadata": {},
   "outputs": [
    {
     "name": "stdin",
     "output_type": "stream",
     "text": [
      "Enter the number: 3\n"
     ]
    },
    {
     "name": "stdout",
     "output_type": "stream",
     "text": [
      "The 3 is a odd number\n"
     ]
    }
   ],
   "source": [
    "# Q7)even or odd in without arguments\n",
    "def even_odd():\n",
    "    num=eval(input(\"Enter the number:\"))\n",
    "    if num%2==0:\n",
    "        print(f\"The {num} is even number\")\n",
    "    else:\n",
    "        print(f\"The {num} is a odd number\")\n",
    "even_odd()"
   ]
  },
  {
   "cell_type": "markdown",
   "id": "67b7452a-7115-4eb5-9fbe-664fb82eda6e",
   "metadata": {},
   "source": [
    "- Try and exception should add inside the function call\n",
    "- We already know that ,defining the function will not give any error"
   ]
  },
  {
   "cell_type": "code",
   "execution_count": 6,
   "id": "e8033277-a6ca-419b-b86f-4103b94b0f9a",
   "metadata": {},
   "outputs": [
    {
     "name": "stdout",
     "output_type": "stream",
     "text": [
      "name 'numm' is not defined\n"
     ]
    }
   ],
   "source": [
    "# function with arguments\n",
    "def even_odd(num):\n",
    "    # num=eval(input(\"Enter the number:\"))\n",
    "    try:\n",
    "        if num%2==0:\n",
    "            print(f\"The {numm}is even number\")\n",
    "        else:\n",
    "            print(f\"The {num} is a odd number\")\n",
    "    except Exception as e:\n",
    "        print(e)\n",
    "even_odd(4)"
   ]
  },
  {
   "cell_type": "code",
   "execution_count": 25,
   "id": "82804ae3-4646-451b-93e4-01af35d951b8",
   "metadata": {},
   "outputs": [
    {
     "name": "stdout",
     "output_type": "stream",
     "text": [
      "Total bill is:11500.0\n"
     ]
    }
   ],
   "source": [
    "def bill(bill_amount,tip_percentage):\n",
    "    try:\n",
    "        # bill_amount=eval(input(\"Enter the bill amount:\"))\n",
    "        # tip_percentage=eval(input(\"Enter the tip percentage:\"))\n",
    "        tip_amount=bill_amount*tip_percentage/100\n",
    "        total_bill=bill_amount+tip_amount\n",
    "        print(f\"Total bill is:{total_bill}\")\n",
    "    except Exception as e:\n",
    "        print(e)\n",
    "bill(10000,15)"
   ]
  },
  {
   "cell_type": "code",
   "execution_count": 7,
   "id": "14ac8f2a-5d21-4e73-aba7-29c7944907b3",
   "metadata": {},
   "outputs": [
    {
     "name": "stdout",
     "output_type": "stream",
     "text": [
      "name 'lengthh' is not defined\n"
     ]
    }
   ],
   "source": [
    "def rectangle(length,breadth):\n",
    "    try:\n",
    "        # length=eval(input(\"Enter the length:\"))\n",
    "        # breadth=eval(input(\"Enter the breadth:\"))\n",
    "        area=length*breadth\n",
    "        print(f\"The area of the {lengthh} and {breadth} is:{area}\")\n",
    "    except Exception as e:\n",
    "        print(e)\n",
    "rectangle(10,15)"
   ]
  },
  {
   "cell_type": "code",
   "execution_count": 30,
   "id": "a0e5c1f8-2c11-465b-91ff-81095de49f0b",
   "metadata": {},
   "outputs": [
    {
     "name": "stdout",
     "output_type": "stream",
     "text": [
      "The area of the circle is:706\n"
     ]
    }
   ],
   "source": [
    "def circle(radius):\n",
    "    try:\n",
    "        # radius=eval(input(\"enter the radius:\"))\n",
    "        pi=3.14\n",
    "        area=round(pi*radius*radius)\n",
    "        print(f\"The area of the circle is:{area}\")\n",
    "    except Exception as e:\n",
    "        print(e)\n",
    "        \n",
    "circle(15)"
   ]
  },
  {
   "cell_type": "code",
   "execution_count": 33,
   "id": "9fed2a19-1112-46c1-9176-b684b58e5c0e",
   "metadata": {},
   "outputs": [
    {
     "name": "stdout",
     "output_type": "stream",
     "text": [
      "The area of the right angle triangle is:100\n"
     ]
    }
   ],
   "source": [
    "# Q1) WAP \n",
    "def triangle(height,breadth):\n",
    "    try:\n",
    "        # height=eval(input(\"Enter the height:\"))\n",
    "        # breadth=eval(input(\"Enter the breadth:\"))\n",
    "        area=round(1/2*height*breadth)\n",
    "        print(f\"The area of the right angle triangle is:{area}\")\n",
    "    except Exception as e:\n",
    "        print(e)\n",
    "        \n",
    "triangle(10,20)"
   ]
  },
  {
   "cell_type": "code",
   "execution_count": 10,
   "id": "f41c2507-e665-48c8-950b-bd78e3a23be6",
   "metadata": {},
   "outputs": [
    {
     "name": "stdout",
     "output_type": "stream",
     "text": [
      "you won\n"
     ]
    }
   ],
   "source": [
    "import random\n",
    "def random_num(num2):\n",
    "    num=random.randint(1,10)\n",
    "    \n",
    "    if num==num2:\n",
    "        print(\"you won\")\n",
    "    else:\n",
    "        print(\"you lose\")\n",
    "random_num(10)"
   ]
  },
  {
   "cell_type": "code",
   "execution_count": 21,
   "id": "4a2a0ac2-2aa0-4fca-9e33-3518dd49db75",
   "metadata": {},
   "outputs": [
    {
     "name": "stdout",
     "output_type": "stream",
     "text": [
      "you lose\n"
     ]
    }
   ],
   "source": [
    "import random\n",
    "def random_num(num2):\n",
    "    num=random.randint(1,10)\n",
    "    try:\n",
    "        # num=random.randint(1,10)\n",
    "        \n",
    "        if num==num2:\n",
    "            print(\"you won\")\n",
    "        else:\n",
    "            print(\"you lose\")\n",
    "    except Exception as e:\n",
    "        print(e)\n",
    "    \n",
    "random_num(10)\n",
    "\n",
    "# where ever you write the num inside the def or inside the try it will work"
   ]
  },
  {
   "cell_type": "code",
   "execution_count": 15,
   "id": "502cf941-ceb2-499b-9a32-0c4e2b51a4fe",
   "metadata": {},
   "outputs": [
    {
     "name": "stdout",
     "output_type": "stream",
     "text": [
      "20.0\n"
     ]
    }
   ],
   "source": [
    "def average1():\n",
    "    a=10\n",
    "    b=20\n",
    "    c=30\n",
    "    avg=(a+b+c)/3\n",
    "    print(avg)\n",
    "average1()"
   ]
  },
  {
   "cell_type": "code",
   "execution_count": 13,
   "id": "2564724d-f415-49b0-881f-e4ed8d262fc0",
   "metadata": {},
   "outputs": [
    {
     "name": "stdout",
     "output_type": "stream",
     "text": [
      "20.0\n",
      "10\n"
     ]
    }
   ],
   "source": [
    "def average1(a):\n",
    "    # a=10\n",
    "    b=20\n",
    "    c=30\n",
    "    avg=(a+b+c)/3\n",
    "    print(avg)\n",
    "    print(a)\n",
    "average1(10)"
   ]
  },
  {
   "cell_type": "code",
   "execution_count": 45,
   "id": "43ae328c-e6d1-42ba-a82c-7b220e3836da",
   "metadata": {},
   "outputs": [
    {
     "name": "stdout",
     "output_type": "stream",
     "text": [
      "25.0\n",
      "The number a is: 10\n",
      "The number b is: 35\n"
     ]
    }
   ],
   "source": [
    "def average1(a,b):\n",
    "    # a=10\n",
    "    # b=20\n",
    "    c=30\n",
    "    avg=(a+b+c)/3\n",
    "    print(avg)\n",
    "    print(\"The number a is:\",a)\n",
    "    print(\"The number b is:\",b)\n",
    "average1(10,35)"
   ]
  },
  {
   "cell_type": "markdown",
   "id": "75821202-30e5-4b88-a05c-57d327e11674",
   "metadata": {},
   "source": [
    "**Function with default arguments**\n",
    "\n",
    "- There is a situation some variable values always a fixed \n",
    "\n",
    "- For example tip percentage for a hotel it is fixed\n",
    "\n",
    "- These type of variables are default parameters\n",
    "\n",
    "- while defining function we will provide arguments\n",
    "\n",
    "- at the time only we will provide value also\n",
    "\n",
    "- that argument is default argument\n",
    "\n",
    "- below examples there 3 arguments a,b,c\n",
    "\n",
    "- but we given c=100 which means c is our default argument\n",
    "\n",
    "- once you provide the default argument\n",
    "\n",
    "- while "
   ]
  },
  {
   "cell_type": "code",
   "execution_count": 46,
   "id": "7280dbb2-b9cb-4500-a9b3-46edf38c711e",
   "metadata": {},
   "outputs": [
    {
     "name": "stdout",
     "output_type": "stream",
     "text": [
      "The value of a is: 10\n",
      "The value of b is: 20\n",
      "The value of c is: 100\n",
      "130\n"
     ]
    }
   ],
   "source": [
    "def add(a,b,c=100):\n",
    "    print(\"The value of a is:\",a)\n",
    "    print(\"The value of b is:\",b)\n",
    "    print(\"The value of c is:\",c)\n",
    "    sum=a+b+c\n",
    "    print(sum)\n",
    "add(10,20)\n",
    "    \n"
   ]
  },
  {
   "cell_type": "code",
   "execution_count": 1,
   "id": "48b1666f-b63b-45c2-95ad-c55f076c614d",
   "metadata": {},
   "outputs": [
    {
     "name": "stdout",
     "output_type": "stream",
     "text": [
      "30\n"
     ]
    }
   ],
   "source": [
    "def fun_name(a,b=10):\n",
    "    print(a+b)\n",
    "fun_name(10,20)"
   ]
  },
  {
   "cell_type": "code",
   "execution_count": 50,
   "id": "1a146086-229c-4ce2-9c61-019b476ee571",
   "metadata": {},
   "outputs": [
    {
     "name": "stdout",
     "output_type": "stream",
     "text": [
      "The num is: 9\n",
      "The num1 is: 7\n",
      "The num2 is: 4\n",
      "20\n"
     ]
    }
   ],
   "source": [
    "import random\n",
    "def add1():\n",
    "    num=random.randint(1,10)\n",
    "    num2=random.randint(1,10)\n",
    "    num3=random.randint(1,10)\n",
    "    print(\"The num is:\",num)\n",
    "    print(\"The num1 is:\",num2)\n",
    "    print(\"The num2 is:\",num3)\n",
    "    sum1=num+num2+num3\n",
    "    print(sum1)\n",
    "add1()\n",
    "    \n"
   ]
  },
  {
   "cell_type": "code",
   "execution_count": 51,
   "id": "63e61b93-8480-47e5-a6cf-2966a6f73b4d",
   "metadata": {},
   "outputs": [
    {
     "ename": "SyntaxError",
     "evalue": "parameter without a default follows parameter with a default (1377486518.py, line 1)",
     "output_type": "error",
     "traceback": [
      "\u001b[1;36m  Cell \u001b[1;32mIn[51], line 1\u001b[1;36m\u001b[0m\n\u001b[1;33m    def add(a,b=20,c):\u001b[0m\n\u001b[1;37m                   ^\u001b[0m\n\u001b[1;31mSyntaxError\u001b[0m\u001b[1;31m:\u001b[0m parameter without a default follows parameter with a default\n"
     ]
    }
   ],
   "source": [
    "def add(a,b=20,c):\n",
    "    print(\"The value of a is:\",a)\n",
    "    print(\"The value of b is:\",b)\n",
    "    print(\"The value of c is:\",c)\n",
    "    sum=a+b+c\n",
    "    print(sum)\n",
    "add(10,20)\n",
    "    "
   ]
  },
  {
   "cell_type": "markdown",
   "id": "09d1f5d0-ff44-49dd-821f-039fe0f0eed9",
   "metadata": {},
   "source": [
    "**Case-1**\n",
    "\n",
    "- non-Default arguments follows the Default arguments\n",
    "\n",
    "- Default arguments always at last\n"
   ]
  },
  {
   "cell_type": "code",
   "execution_count": null,
   "id": "42406784-2934-4cf8-89ca-3443b9ad779a",
   "metadata": {},
   "outputs": [],
   "source": [
    "a,b,c=100 ==================c\n",
    "a,b=100,c =================w\n",
    "a=100,b,c  ================w\n",
    "a,b=100,c=100 =============c\n",
    "a=100,b=100,c ===============w\n",
    "a=100,b,c=100 ===============w\n",
    "a=100,b=100,c=100 ===========c"
   ]
  },
  {
   "cell_type": "markdown",
   "id": "c93972e7-0f85-4f96-846e-88c70a4c3b30",
   "metadata": {},
   "source": [
    "**Case-2**"
   ]
  },
  {
   "cell_type": "code",
   "execution_count": 52,
   "id": "59631885-3cdd-4c4d-975b-e9645d0d89ea",
   "metadata": {},
   "outputs": [
    {
     "name": "stdout",
     "output_type": "stream",
     "text": [
      "The value of a is: 10\n",
      "The value of b is: 20\n",
      "The value of c is: 200\n",
      "230\n"
     ]
    }
   ],
   "source": [
    "def add(a,b,c=100):\n",
    "    print(\"The value of a is:\",a)\n",
    "    print(\"The value of b is:\",b)\n",
    "    print(\"The value of c is:\",c)\n",
    "    sum=a+b+c\n",
    "    print(sum)\n",
    "add(10,20,200)"
   ]
  },
  {
   "cell_type": "markdown",
   "id": "90a678af-a284-4c60-a19f-187862056302",
   "metadata": {},
   "source": [
    "- If we already provided default value\n",
    "- But while calling the function again we are providing the value \n",
    "- the value will be overwrite\n",
    "- In the above example while define the function c=100\n",
    "- but while calling the function c=200\n",
    "- python is a step by step process\n",
    "- In the above there 3 operations\n",
    "    - define the function\n",
    "    - call the function\n",
    "    - running the function\n",
    "- while define the function c=100\n",
    "- while call the function c=200\n",
    "- so the latest value  is 200 \n",
    "\n"
   ]
  },
  {
   "cell_type": "code",
   "execution_count": 58,
   "id": "d27ecd29-85f9-4ced-9ddc-977bea2778a0",
   "metadata": {},
   "outputs": [
    {
     "name": "stdout",
     "output_type": "stream",
     "text": [
      "Hello\n",
      "The c value is: 1000\n",
      "1030\n"
     ]
    }
   ],
   "source": [
    "def add(a,b,c=100):\n",
    "    print(\"Hello\")\n",
    "    c=1000\n",
    "    print(\"The c value is:\",c)\n",
    "    sum=a+b+c\n",
    "    print(sum)\n",
    "add(10,20,400)\n"
   ]
  },
  {
   "cell_type": "code",
   "execution_count": 59,
   "id": "276b8cd1-e6a6-4503-80cc-bf6f8940585c",
   "metadata": {},
   "outputs": [
    {
     "name": "stdout",
     "output_type": "stream",
     "text": [
      "Hello\n",
      "The c value is: 1000\n",
      "1030\n"
     ]
    }
   ],
   "source": [
    "def add(a,b):\n",
    "    print(\"Hello\")\n",
    "    c=1000\n",
    "    print(\"The c value is:\",c)\n",
    "    sum=a+b+c\n",
    "    print(sum)\n",
    "add(10,20)"
   ]
  },
  {
   "cell_type": "code",
   "execution_count": 61,
   "id": "1709c189-00b6-4544-a422-9fb9027f91be",
   "metadata": {},
   "outputs": [
    {
     "ename": "NameError",
     "evalue": "name 'add2' is not defined",
     "output_type": "error",
     "traceback": [
      "\u001b[1;31m---------------------------------------------------------------------------\u001b[0m",
      "\u001b[1;31mNameError\u001b[0m                                 Traceback (most recent call last)",
      "Cell \u001b[1;32mIn[61], line 1\u001b[0m\n\u001b[1;32m----> 1\u001b[0m add2(\u001b[38;5;241m10\u001b[39m,\u001b[38;5;241m20\u001b[39m)\n\u001b[0;32m      3\u001b[0m \u001b[38;5;28;01mdef\u001b[39;00m \u001b[38;5;21madd2\u001b[39m(a,b):\n\u001b[0;32m      4\u001b[0m     \u001b[38;5;28mprint\u001b[39m(\u001b[38;5;124m\"\u001b[39m\u001b[38;5;124mHello\u001b[39m\u001b[38;5;124m\"\u001b[39m)\n",
      "\u001b[1;31mNameError\u001b[0m: name 'add2' is not defined"
     ]
    }
   ],
   "source": [
    "add2(10,20)\n",
    "\n",
    "def add2(a,b):\n",
    "    print(\"Hello\")\n",
    "    c=1000\n",
    "    print(\"The c value is:\",c)\n",
    "    sum=a+b+c\n",
    "    print(sum)"
   ]
  },
  {
   "cell_type": "code",
   "execution_count": null,
   "id": "7a55ded3-4f4e-4b39-9d18-90412c14d516",
   "metadata": {},
   "outputs": [],
   "source": []
  }
 ],
 "metadata": {
  "kernelspec": {
   "display_name": "Python 3 (ipykernel)",
   "language": "python",
   "name": "python3"
  },
  "language_info": {
   "codemirror_mode": {
    "name": "ipython",
    "version": 3
   },
   "file_extension": ".py",
   "mimetype": "text/x-python",
   "name": "python",
   "nbconvert_exporter": "python",
   "pygments_lexer": "ipython3",
   "version": "3.12.4"
  },
  "widgets": {
   "application/vnd.jupyter.widget-state+json": {
    "state": {},
    "version_major": 2,
    "version_minor": 0
   }
  }
 },
 "nbformat": 4,
 "nbformat_minor": 5
}
