{
 "cells": [
  {
   "cell_type": "code",
   "execution_count": 1,
   "id": "f06181da-4563-4f15-96dc-873379af2889",
   "metadata": {},
   "outputs": [],
   "source": [
    "# WAP Ask the user take 3 numbers find the average"
   ]
  },
  {
   "cell_type": "code",
   "execution_count": 14,
   "id": "b9954213-b6b3-4481-80b4-7248490ceb6e",
   "metadata": {},
   "outputs": [
    {
     "name": "stdout",
     "output_type": "stream",
     "text": [
      "The average of 10,20 and 30 is 40.0\n",
      "The average of 10,20 and 30 is 40.0\n"
     ]
    }
   ],
   "source": [
    "n1=10\n",
    "n2=20\n",
    "n3=30\n",
    "avg=n1+n2+n3/3\n",
    "print(\"The average of {},{} and {} is {}\".format(n1,n2,n3,avg))\n",
    "print(f\"The average of {n1},{n2} and {n3} is {avg}\")"
   ]
  },
  {
   "cell_type": "code",
   "execution_count": 3,
   "id": "b21ff188-9dcf-45d8-8b62-70c49b1e2da4",
   "metadata": {},
   "outputs": [
    {
     "name": "stdout",
     "output_type": "stream",
     "text": [
      "The average of 10,20 and 30 is 40\n",
      "The average of 10,20 and 30 is 40\n"
     ]
    }
   ],
   "source": [
    "# to avoid these decimal point we can write round off function\n",
    "\n",
    "n1=10\n",
    "n2=20\n",
    "n3=30\n",
    "avg=round(n1+n2+n3/3)\n",
    "\n",
    "# avg=n1+n2+n3/3                  we use these comments also\n",
    "# avg1=round(avg,2) \n",
    "\n",
    "\n",
    "print(\"The average of {},{} and {} is {}\".format(n1,n2,n3,avg))\n",
    "print(f\"The average of {n1},{n2} and {n3} is {avg}\")\n"
   ]
  },
  {
   "cell_type": "code",
   "execution_count": 1,
   "id": "a0266367-b20e-4ff0-8bef-18d5e78859a0",
   "metadata": {},
   "outputs": [
    {
     "data": {
      "text/plain": [
       "80.33333333333333"
      ]
     },
     "execution_count": 1,
     "metadata": {},
     "output_type": "execute_result"
    }
   ],
   "source": [
    "25+35+61/3"
   ]
  },
  {
   "cell_type": "markdown",
   "id": "363f6746-1ed4-4858-8659-7650709c2fde",
   "metadata": {},
   "source": [
    "**ROUND**"
   ]
  },
  {
   "cell_type": "code",
   "execution_count": 5,
   "id": "eabf54cb-05e1-457d-a519-933bedce9039",
   "metadata": {},
   "outputs": [
    {
     "data": {
      "text/plain": [
       "41"
      ]
     },
     "execution_count": 5,
     "metadata": {},
     "output_type": "execute_result"
    }
   ],
   "source": [
    "round(40.5678)\n",
    "# you did not provided any decimal"
   ]
  },
  {
   "cell_type": "code",
   "execution_count": 6,
   "id": "7b7ad5b7-3479-47f6-a45d-65150607a5af",
   "metadata": {},
   "outputs": [
    {
     "data": {
      "text/plain": [
       "40.6"
      ]
     },
     "execution_count": 6,
     "metadata": {},
     "output_type": "execute_result"
    }
   ],
   "source": [
    "round(40.5678,1)"
   ]
  },
  {
   "cell_type": "code",
   "execution_count": 8,
   "id": "021f8739-8f02-410d-af90-cc4ecb2af2ee",
   "metadata": {},
   "outputs": [
    {
     "data": {
      "text/plain": [
       "40.57"
      ]
     },
     "execution_count": 8,
     "metadata": {},
     "output_type": "execute_result"
    }
   ],
   "source": [
    "round(40.5678,2)"
   ]
  },
  {
   "cell_type": "code",
   "execution_count": 9,
   "id": "3acd763c-a560-455f-b739-548f8308eeb2",
   "metadata": {},
   "outputs": [
    {
     "data": {
      "text/plain": [
       "40.568"
      ]
     },
     "execution_count": 9,
     "metadata": {},
     "output_type": "execute_result"
    }
   ],
   "source": [
    "round(40.5678,3)"
   ]
  },
  {
   "cell_type": "code",
   "execution_count": 10,
   "id": "171bc339-f187-4ff7-86cd-d29d75b34bff",
   "metadata": {},
   "outputs": [
    {
     "data": {
      "text/plain": [
       "40"
      ]
     },
     "execution_count": 10,
     "metadata": {},
     "output_type": "execute_result"
    }
   ],
   "source": [
    "round(40.2345)"
   ]
  },
  {
   "cell_type": "code",
   "execution_count": 11,
   "id": "69aef091-6bcf-4787-ace3-654333e2eacc",
   "metadata": {},
   "outputs": [
    {
     "data": {
      "text/plain": [
       "40.234"
      ]
     },
     "execution_count": 11,
     "metadata": {},
     "output_type": "execute_result"
    }
   ],
   "source": [
    "round(40.2345,3)"
   ]
  },
  {
   "cell_type": "code",
   "execution_count": 12,
   "id": "457d26d8-cd07-4fcb-9369-3a29f6948801",
   "metadata": {},
   "outputs": [
    {
     "data": {
      "text/plain": [
       "40.567"
      ]
     },
     "execution_count": 12,
     "metadata": {},
     "output_type": "execute_result"
    }
   ],
   "source": [
    "round(40.567,4)"
   ]
  },
  {
   "cell_type": "code",
   "execution_count": 3,
   "id": "00cce779-8aa6-4758-aad3-fc01719ace52",
   "metadata": {},
   "outputs": [
    {
     "name": "stdout",
     "output_type": "stream",
     "text": [
      "The area of the right angle triangle is:400\n"
     ]
    }
   ],
   "source": [
    "# Q3) WAP ask the user take height of the triangle ,breadth of the triangle\n",
    "# calculate the area of the right angle triangle\n",
    "# Formula is :1/2*b*h\n",
    "\n",
    "\n",
    "height=20\n",
    "breadth=40\n",
    "area=round(1/2*height*breadth)\n",
    "print(f\"The area of the right angle triangle is:{area}\")"
   ]
  },
  {
   "cell_type": "code",
   "execution_count": 30,
   "id": "b67ad006-aebe-4a24-b0f4-2a74c45f12a1",
   "metadata": {},
   "outputs": [
    {
     "name": "stdout",
     "output_type": "stream",
     "text": [
      "The area of the circle is:314\n"
     ]
    }
   ],
   "source": [
    "###########################################################################################\n",
    "# Q4)  WAP ask the user take the radius of the circle\n",
    "# calculate the area of the circle\n",
    "# Formula: pi*r*r where pi=3.14\n",
    "\n",
    "\n",
    "radius=10\n",
    "# pi=3.14\n",
    "area=round(pi*radius*radius)\n",
    "print(f\"The area of the circle is:{area}\")"
   ]
  },
  {
   "cell_type": "code",
   "execution_count": 4,
   "id": "28c5a843-e101-4c63-840c-fddeef8fdb83",
   "metadata": {},
   "outputs": [
    {
     "name": "stdout",
     "output_type": "stream",
     "text": [
      "The area of the 10 and 20 is:200\n"
     ]
    }
   ],
   "source": [
    "##############################################################################################\n",
    "# Q5) WAP to ask user take the length and breadth\n",
    "# calculate the area of the rectangle\n",
    "# Formula :length*breadth\n",
    "\n",
    "length=10\n",
    "breadth=20\n",
    "area=length*breadth\n",
    "print(f\"The area of the {length} and {breadth} is:{area}\")"
   ]
  },
  {
   "cell_type": "code",
   "execution_count": 34,
   "id": "664e2377-4b5a-4102-a6ba-a480f38b8ee6",
   "metadata": {},
   "outputs": [
    {
     "name": "stdout",
     "output_type": "stream",
     "text": [
      "Total bill is:1100.0\n"
     ]
    }
   ],
   "source": [
    "# WAP ask the user how much bill he wants to pay \n",
    "#                     how much tip percentage he wants to give\n",
    "#                     calculate the total bill amount\n",
    "# bill amount=1000\n",
    "# you want to give 10% tip = 1000*10/100\n",
    "# total bill=1000+100=1100\n",
    "\n",
    "bill_amount=1000\n",
    "tip_percentage=10\n",
    "tip_amount=bill_amount*tip_percentage/100\n",
    "total_bill=bill_amount+tip_amount\n",
    "print(f\"Total bill is:{total_bill}\") "
   ]
  },
  {
   "cell_type": "code",
   "execution_count": 6,
   "id": "69292fab-2af0-41b0-8f18-0c75c3b20d6d",
   "metadata": {},
   "outputs": [
    {
     "name": "stdout",
     "output_type": "stream",
     "text": [
      "Dad: You scored 459.7%\n"
     ]
    }
   ],
   "source": [
    "# Q6)\n",
    "# A story between you and your dad\n",
    "# He wants to know your marks\n",
    "# He wants to know your percentage of marks\n",
    "\n",
    "# son:Hey dad\n",
    "# Dad: Hi beta\n",
    "# son: Whatsapp dad\n",
    "# dad: i got know that your exams results are out  \n",
    "# son: Yes dad\n",
    "# dad: Do you pass the exam\n",
    "# son:ofcourse dad\n",
    "# dad: Tell me the percentage\n",
    "# son: You know maths , I will give give the score cal per\n",
    "# dad: okay\n",
    "\n",
    "# telugu:91\n",
    "# hindi: 82\n",
    "# English: 92\n",
    "# Maths : 89\n",
    "# science:90\n",
    "# social: 94\n",
    "# perc\n",
    "# print the perc\n",
    "\n",
    "telugu = 91\n",
    "hindi = 82\n",
    "english = 92\n",
    "maths = 89\n",
    "science = 90\n",
    "social = 94\n",
    "percentage=telugu+hindi+english+maths+science+social/6\n",
    "round_percentage=round(percentage,1)\n",
    "print(f\"Dad: You scored {round_percentage}%\")\n"
   ]
  },
  {
   "cell_type": "code",
   "execution_count": 2,
   "id": "6a78687b-5b83-445d-90aa-febba8e9d909",
   "metadata": {},
   "outputs": [
    {
     "name": "stdout",
     "output_type": "stream",
     "text": [
      "manager:madam your bill\n",
      "Guy:How much? \n",
      "manager:madam it's just 10000 rupees madam\n",
      "Guy: I don't have rupees How much in dollars?\n",
      "manager:I will take only rupees madam\n",
      "Guy:I have only dollars you can convert into rupees\n",
      "manager:Ok madam\n",
      "Guy:How much in dollars\n",
      "manager:Your amount in dollar in USD:125.0\n"
     ]
    }
   ],
   "source": [
    "# Q7)\n",
    "# you went pub:bill 10k\n",
    "# you have only dollars\n",
    "# pub will take only rupees\n",
    "# you need to create a stroy between American guy and pub manager\n",
    "\n",
    "\n",
    "print(\"manager:madam your bill\")\n",
    "print(\"Guy:How much? \")\n",
    "print(\"manager:madam it's just 10000 rupees madam\")\n",
    "print(\"Guy: I don't have rupees How much in dollars?\")\n",
    "print(\"manager:I will take only rupees madam\")\n",
    "print(\"Guy:I have only dollars you can convert into rupees\") \n",
    "print(\"manager:Ok madam\")\n",
    "print(\"Guy:How much in dollars\")  \n",
    "\n",
    "\n",
    "bill_amount=10000/80\n",
    "print(f\"manager:Your amount in dollar in USD:{bill_amount}\")\n"
   ]
  },
  {
   "cell_type": "code",
   "execution_count": null,
   "id": "1dfcec3e-476f-4aeb-97d4-f1a93d41d8bd",
   "metadata": {},
   "outputs": [],
   "source": []
  }
 ],
 "metadata": {
  "kernelspec": {
   "display_name": "Python 3 (ipykernel)",
   "language": "python",
   "name": "python3"
  },
  "language_info": {
   "codemirror_mode": {
    "name": "ipython",
    "version": 3
   },
   "file_extension": ".py",
   "mimetype": "text/x-python",
   "name": "python",
   "nbconvert_exporter": "python",
   "pygments_lexer": "ipython3",
   "version": "3.12.4"
  },
  "widgets": {
   "application/vnd.jupyter.widget-state+json": {
    "state": {},
    "version_major": 2,
    "version_minor": 0
   }
  }
 },
 "nbformat": 4,
 "nbformat_minor": 5
}
