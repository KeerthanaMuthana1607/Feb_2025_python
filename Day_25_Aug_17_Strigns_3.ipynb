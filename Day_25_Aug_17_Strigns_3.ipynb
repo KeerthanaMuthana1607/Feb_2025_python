{
 "cells": [
  {
   "cell_type": "code",
   "execution_count": 2,
   "id": "9d2ffdfb-4c87-4ecb-97ae-0279f77e979e",
   "metadata": {},
   "outputs": [
    {
     "data": {
      "text/plain": [
       "'i how ar'"
      ]
     },
     "execution_count": 2,
     "metadata": {},
     "output_type": "execute_result"
    }
   ],
   "source": [
    "string='hai how are you'\n",
    "string[2:10]"
   ]
  },
  {
   "cell_type": "markdown",
   "id": "c472706c-efe9-45e0-9674-869a135c325e",
   "metadata": {},
   "source": [
    "**Slice**"
   ]
  },
  {
   "cell_type": "markdown",
   "id": "32f7fe35-8d22-4861-9626-9af65cfdbf82",
   "metadata": {},
   "source": [
    "- slice means part of string\n",
    "- It is exactly same like range operation start,stop,step\n",
    "- str[start,stop,step]\n"
   ]
  },
  {
   "cell_type": "code",
   "execution_count": null,
   "id": "232cd9b1-861a-4d5e-9d17-0ed5388ab945",
   "metadata": {},
   "outputs": [],
   "source": [
    "s='hai how are you'\n",
    "# -15  -14  -13  -12  -11  -10   -9   -8   -7   -6    -5   -4   -3   -2   -1 \n",
    "#   h   a   i          h    o    w          a    r    e          y     o   u\n",
    "#  0    1    2    3    4    5     6    7    8    9    10   11    12   13   14\n"
   ]
  },
  {
   "cell_type": "markdown",
   "id": "26fbdfc6-3cc6-4099-8bf6-9d3b43f81623",
   "metadata": {},
   "source": [
    "$pattern-1$"
   ]
  },
  {
   "cell_type": "markdown",
   "id": "4ea7e24f-ac44-4bc3-b89b-508d9be51f59",
   "metadata": {},
   "source": [
    "**string[start:]**\n",
    "\n",
    "- start means start value only\n",
    "- increment by one only\n",
    "- Nothing mentioned at the stop position means till last\n"
   ]
  },
  {
   "cell_type": "code",
   "execution_count": 1,
   "id": "3eb7ec69-db8d-44db-98a4-badb8c24085d",
   "metadata": {},
   "outputs": [
    {
     "data": {
      "text/plain": [
       "'i how are you'"
      ]
     },
     "execution_count": 1,
     "metadata": {},
     "output_type": "execute_result"
    }
   ],
   "source": [
    "# -15  -14  -13  -12  -11  -10   -9   -8   -7   -6    -5   -4   -3   -2   -1 \n",
    "#   h   a   i          h    o    w          a    r    e          y     o   u\n",
    "#  0    1    2    3    4    5     6    7    8    9    10   11    12   13   14\n",
    "\n",
    "s='hai how are you'\n",
    "s[2:]"
   ]
  },
  {
   "cell_type": "code",
   "execution_count": 4,
   "id": "66c5e6cd-35d9-4df7-8ae6-583d286b04d5",
   "metadata": {},
   "outputs": [
    {
     "data": {
      "text/plain": [
       "'hai how are you'"
      ]
     },
     "execution_count": 4,
     "metadata": {},
     "output_type": "execute_result"
    }
   ],
   "source": [
    "s='hai how are you'\n",
    "s[ : ]"
   ]
  },
  {
   "cell_type": "markdown",
   "id": "2054f5a5-ced9-413a-8fc9-c8e5b33268c2",
   "metadata": {},
   "source": [
    "$pattern - 2$\n",
    "\n",
    "**string[start:stop]**\n",
    "\n",
    "- start means start value only\n",
    "\n",
    "- increment by one only\n",
    "\n",
    "- last=stop-1\n",
    "\n",
    "- string[2:10]\n",
    "    - start=2\n",
    "    - last=10-1=9"
   ]
  },
  {
   "cell_type": "code",
   "execution_count": 5,
   "id": "168c9788-a4df-4b68-bdff-ec95cbe54529",
   "metadata": {},
   "outputs": [
    {
     "data": {
      "text/plain": [
       "'i how ar'"
      ]
     },
     "execution_count": 5,
     "metadata": {},
     "output_type": "execute_result"
    }
   ],
   "source": [
    "# -15  -14  -13  -12  -11  -10   -9   -8   -7   -6    -5   -4   -3   -2   -1 \n",
    "#   h   a   i          h    o    w          a    r    e          y     o   u\n",
    "#  0    1    2    3    4    5     6    7    8    9    10   11    12   13   14\n",
    "\n",
    "s='hai how are you'\n",
    "s[2:10]"
   ]
  },
  {
   "cell_type": "code",
   "execution_count": 6,
   "id": "93db439a-a748-44fd-9ff6-9593f9084d4e",
   "metadata": {},
   "outputs": [
    {
     "data": {
      "text/plain": [
       "'ai how are'"
      ]
     },
     "execution_count": 6,
     "metadata": {},
     "output_type": "execute_result"
    }
   ],
   "source": [
    "s[-14:-4]\n",
    "\n",
    "# start =-14\n",
    "# stop=-4-1=-5"
   ]
  },
  {
   "cell_type": "code",
   "execution_count": 3,
   "id": "b5f49a10-c05a-4f60-a274-176ad7dbac75",
   "metadata": {},
   "outputs": [
    {
     "data": {
      "text/plain": [
       "'ai how are'"
      ]
     },
     "execution_count": 3,
     "metadata": {},
     "output_type": "execute_result"
    }
   ],
   "source": [
    "string[-14:-4]"
   ]
  },
  {
   "cell_type": "code",
   "execution_count": 4,
   "id": "dcd5fed3-e72e-4625-a9cb-966d8b165fac",
   "metadata": {},
   "outputs": [
    {
     "data": {
      "text/plain": [
       "''"
      ]
     },
     "execution_count": 4,
     "metadata": {},
     "output_type": "execute_result"
    }
   ],
   "source": [
    "string[10:2]"
   ]
  },
  {
   "cell_type": "code",
   "execution_count": 5,
   "id": "791bc9bb-acfc-4222-b921-c5cf4a417599",
   "metadata": {},
   "outputs": [
    {
     "data": {
      "text/plain": [
       "'i how are y'"
      ]
     },
     "execution_count": 5,
     "metadata": {},
     "output_type": "execute_result"
    }
   ],
   "source": [
    "string[2:-2]"
   ]
  },
  {
   "cell_type": "code",
   "execution_count": 6,
   "id": "5c9bbdce-aa3f-488b-8b01-d33d0e52c785",
   "metadata": {},
   "outputs": [],
   "source": [
    "for i in range(2,-2):  # no ans\n",
    "    print(i)\n",
    "    "
   ]
  },
  {
   "cell_type": "markdown",
   "id": "ff0c3857-963c-422d-b5bb-72854bdc1595",
   "metadata": {},
   "source": [
    "$Patteern - 3$"
   ]
  },
  {
   "cell_type": "markdown",
   "id": "f19ee346-137a-42f5-8c6c-908d605de4d6",
   "metadata": {},
   "source": [
    "**string[start:stop:step]**\n",
    "\n",
    "- start means start value only\n",
    "\n",
    "- Increment by one only\n",
    "\n",
    "- step means how much gap\n",
    "    - positive value indicates positive direction\n",
    "        - last=stop-1\n",
    "    - negative value indicates negative direction\n",
    "        - last=stop+1\n",
    "\n"
   ]
  },
  {
   "cell_type": "code",
   "execution_count": 8,
   "id": "e179cdfe-6191-43dd-b3c3-0bbce7628f4c",
   "metadata": {},
   "outputs": [
    {
     "data": {
      "text/plain": [
       "'ihwae'"
      ]
     },
     "execution_count": 8,
     "metadata": {},
     "output_type": "execute_result"
    }
   ],
   "source": [
    "\n",
    "# -15  -14  -13  -12  -11  -10   -9   -8   -7   -6    -5   -4   -3   -2   -1 \n",
    "#   h   a   i          h    o    w          a    r    e          y     o   u\n",
    "#  0    1    2    3    4    5     6    7    8    9    10   11    12   13   14\n",
    "\n",
    "s='hai how are you'\n",
    "\n",
    "s[2:12:2]\n",
    "\n",
    "# start=2   step=2 positive    stop=12-1=11"
   ]
  },
  {
   "cell_type": "code",
   "execution_count": 2,
   "id": "95d9475b-5d77-4bbc-afbe-1de5c86f2630",
   "metadata": {},
   "outputs": [
    {
     "data": {
      "text/plain": [
       "'ihwaey'"
      ]
     },
     "execution_count": 2,
     "metadata": {},
     "output_type": "execute_result"
    }
   ],
   "source": [
    "s[2:-2:2]\n",
    "\n",
    "start=2   step=2  positive    stop=-2-1=-3"
   ]
  },
  {
   "cell_type": "code",
   "execution_count": 10,
   "id": "62a4b867-1b4e-4728-9522-a85e88d1b6fd",
   "metadata": {},
   "outputs": [
    {
     "data": {
      "text/plain": [
       "''"
      ]
     },
     "execution_count": 10,
     "metadata": {},
     "output_type": "execute_result"
    }
   ],
   "source": [
    "# -15  -14  -13  -12  -11  -10   -9   -8   -7   -6    -5   -4   -3   -2   -1 \n",
    "#   h   a   i          h    o    w          a    r    e          y     o   u\n",
    "#  0    1    2    3    4    5     6    7    8    9    10   11    12   13   14\n",
    "\n",
    "s[-2:2:2]\n",
    "\n",
    "# start=-2 step=2 positive  last=2-1=1\n"
   ]
  },
  {
   "cell_type": "code",
   "execution_count": 4,
   "id": "bdabd463-ac79-4d46-bfae-ee2dce27beca",
   "metadata": {},
   "outputs": [
    {
     "data": {
      "text/plain": [
       "'o r o '"
      ]
     },
     "execution_count": 4,
     "metadata": {},
     "output_type": "execute_result"
    }
   ],
   "source": [
    "s[-2:2:-2]"
   ]
  },
  {
   "cell_type": "code",
   "execution_count": 5,
   "id": "4c3d3d3e-b12b-4612-9246-e62359f13ab1",
   "metadata": {},
   "outputs": [
    {
     "data": {
      "text/plain": [
       "''"
      ]
     },
     "execution_count": 5,
     "metadata": {},
     "output_type": "execute_result"
    }
   ],
   "source": [
    "s[2:-2:-2]\n",
    "# start=2  step=-2 negative   last=stop+1=-2+1=-1\n",
    "# 2 to -1 it is positive direction but given negative step so it will not print anything"
   ]
  },
  {
   "cell_type": "code",
   "execution_count": 6,
   "id": "51f76cb4-27b1-4bf6-832d-51539b752731",
   "metadata": {},
   "outputs": [
    {
     "data": {
      "text/plain": [
       "' wry'"
      ]
     },
     "execution_count": 6,
     "metadata": {},
     "output_type": "execute_result"
    }
   ],
   "source": [
    "s[3:13:3]\n"
   ]
  },
  {
   "cell_type": "code",
   "execution_count": 7,
   "id": "9e3c8ea1-c189-4dab-9fe3-45f440d109ef",
   "metadata": {},
   "outputs": [
    {
     "data": {
      "text/plain": [
       "''"
      ]
     },
     "execution_count": 7,
     "metadata": {},
     "output_type": "execute_result"
    }
   ],
   "source": [
    "s[3:13:-3]"
   ]
  },
  {
   "cell_type": "code",
   "execution_count": 12,
   "id": "bc86f884-1357-4006-8f87-72598b205f2b",
   "metadata": {},
   "outputs": [
    {
     "data": {
      "text/plain": [
       "''"
      ]
     },
     "execution_count": 12,
     "metadata": {},
     "output_type": "execute_result"
    }
   ],
   "source": [
    "s[4:-13:3]"
   ]
  },
  {
   "cell_type": "code",
   "execution_count": 11,
   "id": "625b0103-73f7-4852-8993-e510f5815316",
   "metadata": {},
   "outputs": [
    {
     "data": {
      "text/plain": [
       "'h'"
      ]
     },
     "execution_count": 11,
     "metadata": {},
     "output_type": "execute_result"
    }
   ],
   "source": [
    "s[4:-13:-3]"
   ]
  },
  {
   "cell_type": "code",
   "execution_count": 10,
   "id": "7304ce9a-883d-4273-a56a-c83de598b686",
   "metadata": {},
   "outputs": [
    {
     "data": {
      "text/plain": [
       "'y'"
      ]
     },
     "execution_count": 10,
     "metadata": {},
     "output_type": "execute_result"
    }
   ],
   "source": [
    "s[-3:13:3]"
   ]
  },
  {
   "cell_type": "code",
   "execution_count": 13,
   "id": "955811a7-61db-4bbe-a8b8-d31fd3629ca7",
   "metadata": {},
   "outputs": [
    {
     "data": {
      "text/plain": [
       "'yrw '"
      ]
     },
     "execution_count": 13,
     "metadata": {},
     "output_type": "execute_result"
    }
   ],
   "source": [
    "s[-3:-13:-3]"
   ]
  },
  {
   "cell_type": "code",
   "execution_count": 12,
   "id": "cdd56f9f-4d21-45d5-b1e4-ba5b36b743bf",
   "metadata": {},
   "outputs": [
    {
     "name": "stdout",
     "output_type": "stream",
     "text": [
      "1:  wry\n",
      "2: \n",
      "3: \n",
      "4: h\n",
      "5: y\n",
      "6: \n",
      "7: yrw \n",
      "8: \n",
      "9: oe h\n",
      "10: \n",
      "11: o\n",
      "12: i\n",
      "13: \n",
      "14: ioa \n",
      "15: \n"
     ]
    }
   ],
   "source": [
    "# -15  -14  -13  -12  -11  -10   -9   -8   -7   -6    -5   -4   -3   -2   -1 \n",
    "#   h   a   i          h    o    w          a    r    e          y     o   u\n",
    "#  0    1    2    3    4    5     6    7    8    9    10   11    12   13   14\n",
    "\n",
    "s='hai how are you'\n",
    "\n",
    "print('1:',s[3:13:3])\n",
    "print('2:',s[3:13:-3])\n",
    "print('3:',s[4:-13:3])\n",
    "print('4:',s[4:-13:-3])\n",
    "print('5:',s[-3:13:3])\n",
    "print('6:',s[-3:13:-3])\n",
    "print('7:',s[-3:-13:-3])\n",
    "print('8:',s[13:3:3])\n",
    "print('9:',s[13:3:-3])\n",
    "print('10:',s[13:-3:3])\n",
    "print('11:',s[13:-3:-3])\n",
    "print('12:',s[-13:3:3])\n",
    "print('13:',s[-13:13:-3])\n",
    "print('14:',s[-13:-3:3])\n",
    "print('15:',s[-13:-3:-3])\n"
   ]
  },
  {
   "cell_type": "markdown",
   "id": "43076da8-4fa9-4a79-a3ff-c7d6106a9edb",
   "metadata": {},
   "source": [
    "**Concatenation**\n",
    "\n",
    "- Take two strings\n",
    "\n",
    "- Apply + - / *\n",
    "\n",
    "- Tell me which works and which not works"
   ]
  },
  {
   "cell_type": "code",
   "execution_count": 14,
   "id": "4ea9f532-4e9e-40ce-8de3-bc678c98ae57",
   "metadata": {},
   "outputs": [
    {
     "data": {
      "text/plain": [
       "'hellohi'"
      ]
     },
     "execution_count": 14,
     "metadata": {},
     "output_type": "execute_result"
    }
   ],
   "source": [
    "s1='hello'\n",
    "s2='hi'\n",
    "s1+s2"
   ]
  },
  {
   "cell_type": "code",
   "execution_count": 15,
   "id": "bd610cf4-05f0-4507-8fd7-dce53b906fa3",
   "metadata": {},
   "outputs": [
    {
     "ename": "TypeError",
     "evalue": "unsupported operand type(s) for -: 'str' and 'str'",
     "output_type": "error",
     "traceback": [
      "\u001b[1;31m---------------------------------------------------------------------------\u001b[0m",
      "\u001b[1;31mTypeError\u001b[0m                                 Traceback (most recent call last)",
      "Cell \u001b[1;32mIn[15], line 3\u001b[0m\n\u001b[0;32m      1\u001b[0m s1\u001b[38;5;241m=\u001b[39m\u001b[38;5;124m'\u001b[39m\u001b[38;5;124mhello\u001b[39m\u001b[38;5;124m'\u001b[39m\n\u001b[0;32m      2\u001b[0m s2\u001b[38;5;241m=\u001b[39m\u001b[38;5;124m'\u001b[39m\u001b[38;5;124mhi\u001b[39m\u001b[38;5;124m'\u001b[39m\n\u001b[1;32m----> 3\u001b[0m s1\u001b[38;5;241m-\u001b[39ms2\n",
      "\u001b[1;31mTypeError\u001b[0m: unsupported operand type(s) for -: 'str' and 'str'"
     ]
    }
   ],
   "source": [
    "s1='hello'\n",
    "s2='hi'\n",
    "s1-s2"
   ]
  },
  {
   "cell_type": "code",
   "execution_count": 16,
   "id": "4948d017-4e7e-4d8d-bcb6-70d631c3337e",
   "metadata": {},
   "outputs": [
    {
     "ename": "TypeError",
     "evalue": "can't multiply sequence by non-int of type 'str'",
     "output_type": "error",
     "traceback": [
      "\u001b[1;31m---------------------------------------------------------------------------\u001b[0m",
      "\u001b[1;31mTypeError\u001b[0m                                 Traceback (most recent call last)",
      "Cell \u001b[1;32mIn[16], line 3\u001b[0m\n\u001b[0;32m      1\u001b[0m s1\u001b[38;5;241m=\u001b[39m\u001b[38;5;124m'\u001b[39m\u001b[38;5;124mhello\u001b[39m\u001b[38;5;124m'\u001b[39m\n\u001b[0;32m      2\u001b[0m s2\u001b[38;5;241m=\u001b[39m\u001b[38;5;124m'\u001b[39m\u001b[38;5;124mhi\u001b[39m\u001b[38;5;124m'\u001b[39m\n\u001b[1;32m----> 3\u001b[0m s1\u001b[38;5;241m*\u001b[39ms2\n",
      "\u001b[1;31mTypeError\u001b[0m: can't multiply sequence by non-int of type 'str'"
     ]
    }
   ],
   "source": [
    "s1='hello'\n",
    "s2='hi'\n",
    "s1*s2"
   ]
  },
  {
   "cell_type": "code",
   "execution_count": 17,
   "id": "242b09f5-c8b8-463e-b67e-1fd6a7aab7c1",
   "metadata": {},
   "outputs": [
    {
     "ename": "TypeError",
     "evalue": "unsupported operand type(s) for /: 'str' and 'str'",
     "output_type": "error",
     "traceback": [
      "\u001b[1;31m---------------------------------------------------------------------------\u001b[0m",
      "\u001b[1;31mTypeError\u001b[0m                                 Traceback (most recent call last)",
      "Cell \u001b[1;32mIn[17], line 3\u001b[0m\n\u001b[0;32m      1\u001b[0m s1\u001b[38;5;241m=\u001b[39m\u001b[38;5;124m'\u001b[39m\u001b[38;5;124mhello\u001b[39m\u001b[38;5;124m'\u001b[39m\n\u001b[0;32m      2\u001b[0m s2\u001b[38;5;241m=\u001b[39m\u001b[38;5;124m'\u001b[39m\u001b[38;5;124mhi\u001b[39m\u001b[38;5;124m'\u001b[39m\n\u001b[1;32m----> 3\u001b[0m s1\u001b[38;5;241m/\u001b[39ms2\n",
      "\u001b[1;31mTypeError\u001b[0m: unsupported operand type(s) for /: 'str' and 'str'"
     ]
    }
   ],
   "source": [
    "s1='hello'\n",
    "s2='hi'\n",
    "s1/s2"
   ]
  },
  {
   "cell_type": "code",
   "execution_count": 21,
   "id": "97f26c68-4835-47ca-8d3e-e18d2ae6029c",
   "metadata": {},
   "outputs": [
    {
     "name": "stdout",
     "output_type": "stream",
     "text": [
      "hellohello\n",
      " "
     ]
    }
   ],
   "source": [
    "s1='hello'\n",
    "print(2*s1)"
   ]
  },
  {
   "cell_type": "code",
   "execution_count": null,
   "id": "563fe863-8911-46bb-8a65-8475f3e43ba5",
   "metadata": {},
   "outputs": [],
   "source": [
    "- :TypeError: unsupported operand type(s) for -: 'str' and 'str'\n",
    "* : TypeError:can't multiply sequence by non-int of type 'str'\n",
    "/ : TypeError:unsupported operand type(s) for /: 'str' and 'str'"
   ]
  },
  {
   "cell_type": "code",
   "execution_count": null,
   "id": "840d26cb-de7c-4ecc-a6cb-f6797094e3e3",
   "metadata": {},
   "outputs": [],
   "source": [
    "- subtraction operation and division operands never use\n",
    "\n",
    "- but we can use multiplication n=by using a str with any integer"
   ]
  },
  {
   "cell_type": "code",
   "execution_count": 22,
   "id": "feb87eab-bc8f-442a-a26f-662febd6b9cd",
   "metadata": {},
   "outputs": [
    {
     "data": {
      "text/plain": [
       "'haihaihai'"
      ]
     },
     "execution_count": 22,
     "metadata": {},
     "output_type": "execute_result"
    }
   ],
   "source": [
    "str1='hai'\n",
    "str1*3"
   ]
  },
  {
   "cell_type": "code",
   "execution_count": null,
   "id": "bf9e592a-a191-4f83-a5d8-86d49d0dab74",
   "metadata": {},
   "outputs": [],
   "source": [
    "# str1+str1+str1 === str1*3"
   ]
  },
  {
   "cell_type": "markdown",
   "id": "0c628836-7ed1-48b9-b02f-14cdcdd86956",
   "metadata": {},
   "source": [
    "- Initialization\n",
    "- length\n",
    "- type\n",
    "- min\n",
    "- max\n",
    "- reversed\n",
    "- sorted\n",
    "- in\n",
    "- index\n",
    "- mutable and immutable\n",
    "- slice\n",
    "- concatenation"
   ]
  },
  {
   "cell_type": "markdown",
   "id": "55122eb2-05b4-40b0-9ded-668a5369328f",
   "metadata": {},
   "source": [
    "## String methods"
   ]
  },
  {
   "cell_type": "code",
   "execution_count": 26,
   "id": "ce4a49a7-c566-4ee7-9e3b-1e6047a4385d",
   "metadata": {},
   "outputs": [
    {
     "data": {
      "text/plain": [
       "['__add__',\n",
       " '__class__',\n",
       " '__contains__',\n",
       " '__delattr__',\n",
       " '__dir__',\n",
       " '__doc__',\n",
       " '__eq__',\n",
       " '__format__',\n",
       " '__ge__',\n",
       " '__getattribute__',\n",
       " '__getitem__',\n",
       " '__getnewargs__',\n",
       " '__getstate__',\n",
       " '__gt__',\n",
       " '__hash__',\n",
       " '__init__',\n",
       " '__init_subclass__',\n",
       " '__iter__',\n",
       " '__le__',\n",
       " '__len__',\n",
       " '__lt__',\n",
       " '__mod__',\n",
       " '__mul__',\n",
       " '__ne__',\n",
       " '__new__',\n",
       " '__reduce__',\n",
       " '__reduce_ex__',\n",
       " '__repr__',\n",
       " '__rmod__',\n",
       " '__rmul__',\n",
       " '__setattr__',\n",
       " '__sizeof__',\n",
       " '__str__',\n",
       " '__subclasshook__',\n",
       " 'capitalize',\n",
       " 'casefold',\n",
       " 'center',\n",
       " 'count',\n",
       " 'encode',\n",
       " 'endswith',\n",
       " 'expandtabs',\n",
       " 'find',\n",
       " 'format',\n",
       " 'format_map',\n",
       " 'index',\n",
       " 'isalnum',\n",
       " 'isalpha',\n",
       " 'isascii',\n",
       " 'isdecimal',\n",
       " 'isdigit',\n",
       " 'isidentifier',\n",
       " 'islower',\n",
       " 'isnumeric',\n",
       " 'isprintable',\n",
       " 'isspace',\n",
       " 'istitle',\n",
       " 'isupper',\n",
       " 'join',\n",
       " 'ljust',\n",
       " 'lower',\n",
       " 'lstrip',\n",
       " 'maketrans',\n",
       " 'partition',\n",
       " 'removeprefix',\n",
       " 'removesuffix',\n",
       " 'replace',\n",
       " 'rfind',\n",
       " 'rindex',\n",
       " 'rjust',\n",
       " 'rpartition',\n",
       " 'rsplit',\n",
       " 'rstrip',\n",
       " 'split',\n",
       " 'splitlines',\n",
       " 'startswith',\n",
       " 'strip',\n",
       " 'swapcase',\n",
       " 'title',\n",
       " 'translate',\n",
       " 'upper',\n",
       " 'zfill']"
      ]
     },
     "execution_count": 26,
     "metadata": {},
     "output_type": "execute_result"
    }
   ],
   "source": [
    "# Import the package \n",
    "# dir(package)\n",
    "str1='abc'\n",
    "dir(' ') # you like this or dir('name') or dir(str1)"
   ]
  },
  {
   "cell_type": "code",
   "execution_count": null,
   "id": "d253a503-8e49-44da-b983-7f9ef5208f31",
   "metadata": {},
   "outputs": [],
   "source": [
    "# import package\n",
    "# package_name.method_name()\n",
    "\n",
    "# len()\n",
    "# type()\n"
   ]
  },
  {
   "cell_type": "markdown",
   "id": "4f542c16-5a93-4e09-a307-cd2d9a812d53",
   "metadata": {},
   "source": [
    "**Upper**\n",
    "\n",
    "- upper is a string method\n",
    "\n",
    "- will convert string into upper case"
   ]
  },
  {
   "cell_type": "code",
   "execution_count": 27,
   "id": "6a831019-066e-43a9-ad92-c0e1cbc23b09",
   "metadata": {},
   "outputs": [
    {
     "data": {
      "text/plain": [
       "'HELLO'"
      ]
     },
     "execution_count": 27,
     "metadata": {},
     "output_type": "execute_result"
    }
   ],
   "source": [
    "str1='hello'\n",
    "str1.upper()\n",
    "\n",
    "#upper(str1) # It is not a inbuilt"
   ]
  },
  {
   "cell_type": "code",
   "execution_count": 28,
   "id": "6e681ac5-bcfd-430e-8aad-94745198bde3",
   "metadata": {},
   "outputs": [
    {
     "data": {
      "text/plain": [
       "<function str.upper()>"
      ]
     },
     "execution_count": 28,
     "metadata": {},
     "output_type": "execute_result"
    }
   ],
   "source": [
    "str1='hii'\n",
    "str1.upper"
   ]
  },
  {
   "cell_type": "code",
   "execution_count": 29,
   "id": "c1c70764-4551-4047-8204-91eb7a79480b",
   "metadata": {},
   "outputs": [
    {
     "data": {
      "text/plain": [
       "'HII'"
      ]
     },
     "execution_count": 29,
     "metadata": {},
     "output_type": "execute_result"
    }
   ],
   "source": [
    "str1='hii'\n",
    "str1.upper()"
   ]
  },
  {
   "cell_type": "markdown",
   "id": "acf5bd0e-fe8d-4c32-8177-789f886f15a5",
   "metadata": {},
   "source": [
    "**Lower**"
   ]
  },
  {
   "cell_type": "code",
   "execution_count": 30,
   "id": "b22d6871-af8f-4174-bd49-ba6ccaf219ce",
   "metadata": {},
   "outputs": [
    {
     "data": {
      "text/plain": [
       "'hii how are you'"
      ]
     },
     "execution_count": 30,
     "metadata": {},
     "output_type": "execute_result"
    }
   ],
   "source": [
    "str1='HII How are You'\n",
    "str1.lower()"
   ]
  },
  {
   "cell_type": "markdown",
   "id": "dcd690c0-bd6a-4056-a005-f711eea6404e",
   "metadata": {},
   "source": [
    "**casefold**"
   ]
  },
  {
   "cell_type": "code",
   "execution_count": 31,
   "id": "4b989e9c-626e-4792-bba0-4025cf868aaf",
   "metadata": {},
   "outputs": [
    {
     "data": {
      "text/plain": [
       "'hii how are you'"
      ]
     },
     "execution_count": 31,
     "metadata": {},
     "output_type": "execute_result"
    }
   ],
   "source": [
    "str1='HII How are You'\n",
    "str1.casefold()"
   ]
  },
  {
   "cell_type": "markdown",
   "id": "1921ea06-c5f2-404c-9b70-2f4f58739e6a",
   "metadata": {},
   "source": [
    " - lower and casefold will give caseless means lower case"
   ]
  },
  {
   "cell_type": "markdown",
   "id": "eff1a484-0487-4818-893a-12d5beffc6d7",
   "metadata": {},
   "source": [
    "**capitalize**"
   ]
  },
  {
   "cell_type": "code",
   "execution_count": 35,
   "id": "5dd414e2-e212-4b80-8b45-ba99d24564cb",
   "metadata": {},
   "outputs": [
    {
     "data": {
      "text/plain": [
       "'Hii how are you'"
      ]
     },
     "execution_count": 35,
     "metadata": {},
     "output_type": "execute_result"
    }
   ],
   "source": [
    "str1='hII How are You'\n",
    "str1.capitalize()"
   ]
  },
  {
   "cell_type": "markdown",
   "id": "9ec2e4cd-9da0-44f8-bc29-94ea0206207a",
   "metadata": {},
   "source": [
    "**center**"
   ]
  },
  {
   "cell_type": "code",
   "execution_count": 43,
   "id": "73293acb-e0e4-4a85-9ef0-4c80c52db90d",
   "metadata": {},
   "outputs": [
    {
     "data": {
      "text/plain": [
       "<function str.center(width, fillchar=' ', /)>"
      ]
     },
     "execution_count": 43,
     "metadata": {},
     "output_type": "execute_result"
    }
   ],
   "source": [
    "s1='hello'\n",
    "s1.center"
   ]
  },
  {
   "cell_type": "code",
   "execution_count": null,
   "id": "2322d9ad-14d7-4606-8890-39d5f3b15554",
   "metadata": {},
   "outputs": [],
   "source": [
    "'hello'  ====== '   hello  '"
   ]
  },
  {
   "cell_type": "code",
   "execution_count": 45,
   "id": "e002e5cc-ee0c-47e4-b326-766cfb76ab03",
   "metadata": {},
   "outputs": [
    {
     "data": {
      "text/plain": [
       "10"
      ]
     },
     "execution_count": 45,
     "metadata": {},
     "output_type": "execute_result"
    }
   ],
   "source": [
    "s1='hello'\n",
    "s2=s1.center(10)\n",
    "len(s2)\n"
   ]
  },
  {
   "cell_type": "code",
   "execution_count": 48,
   "id": "1f988a77-c913-4d77-bd4a-501c6cd59b27",
   "metadata": {},
   "outputs": [
    {
     "name": "stdout",
     "output_type": "stream",
     "text": [
      "**hello***\n"
     ]
    }
   ],
   "source": [
    "s1='hello'\n",
    "s2=s1.center(10,'*')\n",
    "print(s2)\n",
    "\n"
   ]
  },
  {
   "cell_type": "code",
   "execution_count": 36,
   "id": "594c5df3-6274-4eba-aaba-9334a6aa21ad",
   "metadata": {},
   "outputs": [
    {
     "ename": "TypeError",
     "evalue": "center expected at least 1 argument, got 0",
     "output_type": "error",
     "traceback": [
      "\u001b[1;31m---------------------------------------------------------------------------\u001b[0m",
      "\u001b[1;31mTypeError\u001b[0m                                 Traceback (most recent call last)",
      "Cell \u001b[1;32mIn[36], line 2\u001b[0m\n\u001b[0;32m      1\u001b[0m str1\u001b[38;5;241m=\u001b[39m\u001b[38;5;124m'\u001b[39m\u001b[38;5;124mHII How are You\u001b[39m\u001b[38;5;124m'\u001b[39m\n\u001b[1;32m----> 2\u001b[0m str1\u001b[38;5;241m.\u001b[39mcenter()\n",
      "\u001b[1;31mTypeError\u001b[0m: center expected at least 1 argument, got 0"
     ]
    }
   ],
   "source": [
    "str1='HII How are You'\n",
    "str1.center()"
   ]
  },
  {
   "cell_type": "code",
   "execution_count": 41,
   "id": "dc93b979-94b2-4cd0-83d7-88629b32c2a8",
   "metadata": {},
   "outputs": [
    {
     "data": {
      "text/plain": [
       "'HiI how are You'"
      ]
     },
     "execution_count": 41,
     "metadata": {},
     "output_type": "execute_result"
    }
   ],
   "source": [
    "str1='HiI how are You'\n",
    "str1.center(6)"
   ]
  },
  {
   "cell_type": "code",
   "execution_count": 49,
   "id": "b8ac02c5-3b0c-4e55-aa59-a0a0ad1ea929",
   "metadata": {},
   "outputs": [
    {
     "data": {
      "text/plain": [
       "'**gmail***'"
      ]
     },
     "execution_count": 49,
     "metadata": {},
     "output_type": "execute_result"
    }
   ],
   "source": [
    "s1='gmail'\n",
    "s1.center(10,'*')\n"
   ]
  },
  {
   "cell_type": "markdown",
   "id": "f5af836d-28d3-4b57-803d-3aa76376708d",
   "metadata": {},
   "source": [
    "**Title**"
   ]
  },
  {
   "cell_type": "code",
   "execution_count": 51,
   "id": "97bd183f-e342-4492-9864-2a5df099fb26",
   "metadata": {},
   "outputs": [
    {
     "data": {
      "text/plain": [
       "<function str.title()>"
      ]
     },
     "execution_count": 51,
     "metadata": {},
     "output_type": "execute_result"
    }
   ],
   "source": [
    "s1='gmail'\n",
    "s1.title\n"
   ]
  },
  {
   "cell_type": "code",
   "execution_count": 52,
   "id": "eae41f4e-75ae-483b-ad5b-069635129fe5",
   "metadata": {},
   "outputs": [
    {
     "data": {
      "text/plain": [
       "'Gmail'"
      ]
     },
     "execution_count": 52,
     "metadata": {},
     "output_type": "execute_result"
    }
   ],
   "source": [
    "s1='gmail'\n",
    "s1.title()\n"
   ]
  },
  {
   "cell_type": "code",
   "execution_count": 53,
   "id": "92ca0b39-8d88-4832-b70d-c2a0b0183229",
   "metadata": {},
   "outputs": [
    {
     "data": {
      "text/plain": [
       "'Hi How Are You'"
      ]
     },
     "execution_count": 53,
     "metadata": {},
     "output_type": "execute_result"
    }
   ],
   "source": [
    "s2=\"hi how are you\"\n",
    "s2.title()\n",
    "\n",
    "# capitilize means === strting letter only capital\n",
    "# title means ==== every word starts with capital letter"
   ]
  },
  {
   "cell_type": "markdown",
   "id": "bcbd86f0-b117-452c-ae22-9b61b84664c6",
   "metadata": {},
   "source": [
    "**count**"
   ]
  },
  {
   "cell_type": "code",
   "execution_count": 57,
   "id": "cb2892cf-5fda-4b59-b201-75432d9aeb51",
   "metadata": {},
   "outputs": [
    {
     "name": "stdout",
     "output_type": "stream",
     "text": [
      "2\n"
     ]
    }
   ],
   "source": [
    "str1='hello hai how are you'\n",
    "# I want to know how many 'a' are avilable\n",
    "count=0\n",
    "for i in str1:\n",
    "    if i=='a':\n",
    "        count=count+1\n",
    "print(count)"
   ]
  },
  {
   "cell_type": "code",
   "execution_count": 58,
   "id": "3d6e5742-44d8-4a88-8889-f435300eb092",
   "metadata": {},
   "outputs": [
    {
     "data": {
      "text/plain": [
       "2"
      ]
     },
     "execution_count": 58,
     "metadata": {},
     "output_type": "execute_result"
    }
   ],
   "source": [
    "str1='hello hai how are you'\n",
    "str1.count('a')"
   ]
  },
  {
   "cell_type": "code",
   "execution_count": null,
   "id": "3a32f656-2ad8-473f-b7cc-f150abd81db0",
   "metadata": {},
   "outputs": [],
   "source": [
    "# Q1) str='hello hai how are you'\n",
    "# str='Hello Hai How Are You' without using methods\n",
    "\n",
    "# Q2) str='ola ola ola'\n",
    "# count=3 without using methods"
   ]
  },
  {
   "cell_type": "code",
   "execution_count": 59,
   "id": "b6cd90b6-8e3b-4928-b3f9-2eb90c4b061f",
   "metadata": {},
   "outputs": [
    {
     "data": {
      "text/plain": [
       "3"
      ]
     },
     "execution_count": 59,
     "metadata": {},
     "output_type": "execute_result"
    }
   ],
   "source": [
    "str1='ola ola ola'\n",
    "str1.count('ola')"
   ]
  },
  {
   "cell_type": "code",
   "execution_count": 60,
   "id": "3e1d1660-794d-4214-bef3-57ec77fc7bcf",
   "metadata": {},
   "outputs": [
    {
     "data": {
      "text/plain": [
       "2"
      ]
     },
     "execution_count": 60,
     "metadata": {},
     "output_type": "execute_result"
    }
   ],
   "source": [
    "str1='ola ola ola'\n",
    "str1.count(' ola')"
   ]
  },
  {
   "cell_type": "code",
   "execution_count": 63,
   "id": "8db25719-bac8-49f5-b0b4-d8ebf9f99c92",
   "metadata": {},
   "outputs": [
    {
     "data": {
      "text/plain": [
       "1"
      ]
     },
     "execution_count": 63,
     "metadata": {},
     "output_type": "execute_result"
    }
   ],
   "source": [
    "str1='ola ola ola'\n",
    "str1.count('ola ola ola')"
   ]
  },
  {
   "cell_type": "code",
   "execution_count": 61,
   "id": "2b789607-4def-4451-9bd9-30e51fc9ddcd",
   "metadata": {},
   "outputs": [
    {
     "data": {
      "text/plain": [
       "1"
      ]
     },
     "execution_count": 61,
     "metadata": {},
     "output_type": "execute_result"
    }
   ],
   "source": [
    "str1='ola ola ola'\n",
    "str1.count('ola ola ola')\n",
    "str1.count(str1)"
   ]
  },
  {
   "cell_type": "code",
   "execution_count": 62,
   "id": "ca6848ae-948a-4aaa-96ce-b38e532aa1d3",
   "metadata": {},
   "outputs": [
    {
     "data": {
      "text/plain": [
       "0"
      ]
     },
     "execution_count": 62,
     "metadata": {},
     "output_type": "execute_result"
    }
   ],
   "source": [
    "str1.count('uber')"
   ]
  },
  {
   "cell_type": "code",
   "execution_count": null,
   "id": "5199d233-4742-497c-a86c-2ec7d36434e4",
   "metadata": {},
   "outputs": [],
   "source": []
  }
 ],
 "metadata": {
  "kernelspec": {
   "display_name": "Python 3 (ipykernel)",
   "language": "python",
   "name": "python3"
  },
  "language_info": {
   "codemirror_mode": {
    "name": "ipython",
    "version": 3
   },
   "file_extension": ".py",
   "mimetype": "text/x-python",
   "name": "python",
   "nbconvert_exporter": "python",
   "pygments_lexer": "ipython3",
   "version": "3.12.4"
  },
  "widgets": {
   "application/vnd.jupyter.widget-state+json": {
    "state": {},
    "version_major": 2,
    "version_minor": 0
   }
  }
 },
 "nbformat": 4,
 "nbformat_minor": 5
}
