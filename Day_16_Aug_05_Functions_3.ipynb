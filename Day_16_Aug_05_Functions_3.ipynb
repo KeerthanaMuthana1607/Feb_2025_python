{
 "cells": [
  {
   "cell_type": "code",
   "execution_count": 1,
   "id": "729998e2-4fa6-4b1d-9fba-4a16623a9189",
   "metadata": {},
   "outputs": [
    {
     "name": "stdout",
     "output_type": "stream",
     "text": [
      "hai\n",
      "40\n"
     ]
    }
   ],
   "source": [
    "def add(a,b,c=100):\n",
    "    print('hai')\n",
    "    c=10\n",
    "    sum=a+b+c\n",
    "    print(sum)\n",
    "add(10,20,1000)\n",
    "\n",
    "# define:100\n",
    "# call:1000\n",
    "# run: 10"
   ]
  },
  {
   "cell_type": "code",
   "execution_count": 2,
   "id": "7890cafb-9453-427b-b4e8-3908d00e3786",
   "metadata": {},
   "outputs": [
    {
     "ename": "NameError",
     "evalue": "name 'add1' is not defined",
     "output_type": "error",
     "traceback": [
      "\u001b[1;31m---------------------------------------------------------------------------\u001b[0m",
      "\u001b[1;31mNameError\u001b[0m                                 Traceback (most recent call last)",
      "Cell \u001b[1;32mIn[2], line 1\u001b[0m\n\u001b[1;32m----> 1\u001b[0m add1(\u001b[38;5;241m10\u001b[39m,\u001b[38;5;241m20\u001b[39m,\u001b[38;5;241m1000\u001b[39m) \u001b[38;5;66;03m# call\u001b[39;00m\n\u001b[0;32m      3\u001b[0m \u001b[38;5;28;01mdef\u001b[39;00m \u001b[38;5;21madd1\u001b[39m(a,b,c\u001b[38;5;241m=\u001b[39m\u001b[38;5;241m100\u001b[39m):\n\u001b[0;32m      4\u001b[0m     \u001b[38;5;28mprint\u001b[39m(\u001b[38;5;124m'\u001b[39m\u001b[38;5;124mhai\u001b[39m\u001b[38;5;124m'\u001b[39m)\n",
      "\u001b[1;31mNameError\u001b[0m: name 'add1' is not defined"
     ]
    }
   ],
   "source": [
    "add1(10,20,1000) # call\n",
    "\n",
    "def add1(a,b,c=100):\n",
    "    print('hai')\n",
    "    c=10\n",
    "    sum=a+b+c\n",
    "    print(sum)"
   ]
  },
  {
   "cell_type": "code",
   "execution_count": 3,
   "id": "5e0409fd-89c9-4f70-87b9-ec4761807923",
   "metadata": {},
   "outputs": [
    {
     "name": "stdout",
     "output_type": "stream",
     "text": [
      "hai\n",
      "2030\n"
     ]
    }
   ],
   "source": [
    "def add(a,b,c=100):\n",
    "    print('hai')\n",
    "    c=10\n",
    "    sum=a+b+2000\n",
    "    print(sum)\n",
    "add(10,20,1000)\n",
    "# 100 ==== > 1000 === > 10 ==== >2000"
   ]
  },
  {
   "cell_type": "markdown",
   "id": "b9ea16ce-1707-41f6-b06a-506930749abb",
   "metadata": {},
   "source": [
    "- Functions with argument\n",
    "- Functions without argument\n",
    "- Functions with Default argument"
   ]
  },
  {
   "cell_type": "code",
   "execution_count": 6,
   "id": "8e407750-f665-48fe-a4cd-52001a3bad78",
   "metadata": {},
   "outputs": [],
   "source": [
    "def average(a,b,c=100):\n",
    "    avg=(a+b+c)/3\n",
    "    avg1=round(avg,2)\n",
    "    print(f\"The average of {a},{b} and {c} is {avg1}\")"
   ]
  },
  {
   "cell_type": "code",
   "execution_count": 7,
   "id": "d27dd402-e1b7-493e-8d8e-bd10ebffe247",
   "metadata": {},
   "outputs": [
    {
     "data": {
      "text/plain": [
       "<function __main__.average(a, b, c=100)>"
      ]
     },
     "execution_count": 7,
     "metadata": {},
     "output_type": "execute_result"
    }
   ],
   "source": [
    "average"
   ]
  },
  {
   "cell_type": "code",
   "execution_count": 8,
   "id": "2db6f48e-282d-43f7-9794-0262a084262b",
   "metadata": {},
   "outputs": [
    {
     "name": "stdout",
     "output_type": "stream",
     "text": [
      "The average of 30,40 and 100 is 56.67\n"
     ]
    }
   ],
   "source": [
    "average(30,40)"
   ]
  },
  {
   "cell_type": "code",
   "execution_count": null,
   "id": "1bb498c8-ab94-4c65-b62a-c26128e32c8e",
   "metadata": {},
   "outputs": [],
   "source": []
  },
  {
   "cell_type": "code",
   "execution_count": 3,
   "id": "01ba77e5-25ef-42eb-b974-7e4b6779555b",
   "metadata": {},
   "outputs": [],
   "source": [
    "def value(a=10):\n",
    "    print(a)"
   ]
  },
  {
   "cell_type": "code",
   "execution_count": 4,
   "id": "24931200-b434-4873-bd2f-cd7df1605edf",
   "metadata": {},
   "outputs": [
    {
     "name": "stdout",
     "output_type": "stream",
     "text": [
      "10\n"
     ]
    }
   ],
   "source": [
    "value()"
   ]
  },
  {
   "cell_type": "markdown",
   "id": "f34ba483-8e51-4fb1-9d56-05d5e1ba3321",
   "metadata": {},
   "source": [
    "**Analogy with packages**\n",
    "\n"
   ]
  },
  {
   "cell_type": "code",
   "execution_count": null,
   "id": "f9a7328d-5220-437d-a411-c84dd80c06f4",
   "metadata": {},
   "outputs": [],
   "source": [
    "# a data type is complex \n",
    "# By default complex has real=0 imag=0\n",
    "# When we dont provide any value by default\n",
    "# 0+0j ==== > 0j\n",
    "#####################################################\n",
    "# Take your cursor inside the brackets \n",
    "# apply shift+tab\n",
    "#################################################3\n",
    "# If any function or method \n",
    "# We dont give any values still is giving output\n",
    "# which means that function has default values"
   ]
  },
  {
   "cell_type": "code",
   "execution_count": 6,
   "id": "c836b52f-f5cc-40a6-9988-572d1cbdea97",
   "metadata": {},
   "outputs": [
    {
     "data": {
      "text/plain": [
       "complex"
      ]
     },
     "execution_count": 6,
     "metadata": {},
     "output_type": "execute_result"
    }
   ],
   "source": [
    "complex"
   ]
  },
  {
   "cell_type": "code",
   "execution_count": 7,
   "id": "4b2af355-be26-4ee0-8f07-623cad36e35f",
   "metadata": {},
   "outputs": [
    {
     "data": {
      "text/plain": [
       "0j"
      ]
     },
     "execution_count": 7,
     "metadata": {},
     "output_type": "execute_result"
    }
   ],
   "source": [
    "complex()"
   ]
  },
  {
   "cell_type": "code",
   "execution_count": 8,
   "id": "7ddb71e9-8986-4f50-ad0b-cdba76de03df",
   "metadata": {},
   "outputs": [
    {
     "data": {
      "text/plain": [
       "(2+3j)"
      ]
     },
     "execution_count": 8,
     "metadata": {},
     "output_type": "execute_result"
    }
   ],
   "source": [
    "# complex(real,imag)\n",
    "complex(2,3)"
   ]
  },
  {
   "cell_type": "code",
   "execution_count": 9,
   "id": "814fe9c3-1735-400a-b3ad-54d6b5212063",
   "metadata": {},
   "outputs": [
    {
     "name": "stdout",
     "output_type": "stream",
     "text": [
      "100\n"
     ]
    }
   ],
   "source": [
    "value(100)"
   ]
  },
  {
   "cell_type": "code",
   "execution_count": 10,
   "id": "1416fb58-e5cd-4e97-a604-41d2cea94bbf",
   "metadata": {},
   "outputs": [
    {
     "name": "stdout",
     "output_type": "stream",
     "text": [
      "10\n"
     ]
    }
   ],
   "source": [
    "value(10)"
   ]
  },
  {
   "cell_type": "code",
   "execution_count": 12,
   "id": "52900374-a9ae-4b9d-85ca-750111e7bd4d",
   "metadata": {},
   "outputs": [
    {
     "data": {
      "text/plain": [
       "(2+3j)"
      ]
     },
     "execution_count": 12,
     "metadata": {},
     "output_type": "execute_result"
    }
   ],
   "source": [
    "complex(2+3j)"
   ]
  },
  {
   "cell_type": "code",
   "execution_count": 11,
   "id": "82cbc578-beca-4def-bce7-cf1bb6876af1",
   "metadata": {},
   "outputs": [
    {
     "data": {
      "text/plain": [
       "(2+7j)"
      ]
     },
     "execution_count": 11,
     "metadata": {},
     "output_type": "execute_result"
    }
   ],
   "source": [
    "complex(2+3j,4)\n",
    "\n"
   ]
  },
  {
   "cell_type": "code",
   "execution_count": 13,
   "id": "d4025587-f7b8-4126-b7ad-d0f2dcc9f174",
   "metadata": {},
   "outputs": [
    {
     "ename": "TypeError",
     "evalue": "complex() takes at most 2 arguments (3 given)",
     "output_type": "error",
     "traceback": [
      "\u001b[1;31m---------------------------------------------------------------------------\u001b[0m",
      "\u001b[1;31mTypeError\u001b[0m                                 Traceback (most recent call last)",
      "Cell \u001b[1;32mIn[13], line 1\u001b[0m\n\u001b[1;32m----> 1\u001b[0m \u001b[38;5;28mcomplex\u001b[39m(\u001b[38;5;241m2\u001b[39m,\u001b[38;5;241m3\u001b[39m,\u001b[38;5;241m4\u001b[39m)\n",
      "\u001b[1;31mTypeError\u001b[0m: complex() takes at most 2 arguments (3 given)"
     ]
    }
   ],
   "source": [
    "complex(2,3,4)"
   ]
  },
  {
   "cell_type": "code",
   "execution_count": 15,
   "id": "791d6fcf-1996-469b-b9d9-a134ea923804",
   "metadata": {},
   "outputs": [
    {
     "data": {
      "text/plain": [
       "2j"
      ]
     },
     "execution_count": 15,
     "metadata": {},
     "output_type": "execute_result"
    }
   ],
   "source": [
    "complex(2,2+2j)\n",
    "\n",
    "# multiply with \"j\" with the imaginary term\n",
    "# 2j+2j^2 === 2j-2  ===== j^2= -1\n",
    "#2j-2+2==2j"
   ]
  },
  {
   "cell_type": "code",
   "execution_count": 16,
   "id": "04abe17f-e616-437e-8337-3010d9f062f4",
   "metadata": {},
   "outputs": [
    {
     "ename": "TypeError",
     "evalue": "Random.randint() missing 2 required positional arguments: 'a' and 'b'",
     "output_type": "error",
     "traceback": [
      "\u001b[1;31m---------------------------------------------------------------------------\u001b[0m",
      "\u001b[1;31mTypeError\u001b[0m                                 Traceback (most recent call last)",
      "Cell \u001b[1;32mIn[16], line 2\u001b[0m\n\u001b[0;32m      1\u001b[0m \u001b[38;5;28;01mimport\u001b[39;00m \u001b[38;5;21;01mrandom\u001b[39;00m\n\u001b[1;32m----> 2\u001b[0m random\u001b[38;5;241m.\u001b[39mrandint()\n",
      "\u001b[1;31mTypeError\u001b[0m: Random.randint() missing 2 required positional arguments: 'a' and 'b'"
     ]
    }
   ],
   "source": [
    "import random\n",
    "random.randint()\n",
    "\n",
    "# apply cursor in the brackets shift+tab\n",
    "# why it is not giving answers like complex"
   ]
  },
  {
   "cell_type": "code",
   "execution_count": 17,
   "id": "af704f86-884b-41eb-9bd0-35852a850c8f",
   "metadata": {},
   "outputs": [
    {
     "data": {
      "text/plain": [
       "9"
      ]
     },
     "execution_count": 17,
     "metadata": {},
     "output_type": "execute_result"
    }
   ],
   "source": [
    "random.randint(1,10)"
   ]
  },
  {
   "cell_type": "code",
   "execution_count": 18,
   "id": "26d592cf-3810-49aa-acc4-7793c7f31b87",
   "metadata": {},
   "outputs": [
    {
     "name": "stdout",
     "output_type": "stream",
     "text": [
      "100\n"
     ]
    }
   ],
   "source": [
    "def value1():\n",
    "    print(100)\n",
    "value1()"
   ]
  },
  {
   "cell_type": "code",
   "execution_count": null,
   "id": "23137607-6faf-4fb7-bfa9-f840edb396b0",
   "metadata": {},
   "outputs": [],
   "source": [
    "- complex\n",
    "\n",
    "- random.randint\n",
    "\n",
    "-random.random"
   ]
  },
  {
   "cell_type": "code",
   "execution_count": 19,
   "id": "132f6c49-008f-4a25-9019-57599346e959",
   "metadata": {},
   "outputs": [
    {
     "data": {
      "text/plain": [
       "<function Random.random()>"
      ]
     },
     "execution_count": 19,
     "metadata": {},
     "output_type": "execute_result"
    }
   ],
   "source": [
    "random.random"
   ]
  },
  {
   "cell_type": "code",
   "execution_count": 20,
   "id": "7016e442-7192-4d39-b88f-bab5b6d4e9ec",
   "metadata": {},
   "outputs": [
    {
     "data": {
      "text/plain": [
       "0.9920774735112299"
      ]
     },
     "execution_count": 20,
     "metadata": {},
     "output_type": "execute_result"
    }
   ],
   "source": [
    "random.random()"
   ]
  },
  {
   "cell_type": "code",
   "execution_count": 21,
   "id": "cbbb03bc-60ee-409e-8bd9-0b2325c3e930",
   "metadata": {},
   "outputs": [
    {
     "data": {
      "text/plain": [
       "(7+0j)"
      ]
     },
     "execution_count": 21,
     "metadata": {},
     "output_type": "execute_result"
    }
   ],
   "source": [
    "a=random.randint(1,10)\n",
    "complex(a)"
   ]
  },
  {
   "cell_type": "code",
   "execution_count": 2,
   "id": "ffc4ac98-dfec-4a9d-ad3c-5ac38a96eb0c",
   "metadata": {},
   "outputs": [
    {
     "data": {
      "text/plain": [
       "(3+0j)"
      ]
     },
     "execution_count": 2,
     "metadata": {},
     "output_type": "execute_result"
    }
   ],
   "source": [
    "import random\n",
    "complex(random.randint(1,10))\n"
   ]
  },
  {
   "cell_type": "code",
   "execution_count": 22,
   "id": "e535ee2b-0d01-45dc-affc-4e354586fcf8",
   "metadata": {},
   "outputs": [
    {
     "data": {
      "text/plain": [
       "(7+23j)"
      ]
     },
     "execution_count": 22,
     "metadata": {},
     "output_type": "execute_result"
    }
   ],
   "source": [
    "a=random.randint(1,10)\n",
    "b=random.randint(20,25)\n",
    "complex(a,b)"
   ]
  },
  {
   "cell_type": "code",
   "execution_count": 23,
   "id": "25474ad4-9767-4214-a7b6-6cc4a5caba9b",
   "metadata": {},
   "outputs": [
    {
     "data": {
      "text/plain": [
       "(3+0.5632692257449248j)"
      ]
     },
     "execution_count": 23,
     "metadata": {},
     "output_type": "execute_result"
    }
   ],
   "source": [
    "a=random.randint(1,10)\n",
    "b=random.random()\n",
    "complex(a,b)"
   ]
  },
  {
   "cell_type": "code",
   "execution_count": 24,
   "id": "b1a22f61-8e2e-4742-be7e-42e6f589f2a7",
   "metadata": {},
   "outputs": [
    {
     "data": {
      "text/plain": [
       "(-3-4j)"
      ]
     },
     "execution_count": 24,
     "metadata": {},
     "output_type": "execute_result"
    }
   ],
   "source": [
    "complex(-3,-4)"
   ]
  },
  {
   "cell_type": "code",
   "execution_count": 6,
   "id": "963061d6-5dfa-4f98-a371-ae981d9d87bd",
   "metadata": {},
   "outputs": [
    {
     "ename": "TypeError",
     "evalue": "complex() can't take second arg if first is a string",
     "output_type": "error",
     "traceback": [
      "\u001b[1;31m---------------------------------------------------------------------------\u001b[0m",
      "\u001b[1;31mTypeError\u001b[0m                                 Traceback (most recent call last)",
      "Cell \u001b[1;32mIn[6], line 1\u001b[0m\n\u001b[1;32m----> 1\u001b[0m \u001b[38;5;28mcomplex\u001b[39m(\u001b[38;5;124m'\u001b[39m\u001b[38;5;124m2\u001b[39m\u001b[38;5;124m'\u001b[39m,\u001b[38;5;124m'\u001b[39m\u001b[38;5;124m2\u001b[39m\u001b[38;5;124m'\u001b[39m)\n",
      "\u001b[1;31mTypeError\u001b[0m: complex() can't take second arg if first is a string"
     ]
    }
   ],
   "source": [
    "complex('2','2')"
   ]
  },
  {
   "cell_type": "code",
   "execution_count": 26,
   "id": "7561762f-c6c6-4cfb-bc3b-c5e180ed6feb",
   "metadata": {},
   "outputs": [
    {
     "data": {
      "text/plain": [
       "(2+0j)"
      ]
     },
     "execution_count": 26,
     "metadata": {},
     "output_type": "execute_result"
    }
   ],
   "source": [
    "complex('2')"
   ]
  },
  {
   "cell_type": "code",
   "execution_count": 27,
   "id": "b71108ea-d7cc-4e83-983e-d636372e2a44",
   "metadata": {},
   "outputs": [
    {
     "data": {
      "text/plain": [
       "(-2+2j)"
      ]
     },
     "execution_count": 27,
     "metadata": {},
     "output_type": "execute_result"
    }
   ],
   "source": [
    "complex(2,2+4j)"
   ]
  },
  {
   "cell_type": "code",
   "execution_count": null,
   "id": "b064f873-deb5-4e7c-93eb-35964250a206",
   "metadata": {},
   "outputs": [],
   "source": [
    "4j*j === 4j^2 ==== 4*(-1) ==== -4\n",
    "\n",
    "2-4=-2"
   ]
  },
  {
   "cell_type": "code",
   "execution_count": 30,
   "id": "0eb89fcc-6275-4fd4-84b3-49cdd893b03c",
   "metadata": {},
   "outputs": [
    {
     "data": {
      "text/plain": [
       "(-1+2j)"
      ]
     },
     "execution_count": 30,
     "metadata": {},
     "output_type": "execute_result"
    }
   ],
   "source": [
    "complex(3,2+4j)"
   ]
  },
  {
   "cell_type": "markdown",
   "id": "106144c3-252a-4eda-a7bd-3219bf3f7ae1",
   "metadata": {},
   "source": [
    "**Global variable - Local Variable**"
   ]
  },
  {
   "cell_type": "code",
   "execution_count": 33,
   "id": "d94c200b-b220-403b-9e5d-a2d5b9d171f1",
   "metadata": {},
   "outputs": [
    {
     "name": "stdout",
     "output_type": "stream",
     "text": [
      "30\n"
     ]
    }
   ],
   "source": [
    "def add1():\n",
    "    a=10\n",
    "    b=20\n",
    "    c=a+b\n",
    "    print(c)\n",
    "add1()"
   ]
  },
  {
   "cell_type": "code",
   "execution_count": 34,
   "id": "37983d00-653e-44b5-9f20-996ec1765bd0",
   "metadata": {},
   "outputs": [
    {
     "name": "stdout",
     "output_type": "stream",
     "text": [
      "302\n"
     ]
    }
   ],
   "source": [
    "a1=101\n",
    "b1=201\n",
    "def add2():\n",
    "    \n",
    "    c1=a1+b1\n",
    "    print(c1)\n",
    "add2()"
   ]
  },
  {
   "cell_type": "markdown",
   "id": "4de42ee8-4b4d-415a-9683-e2d8cf040d52",
   "metadata": {},
   "source": [
    "- Variables inside function is called as **local variables**\n",
    "- Variables outside function is called as **Global Variables**\n",
    "- Global variables can use any where at any time\n",
    "- Imagine that you created 10 functions all 10 functions using same variable\n",
    "- So why we want initialize every time for every function\n",
    "- we will initialize one time at top,and all 10 functions will use\n"
   ]
  },
  {
   "cell_type": "code",
   "execution_count": 35,
   "id": "4985397c-a287-458c-b36a-897a6ba4403a",
   "metadata": {},
   "outputs": [
    {
     "name": "stdout",
     "output_type": "stream",
     "text": [
      "30\n",
      "200\n"
     ]
    }
   ],
   "source": [
    "# LOCAL VARIABLES\n",
    "\n",
    "def add():\n",
    "    a=10\n",
    "    b=20\n",
    "    print(a+b)\n",
    "def mul():\n",
    "    a=10\n",
    "    b=20\n",
    "    print(a*b)\n",
    "add()\n",
    "mul()"
   ]
  },
  {
   "cell_type": "code",
   "execution_count": 36,
   "id": "1cf43a37-b2fc-4e2d-9f18-014e16a0affa",
   "metadata": {},
   "outputs": [
    {
     "name": "stdout",
     "output_type": "stream",
     "text": [
      "30\n",
      "200\n"
     ]
    }
   ],
   "source": [
    "# GLOBAL VARIABLES\n",
    "\n",
    "a=10\n",
    "b=20\n",
    "def add():\n",
    "    print(a+b)\n",
    "    \n",
    "def mul():\n",
    "    print(a*b)\n",
    "    \n",
    "add()\n",
    "mul()"
   ]
  },
  {
   "cell_type": "code",
   "execution_count": 37,
   "id": "8a60dd1f-68b5-4056-87a2-3c2ab27fc128",
   "metadata": {},
   "outputs": [
    {
     "name": "stdout",
     "output_type": "stream",
     "text": [
      "0.4456212446165114\n"
     ]
    }
   ],
   "source": [
    "import random\n",
    "a=random.random()\n",
    "b=random.random()\n",
    "def div():\n",
    "    print(a/b)\n",
    "div()"
   ]
  },
  {
   "cell_type": "code",
   "execution_count": 38,
   "id": "e98c45eb-e8cd-46fb-84ec-de65163772df",
   "metadata": {},
   "outputs": [
    {
     "name": "stdout",
     "output_type": "stream",
     "text": [
      "130\n"
     ]
    }
   ],
   "source": [
    "# CASE - 4:\n",
    "\n",
    "c=500\n",
    "def add(a,b,c=100):\n",
    "    sum=a+b+c\n",
    "    print(sum)\n",
    "add(10,20)\n",
    "\n",
    "\n",
    "# Initializtion of c\n",
    "# Define the function\n",
    "# call the fuction\n",
    "# Run the function\n"
   ]
  },
  {
   "cell_type": "code",
   "execution_count": 39,
   "id": "36846149-9466-454b-acb6-e5e4adfa52ea",
   "metadata": {},
   "outputs": [
    {
     "name": "stdout",
     "output_type": "stream",
     "text": [
      "530\n"
     ]
    }
   ],
   "source": [
    "# CASE-5:\n",
    "\n",
    "c=500\n",
    "def add(a,b):\n",
    "    sum=a+b+c\n",
    "    print(sum)\n",
    "add(10,20)\n"
   ]
  },
  {
   "cell_type": "code",
   "execution_count": 41,
   "id": "195d74f1-8913-45ed-a81d-323603fdb8be",
   "metadata": {},
   "outputs": [
    {
     "name": "stdout",
     "output_type": "stream",
     "text": [
      "730\n"
     ]
    }
   ],
   "source": [
    "# CASE-6:\n",
    "c=500\n",
    "def add(a,b):\n",
    "    sum=a+b+c\n",
    "    print(sum)\n",
    "c=700\n",
    "add(10,20)\n",
    "# Python is astep by step process\n",
    "# first c=500\n",
    "# when we defined there is no c, c=500\n",
    "# after that c=700 ===\n",
    "# while calling the function No c value=700\n",
    "# while running the c value not there c=700\n",
    "# 730"
   ]
  },
  {
   "cell_type": "code",
   "execution_count": 42,
   "id": "f7794723-cfcf-45cd-820b-23aa1a470c25",
   "metadata": {},
   "outputs": [
    {
     "name": "stdout",
     "output_type": "stream",
     "text": [
      "2030\n"
     ]
    }
   ],
   "source": [
    "# CSAE-7:\n",
    "c=500\n",
    "def add(a,b,c=1000):\n",
    "    sum=a+b+c\n",
    "    print(sum)\n",
    "c=700\n",
    "add(10,20,2000)\n",
    "c=800\n",
    "\n"
   ]
  },
  {
   "cell_type": "code",
   "execution_count": 43,
   "id": "977d5d6b-eb97-45c5-8b58-5f4a70433f9b",
   "metadata": {},
   "outputs": [
    {
     "name": "stdout",
     "output_type": "stream",
     "text": [
      "9030\n"
     ]
    }
   ],
   "source": [
    "# CASE-8:\n",
    "\n",
    "c=500\n",
    "def add(a,b,c=1000):\n",
    "    c=9000\n",
    "    sum=a+b+c\n",
    "    print(sum)\n",
    "c=700\n",
    "add(10,20,2000)\n",
    "c=800"
   ]
  },
  {
   "cell_type": "code",
   "execution_count": null,
   "id": "ad52485a-43b9-42b5-b894-e235a5e17fdc",
   "metadata": {},
   "outputs": [],
   "source": []
  }
 ],
 "metadata": {
  "kernelspec": {
   "display_name": "Python 3 (ipykernel)",
   "language": "python",
   "name": "python3"
  },
  "language_info": {
   "codemirror_mode": {
    "name": "ipython",
    "version": 3
   },
   "file_extension": ".py",
   "mimetype": "text/x-python",
   "name": "python",
   "nbconvert_exporter": "python",
   "pygments_lexer": "ipython3",
   "version": "3.12.4"
  },
  "widgets": {
   "application/vnd.jupyter.widget-state+json": {
    "state": {},
    "version_major": 2,
    "version_minor": 0
   }
  }
 },
 "nbformat": 4,
 "nbformat_minor": 5
}
