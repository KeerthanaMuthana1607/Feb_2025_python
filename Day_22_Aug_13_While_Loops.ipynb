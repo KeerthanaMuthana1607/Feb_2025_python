{
 "cells": [
  {
   "cell_type": "markdown",
   "id": "585823fe-155f-4b6e-96d0-c404e072d884",
   "metadata": {},
   "source": [
    "**While loop**\n",
    "\n",
    "- Initialization to start the loop\n",
    "\n",
    "- Increment or decrement\n",
    "\n",
    "- Condition to stop the loop"
   ]
  },
  {
   "cell_type": "markdown",
   "id": "de9399b7-68a2-4cdc-a6e2-b4eade251fe6",
   "metadata": {},
   "source": [
    "- in for loop all 3 things in a single line\n",
    "\n",
    "- but in while loop we need to write a 3 lines\n",
    "\n",
    "- It is like wrapper\n",
    "\n",
    "- summation and count wrapper\n",
    "\n",
    "- at start initialization,inside loop increment"
   ]
  },
  {
   "cell_type": "markdown",
   "id": "6b80cdee-c1d5-4ec1-b5c4-f18906fa7c33",
   "metadata": {},
   "source": [
    "**For loop and While loop**\n",
    "\n",
    "- with for loop infinte iterations not possible\n",
    "\n",
    "- with while loop infinte iterations are possible\n",
    "    - which means we can perform the loop till condition"
   ]
  },
  {
   "cell_type": "code",
   "execution_count": null,
   "id": "0347fd27-24b7-4935-b5f1-2f9e0171a2b7",
   "metadata": {},
   "outputs": [],
   "source": [
    "initial_point=value\n",
    "\n",
    "while <condition>:\n",
    "    # write your lines here\n",
    "    increment or decrement"
   ]
  },
  {
   "cell_type": "code",
   "execution_count": null,
   "id": "0205380a-20fb-431d-895c-c80dc583a54f",
   "metadata": {},
   "outputs": [],
   "source": [
    "# for in range(5):\n",
    "#    print(i)\n",
    "\n",
    "\n",
    "i=0\n",
    "while <condition>:\n",
    "    i=i+1"
   ]
  },
  {
   "cell_type": "code",
   "execution_count": 1,
   "id": "13bf05dc-710c-4073-b0e9-33e05694e18d",
   "metadata": {},
   "outputs": [
    {
     "name": "stdout",
     "output_type": "stream",
     "text": [
      "0\n",
      "1\n",
      "2\n",
      "3\n",
      "4\n"
     ]
    }
   ],
   "source": [
    "# 0 1 2 3 4\n",
    "i=0\n",
    "while i<5:\n",
    "    print(i)\n",
    "    i+=1\n",
    "\n",
    "# step-1: i=0 ==== >while 0<5==True == print(0) == i=0+1=1\n",
    "# step-2: i=1 ====> while 1<5==T === print(1) == i=1+1=2\n",
    "# step-3: i=2 ====> while 2<5==T === print(2) == i=2+1=3\n",
    "# step-4: i=3 ====> while 3<5==T === print(3) == i=3+1=4\n",
    "# step-5: i=4 ====> while 4<5==T === print(4) == i=4+1=5\n",
    "# step-6: i=5 ====> while 5<5==F stop the loop y means condition is false\n",
    "\n"
   ]
  },
  {
   "cell_type": "code",
   "execution_count": 3,
   "id": "e09a452c-6eb8-4fdf-b842-88c65539e192",
   "metadata": {},
   "outputs": [
    {
     "name": "stdout",
     "output_type": "stream",
     "text": [
      "0 1 2 3 4 "
     ]
    }
   ],
   "source": [
    "i=0\n",
    "while i<=4:\n",
    "    print(i,end=\" \")\n",
    "    i+=1"
   ]
  },
  {
   "cell_type": "code",
   "execution_count": null,
   "id": "c8655087-364f-4af8-9081-e322505fce05",
   "metadata": {},
   "outputs": [],
   "source": [
    "# dont run\n",
    "i=0\n",
    "while i<=4:\n",
    "    print(i,end=\" \")\n",
    "    i-=1"
   ]
  },
  {
   "cell_type": "code",
   "execution_count": 6,
   "id": "995da533-177c-4659-beda-6d6865c8b1b0",
   "metadata": {},
   "outputs": [
    {
     "name": "stdout",
     "output_type": "stream",
     "text": [
      "0 -1 -2 -3 -4 "
     ]
    }
   ],
   "source": [
    "# in above program infinite loop will print\n",
    "# to avoid the infinte loop to apply the condition\n",
    "\n",
    "i=0\n",
    "while i<=4:\n",
    "    print(i,end=\" \")\n",
    "    i-=1\n",
    "    if i==-5:\n",
    "        break"
   ]
  },
  {
   "cell_type": "code",
   "execution_count": 1,
   "id": "b275c190-2d0d-4c33-8cde-e59cb7465282",
   "metadata": {},
   "outputs": [
    {
     "name": "stdout",
     "output_type": "stream",
     "text": [
      "The first value 4 \n",
      "last value 3\n"
     ]
    }
   ],
   "source": [
    "i=4\n",
    "while i>=4:\n",
    "    print(\"The first value\",i,end=\" \")\n",
    "    i-=1\n",
    "    print(\"\\nlast value\",i)"
   ]
  },
  {
   "cell_type": "code",
   "execution_count": 2,
   "id": "c254cf50-496f-4bf9-bdd2-c3ef9476c35a",
   "metadata": {},
   "outputs": [
    {
     "name": "stdout",
     "output_type": "stream",
     "text": [
      "1 2 3 4 5 6 7 8 9 10 "
     ]
    }
   ],
   "source": [
    "# 1 to 10\n",
    "# -1 to -10\n",
    "# 10 to 1\n",
    "# -10 to -1\n",
    "\n",
    "i=1\n",
    "while i<=10:\n",
    "    print(i,end=\" \")\n",
    "    i+=1"
   ]
  },
  {
   "cell_type": "code",
   "execution_count": 3,
   "id": "da0df4c6-2239-43d2-acbf-d0ad73590f1c",
   "metadata": {},
   "outputs": [
    {
     "name": "stdout",
     "output_type": "stream",
     "text": [
      "10 9 8 7 6 5 4 3 2 1 "
     ]
    }
   ],
   "source": [
    "# 10 to 1\n",
    "i=10\n",
    "while i>=1:\n",
    "    print(i,end=\" \")\n",
    "    i-=1"
   ]
  },
  {
   "cell_type": "code",
   "execution_count": 2,
   "id": "040d05de-f95f-479e-ab53-fef14436ddfc",
   "metadata": {},
   "outputs": [
    {
     "name": "stdout",
     "output_type": "stream",
     "text": [
      "-1 -2 -3 -4 -5 -6 -7 -8 -9 -10 \n",
      "Second case\n",
      "-1 -2 -3 -4 -5 -6 -7 -8 -9 -10 "
     ]
    }
   ],
   "source": [
    "# -1 to -10\n",
    "i=-1\n",
    "while i>=-10:\n",
    "    print(i,end=\" \")\n",
    "    i-=1\n",
    "    \n",
    "\n",
    "# -1 to -10\n",
    "# we can also write\n",
    "print(\"\\nSecond case\")\n",
    "i=-1\n",
    "while i<=10:\n",
    "    print(i,end=\" \")\n",
    "    i-=1\n",
    "    if i==-11:\n",
    "        break\n",
    "    "
   ]
  },
  {
   "cell_type": "code",
   "execution_count": 3,
   "id": "964d66b0-dccd-4a4a-b42a-5483482ac67a",
   "metadata": {},
   "outputs": [
    {
     "name": "stdout",
     "output_type": "stream",
     "text": [
      "-10 -9 -8 -7 -6 -5 -4 -3 -2 -1 "
     ]
    }
   ],
   "source": [
    "# -10 to -1\n",
    "i=-10\n",
    "while i<=-1:\n",
    "    print(i,end=\" \")\n",
    "    i+=1"
   ]
  },
  {
   "cell_type": "code",
   "execution_count": 6,
   "id": "b955d7c0-2605-4c47-9490-d4ad84bef736",
   "metadata": {},
   "outputs": [
    {
     "name": "stdout",
     "output_type": "stream",
     "text": [
      "====Case-1===\n",
      "1 2 3 4 5 6 7 8 9 10 \n",
      "====Case-2====\n",
      "10 9 8 7 6 5 4 3 2 1 \n",
      "======Case-3=====\n",
      "-1 -2 -3 -4 -5 -6 -7 -8 -9 -10 \n",
      "=====Case-4===\n",
      "-10 -9 -8 -7 -6 -5 -4 -3 -2 -1 "
     ]
    }
   ],
   "source": [
    "# if i dont know condition\n",
    "# 1 to 10\n",
    "\n",
    "print(\"====Case-1===\")\n",
    "i=1\n",
    "while True:\n",
    "    print(i,end=\" \")\n",
    "    i+=1\n",
    "    if i==11:\n",
    "        break\n",
    "\n",
    "\n",
    "# 10 to 1\n",
    "print(\"\\n====Case-2====\")\n",
    "i=10\n",
    "while True:\n",
    "    print(i,end=\" \")\n",
    "    i-=1\n",
    "    if i==0:\n",
    "        break\n",
    "\n",
    "# -1 to -10\n",
    "print(\"\\n======Case-3=====\")\n",
    "i=-1\n",
    "while True:\n",
    "    print(i,end=\" \")\n",
    "    i-=1\n",
    "    if i==-11:\n",
    "        break\n",
    "\n",
    "\n",
    "# -10 to -1\n",
    "print(\"\\n=====Case-4===\")\n",
    "i=-10\n",
    "while True:\n",
    "    print(i,end=\" \")\n",
    "    i+=1\n",
    "    if i==0:\n",
    "        break"
   ]
  },
  {
   "cell_type": "code",
   "execution_count": 18,
   "id": "a25a9a81-d8bf-498e-9a60-acc5f475cd2c",
   "metadata": {},
   "outputs": [
    {
     "name": "stdout",
     "output_type": "stream",
     "text": [
      "2 3 4 5 "
     ]
    }
   ],
   "source": [
    "i=1\n",
    "while True:\n",
    "    i=i+1\n",
    "    print(i,end=' ')\n",
    "    if i==5:\n",
    "        break"
   ]
  },
  {
   "cell_type": "code",
   "execution_count": null,
   "id": "e4bcaae7-71c7-4840-9d23-d25bc17bac93",
   "metadata": {},
   "outputs": [],
   "source": [
    "# Do not run:It is infinte loop\n",
    "\n",
    "i=1\n",
    "while True:\n",
    "    print(i,end=' ')\n",
    "    if i==5:\n",
    "        break"
   ]
  },
  {
   "cell_type": "code",
   "execution_count": 19,
   "id": "290a173c-d08c-40b6-b601-d7d961e579bf",
   "metadata": {},
   "outputs": [
    {
     "name": "stdout",
     "output_type": "stream",
     "text": [
      "3 4 5 "
     ]
    }
   ],
   "source": [
    "i=1\n",
    "i=i+1\n",
    "while True:\n",
    "    i=i+1\n",
    "    print(i,end=' ')\n",
    "    if i==5:\n",
    "        break"
   ]
  },
  {
   "cell_type": "code",
   "execution_count": 27,
   "id": "967a3279-5a04-44ab-bf97-53c38e16f852",
   "metadata": {},
   "outputs": [
    {
     "name": "stdout",
     "output_type": "stream",
     "text": [
      "The square of the 69 is 4761\n",
      "The square of the 53 is 2809\n",
      "The square of the 48 is 2304\n"
     ]
    }
   ],
   "source": [
    "# wap ask the user enter three numbers randomly and print the \n",
    "# square \n",
    "\n",
    "import random\n",
    "for i in range(3):\n",
    "    num=random.randint(1,100)\n",
    "    print(f\"The square of the {num} is {num*num}\")\n",
    "\n",
    "\n",
    "\n",
    "    "
   ]
  },
  {
   "cell_type": "code",
   "execution_count": 8,
   "id": "8e6beb2b-6757-4703-868a-66f35c10eadc",
   "metadata": {},
   "outputs": [
    {
     "name": "stdout",
     "output_type": "stream",
     "text": [
      "The square of the 99 is 9801\n",
      "The square of the 99 is 9801\n",
      "The square of the 99 is 9801\n"
     ]
    }
   ],
   "source": [
    "import random\n",
    "i=0\n",
    "num=random.randint(1,100)\n",
    "while True:\n",
    "    # num=random.randint(1,100)\n",
    "    print(f\"The square of the {num} is {num*num}\")\n",
    "    i=i+1\n",
    "    if i==3:\n",
    "        break\n",
    "\n",
    "\n",
    "# same number it is print as a square \n",
    "# this is the problem to initialize num as above the while loop\n",
    "# so to avoid these problem you write the num as a below the while loop"
   ]
  },
  {
   "cell_type": "code",
   "execution_count": 1,
   "id": "5196585e-1d2b-4874-86fa-a66813b7b969",
   "metadata": {},
   "outputs": [
    {
     "name": "stdout",
     "output_type": "stream",
     "text": [
      "The square of the 5 is 25\n",
      "The square of the 39 is 1521\n",
      "The square of the 38 is 1444\n"
     ]
    }
   ],
   "source": [
    "import random\n",
    "i=0\n",
    "while True:\n",
    "    num=random.randint(1,100)\n",
    "    print(f\"The square of the {num} is {num*num}\")\n",
    "    i=i+1\n",
    "    if i==3:\n",
    "        break\n",
    "\n",
    "    "
   ]
  },
  {
   "cell_type": "code",
   "execution_count": 10,
   "id": "6e836ca9-2c99-4b89-b1dc-12d9b4ec3ea6",
   "metadata": {},
   "outputs": [
    {
     "name": "stdout",
     "output_type": "stream",
     "text": [
      "The 2 is an even\n",
      "The 9 is an odd\n",
      "The 5 is an odd\n",
      "The 8 is an even\n",
      "The 5 is an odd\n"
     ]
    }
   ],
   "source": [
    "# wap ask the user enter 5 numbers to  print even or odd\n",
    "\n",
    "import random\n",
    "i=0\n",
    "while i<=4:\n",
    "    i=i+1\n",
    "    n=random.randint(1,10)\n",
    "    # i=i+1 here also you can write it will print exact output\n",
    "    if n%2==0:\n",
    "        print(f\"The {n} is an even\")\n",
    "        \n",
    "    else:\n",
    "        print(f\"The {n} is an odd\")\n",
    "    if i==5:\n",
    "        break\n",
    "    "
   ]
  },
  {
   "cell_type": "code",
   "execution_count": 26,
   "id": "b1e74c0c-5511-457b-ba69-5af253ee2e18",
   "metadata": {},
   "outputs": [
    {
     "name": "stdin",
     "output_type": "stream",
     "text": [
      "Enter a password i am a ps\n"
     ]
    },
    {
     "name": "stdout",
     "output_type": "stream",
     "text": [
      "Invalid password try again\n"
     ]
    },
    {
     "name": "stdin",
     "output_type": "stream",
     "text": [
      "Enter a password i am python\n"
     ]
    },
    {
     "name": "stdout",
     "output_type": "stream",
     "text": [
      "Invalid password try again\n"
     ]
    },
    {
     "name": "stdin",
     "output_type": "stream",
     "text": [
      "Enter a password iam a ds\n"
     ]
    },
    {
     "name": "stdout",
     "output_type": "stream",
     "text": [
      "Your password is correct\n"
     ]
    }
   ],
   "source": [
    "# ask the user enter a pass word\n",
    "# original pwd is: iam a ds\n",
    "# if the pwd==original pwd then only you have life\n",
    "# else:pwd is incorrect\n",
    "# and ask the pwd again\n",
    "# the loop should continue till the pwd is correct\n",
    "\n",
    "# step-1: original_pwd='iam a ds'\n",
    "# step-2: while True\n",
    "# step-3: user_password=input()\n",
    "# step-4:if original_pwd==user_pwd:\n",
    "# step-5:   print and apply break\n",
    "# step-6: else:print('')\n",
    "\n",
    "\n",
    "\n",
    "original_password='iam a ds'\n",
    "while True:\n",
    "    user_password=input(\"Enter a password\")\n",
    "    if original_password==user_password:\n",
    "        print(\"Your password is correct\")\n",
    "        break\n",
    "    else:\n",
    "        print(\"Invalid password try again\")"
   ]
  },
  {
   "cell_type": "code",
   "execution_count": null,
   "id": "1eb0967f-707c-482f-9e9f-a2123295ad25",
   "metadata": {},
   "outputs": [],
   "source": []
  }
 ],
 "metadata": {
  "kernelspec": {
   "display_name": "Python 3 (ipykernel)",
   "language": "python",
   "name": "python3"
  },
  "language_info": {
   "codemirror_mode": {
    "name": "ipython",
    "version": 3
   },
   "file_extension": ".py",
   "mimetype": "text/x-python",
   "name": "python",
   "nbconvert_exporter": "python",
   "pygments_lexer": "ipython3",
   "version": "3.12.4"
  },
  "widgets": {
   "application/vnd.jupyter.widget-state+json": {
    "state": {},
    "version_major": 2,
    "version_minor": 0
   }
  }
 },
 "nbformat": 4,
 "nbformat_minor": 5
}
