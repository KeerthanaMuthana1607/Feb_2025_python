{
 "cells": [
  {
   "cell_type": "markdown",
   "id": "221ba8b7-f260-485e-999d-ad194a5f4157",
   "metadata": {},
   "source": [
    "**Strings**"
   ]
  },
  {
   "cell_type": "markdown",
   "id": "cb8ea3bb-ac69-493b-89d2-d863079e4a89",
   "metadata": {},
   "source": [
    "- initialization\n",
    "- type \n",
    "- len\n",
    "- min\n",
    "- max\n",
    "- sorted\n",
    "- reversed\n",
    "- in \n",
    "- for loop with in \n",
    "- index\n",
    "- for loop with index\n",
    "- mutable immutable\n",
    "- conactenation\n",
    "- methods\n",
    "- conditional statements\n"
   ]
  },
  {
   "cell_type": "code",
   "execution_count": 1,
   "id": "c4c9c9ac-8228-48b0-8260-bcc4a1c813a5",
   "metadata": {},
   "outputs": [
    {
     "data": {
      "text/plain": [
       "'python'"
      ]
     },
     "execution_count": 1,
     "metadata": {},
     "output_type": "execute_result"
    }
   ],
   "source": [
    "str1='python'\n",
    "str1"
   ]
  },
  {
   "cell_type": "code",
   "execution_count": 2,
   "id": "bbbc797c-9883-4392-97c9-03a46946eacd",
   "metadata": {},
   "outputs": [
    {
     "data": {
      "text/plain": [
       "'python'"
      ]
     },
     "execution_count": 2,
     "metadata": {},
     "output_type": "execute_result"
    }
   ],
   "source": [
    "str2=\"python\"\n",
    "str2"
   ]
  },
  {
   "cell_type": "code",
   "execution_count": 3,
   "id": "35fa60eb-69c9-460d-848f-1972e3fdf4a9",
   "metadata": {},
   "outputs": [
    {
     "data": {
      "text/plain": [
       "'python'"
      ]
     },
     "execution_count": 3,
     "metadata": {},
     "output_type": "execute_result"
    }
   ],
   "source": [
    "str3='''python'''\n",
    "str3\n"
   ]
  },
  {
   "cell_type": "code",
   "execution_count": 4,
   "id": "4a7c3926-f4de-4675-80be-43b205e9955d",
   "metadata": {},
   "outputs": [
    {
     "name": "stdout",
     "output_type": "stream",
     "text": [
      "python\n"
     ]
    }
   ],
   "source": [
    "print(str1)"
   ]
  },
  {
   "cell_type": "markdown",
   "id": "234492da-dcbf-4d0c-8623-ec3238191589",
   "metadata": {},
   "source": [
    "- strings define by using single quotes or double quotes\n",
    "\n",
    "- but python bbby default will give as single quotes only\n",
    "\n",
    "- when you print the string, the answer will display without quotes\n",
    "\n"
   ]
  },
  {
   "cell_type": "markdown",
   "id": "04eaef96-d6cd-473c-8908-97929b14a993",
   "metadata": {},
   "source": [
    "**doc string**\n",
    "\n",
    "- doc string the communication in the jupyter notebook\n",
    "-  we have the markdown option,But vscode there is no\n",
    "-   option to write the notes .So we are using triple\n",
    "-   quotes.\n",
    "\n",
    "- we can write the string using triple quotes\n",
    "\n",
    "- this method is called as doc string\n",
    "\n",
    "- It is the way of communicating the information to the user\n",
    "\n",
    "- Do not apply triple quotes when you do the code"
   ]
  },
  {
   "cell_type": "code",
   "execution_count": 6,
   "id": "9033d489-1e1f-42db-a1a2-6dcb10530b3d",
   "metadata": {},
   "outputs": [
    {
     "data": {
      "text/plain": [
       "<bound method Random.randint of <random.Random object at 0x000002BF3E895000>>"
      ]
     },
     "execution_count": 6,
     "metadata": {},
     "output_type": "execute_result"
    }
   ],
   "source": [
    "import random\n",
    "random.randint()"
   ]
  },
  {
   "cell_type": "markdown",
   "id": "cb52a554-92fb-4dcb-860d-c8fb72f79d89",
   "metadata": {},
   "source": [
    "**Type**"
   ]
  },
  {
   "cell_type": "code",
   "execution_count": 7,
   "id": "01f2997d-6deb-4305-948b-edde1aa9d591",
   "metadata": {},
   "outputs": [
    {
     "data": {
      "text/plain": [
       "str"
      ]
     },
     "execution_count": 7,
     "metadata": {},
     "output_type": "execute_result"
    }
   ],
   "source": [
    "str='python'\n",
    "type(str)"
   ]
  },
  {
   "cell_type": "code",
   "execution_count": 8,
   "id": "021be4c9-28ed-4f05-87c2-bf716c4e883f",
   "metadata": {},
   "outputs": [
    {
     "data": {
      "text/plain": [
       "6"
      ]
     },
     "execution_count": 8,
     "metadata": {},
     "output_type": "execute_result"
    }
   ],
   "source": [
    "len(str)"
   ]
  },
  {
   "cell_type": "code",
   "execution_count": 9,
   "id": "5525cb7d-5456-441c-a557-f9aa6ed3370a",
   "metadata": {},
   "outputs": [
    {
     "data": {
      "text/plain": [
       "'h'"
      ]
     },
     "execution_count": 9,
     "metadata": {},
     "output_type": "execute_result"
    }
   ],
   "source": [
    "min(str)"
   ]
  },
  {
   "cell_type": "code",
   "execution_count": 10,
   "id": "82f8d165-8082-4bf9-8da5-883f117c6020",
   "metadata": {},
   "outputs": [
    {
     "data": {
      "text/plain": [
       "'y'"
      ]
     },
     "execution_count": 10,
     "metadata": {},
     "output_type": "execute_result"
    }
   ],
   "source": [
    "max(str)"
   ]
  },
  {
   "cell_type": "code",
   "execution_count": 15,
   "id": "99f1c5f7-39d1-482e-9670-15a6ba72174a",
   "metadata": {},
   "outputs": [
    {
     "name": "stdout",
     "output_type": "stream",
     "text": [
      "<class 'str'>\n",
      "The length of string is: 6\n",
      "n\n",
      "I\n"
     ]
    }
   ],
   "source": [
    "str4=\"Indian\"\n",
    "print(type(str4))\n",
    "print(\"The length of string is:\",len(str4))\n",
    "print(max(str4))\n",
    "print(min(str4))"
   ]
  },
  {
   "cell_type": "code",
   "execution_count": 12,
   "id": "fa320959-fb6a-4451-96f2-c5f8e13b6ee3",
   "metadata": {},
   "outputs": [
    {
     "data": {
      "text/plain": [
       "6"
      ]
     },
     "execution_count": 12,
     "metadata": {},
     "output_type": "execute_result"
    }
   ],
   "source": [
    "len(\"abc123\")"
   ]
  },
  {
   "cell_type": "code",
   "execution_count": 13,
   "id": "385a224a-fa26-4777-98f1-c07ecf066e4f",
   "metadata": {},
   "outputs": [
    {
     "data": {
      "text/plain": [
       "'c'"
      ]
     },
     "execution_count": 13,
     "metadata": {},
     "output_type": "execute_result"
    }
   ],
   "source": [
    "max(\"abc123\")"
   ]
  },
  {
   "cell_type": "code",
   "execution_count": 16,
   "id": "f0084d0c-89fe-4804-88f2-abe27ee6ea75",
   "metadata": {},
   "outputs": [
    {
     "data": {
      "text/plain": [
       "'6'"
      ]
     },
     "execution_count": 16,
     "metadata": {},
     "output_type": "execute_result"
    }
   ],
   "source": [
    "max(\"654\")"
   ]
  },
  {
   "cell_type": "code",
   "execution_count": 17,
   "id": "740fd776-3f50-46b5-8f1d-64955fe8c6a3",
   "metadata": {},
   "outputs": [
    {
     "data": {
      "text/plain": [
       "'1'"
      ]
     },
     "execution_count": 17,
     "metadata": {},
     "output_type": "execute_result"
    }
   ],
   "source": [
    "min(\"abc123\")"
   ]
  },
  {
   "cell_type": "code",
   "execution_count": null,
   "id": "2932e2cd-9e2a-447f-b774-f731be178123",
   "metadata": {},
   "outputs": [],
   "source": [
    "type(<>)\n",
    "print(<>)\n",
    "len(<>)\n",
    "max(<>)\n",
    "min()\n"
   ]
  },
  {
   "cell_type": "markdown",
   "id": "7b5a088c-849e-426b-ba9e-e6665ccb2716",
   "metadata": {},
   "source": [
    "- if we observe the above pattern\n",
    "\n",
    "- its like keyword\n",
    "\n",
    "- these all are inbuilt function\n",
    "\n",
    "- inbuilt means these function can use any data type\n",
    "\n",
    "- means wee can apply for strings ,list, tuple,dictionary etc."
   ]
  },
  {
   "cell_type": "markdown",
   "id": "fbafece2-6e5f-45e1-a231-1ec5b99513a6",
   "metadata": {},
   "source": [
    "**Differnce between inbuilt and methods**"
   ]
  },
  {
   "cell_type": "markdown",
   "id": "c6b1cd50-4b20-4fc3-aecf-5ccf0c71b498",
   "metadata": {},
   "source": [
    "- methods comes from packages\n",
    "\n",
    "- in order to use any method we need to import the package\n",
    "\n",
    "- for inbuilt functions no need of any packages\n",
    "\n",
    "- import random ===== random.randint\n",
    "\n",
    "- import math ===== math.sqrt\n",
    "\n",
    "- import time ===== time.sleep\n",
    "\n",
    "- type() print() min() max() len()\n"
   ]
  },
  {
   "cell_type": "markdown",
   "id": "60793901-4346-421e-b107-d81256fa85b1",
   "metadata": {},
   "source": [
    "**reversed**"
   ]
  },
  {
   "cell_type": "code",
   "execution_count": 18,
   "id": "9e3a1b1c-ba02-4fc6-839e-8c2b086096b7",
   "metadata": {},
   "outputs": [
    {
     "data": {
      "text/plain": [
       "<reversed at 0x2bf441edab0>"
      ]
     },
     "execution_count": 18,
     "metadata": {},
     "output_type": "execute_result"
    }
   ],
   "source": [
    "reversed(\"python\")\n",
    "\n",
    "# ouput becomes like these means you can apply for loop"
   ]
  },
  {
   "cell_type": "markdown",
   "id": "4b40e09d-2b43-4919-bc82-05fcbc4336ff",
   "metadata": {},
   "source": [
    "- when we apply reversed in built function\n",
    "\n",
    "- the output will store at memory\n",
    "\n",
    "- we can see the output by iterate a loop\n",
    "\n",
    "- we can see the output by applying a list type cast"
   ]
  },
  {
   "cell_type": "code",
   "execution_count": 22,
   "id": "ef8f2752-06f2-4833-93c3-255f9af75491",
   "metadata": {},
   "outputs": [
    {
     "name": "stdout",
     "output_type": "stream",
     "text": [
      "n o h t y p "
     ]
    }
   ],
   "source": [
    "a=reversed(\"python\")\n",
    "for i in a:\n",
    "    print(i,end=\" \")"
   ]
  },
  {
   "cell_type": "code",
   "execution_count": 23,
   "id": "299bd65a-e2da-4804-9d9b-19e96b423f1a",
   "metadata": {},
   "outputs": [
    {
     "data": {
      "text/plain": [
       "['n', 'o', 'h', 't', 'y', 'p']"
      ]
     },
     "execution_count": 23,
     "metadata": {},
     "output_type": "execute_result"
    }
   ],
   "source": [
    "list(reversed(\"python\"))"
   ]
  },
  {
   "cell_type": "code",
   "execution_count": 25,
   "id": "d6d98c2f-7880-4c88-b844-a833e1ea829f",
   "metadata": {},
   "outputs": [
    {
     "data": {
      "text/plain": [
       "['I', 'n', 'd', 'i', 'a', 'n']"
      ]
     },
     "execution_count": 25,
     "metadata": {},
     "output_type": "execute_result"
    }
   ],
   "source": [
    "list(\"Indian\")"
   ]
  },
  {
   "cell_type": "code",
   "execution_count": 26,
   "id": "17793df0-4f4f-410f-b131-ff2d493eec71",
   "metadata": {},
   "outputs": [
    {
     "data": {
      "text/plain": [
       "('w', 'e', 'l', 'c', 'o', 'm', 'e')"
      ]
     },
     "execution_count": 26,
     "metadata": {},
     "output_type": "execute_result"
    }
   ],
   "source": [
    "tuple(\"welcome\")"
   ]
  },
  {
   "cell_type": "code",
   "execution_count": 27,
   "id": "16191057-b135-4826-83f4-22fa91761dae",
   "metadata": {},
   "outputs": [
    {
     "data": {
      "text/plain": [
       "('e', 'm', 'o', 'c', 'l', 'e', 'w')"
      ]
     },
     "execution_count": 27,
     "metadata": {},
     "output_type": "execute_result"
    }
   ],
   "source": [
    "tuple(reversed('welcome'))"
   ]
  },
  {
   "cell_type": "code",
   "execution_count": 33,
   "id": "e5130cda-72cc-4bac-8cbf-9e8d7ef82da1",
   "metadata": {},
   "outputs": [
    {
     "ename": "ValueError",
     "evalue": "dictionary update sequence element #0 has length 1; 2 is required",
     "output_type": "error",
     "traceback": [
      "\u001b[1;31m---------------------------------------------------------------------------\u001b[0m",
      "\u001b[1;31mValueError\u001b[0m                                Traceback (most recent call last)",
      "Cell \u001b[1;32mIn[33], line 1\u001b[0m\n\u001b[1;32m----> 1\u001b[0m \u001b[38;5;28mdict\u001b[39m(\u001b[38;5;124m\"\u001b[39m\u001b[38;5;124m1\u001b[39m\u001b[38;5;124m\"\u001b[39m)\n",
      "\u001b[1;31mValueError\u001b[0m: dictionary update sequence element #0 has length 1; 2 is required"
     ]
    }
   ],
   "source": [
    "dict(\"1\")"
   ]
  },
  {
   "cell_type": "code",
   "execution_count": 34,
   "id": "a47adb91-3d77-4f9b-9108-566ec099a217",
   "metadata": {},
   "outputs": [
    {
     "ename": "TypeError",
     "evalue": "reversed() takes no keyword arguments",
     "output_type": "error",
     "traceback": [
      "\u001b[1;31m---------------------------------------------------------------------------\u001b[0m",
      "\u001b[1;31mTypeError\u001b[0m                                 Traceback (most recent call last)",
      "Cell \u001b[1;32mIn[34], line 1\u001b[0m\n\u001b[1;32m----> 1\u001b[0m \u001b[38;5;28mreversed\u001b[39m(sequence\u001b[38;5;241m=\u001b[39m\u001b[38;5;124m'\u001b[39m\u001b[38;5;124mpython\u001b[39m\u001b[38;5;124m'\u001b[39m)\n",
      "\u001b[1;31mTypeError\u001b[0m: reversed() takes no keyword arguments"
     ]
    }
   ],
   "source": [
    "# in the brackets apply sifht+tab\n",
    "# \\ is there right side \n",
    "reversed(sequence='python')"
   ]
  },
  {
   "cell_type": "code",
   "execution_count": 35,
   "id": "e1b215d9-15ee-4d66-b115-69448ae76cd4",
   "metadata": {},
   "outputs": [
    {
     "data": {
      "text/plain": [
       "12"
      ]
     },
     "execution_count": 35,
     "metadata": {},
     "output_type": "execute_result"
    }
   ],
   "source": [
    "import random\n",
    "random.randint(a=10,b=20)"
   ]
  },
  {
   "cell_type": "code",
   "execution_count": null,
   "id": "e3d5e705-d1b1-4070-af6a-3c164d6cdaf4",
   "metadata": {},
   "outputs": [],
   "source": [
    "# before slash do not provide the variable name\n",
    "(a,/)\n",
    "a=10 error\n",
    "10 no error\n",
    "\n",
    "(a,/,b)\n",
    "a=10,b=20 error\n",
    "10,20 no error\n",
    "10,b=20 no error"
   ]
  },
  {
   "cell_type": "markdown",
   "id": "2010c11f-e507-4f32-94eb-aa18399445db",
   "metadata": {},
   "source": [
    "- / means position only parameters\n",
    "\n",
    "- / before / dont give the variable name\n",
    "\n",
    "- after / give variable name"
   ]
  },
  {
   "cell_type": "markdown",
   "id": "f9149b6f-34b8-41d1-b97d-7bc339b42130",
   "metadata": {},
   "source": [
    "**Sorted**"
   ]
  },
  {
   "cell_type": "code",
   "execution_count": 37,
   "id": "59b036a6-3be2-4477-a4f6-e8daa8aebc09",
   "metadata": {},
   "outputs": [
    {
     "data": {
      "text/plain": [
       "['h', 'n', 'o', 'p', 't', 'y']"
      ]
     },
     "execution_count": 37,
     "metadata": {},
     "output_type": "execute_result"
    }
   ],
   "source": [
    "sorted('python')\n",
    "\n",
    "# sorted(iterable, /, *, key=None, reverse=False)"
   ]
  },
  {
   "cell_type": "code",
   "execution_count": null,
   "id": "662355dd-10ec-4ad0-9e7b-ddfc6f5d3488",
   "metadata": {},
   "outputs": [],
   "source": [
    "sorted('python',True)  # error\n",
    "sorted(iterable='python',True) # error\n",
    "sorted(iterable='python',reverse=True) # error\n",
    "sorted('python',reverse=True) # error\n"
   ]
  },
  {
   "cell_type": "code",
   "execution_count": 38,
   "id": "019e9884-77f9-404e-a295-0e5da5b88421",
   "metadata": {},
   "outputs": [
    {
     "ename": "TypeError",
     "evalue": "sorted expected 1 argument, got 2",
     "output_type": "error",
     "traceback": [
      "\u001b[1;31m---------------------------------------------------------------------------\u001b[0m",
      "\u001b[1;31mTypeError\u001b[0m                                 Traceback (most recent call last)",
      "Cell \u001b[1;32mIn[38], line 1\u001b[0m\n\u001b[1;32m----> 1\u001b[0m \u001b[38;5;28msorted\u001b[39m(\u001b[38;5;124m'\u001b[39m\u001b[38;5;124mpython\u001b[39m\u001b[38;5;124m'\u001b[39m,\u001b[38;5;28;01mTrue\u001b[39;00m)\n",
      "\u001b[1;31mTypeError\u001b[0m: sorted expected 1 argument, got 2"
     ]
    }
   ],
   "source": [
    "sorted('python',True)\n"
   ]
  },
  {
   "cell_type": "code",
   "execution_count": 39,
   "id": "409b553e-f20d-4e9a-9808-aba27b5d0598",
   "metadata": {},
   "outputs": [
    {
     "ename": "SyntaxError",
     "evalue": "positional argument follows keyword argument (511028825.py, line 1)",
     "output_type": "error",
     "traceback": [
      "\u001b[1;36m  Cell \u001b[1;32mIn[39], line 1\u001b[1;36m\u001b[0m\n\u001b[1;33m    sorted(iterable='python',True)\u001b[0m\n\u001b[1;37m                                 ^\u001b[0m\n\u001b[1;31mSyntaxError\u001b[0m\u001b[1;31m:\u001b[0m positional argument follows keyword argument\n"
     ]
    }
   ],
   "source": [
    "sorted(iterable='python',True)"
   ]
  },
  {
   "cell_type": "code",
   "execution_count": 40,
   "id": "4a02d70c-d3bd-47c8-bf89-7b6f73d12a49",
   "metadata": {},
   "outputs": [
    {
     "ename": "TypeError",
     "evalue": "sorted expected 1 argument, got 0",
     "output_type": "error",
     "traceback": [
      "\u001b[1;31m---------------------------------------------------------------------------\u001b[0m",
      "\u001b[1;31mTypeError\u001b[0m                                 Traceback (most recent call last)",
      "Cell \u001b[1;32mIn[40], line 1\u001b[0m\n\u001b[1;32m----> 1\u001b[0m \u001b[38;5;28msorted\u001b[39m(iterable\u001b[38;5;241m=\u001b[39m\u001b[38;5;124m'\u001b[39m\u001b[38;5;124mpython\u001b[39m\u001b[38;5;124m'\u001b[39m,reverse\u001b[38;5;241m=\u001b[39m\u001b[38;5;28;01mTrue\u001b[39;00m)\n",
      "\u001b[1;31mTypeError\u001b[0m: sorted expected 1 argument, got 0"
     ]
    }
   ],
   "source": [
    "sorted(iterable='python',reverse=True)"
   ]
  },
  {
   "cell_type": "code",
   "execution_count": 41,
   "id": "434e713e-c33a-4150-94ff-97415b36da26",
   "metadata": {},
   "outputs": [
    {
     "data": {
      "text/plain": [
       "['y', 't', 'p', 'o', 'n', 'h']"
      ]
     },
     "execution_count": 41,
     "metadata": {},
     "output_type": "execute_result"
    }
   ],
   "source": [
    "sorted('python',reverse=True) # big to small"
   ]
  },
  {
   "cell_type": "code",
   "execution_count": 1,
   "id": "9b2ff09c-4f25-4dac-b0bc-6f78981e1214",
   "metadata": {},
   "outputs": [
    {
     "data": {
      "text/plain": [
       "['h', 'n', 'o', 'p', 't', 'y']"
      ]
     },
     "execution_count": 1,
     "metadata": {},
     "output_type": "execute_result"
    }
   ],
   "source": [
    "sorted('python',reverse=False) # small to big"
   ]
  },
  {
   "cell_type": "markdown",
   "id": "c961a657-2c37-46d2-8bec-fa95b646a53f",
   "metadata": {},
   "source": [
    "**in- operator**"
   ]
  },
  {
   "cell_type": "code",
   "execution_count": 44,
   "id": "5f4a60c9-f86a-47a0-9659-f46186d1f4a4",
   "metadata": {},
   "outputs": [
    {
     "data": {
      "text/plain": [
       "True"
      ]
     },
     "execution_count": 44,
     "metadata": {},
     "output_type": "execute_result"
    }
   ],
   "source": [
    "str='python'\n",
    "'p' in str"
   ]
  },
  {
   "cell_type": "code",
   "execution_count": 48,
   "id": "5e64534b-a673-4a96-8a49-dc9ee1fecec8",
   "metadata": {},
   "outputs": [
    {
     "name": "stdout",
     "output_type": "stream",
     "text": [
      "3\n"
     ]
    }
   ],
   "source": [
    "# wap ask the user how many times 'a' repeated in a given string\n",
    "\n",
    "# string='hai hai hai'\n",
    "\n",
    "\n",
    "str1='hai hai hai'\n",
    "c=0\n",
    "for i in str1:\n",
    "    if i=='a':\n",
    "        c=c+1\n",
    "print(c)\n",
    "    \n",
    "        \n",
    "    \n",
    "    "
   ]
  },
  {
   "cell_type": "code",
   "execution_count": 51,
   "id": "fda0a88a-f660-4505-92e7-89c5d1f80a6a",
   "metadata": {},
   "outputs": [
    {
     "name": "stdout",
     "output_type": "stream",
     "text": [
      "5\n"
     ]
    }
   ],
   "source": [
    "# wap to count the number of vowels in a given string\n",
    "# string='hai how are'\n",
    "# vowels=a,e,i,o,u:5\n",
    "\n",
    "# non repeated vowels=a,e,i,o:4\n",
    "\n",
    "\n",
    "\n",
    "string='hai how are'\n",
    "c=0\n",
    "for i in string:\n",
    "    if i=='a' or i=='e'or i=='i' or i=='o' or i=='u':\n",
    "        c=c+1\n",
    "    # else:\n",
    "        # print(\"Enter the invaild string\")\n",
    "print(c)"
   ]
  },
  {
   "cell_type": "code",
   "execution_count": 63,
   "id": "33e08edb-f160-4ace-8ad6-cd89dee61166",
   "metadata": {},
   "outputs": [
    {
     "name": "stdout",
     "output_type": "stream",
     "text": [
      "a\n",
      "i\n",
      "o\n",
      "a\n",
      "e\n",
      "5\n"
     ]
    }
   ],
   "source": [
    "string='hai how are'\n",
    "vowels=\" \"\n",
    "c=0\n",
    "for i in string:\n",
    "    if i=='a' or i=='e'or i=='i' or i=='o' or i=='u' or i=='A' or i=='E' or i=='I' or i=='U' or i=='O':\n",
    "        print(i)\n",
    "        c=c+1\n",
    "print(c)\n",
    "\n"
   ]
  },
  {
   "cell_type": "code",
   "execution_count": 6,
   "id": "837f6a85-8ed2-48a6-80ad-02261f4675cb",
   "metadata": {},
   "outputs": [
    {
     "name": "stdout",
     "output_type": "stream",
     "text": [
      "0\n"
     ]
    }
   ],
   "source": [
    "str_v='hai how are'\n",
    "vowels='aeiouAEIOU'\n",
    "non_repeated_vowels=' '\n",
    "c=0\n",
    "for i in str_v:\n",
    "    if i in vowels:\n",
    "        if vowels==1:\n",
    "            print(i)\n",
    "            c=c+1\n",
    "print(c)"
   ]
  },
  {
   "cell_type": "code",
   "execution_count": null,
   "id": "5d9c9fa7-d07a-48e7-8ce5-76875765ddf3",
   "metadata": {},
   "outputs": [],
   "source": []
  }
 ],
 "metadata": {
  "kernelspec": {
   "display_name": "Python 3 (ipykernel)",
   "language": "python",
   "name": "python3"
  },
  "language_info": {
   "codemirror_mode": {
    "name": "ipython",
    "version": 3
   },
   "file_extension": ".py",
   "mimetype": "text/x-python",
   "name": "python",
   "nbconvert_exporter": "python",
   "pygments_lexer": "ipython3",
   "version": "3.12.4"
  },
  "widgets": {
   "application/vnd.jupyter.widget-state+json": {
    "state": {},
    "version_major": 2,
    "version_minor": 0
   }
  }
 },
 "nbformat": 4,
 "nbformat_minor": 5
}
