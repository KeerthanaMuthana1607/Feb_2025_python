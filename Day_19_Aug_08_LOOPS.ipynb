{
 "cells": [
  {
   "cell_type": "markdown",
   "id": "d59fffa4-7ad4-47bf-9c3b-1fa6b799ad54",
   "metadata": {},
   "source": [
    "**LOOPS**"
   ]
  },
  {
   "cell_type": "markdown",
   "id": "e6824dc2-663a-43ec-8904-836711ae357c",
   "metadata": {},
   "source": [
    "- Repeating the same task\n",
    "\n",
    "- For example we want to do tax calculation\n",
    "\n",
    "- Tax calculation has 4 lines of code\n",
    "\n",
    "- I want to apply the tax calculations to my 100 employees\n",
    "\n",
    "- How many lines required :400\n",
    "\n",
    "- But if I keep the 4 lines in form of function\n",
    "\n",
    "- Then only one line can use for 100 members\n",
    "\n",
    "- The making one line : Functions\n",
    "\n",
    "- we are applying that one line for all 100 members:Loop"
   ]
  },
  {
   "cell_type": "markdown",
   "id": "5b508d8e-e4f1-4f78-9d75-2bc1597ecf87",
   "metadata": {},
   "source": [
    "**TWO TYPES OF LOOPS**\n",
    "\n",
    "    - For loop\n",
    "\n",
    "    - While loop\n",
    "\n",
    "- Any loop we require three things\n",
    "\n",
    "    - Intial point: start point to enter into the loop\n",
    "    - Increment or decrement : Number of times iterate the loop\n",
    "    - Condition to stop: we want to stop the loop based on specific condition\n",
    "\n",
    "- In for loop all these 3 are in a single line\n",
    "\n",
    "- In while loop all these 3 are 3 different lines\n",
    "  "
   ]
  },
  {
   "cell_type": "markdown",
   "id": "50229dda-9755-49cd-bae2-ae84b5a0b6b9",
   "metadata": {},
   "source": [
    "**FOR LOOP**\n"
   ]
  },
  {
   "cell_type": "markdown",
   "id": "4d53e002-8520-498f-9b9d-bfb380125fe7",
   "metadata": {},
   "source": [
    "$pattern - 1$\n",
    "\n",
    "**range(stop)**\n",
    "\n",
    "- for loop use range data type\n",
    "  \n",
    "- inside range we can keep some values\n",
    " \n",
    "- suppose if you keep only one value\n",
    "\n",
    "- start=0 by default\n",
    "  \n",
    "- increment by 1\n",
    "  \n",
    "- stop value - the given inside the range\n",
    "\n",
    "- range(3)\n",
    "\n",
    "  - start =0\n",
    "  - increment=1\n",
    "  - stop=last-1=3-1=2\n",
    "  - 0 1 2\n",
    "\n",
    "**python index starts with 0**"
   ]
  },
  {
   "cell_type": "code",
   "execution_count": 1,
   "id": "243cb7e4-7ccd-43de-b13e-d9193103f918",
   "metadata": {},
   "outputs": [
    {
     "name": "stdout",
     "output_type": "stream",
     "text": [
      "0\n",
      "1\n",
      "2\n"
     ]
    }
   ],
   "source": [
    "# syntax\n",
    "# In the i whatever you give like names\n",
    "\n",
    "for i in range (3):\n",
    "     print(i)"
   ]
  },
  {
   "cell_type": "code",
   "execution_count": 2,
   "id": "ff18e256-b16b-43e2-aee8-25820eb0fcbf",
   "metadata": {},
   "outputs": [
    {
     "name": "stdout",
     "output_type": "stream",
     "text": [
      "0 1 2 3 4 "
     ]
    }
   ],
   "source": [
    "for i in range (5):\n",
    "     print(i,end=\" \")"
   ]
  },
  {
   "cell_type": "code",
   "execution_count": 9,
   "id": "9bf1741e-4c3c-4ebd-a791-5b72c373acd8",
   "metadata": {},
   "outputs": [
    {
     "name": "stdout",
     "output_type": "stream",
     "text": [
      "1\n",
      "2\n",
      "3\n",
      "4\n",
      "I want print ouput as a horizontal\n",
      "1 2 3 4 "
     ]
    }
   ],
   "source": [
    "print(0)\n",
    "print(1)\n",
    "print(2)\n",
    "print(3)\n",
    "\n",
    "print(i)\n",
    "\n",
    "print(\"I want print ouput as a horizontal\")\n",
    "print(0,end=\" \")\n",
    "print(1,end=\" \")\n",
    "print(2,end=\" \")\n",
    "print(3,end=\" \")\n",
    "\n",
    "print(i,end=\" \")"
   ]
  },
  {
   "cell_type": "code",
   "execution_count": 1,
   "id": "940c4147-2665-4f88-adb8-2311fb84d2ec",
   "metadata": {},
   "outputs": [
    {
     "name": "stdout",
     "output_type": "stream",
     "text": [
      "0\n",
      "1\n",
      "2\n",
      "3\n"
     ]
    }
   ],
   "source": [
    "for i in range(4):\n",
    "    print(i)\n",
    "\n",
    "# step-1: i=0 ===== print(0)\n",
    "# step-2: i=1 ===== print(2)"
   ]
  },
  {
   "cell_type": "code",
   "execution_count": 10,
   "id": "1a7ba878-0ee3-45aa-a236-346807108d0d",
   "metadata": {},
   "outputs": [
    {
     "name": "stdout",
     "output_type": "stream",
     "text": [
      "Hello\n",
      "Hello\n",
      "Hello\n",
      "Hello\n",
      "Hello\n"
     ]
    }
   ],
   "source": [
    "# print hello 5 times\n",
    "for i in range(5):\n",
    "    print(\"Hello\")"
   ]
  },
  {
   "cell_type": "code",
   "execution_count": 6,
   "id": "87d3d472-7776-4791-a932-84169579e124",
   "metadata": {},
   "outputs": [
    {
     "name": "stdout",
     "output_type": "stream",
     "text": [
      "Hello Hello Hello Hello Hello "
     ]
    }
   ],
   "source": [
    "for i in range(5):\n",
    "    print(\"Hello\",end=\" \",sep=\"-\")\n",
    "\n",
    "# sep not work in this code"
   ]
  },
  {
   "cell_type": "code",
   "execution_count": 18,
   "id": "45a8d69f-6bba-4461-b4bb-6978e2cd04dc",
   "metadata": {},
   "outputs": [
    {
     "name": "stdout",
     "output_type": "stream",
     "text": [
      "The square of the 23 is:529\n",
      "The square of the 88 is:7744\n",
      "The square of the 19 is:361\n"
     ]
    }
   ],
   "source": [
    "# WAP ask the user get a number randomly between 1 to 100\n",
    "\n",
    "#   print the square of the number\n",
    "\n",
    "#   ask the user repeat this task for three times\n",
    "\n",
    "\n",
    "\n",
    "import random\n",
    "for i in range(3):\n",
    "    num=random.randint(1,100)\n",
    "    print(f\"The square of the {num} is:{num*num}\")"
   ]
  },
  {
   "cell_type": "code",
   "execution_count": 19,
   "id": "c051ca50-e087-41e8-8158-96d0d20d40d7",
   "metadata": {},
   "outputs": [
    {
     "name": "stdout",
     "output_type": "stream",
     "text": [
      "The square of the 68 is:4624\n"
     ]
    }
   ],
   "source": [
    "import random\n",
    "for i in range(3):\n",
    "    num=random.randint(1,100)\n",
    "print(f\"The square of the {num} is:{num*num}\")"
   ]
  },
  {
   "cell_type": "code",
   "execution_count": 4,
   "id": "bd231ff2-896d-48dd-aee0-d5c64091ea4c",
   "metadata": {},
   "outputs": [
    {
     "name": "stdout",
     "output_type": "stream",
     "text": [
      "0 <bound method Random.randint of <random.Random object at 0x0000025D31D36E70>>\n",
      "1 <bound method Random.randint of <random.Random object at 0x0000025D31D36E70>>\n",
      "2 <bound method Random.randint of <random.Random object at 0x0000025D31D36E70>>\n"
     ]
    }
   ],
   "source": [
    "import random\n",
    "num=random.randint\n",
    "for keerthi in range(3):\n",
    "    print(keerthi,num)"
   ]
  },
  {
   "cell_type": "markdown",
   "id": "0e2658c7-eee1-4ad2-9294-5c6663e34d22",
   "metadata": {},
   "source": [
    "$pattern-2$\n",
    "\n",
    "**range(start,stop)**\n",
    "\n",
    "- whenever we see the above pattern\n",
    "\n",
    "- start= start\n",
    "\n",
    "- increment by 1\n",
    "\n",
    "- last= stop-1\n",
    "\n",
    "- range(5,10)\n",
    "    - start=5\n",
    "    - increment=1\n",
    "    - last=10-1=9\n",
    "    - 5,6,7,8,9\n"
   ]
  },
  {
   "cell_type": "code",
   "execution_count": 20,
   "id": "99f642ac-ce55-40ff-9995-f0aec9638193",
   "metadata": {},
   "outputs": [
    {
     "name": "stdout",
     "output_type": "stream",
     "text": [
      "5\n",
      "6\n",
      "7\n",
      "8\n",
      "9\n"
     ]
    }
   ],
   "source": [
    "for i in range(5,10):\n",
    "    print(i)"
   ]
  },
  {
   "cell_type": "code",
   "execution_count": 25,
   "id": "7fe7015a-df3d-4bf8-b5be-32832caa5b7e",
   "metadata": {},
   "outputs": [
    {
     "name": "stdout",
     "output_type": "stream",
     "text": [
      "The square of the 1 is: 1\n",
      "The square of the 2 is: 4\n",
      "The square of the 3 is: 9\n",
      "The square of the 4 is: 16\n",
      "The square of the 5 is: 25\n"
     ]
    }
   ],
   "source": [
    "# wap ask the user print the square of the numbers from 1 to 5\n",
    "\n",
    "for keerthi in range(1,6):\n",
    "    print(f\"The square of the {keerthi} is:\",keerthi*keerthi)"
   ]
  },
  {
   "cell_type": "code",
   "execution_count": 29,
   "id": "89a1b38a-ed4e-44ac-a494-22ea569c9058",
   "metadata": {},
   "outputs": [
    {
     "name": "stdin",
     "output_type": "stream",
     "text": [
      "Enter the number: 4\n"
     ]
    },
    {
     "name": "stdout",
     "output_type": "stream",
     "text": [
      "The 4 is even\n",
      "The 4 is even\n",
      "The 4 is even\n",
      "The 4 is even\n",
      "The 4 is even\n"
     ]
    }
   ],
   "source": [
    "# wap ask the user get a number \n",
    "# find that number even or odd\n",
    "# repeat this 5 times\n",
    "num=eval(input(\"Enter the number:\"))\n",
    "for i in range(5):\n",
    "    if num%2==0:\n",
    "        print(f\"The {num} is even\")\n",
    "    else:\n",
    "        print(f\"The {num} is odd\")\n",
    "\n",
    "# this is the problem in this case"
   ]
  },
  {
   "cell_type": "code",
   "execution_count": 28,
   "id": "22297630-3398-4b3c-9139-b96d13897c19",
   "metadata": {},
   "outputs": [
    {
     "name": "stdin",
     "output_type": "stream",
     "text": [
      "Enter the number: 4\n"
     ]
    },
    {
     "name": "stdout",
     "output_type": "stream",
     "text": [
      "The 4 is even\n"
     ]
    },
    {
     "name": "stdin",
     "output_type": "stream",
     "text": [
      "Enter the number: 5\n"
     ]
    },
    {
     "name": "stdout",
     "output_type": "stream",
     "text": [
      "The 5 is odd\n"
     ]
    },
    {
     "name": "stdin",
     "output_type": "stream",
     "text": [
      "Enter the number: 7\n"
     ]
    },
    {
     "name": "stdout",
     "output_type": "stream",
     "text": [
      "The 7 is odd\n"
     ]
    },
    {
     "name": "stdin",
     "output_type": "stream",
     "text": [
      "Enter the number: 9\n"
     ]
    },
    {
     "name": "stdout",
     "output_type": "stream",
     "text": [
      "The 9 is odd\n"
     ]
    },
    {
     "name": "stdin",
     "output_type": "stream",
     "text": [
      "Enter the number: 2\n"
     ]
    },
    {
     "name": "stdout",
     "output_type": "stream",
     "text": [
      "The 2 is even\n"
     ]
    }
   ],
   "source": [
    "# wap ask the user get a number \n",
    "# find that number even or odd\n",
    "# repeat this 5 times\n",
    "\n",
    "for i in range(5):\n",
    "    num=eval(input(\"Enter the number:\"))\n",
    "    if num%2==0:\n",
    "        print(f\"The {num} is even\")\n",
    "    else:\n",
    "        print(f\"The {num} is odd\")\n",
    "        "
   ]
  },
  {
   "cell_type": "markdown",
   "id": "4c278da2-35c5-47d0-8f32-3d7afe7763a8",
   "metadata": {},
   "source": [
    "$pattern-3$\n",
    "\n",
    "**range(start,stop,step)**\n",
    "\n",
    "- start= start  only\n",
    "\n",
    "- step value\n",
    "\n",
    "    - if step value is positive\n",
    "\n",
    "       - positive step means positive direction\n",
    "       - increment =step\n",
    "       - last= stop-1\n",
    "    - if step value is negative\n",
    "\n",
    "       - negative step means reverse direction \n",
    "       - decrement = step\n",
    "       - last= stop+1\n"
   ]
  },
  {
   "cell_type": "code",
   "execution_count": 8,
   "id": "93c1a07d-f068-4d95-ae78-65493628cb38",
   "metadata": {},
   "outputs": [
    {
     "name": "stdout",
     "output_type": "stream",
     "text": [
      "1 3 5 7 9 "
     ]
    }
   ],
   "source": [
    "for i in range(1,10,2):\n",
    "    print(i,end=\" \")\n",
    "\n",
    "# start= 1\n",
    "# direction = step =+2\n",
    "# increment = 2\n",
    "# last= stop-1=9\n",
    "\n",
    "# 1 2 3 4 5 6 7 8 9\n",
    "# 1   3   5   7   9"
   ]
  },
  {
   "cell_type": "code",
   "execution_count": 33,
   "id": "92205087-1538-47cc-85ef-43cb06465ab3",
   "metadata": {},
   "outputs": [],
   "source": [
    "for i in range(1,11,-2):\n",
    "    print(i,end=\" \")\n",
    "\n",
    "# Dont print anything\n",
    "# no error no output"
   ]
  },
  {
   "cell_type": "code",
   "execution_count": 34,
   "id": "453d23c7-80ea-4e2a-bdf3-e0fc7c806ce1",
   "metadata": {},
   "outputs": [
    {
     "name": "stdout",
     "output_type": "stream",
     "text": [
      "11 9 7 5 3 "
     ]
    }
   ],
   "source": [
    "for i in range(11,1,-2):\n",
    "    print(i,end=\" \")\n",
    "\n",
    "# start = 11\n",
    "# direction = negative= -2\n",
    "# last= stop+1\n",
    "# 11 10 9 8 7 6 5  4 3  2\n",
    "# 11    9   7   5    3   \n"
   ]
  },
  {
   "cell_type": "code",
   "execution_count": 36,
   "id": "04db287b-2c32-4a4d-816f-479245bbbd44",
   "metadata": {},
   "outputs": [],
   "source": [
    "for i in range(-11,1,-2):\n",
    "    print(i,end=\" \")\n",
    "\n",
    "# start = -11\n",
    "# direction= negative  step=-2 decrement\n",
    "# last = stop+1\n",
    "\n",
    "# no answer no error"
   ]
  },
  {
   "cell_type": "code",
   "execution_count": 37,
   "id": "ce572d4a-37a1-4953-925e-68d763ae088f",
   "metadata": {},
   "outputs": [
    {
     "name": "stdout",
     "output_type": "stream",
     "text": [
      "-11 -9 -7 -5 -3 "
     ]
    }
   ],
   "source": [
    "for i in range(-11,-1,2):\n",
    "    print(i,end=\" \")"
   ]
  },
  {
   "cell_type": "code",
   "execution_count": null,
   "id": "943f1fa0-c277-4a8e-a23e-5cc173f7e0d4",
   "metadata": {},
   "outputs": [],
   "source": []
  }
 ],
 "metadata": {
  "kernelspec": {
   "display_name": "Python 3 (ipykernel)",
   "language": "python",
   "name": "python3"
  },
  "language_info": {
   "codemirror_mode": {
    "name": "ipython",
    "version": 3
   },
   "file_extension": ".py",
   "mimetype": "text/x-python",
   "name": "python",
   "nbconvert_exporter": "python",
   "pygments_lexer": "ipython3",
   "version": "3.12.4"
  },
  "widgets": {
   "application/vnd.jupyter.widget-state+json": {
    "state": {},
    "version_major": 2,
    "version_minor": 0
   }
  }
 },
 "nbformat": 4,
 "nbformat_minor": 5
}
