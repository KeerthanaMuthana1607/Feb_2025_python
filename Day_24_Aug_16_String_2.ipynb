{
 "cells": [
  {
   "cell_type": "code",
   "execution_count": 3,
   "id": "132f96a6-9bc5-495a-9ff9-c0c78ea2ed3a",
   "metadata": {},
   "outputs": [
    {
     "ename": "SyntaxError",
     "evalue": "invalid syntax (78305033.py, line 13)",
     "output_type": "error",
     "traceback": [
      "\u001b[1;36m  Cell \u001b[1;32mIn[3], line 13\u001b[1;36m\u001b[0m\n\u001b[1;33m    .\u001b[0m\n\u001b[1;37m    ^\u001b[0m\n\u001b[1;31mSyntaxError\u001b[0m\u001b[1;31m:\u001b[0m invalid syntax\n"
     ]
    }
   ],
   "source": [
    "string1='hai hello how'\n",
    "vowels='aeiou'\n",
    "c=0\n",
    "for i in string1:\n",
    "    if i in vowels:\n",
    "        print(i)\n",
    "        c=c+1\n",
    "print(c)\n",
    "\n",
    "#step-1 : i='h' ====> 'h' in 'aeiou' == F\n",
    "# step-2: i='a' ====> 'a' in 'aeiou' === T\n",
    "# step-3: i='i' ====> 'i' in 'aeiou'====T\n",
    ".\n",
    ".\n",
    ".\n",
    "# step: i='w' ===> 'w' in 'aeiou' =====F\n"
   ]
  },
  {
   "cell_type": "code",
   "execution_count": 6,
   "id": "04c7d6ac-dc6d-42a6-9333-8f060f886cd2",
   "metadata": {},
   "outputs": [
    {
     "name": "stdout",
     "output_type": "stream",
     "text": [
      "a\n",
      "i\n",
      "e\n",
      "o\n",
      "4\n"
     ]
    }
   ],
   "source": [
    "string1='hai hello how'\n",
    "vowels='aeiou'\n",
    "empty=' '\n",
    "c=0\n",
    "for i in string1:\n",
    "    if i not in empty and i in vowels: \n",
    "        # if i in vowels:\n",
    "            print(i)\n",
    "            empty=empty+i\n",
    "            \n",
    "            c=c+1\n",
    "print(c)\n",
    "\n",
    "\n",
    "# step-1: i='h'  in string1==>T\n",
    "#         "
   ]
  },
  {
   "cell_type": "code",
   "execution_count": 10,
   "id": "c6bcd527-1494-4c8f-a422-70e6a1f26dc7",
   "metadata": {},
   "outputs": [
    {
     "name": "stdout",
     "output_type": "stream",
     "text": [
      "h   h l l   h w \n",
      "Total no of consonents is: 8\n"
     ]
    }
   ],
   "source": [
    "string1='hai hello how'\n",
    "vowels='aeiou'\n",
    "c=0\n",
    "for i in string1:\n",
    "    if i not in vowels:\n",
    "        print(i,end=\" \")\n",
    "        c=c+1\n",
    "print(\"\\nTotal no of consonents is:\", c)"
   ]
  },
  {
   "cell_type": "markdown",
   "id": "229335fe-43e8-45f0-b49f-131c60fe86f9",
   "metadata": {},
   "source": [
    "**index**"
   ]
  },
  {
   "cell_type": "code",
   "execution_count": null,
   "id": "65cc0aed-b0e8-448f-872f-d0cb0d52485e",
   "metadata": {},
   "outputs": [],
   "source": [
    "-6 -5 -4 -3 -2 -1  # negative index\n",
    "p  y  t  h  o  n\n",
    "0  1  2  3  4  5   # positive index"
   ]
  },
  {
   "cell_type": "code",
   "execution_count": 12,
   "id": "567164ff-7293-4235-bb22-a5ee0fc1df5e",
   "metadata": {},
   "outputs": [
    {
     "data": {
      "text/plain": [
       "'p'"
      ]
     },
     "execution_count": 12,
     "metadata": {},
     "output_type": "execute_result"
    }
   ],
   "source": [
    "str1='python'\n",
    "str1[0]  # access"
   ]
  },
  {
   "cell_type": "code",
   "execution_count": 3,
   "id": "7036cc74-208c-4838-af36-078d87551be7",
   "metadata": {},
   "outputs": [
    {
     "data": {
      "text/plain": [
       "'o'"
      ]
     },
     "execution_count": 3,
     "metadata": {},
     "output_type": "execute_result"
    }
   ],
   "source": [
    "str1='python'\n",
    "str1[4]\n"
   ]
  },
  {
   "cell_type": "code",
   "execution_count": 18,
   "id": "c56e2f99-ff86-4378-bd1f-fbe1d5fda20b",
   "metadata": {},
   "outputs": [
    {
     "data": {
      "text/plain": [
       "'n'"
      ]
     },
     "execution_count": 18,
     "metadata": {},
     "output_type": "execute_result"
    }
   ],
   "source": [
    "str1[0]\n",
    "str1[1]\n",
    "str1[2]\n",
    "str1[3]\n",
    "str1[4]\n",
    "str1[5]"
   ]
  },
  {
   "cell_type": "code",
   "execution_count": 19,
   "id": "3a0bbb61-1a19-41ee-8b8b-329984c26f5f",
   "metadata": {},
   "outputs": [
    {
     "name": "stdout",
     "output_type": "stream",
     "text": [
      "p\n",
      "y\n",
      "t\n",
      "h\n",
      "o\n",
      "n\n"
     ]
    }
   ],
   "source": [
    "print(str1[0])\n",
    "print(str1[1])\n",
    "print(str1[2])\n",
    "print(str1[3])\n",
    "print(str1[4])\n",
    "print(str1[5])"
   ]
  },
  {
   "cell_type": "code",
   "execution_count": 7,
   "id": "5cbed079-8dfa-4e1d-ae7f-97519c94cf64",
   "metadata": {},
   "outputs": [
    {
     "name": "stdout",
     "output_type": "stream",
     "text": [
      "0 p\n",
      "1 y\n",
      "2 t\n",
      "3 h\n",
      "4 o\n",
      "5 n\n"
     ]
    }
   ],
   "source": [
    "str1='python'\n",
    "for i in range(6):\n",
    "    print(i,str1[i])\n",
    "\n",
    "# i is index numbers\n",
    "# str1[i] is the elements"
   ]
  },
  {
   "cell_type": "code",
   "execution_count": 8,
   "id": "5c62c0d2-afd5-46a9-b064-c1fd2565923c",
   "metadata": {},
   "outputs": [
    {
     "name": "stdout",
     "output_type": "stream",
     "text": [
      "0 p\n",
      "1 y\n",
      "2 t\n",
      "3 h\n",
      "4 o\n"
     ]
    }
   ],
   "source": [
    "str='python python'\n",
    "for i in range(5):\n",
    "    print(i,str[i])"
   ]
  },
  {
   "cell_type": "code",
   "execution_count": 9,
   "id": "90a46ed0-d776-4f24-b850-f0902e3d589e",
   "metadata": {},
   "outputs": [
    {
     "name": "stdout",
     "output_type": "stream",
     "text": [
      "0 p\n",
      "1 y\n",
      "2 t\n",
      "3 h\n",
      "4 o\n",
      "5 n\n",
      "6  \n",
      "7 p\n",
      "8 y\n",
      "9 t\n",
      "10 h\n",
      "11 o\n",
      "12 n\n"
     ]
    }
   ],
   "source": [
    "str='python python'\n",
    "n=len(str)\n",
    "for i in range(n):\n",
    "    print(i,str[i])"
   ]
  },
  {
   "cell_type": "code",
   "execution_count": 11,
   "id": "68d38845-1703-4d89-91ee-3829198e6895",
   "metadata": {},
   "outputs": [
    {
     "name": "stdout",
     "output_type": "stream",
     "text": [
      " the positive index of p is 0\n",
      " the positive index of y is 1\n",
      " the positive index of t is 2\n",
      " the positive index of h is 3\n",
      " the positive index of o is 4\n",
      " the positive index of n is 5\n"
     ]
    }
   ],
   "source": [
    "str='python'\n",
    "n=len(str)\n",
    "for i in range(n):\n",
    "    print(f' the positive index of {str[i]} is {i}')"
   ]
  },
  {
   "cell_type": "code",
   "execution_count": 16,
   "id": "2399bb3d-002f-4080-aab1-8bedb4e6c3cd",
   "metadata": {},
   "outputs": [
    {
     "name": "stdout",
     "output_type": "stream",
     "text": [
      "6\n",
      " the negative index of p is -6\n",
      " the negative index of y is -5\n",
      " the negative index of t is -4\n",
      " the negative index of h is -3\n",
      " the negative index of o is -2\n",
      " the negative index of n is -1\n"
     ]
    }
   ],
   "source": [
    "str='python'\n",
    "n=len(str)\n",
    "print(n)\n",
    "for i in range(-6,0):\n",
    "    print(f' the negative index of {str[i]} is {i}')"
   ]
  },
  {
   "cell_type": "code",
   "execution_count": 17,
   "id": "a9fafa3f-c44f-424f-aecc-b0521ef65691",
   "metadata": {},
   "outputs": [
    {
     "name": "stdout",
     "output_type": "stream",
     "text": [
      "6\n",
      " the negative index of p is -6\n",
      " the negative index of y is -5\n",
      " the negative index of t is -4\n",
      " the negative index of h is -3\n",
      " the negative index of o is -2\n",
      " the negative index of n is -1\n"
     ]
    }
   ],
   "source": [
    "str='python'\n",
    "n=len(str)\n",
    "print(n)\n",
    "for i in range(-n,0):\n",
    "    print(f' the negative index of {str[i]} is {i}')"
   ]
  },
  {
   "cell_type": "code",
   "execution_count": 24,
   "id": "3dd79960-5ff8-4d97-9e1a-3679c5e1c86e",
   "metadata": {},
   "outputs": [
    {
     "name": "stdout",
     "output_type": "stream",
     "text": [
      "0 -6\n",
      "1 -5\n",
      "2 -4\n",
      "3 -3\n",
      "4 -2\n",
      "5 -1\n"
     ]
    }
   ],
   "source": [
    "for i in range(6):\n",
    "    print(i,i-6)"
   ]
  },
  {
   "cell_type": "code",
   "execution_count": 23,
   "id": "1e601596-e9ba-4f1f-bddf-bb89fcbf94a3",
   "metadata": {},
   "outputs": [
    {
     "name": "stdout",
     "output_type": "stream",
     "text": [
      "6\n",
      " the positive index of p is 0\n",
      " the negative index of p is -6\n",
      " the positive index of y is 1\n",
      " the negative index of y is -5\n",
      " the positive index of t is 2\n",
      " the negative index of t is -4\n",
      " the positive index of h is 3\n",
      " the negative index of h is -3\n",
      " the positive index of o is 4\n",
      " the negative index of o is -2\n",
      " the positive index of n is 5\n",
      " the negative index of n is -1\n"
     ]
    }
   ],
   "source": [
    "# I want positive index and negative index\n",
    "\n",
    "str='python'\n",
    "n=len(str)\n",
    "print(n)\n",
    "for i in range(n):\n",
    "    print(f' the positive index of {str[i]} is {i}')\n",
    "    print(f' the negative index of {str[i]} is {i-n}')"
   ]
  },
  {
   "cell_type": "code",
   "execution_count": 25,
   "id": "cdf06f30-c147-4257-9f25-3f5a28f49136",
   "metadata": {},
   "outputs": [
    {
     "name": "stdout",
     "output_type": "stream",
     "text": [
      "6\n",
      " the positive index of p is 0 and the negative index of p is -6\n",
      " the positive index of y is 1 and the negative index of y is -5\n",
      " the positive index of t is 2 and the negative index of t is -4\n",
      " the positive index of h is 3 and the negative index of h is -3\n",
      " the positive index of o is 4 and the negative index of o is -2\n",
      " the positive index of n is 5 and the negative index of n is -1\n"
     ]
    }
   ],
   "source": [
    "# I want positive index and negative index\n",
    "\n",
    "str='python'\n",
    "n=len(str)\n",
    "print(n)\n",
    "for i in range(n):\n",
    "    print(f' the positive index of {str[i]} is {i} and the negative index of {str[i]} is {i-n}')\n"
   ]
  },
  {
   "cell_type": "markdown",
   "id": "6dfbbec9-c430-4dc5-b282-d4d1ca39692d",
   "metadata": {},
   "source": [
    "**Mutable and immutable**"
   ]
  },
  {
   "cell_type": "markdown",
   "id": "26a06071-2b29-40bd-a168-4d3b7a6a9201",
   "metadata": {},
   "source": [
    "- Mutable means change\n",
    "\n",
    "- Immutable means not able to change\n",
    "\n",
    "- Example: 'welcome'\n",
    "\n",
    "- output: 'weLcome'\n",
    "- is this possible using  **index operations**? No\n",
    "\n",
    "- Strings are **immutable**\n",
    "\n",
    "- We can not change the letters using index"
   ]
  },
  {
   "cell_type": "code",
   "execution_count": 26,
   "id": "f5d52a17-28ae-427b-bdcd-1144aed633b1",
   "metadata": {},
   "outputs": [
    {
     "data": {
      "text/plain": [
       "'l'"
      ]
     },
     "execution_count": 26,
     "metadata": {},
     "output_type": "execute_result"
    }
   ],
   "source": [
    "str1='welcome'\n",
    "str1[2]"
   ]
  },
  {
   "cell_type": "code",
   "execution_count": 27,
   "id": "1ceed133-3d8e-4de3-a749-caf3e647ef4b",
   "metadata": {},
   "outputs": [
    {
     "ename": "TypeError",
     "evalue": "'str' object does not support item assignment",
     "output_type": "error",
     "traceback": [
      "\u001b[1;31m---------------------------------------------------------------------------\u001b[0m",
      "\u001b[1;31mTypeError\u001b[0m                                 Traceback (most recent call last)",
      "Cell \u001b[1;32mIn[27], line 2\u001b[0m\n\u001b[0;32m      1\u001b[0m str1\u001b[38;5;241m=\u001b[39m\u001b[38;5;124m'\u001b[39m\u001b[38;5;124mwelcome\u001b[39m\u001b[38;5;124m'\u001b[39m\n\u001b[1;32m----> 2\u001b[0m str1[\u001b[38;5;241m2\u001b[39m]\u001b[38;5;241m=\u001b[39m\u001b[38;5;124m'\u001b[39m\u001b[38;5;124mL\u001b[39m\u001b[38;5;124m'\u001b[39m\n",
      "\u001b[1;31mTypeError\u001b[0m: 'str' object does not support item assignment"
     ]
    }
   ],
   "source": [
    "str1='welcome'\n",
    "str1[2]='L'"
   ]
  },
  {
   "cell_type": "code",
   "execution_count": 29,
   "id": "b7813dc2-eccd-4768-9b1f-ba39591d3019",
   "metadata": {},
   "outputs": [
    {
     "data": {
      "text/plain": [
       "'L'"
      ]
     },
     "execution_count": 29,
     "metadata": {},
     "output_type": "execute_result"
    }
   ],
   "source": [
    "l=['w','e','l','c','o','m','e']\n",
    "l[2]='L'\n",
    "l[2]"
   ]
  },
  {
   "cell_type": "markdown",
   "id": "d11641bf-25b0-4586-a80f-2c7a9eb0c6a9",
   "metadata": {},
   "source": [
    "**when to use range and when to use in**\n",
    "\n",
    "- in operators access the elements directly\n",
    "\n",
    "- range operator access the elements by using index\n",
    "\n",
    "- for example: str='welcome'\n",
    "\n",
    "- If you want to access each letter from str\n",
    "\n",
    "- we can use in and range\n",
    "\n",
    "- in: for i in str\n",
    "\n",
    "- range: for i in range(len(str)): i becomes 0,1,2,3,4,5\n",
    "    - str[i]\n"
   ]
  },
  {
   "cell_type": "markdown",
   "id": "52368772-6e4e-460e-9a3d-4c89b7162c5d",
   "metadata": {},
   "source": [
    "**use the range operator when we you required a index use**"
   ]
  },
  {
   "cell_type": "code",
   "execution_count": 32,
   "id": "72e9ccc5-f349-4a40-900e-f624c8ee5293",
   "metadata": {},
   "outputs": [
    {
     "name": "stdout",
     "output_type": "stream",
     "text": [
      "w\n",
      "e\n",
      "l\n",
      "c\n",
      "o\n",
      "m\n",
      "e\n",
      "w\n",
      "e\n",
      "l\n",
      "c\n",
      "o\n",
      "m\n",
      "e\n"
     ]
    }
   ],
   "source": [
    "str1='welcome'\n",
    "for i in 'welcome':\n",
    "    print(i)\n",
    "\n",
    "for i in range(len(str1)):\n",
    "    print(str1[i])"
   ]
  },
  {
   "cell_type": "code",
   "execution_count": null,
   "id": "d16f8797-d4fd-49b0-b399-e7c791097adf",
   "metadata": {},
   "outputs": [],
   "source": [
    "# Q1) count the no of 'a' in a given string: in\n",
    "# Q2) count the no of 'a' in a given string: range\n",
    "# Q3) print the indexed of 'a' in a given string\n",
    "# Q4) sum the indexed of 'a' in a given string\n",
    "# string: 'hello how are you'\n",
    "# Q5) count the all the vowels in a given string: in\n",
    "# Q6) count the all the vowels in a given string: range\n",
    "# Q7) count the non repeated vowels in a given string:in\n",
    "# Q8) count the non repeated vowels in a given string:range\n",
    "# Q9) positive index negative index using for loop\n",
    "# Q10) positive index negative index using while loop"
   ]
  }
 ],
 "metadata": {
  "kernelspec": {
   "display_name": "Python 3 (ipykernel)",
   "language": "python",
   "name": "python3"
  },
  "language_info": {
   "codemirror_mode": {
    "name": "ipython",
    "version": 3
   },
   "file_extension": ".py",
   "mimetype": "text/x-python",
   "name": "python",
   "nbconvert_exporter": "python",
   "pygments_lexer": "ipython3",
   "version": "3.12.4"
  },
  "widgets": {
   "application/vnd.jupyter.widget-state+json": {
    "state": {},
    "version_major": 2,
    "version_minor": 0
   }
  }
 },
 "nbformat": 4,
 "nbformat_minor": 5
}
