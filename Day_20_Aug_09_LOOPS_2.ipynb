{
 "cells": [
  {
   "cell_type": "code",
   "execution_count": null,
   "id": "ee6d8cea-9429-44e8-8b39-dc6ee7a6cafc",
   "metadata": {},
   "outputs": [],
   "source": [
    "range(3,15,3) # P\n",
    "range(3,15,-3) # Np\n",
    "range(3,-15,3) # NP\n",
    "range(-3,15,3) # P\n",
    "range(3,-15,-3) # P\n",
    "range(-3,15,-3) # NP\n",
    "range(-3,-15,-3) # P\n",
    "range(15,3,3) # NP\n",
    "range(15,3,-3) # P\n",
    "range(15,-3,3) # NP\n",
    "range(-15,-3,-3) # NP"
   ]
  },
  {
   "cell_type": "code",
   "execution_count": 3,
   "id": "f51b59ec-5a93-4afc-a067-79565da1749f",
   "metadata": {},
   "outputs": [
    {
     "data": {
      "text/plain": [
       "range(-22, 22, -2)"
      ]
     },
     "execution_count": 3,
     "metadata": {},
     "output_type": "execute_result"
    }
   ],
   "source": [
    "range(-22,22,-2)"
   ]
  },
  {
   "cell_type": "code",
   "execution_count": 5,
   "id": "ecc8f6c3-53d7-4948-85c1-1c907a83dde6",
   "metadata": {},
   "outputs": [
    {
     "name": "stdout",
     "output_type": "stream",
     "text": [
      "the square of 74 is 5476\n",
      "the square of 44 is 1936\n",
      "the square of 16 is 256\n"
     ]
    }
   ],
   "source": [
    "#1) wap ask the user get a number randomly between 1 to 100\n",
    "# print the square of the number\n",
    "# ask the user repeat this task for three times\n",
    "import random\n",
    "for i in range(3):\n",
    "    num=random.randint(1,100)\n",
    "    print(f\"the square of {num} is {num*num}\")"
   ]
  },
  {
   "cell_type": "code",
   "execution_count": 2,
   "id": "af355304-12d0-46eb-84e5-212fe7f5ab00",
   "metadata": {},
   "outputs": [
    {
     "name": "stdout",
     "output_type": "stream",
     "text": [
      "the square of 43 is 1849\n",
      "the square of 48 is 2304\n",
      "the square of 61 is 3721\n"
     ]
    }
   ],
   "source": [
    "import random\n",
    "for i in range(1333,1336):\n",
    "    num=random.randint(1,100)\n",
    "    print(f\"the square of {num} is {num*num}\")"
   ]
  },
  {
   "cell_type": "code",
   "execution_count": 7,
   "id": "563bf981-5f32-4124-b532-a782a3fd5f84",
   "metadata": {},
   "outputs": [
    {
     "name": "stdout",
     "output_type": "stream",
     "text": [
      "the square of 1 is 1\n",
      "the square of 2 is 4\n",
      "the square of 3 is 9\n",
      "the square of 4 is 16\n",
      "the square of 5 is 25\n"
     ]
    }
   ],
   "source": [
    "#2) wap ask the user print the square of the numbers\n",
    "# from 1 to 5\n",
    "for i in range(1,6):\n",
    "    print(f\"the square of {i} is {i*i}\")"
   ]
  },
  {
   "cell_type": "code",
   "execution_count": 1,
   "id": "41337164-899a-4b4c-a400-bd2bf8aa1c03",
   "metadata": {},
   "outputs": [
    {
     "name": "stdin",
     "output_type": "stream",
     "text": [
      "enter a number: 4\n"
     ]
    },
    {
     "name": "stdout",
     "output_type": "stream",
     "text": [
      "the 4 is an even\n",
      "the 4 is an even\n",
      "the 4 is an even\n",
      "the 4 is an even\n",
      "the 4 is an even\n"
     ]
    }
   ],
   "source": [
    "#3) wap ask the user get a number from keyboard\n",
    "# find that number even or odd\n",
    "# repeat this 5 times\n",
    "\n",
    "num=eval(input('enter a number:'))\n",
    "for i in range(5):\n",
    "   \n",
    "    if num%2==0:\n",
    "        print(f\"the {num} is an even\")\n",
    "    else:\n",
    "        print(f\"the {num} is an odd\")"
   ]
  },
  {
   "cell_type": "markdown",
   "id": "bd830396-373a-4043-ae69-304e3848d3f7",
   "metadata": {},
   "source": [
    "**In the below program was not in the correct way of writing**"
   ]
  },
  {
   "cell_type": "code",
   "execution_count": 2,
   "id": "eef28cca-67c2-4bdc-83fe-9acdfe0ab46c",
   "metadata": {},
   "outputs": [
    {
     "name": "stdin",
     "output_type": "stream",
     "text": [
      "enter a number: 4\n"
     ]
    },
    {
     "name": "stdout",
     "output_type": "stream",
     "text": [
      "the 4 is an even\n"
     ]
    },
    {
     "name": "stdin",
     "output_type": "stream",
     "text": [
      "enter a number: 5\n"
     ]
    },
    {
     "name": "stdout",
     "output_type": "stream",
     "text": [
      "the 5 is an odd\n"
     ]
    },
    {
     "name": "stdin",
     "output_type": "stream",
     "text": [
      "enter a number: 8\n"
     ]
    },
    {
     "name": "stdout",
     "output_type": "stream",
     "text": [
      "the 8 is an even\n"
     ]
    },
    {
     "name": "stdin",
     "output_type": "stream",
     "text": [
      "enter a number: 34\n"
     ]
    },
    {
     "name": "stdout",
     "output_type": "stream",
     "text": [
      "the 34 is an even\n"
     ]
    },
    {
     "name": "stdin",
     "output_type": "stream",
     "text": [
      "enter a number: 67\n"
     ]
    },
    {
     "name": "stdout",
     "output_type": "stream",
     "text": [
      "the 67 is an odd\n"
     ]
    }
   ],
   "source": [
    "#3) wap ask the user get a number from keyboard\n",
    "# find that number even or odd\n",
    "# repeat this 5 times\n",
    "\n",
    "\n",
    "for i in range(5):\n",
    "    num=eval(input('enter a number:'))\n",
    "    if num%2==0:\n",
    "        print(f\"the {num} is an even\")\n",
    "    else:\n",
    "        print(f\"the {num} is an odd\")"
   ]
  },
  {
   "cell_type": "code",
   "execution_count": 10,
   "id": "5e0328a4-4c0c-4e23-a6f8-ec582db67854",
   "metadata": {},
   "outputs": [
    {
     "name": "stdin",
     "output_type": "stream",
     "text": [
      "Enter a number: 7\n"
     ]
    },
    {
     "name": "stdout",
     "output_type": "stream",
     "text": [
      "7 x 1 = 7\n",
      "7 x 2 = 14\n",
      "7 x 3 = 21\n",
      "7 x 4 = 28\n",
      "7 x 5 = 35\n",
      "7 x 6 = 42\n",
      "7 x 7 = 49\n",
      "7 x 8 = 56\n",
      "7 x 9 = 63\n",
      "7 x 10 = 70\n"
     ]
    }
   ],
   "source": [
    "num=eval(input(\"Enter a number:\"))\n",
    "for i in range(1,11):\n",
    "    print(num,\"x\",i,'=',num*i)"
   ]
  },
  {
   "cell_type": "code",
   "execution_count": 3,
   "id": "479e6441-6010-4b34-9b67-de66c36a4b97",
   "metadata": {},
   "outputs": [
    {
     "name": "stdin",
     "output_type": "stream",
     "text": [
      "Enter a number: 7\n"
     ]
    },
    {
     "name": "stdout",
     "output_type": "stream",
     "text": [
      "7 x 1 = 7\n",
      "7 x 2 = 14\n",
      "7 x 3 = 21\n",
      "7 x 4 = 28\n",
      "7 x 5 = 35\n",
      "7 x 6 = 42\n",
      "7 x 7 = 49\n",
      "7 x 8 = 56\n",
      "7 x 9 = 63\n",
      "7 x 10 = 70\n"
     ]
    }
   ],
   "source": [
    "num=eval(input(\"Enter a number:\"))\n",
    "for i in range(1,11):\n",
    "    print(f\"{num} x {i} = {num*i}\")"
   ]
  },
  {
   "cell_type": "code",
   "execution_count": 19,
   "id": "f34b36e7-935d-4d3c-bc2f-867f5d5ee7ab",
   "metadata": {},
   "outputs": [
    {
     "name": "stdin",
     "output_type": "stream",
     "text": [
      "Enter the number to display the table: 19\n"
     ]
    },
    {
     "name": "stdout",
     "output_type": "stream",
     "text": [
      "19x1=19\n",
      "19x2=38\n",
      "19x3=57\n",
      "19x4=76\n",
      "19x5=95\n",
      "19x6=114\n",
      "19x7=133\n",
      "19x8=152\n",
      "19x9=171\n",
      "19x10=190\n"
     ]
    }
   ],
   "source": [
    "def table():\n",
    "    num=eval(input(\"Enter the number to display the table:\"))\n",
    "    for i in range(1,11):\n",
    "        print(f\"{num}x{i}={num*i}\")\n",
    "table()"
   ]
  },
  {
   "cell_type": "code",
   "execution_count": 1,
   "id": "5bb98e29-64e0-4eb5-9ce7-9d24d9ddc6f5",
   "metadata": {},
   "outputs": [
    {
     "name": "stdin",
     "output_type": "stream",
     "text": [
      "Enter a number: 75\n"
     ]
    },
    {
     "name": "stdout",
     "output_type": "stream",
     "text": [
      "1 3 5 15 25 75 "
     ]
    }
   ],
   "source": [
    "# 5) WAP to find the divisiors of a given number : 75\n",
    "# What is mean by divisors\n",
    "# If you dived a number with another number the remineder =0\n",
    "# Idea\n",
    "# Itearte the loop with given number\n",
    "# For example if you want divisors of number =10\n",
    "# start=1 end with 10\n",
    "# So there are 1 to 10 numbers\n",
    "# every number divide with the itartor number\n",
    "# Find the reminder\n",
    "# if reminder =0 then print that number\n",
    "# step-1: num= eval()\n",
    "\n",
    "# step-2: for i in range(1,num+1):\n",
    "# step-3: if <reminder>:\n",
    "# step-4: print(i)\n",
    "\n",
    "\n",
    "num=eval(input(\"Enter a number:\"))\n",
    "for i in range(1,num+1):\n",
    "    if num%i==0:\n",
    "        print(i,end=\" \")     "
   ]
  },
  {
   "cell_type": "code",
   "execution_count": 40,
   "id": "d1b45720-5472-4dcf-a51f-eceda4df5293",
   "metadata": {},
   "outputs": [
    {
     "name": "stdin",
     "output_type": "stream",
     "text": [
      "Enter a number: string\n"
     ]
    },
    {
     "name": "stdout",
     "output_type": "stream",
     "text": [
      "['s', 't', 'r', 'i', 'n', 'g']\n"
     ]
    }
   ],
   "source": [
    "num=input(\"Enter a number:\")\n",
    "l=[]\n",
    "for i in num:\n",
    "    \n",
    "print(l)"
   ]
  },
  {
   "cell_type": "code",
   "execution_count": null,
   "id": "b851bfa8-8f56-4628-a2bd-6cfa9d0fb784",
   "metadata": {},
   "outputs": [],
   "source": [
    "# 6) wap ask the user to get sum of first 10 natural numbers\n",
    "# 1+2+3+4+5+6+7+8+9+10=55\n",
    "\n",
    "0+1=1\n",
    "1+2=3\n",
    "3+3=6\n",
    "6+4=10\n",
    "10+5=15\n",
    "15+6=21\n",
    "21+7=28\n",
    "28+8=36\n",
    "36+9=45\n",
    "45+10=55\n",
    "\n",
    "{sum}+i={sum}"
   ]
  },
  {
   "cell_type": "markdown",
   "id": "75480f94-1448-434d-ab82-5afe86593bfb",
   "metadata": {},
   "source": [
    "**Summation wrapper**\n",
    "\n",
    "- whenever we do summation using loop\n",
    "\n",
    "- always keep summ=0 at starting of the code\n",
    "\n",
    "- second line iterate the loop\n",
    "\n",
    "- third line inside the for loop write: summ=summ+i\n",
    "\n",
    "- summ=summ+i or summ+=i\n",
    "\n",
    "- dont give variable name as sum\n"
   ]
  },
  {
   "cell_type": "code",
   "execution_count": 2,
   "id": "a80f6ea5-e158-40f3-bb41-0eb78b96c9d6",
   "metadata": {},
   "outputs": [
    {
     "name": "stdout",
     "output_type": "stream",
     "text": [
      "1\n",
      "3\n",
      "6\n",
      "10\n",
      "15\n",
      "21\n",
      "28\n",
      "36\n",
      "45\n",
      "55\n"
     ]
    }
   ],
   "source": [
    "# summ=0\n",
    "# for loop:\n",
    "#   summ=summ+i\n",
    "\n",
    "summ=0  # initial point\n",
    "for i in range(1,11):\n",
    "    summ=summ+i # updation\n",
    "    print(summ)\n",
    "\n",
    "# step-1: summ=0 i=1 summ=0+1=1\n",
    "# step-2: summ=1 i=2 summ=2+1=3\n",
    "# step-3: summ=3 i=3 summ=3+3=6\n"
   ]
  },
  {
   "cell_type": "code",
   "execution_count": 3,
   "id": "9bf2945a-c8e3-4dfe-9070-4782d9885a5d",
   "metadata": {},
   "outputs": [
    {
     "name": "stdout",
     "output_type": "stream",
     "text": [
      "55\n"
     ]
    }
   ],
   "source": [
    "summ=0  # initial point\n",
    "for i in range(1,11):\n",
    "    summ=summ+i # updation\n",
    "print(summ)"
   ]
  },
  {
   "cell_type": "code",
   "execution_count": 4,
   "id": "7bf52a19-f352-4480-9561-4b6835048bd8",
   "metadata": {},
   "outputs": [
    {
     "name": "stdout",
     "output_type": "stream",
     "text": [
      "5.5\n"
     ]
    }
   ],
   "source": [
    "# 8) FInd the average of first 10 natural numbers\n",
    "\n",
    "summ=0\n",
    "for i in range(1,11):\n",
    "    summ=summ+i\n",
    "print(summ/10)"
   ]
  },
  {
   "cell_type": "markdown",
   "id": "ee3d0dcb-ebd1-4a4a-81b5-57bf32d50c59",
   "metadata": {},
   "source": [
    "**Counter wraper**"
   ]
  },
  {
   "cell_type": "code",
   "execution_count": 5,
   "id": "104bcc01-2ea3-4809-a357-117aaab4847e",
   "metadata": {},
   "outputs": [
    {
     "name": "stdout",
     "output_type": "stream",
     "text": [
      "Hello\n",
      "Hello\n",
      "Hello\n"
     ]
    }
   ],
   "source": [
    "for i in range(3):\n",
    "    print(\"Hello\")\n",
    "    "
   ]
  },
  {
   "cell_type": "markdown",
   "id": "de33a5c0-c0b6-4722-a8e9-2e53a7d467f5",
   "metadata": {},
   "source": [
    "- count=0\n",
    "- for loop\n",
    "- whenever the criteria meet count=count+1\n",
    "- in the summation we use sum=sum+i\n",
    "in the counter we use count=count+i\n"
   ]
  },
  {
   "cell_type": "code",
   "execution_count": 5,
   "id": "d725be50-85cf-4499-bc1d-f1cffd07a12d",
   "metadata": {},
   "outputs": [
    {
     "name": "stdout",
     "output_type": "stream",
     "text": [
      "Hello\n",
      "Hello\n",
      "Hello\n",
      "3\n"
     ]
    }
   ],
   "source": [
    "# 9) wap to count the print statemnts\n",
    "\n",
    "count=0\n",
    "for i in range(3):\n",
    "    print(\"Hello\")\n",
    "    count=count+1\n",
    "print(count)"
   ]
  },
  {
   "cell_type": "code",
   "execution_count": 10,
   "id": "c255bfca-1fb4-42c4-a0d8-76388485af84",
   "metadata": {},
   "outputs": [
    {
     "name": "stdin",
     "output_type": "stream",
     "text": [
      "Enter the number: 75\n"
     ]
    },
    {
     "name": "stdout",
     "output_type": "stream",
     "text": [
      "1\n",
      "3\n",
      "5\n",
      "15\n",
      "25\n",
      "75\n",
      "The number of divisors are: 6\n"
     ]
    }
   ],
   "source": [
    "# 10) \n",
    "\n",
    "count=0\n",
    "num=eval(input(\"Enter the number:\"))\n",
    "for i in range(1,num+1):\n",
    "    if num%i==0:\n",
    "        print(i)\n",
    "        count=count+1\n",
    "print(\"The number of divisors are:\",count)"
   ]
  },
  {
   "cell_type": "code",
   "execution_count": 11,
   "id": "736ae959-4b92-4dc2-90a4-65d1f890a95f",
   "metadata": {},
   "outputs": [
    {
     "name": "stdin",
     "output_type": "stream",
     "text": [
      "Enter a number: 75\n"
     ]
    },
    {
     "name": "stdout",
     "output_type": "stream",
     "text": [
      "1\n",
      "3\n",
      "5\n",
      "15\n",
      "25\n",
      "75\n",
      "The number of divisors are: 6\n",
      "The summation of all divisors are: 124\n"
     ]
    }
   ],
   "source": [
    "# 11)\n",
    "\n",
    "count,summ=0,0\n",
    "num=eval(input(\"Enter a number:\"))\n",
    "for i in range(1,num+1):\n",
    "    if num%i==0:\n",
    "        print(i)\n",
    "        count=count+1\n",
    "        summ=summ+i\n",
    "print(\"The number of divisors are:\",count)\n",
    "print(\"The summation of all divisors are:\",summ)"
   ]
  },
  {
   "cell_type": "code",
   "execution_count": 12,
   "id": "ba051a3e-1132-4984-a8a7-f4097d13b15e",
   "metadata": {},
   "outputs": [
    {
     "name": "stdin",
     "output_type": "stream",
     "text": [
      "Enter your number: 3\n"
     ]
    },
    {
     "name": "stdout",
     "output_type": "stream",
     "text": [
      "Failed ,mate\n"
     ]
    },
    {
     "name": "stdin",
     "output_type": "stream",
     "text": [
      "Enter your number: 4\n"
     ]
    },
    {
     "name": "stdout",
     "output_type": "stream",
     "text": [
      "Failed ,mate\n"
     ]
    },
    {
     "name": "stdin",
     "output_type": "stream",
     "text": [
      "Enter your number: 8\n"
     ]
    },
    {
     "name": "stdout",
     "output_type": "stream",
     "text": [
      "Failed ,mate\n"
     ]
    }
   ],
   "source": [
    "# Q12) ask the user get a random number:n1\n",
    "# ask the user enter a number:n2\n",
    "# if n1==n2:print(won)\n",
    "# otherwise print(false)\n",
    "# i want to give 3 chances\n",
    "\n",
    "import random\n",
    "for i in range(3):\n",
    "    num1=random.randint(1,10)\n",
    "    num2=eval(input(\"Enter your number:\"))\n",
    "    if num1==num2:\n",
    "        print(\"Congrats you have won\")\n",
    "        break\n",
    "    else:\n",
    "        print(\"Failed ,mate\")"
   ]
  },
  {
   "cell_type": "code",
   "execution_count": 8,
   "id": "21a34af9-a227-4f94-bdd1-ae70a08cc608",
   "metadata": {},
   "outputs": [
    {
     "name": "stdin",
     "output_type": "stream",
     "text": [
      "enter a how many chances you provide: 3\n",
      "Enter a number: 6\n"
     ]
    },
    {
     "name": "stdout",
     "output_type": "stream",
     "text": [
      "you fail\n",
      "You left 2 chances\n"
     ]
    },
    {
     "name": "stdin",
     "output_type": "stream",
     "text": [
      "Enter a number: 8\n"
     ]
    },
    {
     "name": "stdout",
     "output_type": "stream",
     "text": [
      "you fail\n",
      "You left 1 chances\n"
     ]
    },
    {
     "name": "stdin",
     "output_type": "stream",
     "text": [
      "Enter a number: 7\n"
     ]
    },
    {
     "name": "stdout",
     "output_type": "stream",
     "text": [
      "you fail\n",
      "You left 0 chances\n",
      "try after 24 hours\n"
     ]
    }
   ],
   "source": [
    "# case-1: whenever you won code should stop (completed)\n",
    "\n",
    "# case-2: whenever you fail\n",
    "#         it should display how many chances you have left\n",
    "# case-3: whenever all the chances are over\n",
    "#         it should display\n",
    "#         try after 24 hours\n",
    "\n",
    "import random\n",
    "\n",
    "chances=eval(input(\"enter a how many chances you provide:\"))\n",
    "\n",
    "for i in range(1,chances+1):\n",
    "    num1=random.randint(1,5)\n",
    "    # print(num1)\n",
    "    num2=eval(input(\"Enter a number:\"))\n",
    "    \n",
    "    \n",
    "    if num1==num2:\n",
    "        print(\"You won the match\")\n",
    "        break\n",
    "    \n",
    "    elif num1!=num2:\n",
    "        print(\"you fail\")\n",
    "        \n",
    "        print(f\"You left {chances-i} chances\")\n",
    "        \n",
    "    if (chances-i==0):  # do not use elif in this case why means elif condition is satisfied it will break that condition do not move other elif condition\n",
    "        print(\"try after 24 hours\") "
   ]
  },
  {
   "cell_type": "code",
   "execution_count": 8,
   "id": "9a082dd9-3e63-4824-a599-0919375e90b3",
   "metadata": {},
   "outputs": [
    {
     "name": "stdin",
     "output_type": "stream",
     "text": [
      "enter a how many chances you provide: 3\n",
      "Enter a number: 5\n"
     ]
    },
    {
     "name": "stdout",
     "output_type": "stream",
     "text": [
      "You won the match\n"
     ]
    }
   ],
   "source": [
    "import random\n",
    "chances=eval(input(\"enter a how many chances you provide:\"))\n",
    "\n",
    "for i in range(1,chances+1):\n",
    "    num1=random.randint(1,5)\n",
    "    num2=eval(input(\"Enter a number:\"))\n",
    "    \n",
    "    if num1==num2:\n",
    "        print(\"You won the match\")\n",
    "        break\n",
    "    \n",
    "    elif num1!=num2:\n",
    "        print(\"you fail\")\n",
    "        \n",
    "        print(f\"You left {chances-i} chances\")\n",
    "        \n",
    "    if (chances-i==0):\n",
    "        print(\"try after 24 hours\")"
   ]
  },
  {
   "cell_type": "code",
   "execution_count": 9,
   "id": "343bafc1-6c35-42f3-a047-7d444d23d2ba",
   "metadata": {},
   "outputs": [
    {
     "name": "stdin",
     "output_type": "stream",
     "text": [
      "enter a how many chances you provide: 4\n",
      "Enter a number: 6\n"
     ]
    },
    {
     "name": "stdout",
     "output_type": "stream",
     "text": [
      "you fail\n",
      "You left 3 chances\n"
     ]
    },
    {
     "name": "stdin",
     "output_type": "stream",
     "text": [
      "Enter a number: 5\n"
     ]
    },
    {
     "name": "stdout",
     "output_type": "stream",
     "text": [
      "you fail\n",
      "You left 2 chances\n"
     ]
    },
    {
     "name": "stdin",
     "output_type": "stream",
     "text": [
      "Enter a number: 4\n"
     ]
    },
    {
     "name": "stdout",
     "output_type": "stream",
     "text": [
      "you fail\n",
      "You left 1 chances\n"
     ]
    },
    {
     "name": "stdin",
     "output_type": "stream",
     "text": [
      "Enter a number: 3\n"
     ]
    },
    {
     "name": "stdout",
     "output_type": "stream",
     "text": [
      "you fail\n",
      "You left 0 chances\n",
      "try after 24 hours\n"
     ]
    }
   ],
   "source": [
    "import random\n",
    "chances=eval(input(\"enter a how many chances you provide:\"))\n",
    "\n",
    "for i in range(1,chances+1):\n",
    "    num1=random.randint(1,5)\n",
    "    num2=eval(input(\"Enter a number:\"))\n",
    "    \n",
    "    if num1==num2:\n",
    "        print(\"You won the match\")\n",
    "        break\n",
    "    \n",
    "    elif num1!=num2:\n",
    "        print(\"you fail\")\n",
    "        \n",
    "        print(f\"You left {chances-i} chances\")\n",
    "        \n",
    "    if (chances-i==0):\n",
    "        print(\"try after 24 hours\")"
   ]
  },
  {
   "cell_type": "code",
   "execution_count": null,
   "id": "f6dac57a-d346-465e-a1ae-c9edb96ecac3",
   "metadata": {},
   "outputs": [],
   "source": []
  }
 ],
 "metadata": {
  "kernelspec": {
   "display_name": "Python 3 (ipykernel)",
   "language": "python",
   "name": "python3"
  },
  "language_info": {
   "codemirror_mode": {
    "name": "ipython",
    "version": 3
   },
   "file_extension": ".py",
   "mimetype": "text/x-python",
   "name": "python",
   "nbconvert_exporter": "python",
   "pygments_lexer": "ipython3",
   "version": "3.12.4"
  },
  "widgets": {
   "application/vnd.jupyter.widget-state+json": {
    "state": {},
    "version_major": 2,
    "version_minor": 0
   }
  }
 },
 "nbformat": 4,
 "nbformat_minor": 5
}
