{
 "cells": [
  {
   "cell_type": "code",
   "execution_count": 4,
   "id": "2211a6c2-1cc8-4f31-9b39-a0fabe65fd82",
   "metadata": {},
   "outputs": [
    {
     "name": "stdin",
     "output_type": "stream",
     "text": [
      "Enter a value1: 35\n",
      "Enter a value2: 55\n"
     ]
    },
    {
     "name": "stdout",
     "output_type": "stream",
     "text": [
      "The greatest number is 55\n"
     ]
    }
   ],
   "source": [
    "# Q1) WAP ask the user enter two numbers \n",
    "# print the greatest number\n",
    "\n",
    "num1=eval(input(\"Enter a value1:\"))\n",
    "num2=eval(input(\"Enter a value2:\"))\n",
    "if num1>num2:\n",
    "    print(f\"The greatest number is {num1}\")\n",
    "else:\n",
    "    print(f\"The greatest number is {num2}\")\n",
    "\n",
    "          "
   ]
  },
  {
   "cell_type": "code",
   "execution_count": 1,
   "id": "898ef80c-b0b7-4f27-837c-0a774a6ecdc5",
   "metadata": {},
   "outputs": [
    {
     "name": "stdout",
     "output_type": "stream",
     "text": [
      "the number is \"10\"\n"
     ]
    }
   ],
   "source": []
  },
  {
   "cell_type": "code",
   "execution_count": 11,
   "id": "16d22bf1-01a5-49d7-9035-8cb63a663c85",
   "metadata": {},
   "outputs": [
    {
     "name": "stdin",
     "output_type": "stream",
     "text": [
      "Enter the distance: 23\n"
     ]
    },
    {
     "name": "stdout",
     "output_type": "stream",
     "text": [
      "Free ride\n"
     ]
    }
   ],
   "source": [
    "# Q2) WAP ask the user enter the distance\n",
    "# if the distance  >25 ,the ask the user enter the charge\n",
    "# and print the total charge\n",
    "# otherwise (distance<25) print free ride\n",
    "\n",
    "\n",
    "distance=eval(input(\"Enter the distance:\"))\n",
    "if distance>25:\n",
    "    charge=eval(input(\"Enter the charge:\"))\n",
    "    total_charge=distance*charge\n",
    "    print(f\"The total charge is {total_charge}\")\n",
    "else:\n",
    "    print(\"Free ride\")\n",
    "\n",
    "\n",
    "#     (OR)\n",
    "\n",
    "# in place of else you can write if also#\n",
    "# if distance<25:\n",
    "#     print(\"Free ride\")\n",
    "    \n",
    "    \n",
    "    "
   ]
  },
  {
   "cell_type": "code",
   "execution_count": 12,
   "id": "1799c17b-bc2f-4612-8102-688687225dc5",
   "metadata": {},
   "outputs": [
    {
     "name": "stdin",
     "output_type": "stream",
     "text": [
      "Enter the distance: 35\n",
      "Enter the charge: 12\n"
     ]
    },
    {
     "name": "stdout",
     "output_type": "stream",
     "text": [
      "The total charge is 420\n"
     ]
    }
   ],
   "source": [
    "distance=eval(input(\"Enter the distance:\"))\n",
    "if distance<25:\n",
    "    print(\"Free ride\")\n",
    "else:\n",
    "    charge=eval(input(\"Enter the charge:\"))\n",
    "    total_charge=distance*charge\n",
    "    print(f\"The total charge is {total_charge}\")\n",
    "    \n",
    "\n"
   ]
  },
  {
   "cell_type": "code",
   "execution_count": 1,
   "id": "a65b4971-f468-47e0-9e4d-f6acb8b01111",
   "metadata": {},
   "outputs": [
    {
     "name": "stdin",
     "output_type": "stream",
     "text": [
      "Enter the distance you want to travel: 25\n"
     ]
    },
    {
     "name": "stdout",
     "output_type": "stream",
     "text": [
      "free ride\n"
     ]
    }
   ],
   "source": [
    "# Q3) till 25 free ride\n",
    "# after 25km you need to the money\n",
    "# you need to take those upper value\n",
    "# 100km\n",
    "# 100-25=75km only take the money for 75 km\n",
    "\n",
    "\n",
    "travel_distance=eval(input(\"Enter the distance you want to travel:\"))\n",
    "free_distance=25\n",
    "if travel_distance>free_distance:\n",
    "    amount_distance=travel_distance - free_distance\n",
    "    print(f\"Charge distance is {amount_distance}\")\n",
    "    charge=eval(input(\"Enter charge:\"))\n",
    "    total_charge=amount_distance*charge\n",
    "    print(f\"The total charge is {total_charge}\")\n",
    "else:\n",
    "    print(\"free ride\")"
   ]
  },
  {
   "cell_type": "code",
   "execution_count": 2,
   "id": "8e5b7d7f-5b74-4857-81cb-b13b7e3a0992",
   "metadata": {},
   "outputs": [
    {
     "name": "stdout",
     "output_type": "stream",
     "text": [
      "Daughter: hey mom\n",
      "mom: hi beta\n",
      "Daughter: mom do you know govt has given free ride for us\n",
      "mom: Achaa great\n",
      "Daughter: the we will go to grandmother house\n",
      "conductor: show me your id card\n",
      "mom: no we dont have id card,my daughter has\n",
      "conductor: For you we will take money,for your daughter is free ride\n",
      "mom: how much charge\n",
      "conductor:how much distance you want to travel\n"
     ]
    },
    {
     "name": "stdin",
     "output_type": "stream",
     "text": [
      "mom says: 100\n",
      "conductor says charge 5\n"
     ]
    },
    {
     "name": "stdout",
     "output_type": "stream",
     "text": [
      "Total charge is 500\n"
     ]
    }
   ],
   "source": [
    "import time\n",
    "print(\"Daughter: hey mom\")\n",
    "time.sleep(2)\n",
    "print(\"mom: hi beta\")\n",
    "time.sleep(2)\n",
    "print(\"Daughter: mom do you know govt has given free ride for us\")\n",
    "time.sleep(2)\n",
    "print(\"mom: Achaa great\")\n",
    "time.sleep(2)\n",
    "print(\"Daughter: the we will go to grandmother house\")\n",
    "time.sleep(2)\n",
    "print(\"conductor: show me your id card\")\n",
    "time.sleep(2)\n",
    "print(\"mom: no we dont have id card,my daughter has\")\n",
    "time.sleep(2)\n",
    "print(\"conductor: For you we will take money,for your daughter is free ride\")\n",
    "time.sleep(2)\n",
    "print(\"mom: how much charge\")\n",
    "time.sleep(2)\n",
    "print(\"conductor:how much distance you want to travel\")\n",
    "time.sleep(2)\n",
    "distance=eval(input(\"mom says:\"))\n",
    "if distance>25:\n",
    "    charge=eval(input(\"conductor says charge\"))\n",
    "    total_charge=distance*charge\n",
    "    print(f\"Total charge is {total_charge}\")\n",
    "else:\n",
    "    print(\"free ride\")"
   ]
  },
  {
   "cell_type": "code",
   "execution_count": 3,
   "id": "a843058b-e7d7-4624-93d7-7e15714c437a",
   "metadata": {},
   "outputs": [
    {
     "name": "stdout",
     "output_type": "stream",
     "text": [
      "The average of 10,20 and 30 is \"40.0\" \n"
     ]
    }
   ],
   "source": [
    "n1=10\n",
    "n2=20\n",
    "n3=30\n",
    "avg=n1+n2+n3/3\n",
    "print(\"The average of {},{} and {} is \\\"{}\\\" \".format(n1,n2,n3,avg))\n"
   ]
  },
  {
   "cell_type": "code",
   "execution_count": 2,
   "id": "1d4a1396-a727-490b-bce4-ffe5d94ba978",
   "metadata": {},
   "outputs": [
    {
     "name": "stdout",
     "output_type": "stream",
     "text": [
      "the number is \"10\"\n"
     ]
    }
   ],
   "source": [
    "n=10\n",
    "print(f'the number is \"{n}\"')"
   ]
  },
  {
   "cell_type": "code",
   "execution_count": null,
   "id": "d2b9d6d4-cf05-4b35-87c4-4f01270eda77",
   "metadata": {},
   "outputs": [],
   "source": []
  }
 ],
 "metadata": {
  "kernelspec": {
   "display_name": "Python 3 (ipykernel)",
   "language": "python",
   "name": "python3"
  },
  "language_info": {
   "codemirror_mode": {
    "name": "ipython",
    "version": 3
   },
   "file_extension": ".py",
   "mimetype": "text/x-python",
   "name": "python",
   "nbconvert_exporter": "python",
   "pygments_lexer": "ipython3",
   "version": "3.12.4"
  },
  "widgets": {
   "application/vnd.jupyter.widget-state+json": {
    "state": {},
    "version_major": 2,
    "version_minor": 0
   }
  }
 },
 "nbformat": 4,
 "nbformat_minor": 5
}
