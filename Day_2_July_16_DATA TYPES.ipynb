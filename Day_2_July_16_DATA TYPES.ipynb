{
 "cells": [
  {
   "cell_type": "markdown",
   "id": "dbc29315-3818-437c-b0b2-36d7ac469a45",
   "metadata": {},
   "source": [
    "**DATA TYPES**\n",
    "\n",
    "- In python we have many data types are there\n",
    "    - Integer\n",
    "    - float\n",
    "    - string\n",
    "    - boolean\n",
    "- Integer\n",
    "    - In python no need to mention a data type like c\n",
    "    - It will consider the datatype automatically\n",
    "      "
   ]
  },
  {
   "cell_type": "code",
   "execution_count": null,
   "id": "bf486824-6b2d-40c8-bc3f-4c6166b43a4c",
   "metadata": {},
   "outputs": [],
   "source": [
    "number=100\n",
    "\n",
    "# in order check the type of variable we will use\n",
    "\n",
    "# In built function calles as type"
   ]
  },
  {
   "cell_type": "code",
   "execution_count": 2,
   "id": "ef83cd78-29bc-42c6-b41a-aaa48a1245e5",
   "metadata": {},
   "outputs": [
    {
     "data": {
      "text/plain": [
       "int"
      ]
     },
     "execution_count": 2,
     "metadata": {},
     "output_type": "execute_result"
    }
   ],
   "source": [
    "number=100\n",
    "type(number)\n"
   ]
  },
  {
   "cell_type": "code",
   "execution_count": 3,
   "id": "27bc2424-4506-42f8-8d94-2716b31e8fa8",
   "metadata": {},
   "outputs": [
    {
     "data": {
      "text/plain": [
       "int"
      ]
     },
     "execution_count": 3,
     "metadata": {},
     "output_type": "execute_result"
    }
   ],
   "source": [
    "type(100)\n",
    "\n"
   ]
  },
  {
   "cell_type": "markdown",
   "id": "ea86758e-e7d5-4573-bab8-04d921a5d1cf",
   "metadata": {},
   "source": [
    "- In maths has we have different types of representations available\n",
    "- The following Number systems are:\n",
    "    - Binary\n",
    "    - Octa\n",
    "    - Decimal\n",
    "    - Hexa\n",
    "- binary\n",
    "    - binary has bi which indicates two\n",
    "    - we have 0 to 9 digits to represent any number\n",
    "    - from there we take only first two digits i.e. 0 to 1\n",
    "    - Example:0b101,0B0001\n",
    "    - wrong representations is:0b002, 1b001"
   ]
  },
  {
   "cell_type": "code",
   "execution_count": 4,
   "id": "100cb6c1-5295-4711-8807-01f61012b8c0",
   "metadata": {},
   "outputs": [
    {
     "data": {
      "text/plain": [
       "1"
      ]
     },
     "execution_count": 4,
     "metadata": {},
     "output_type": "execute_result"
    }
   ],
   "source": [
    "num=0b001\n",
    "num"
   ]
  },
  {
   "cell_type": "code",
   "execution_count": 5,
   "id": "84021d57-cd5e-4049-98b3-ba5946f58469",
   "metadata": {},
   "outputs": [
    {
     "data": {
      "text/plain": [
       "15"
      ]
     },
     "execution_count": 5,
     "metadata": {},
     "output_type": "execute_result"
    }
   ],
   "source": [
    "0b1111"
   ]
  },
  {
   "cell_type": "markdown",
   "id": "03de45dc-f0c7-4b53-96f5-4e408ece36c7",
   "metadata": {},
   "source": [
    "4  2  1  num\n",
    "0  0  0  0\n",
    "0  0  1  1\n",
    "0  1  0  2\n",
    "0  1  1  3\n",
    "1  0  0  4\n",
    "1  0  1  5\n",
    "1  1  0  6   # 0b110=6\n",
    "1  1  1  7   # 0b111=7\n",
    " \n"
   ]
  },
  {
   "cell_type": "markdown",
   "id": "764c148b-bdfc-4a10-bbed-83b300338514",
   "metadata": {},
   "source": [
    "**Octa**\n",
    "\n",
    "- Octa means 8\n",
    "- we have total 0 to 9 digits to represent any number:0,1,2,3,4,5,6,7,8,9\n",
    "- from there we will only starting 8 digits i.e.0 to 7\n",
    "- Example: 0o123,0O567,0o10006\n",
    "- wrong representations is: 0o786 because 7,6 but 8\n"
   ]
  },
  {
   "cell_type": "code",
   "execution_count": 7,
   "id": "71d9de79-9749-4b37-9989-919c98394ad9",
   "metadata": {},
   "outputs": [
    {
     "ename": "SyntaxError",
     "evalue": "invalid digit '8' in octal literal (3171049937.py, line 1)",
     "output_type": "error",
     "traceback": [
      "\u001b[1;36m  Cell \u001b[1;32mIn[7], line 1\u001b[1;36m\u001b[0m\n\u001b[1;33m    0o786\u001b[0m\n\u001b[1;37m       ^\u001b[0m\n\u001b[1;31mSyntaxError\u001b[0m\u001b[1;31m:\u001b[0m invalid digit '8' in octal literal\n"
     ]
    }
   ],
   "source": [
    "0o786"
   ]
  },
  {
   "cell_type": "markdown",
   "id": "91b87478-7885-42d7-8d5f-c6f02e924de1",
   "metadata": {},
   "source": [
    "- A good develop will understand the error easily\n",
    "- almost we will get 20 types\n",
    "- we will focus both on output as well as errors"
   ]
  },
  {
   "cell_type": "code",
   "execution_count": 3,
   "id": "0ca27afe-b342-4571-bddf-728171337ca1",
   "metadata": {},
   "outputs": [
    {
     "data": {
      "text/plain": [
       "83"
      ]
     },
     "execution_count": 3,
     "metadata": {},
     "output_type": "execute_result"
    }
   ],
   "source": [
    "0o123"
   ]
  },
  {
   "cell_type": "code",
   "execution_count": 9,
   "id": "ecf92ca0-9275-4ae3-a24e-ce62cf70313a",
   "metadata": {},
   "outputs": [
    {
     "data": {
      "text/plain": [
       "302"
      ]
     },
     "execution_count": 9,
     "metadata": {},
     "output_type": "execute_result"
    }
   ],
   "source": [
    "0O456"
   ]
  },
  {
   "cell_type": "markdown",
   "id": "da15d6f3-c649-401e-9bba-38dbb3de5736",
   "metadata": {},
   "source": [
    "**Hexa**\n",
    "\n",
    "- hexa means 16\n",
    "- we have total 0 to 9 digits to represent any number :0,1,2,3,4,5,6,7,8,9\n",
    "- after 9 we will use A to F:A=10,B=11,C=12,D=13,E=14,f=15\n",
    "- Example: 0x123,0XAB,0x9ad\n",
    "- wrong representation:0xFGH"
   ]
  },
  {
   "cell_type": "code",
   "execution_count": 10,
   "id": "d1a886a0-e6cc-46ed-8f37-52a8b703c5c7",
   "metadata": {},
   "outputs": [
    {
     "data": {
      "text/plain": [
       "2748"
      ]
     },
     "execution_count": 10,
     "metadata": {},
     "output_type": "execute_result"
    }
   ],
   "source": [
    "0xabc"
   ]
  },
  {
   "cell_type": "code",
   "execution_count": 11,
   "id": "fd052767-8f81-4e71-b629-b1e5208b8615",
   "metadata": {},
   "outputs": [
    {
     "data": {
      "text/plain": [
       "2745"
      ]
     },
     "execution_count": 11,
     "metadata": {},
     "output_type": "execute_result"
    }
   ],
   "source": [
    "0xab9"
   ]
  },
  {
   "cell_type": "code",
   "execution_count": 12,
   "id": "b0227a2d-c173-4ae2-ad23-01e3d2fe982c",
   "metadata": {},
   "outputs": [
    {
     "data": {
      "text/plain": [
       "2898"
      ]
     },
     "execution_count": 12,
     "metadata": {},
     "output_type": "execute_result"
    }
   ],
   "source": [
    "0Xb52"
   ]
  },
  {
   "cell_type": "markdown",
   "id": "0023fa19-6945-4e36-972e-8aa3c346a817",
   "metadata": {},
   "source": [
    "**FLOAt**"
   ]
  },
  {
   "cell_type": "code",
   "execution_count": 13,
   "id": "71ba64f3-cc8f-44ae-b88a-1fbff500662e",
   "metadata": {},
   "outputs": [
    {
     "data": {
      "text/plain": [
       "10.5"
      ]
     },
     "execution_count": 13,
     "metadata": {},
     "output_type": "execute_result"
    }
   ],
   "source": [
    "num=10.5\n",
    "num"
   ]
  },
  {
   "cell_type": "code",
   "execution_count": 14,
   "id": "938c150a-83b4-453c-99c0-9352b9acd0a2",
   "metadata": {},
   "outputs": [
    {
     "data": {
      "text/plain": [
       "float"
      ]
     },
     "execution_count": 14,
     "metadata": {},
     "output_type": "execute_result"
    }
   ],
   "source": [
    "type(num)\n"
   ]
  },
  {
   "cell_type": "code",
   "execution_count": 7,
   "id": "f8dfe048-ab6f-4170-874c-931e4a4a946a",
   "metadata": {},
   "outputs": [
    {
     "name": "stdout",
     "output_type": "stream",
     "text": [
      "<class 'int'>\n",
      "<class 'float'>\n"
     ]
    }
   ],
   "source": [
    "print(type(10))\n",
    "print(type(10.5))\n",
    "        "
   ]
  },
  {
   "cell_type": "code",
   "execution_count": 11,
   "id": "d6a0445f-e928-4152-98da-97982467f9e1",
   "metadata": {},
   "outputs": [
    {
     "name": "stdout",
     "output_type": "stream",
     "text": [
      "<class 'int'>\n",
      "<class 'float'>\n"
     ]
    },
    {
     "data": {
      "text/plain": [
       "(None, None)"
      ]
     },
     "execution_count": 11,
     "metadata": {},
     "output_type": "execute_result"
    }
   ],
   "source": [
    "print(type(10)),print(type(10.5))\n",
    "        "
   ]
  },
  {
   "cell_type": "code",
   "execution_count": 16,
   "id": "9904bd48-52b2-4522-892d-a2a17fffabc2",
   "metadata": {},
   "outputs": [
    {
     "data": {
      "text/plain": [
       "100000.0"
      ]
     },
     "execution_count": 16,
     "metadata": {},
     "output_type": "execute_result"
    }
   ],
   "source": [
    "10e1   # 10* <10>=100\n",
    "10e2   # 10* <100>=1000 same as below\n",
    "10e3\n",
    "10e4"
   ]
  },
  {
   "cell_type": "code",
   "execution_count": 17,
   "id": "a9c4dd1d-104d-4db6-95e8-d90b6b0afaf1",
   "metadata": {},
   "outputs": [
    {
     "data": {
      "text/plain": [
       "20"
      ]
     },
     "execution_count": 17,
     "metadata": {},
     "output_type": "execute_result"
    }
   ],
   "source": [
    "10\n",
    "20\n",
    "\n",
    "# in jupyter book by default last value will print\n"
   ]
  },
  {
   "cell_type": "code",
   "execution_count": 18,
   "id": "461456e3-e0c8-4454-865d-54e4526c05ff",
   "metadata": {},
   "outputs": [
    {
     "name": "stdout",
     "output_type": "stream",
     "text": [
      "10\n",
      "20\n"
     ]
    }
   ],
   "source": [
    "# If you want to sell the answers apply print\n",
    "\n",
    "print(10)\n",
    "print(20)"
   ]
  },
  {
   "cell_type": "code",
   "execution_count": 19,
   "id": "b3a2ee6c-7710-420a-9375-b72586eb3f2a",
   "metadata": {},
   "outputs": [
    {
     "data": {
      "text/plain": [
       "(10, 20)"
      ]
     },
     "execution_count": 19,
     "metadata": {},
     "output_type": "execute_result"
    }
   ],
   "source": [
    "10,20"
   ]
  },
  {
   "cell_type": "code",
   "execution_count": 20,
   "id": "5ab5cb79-0208-488f-87d8-d92697862854",
   "metadata": {},
   "outputs": [
    {
     "name": "stdout",
     "output_type": "stream",
     "text": [
      "100.0\n",
      "1000.0\n",
      "10000.0\n",
      "100000.0\n",
      "1000000.0\n"
     ]
    }
   ],
   "source": [
    "print(10e1)\n",
    "print(10e2)\n",
    "print(10e3)\n",
    "print(10e4)\n",
    "print(10e5)"
   ]
  },
  {
   "cell_type": "code",
   "execution_count": 22,
   "id": "306b099b-9709-4727-b988-4a43406af0e8",
   "metadata": {},
   "outputs": [
    {
     "data": {
      "text/plain": [
       "(100.0, 1000.0, 10000.0)"
      ]
     },
     "execution_count": 22,
     "metadata": {},
     "output_type": "execute_result"
    }
   ],
   "source": [
    "10e+1,10e+2,10e+3"
   ]
  },
  {
   "cell_type": "code",
   "execution_count": 23,
   "id": "59786a41-c958-468a-bc6a-640b436ef762",
   "metadata": {},
   "outputs": [
    {
     "data": {
      "text/plain": [
       "1000.0"
      ]
     },
     "execution_count": 23,
     "metadata": {},
     "output_type": "execute_result"
    }
   ],
   "source": [
    "10E2"
   ]
  },
  {
   "cell_type": "code",
   "execution_count": 24,
   "id": "960eb114-df27-47d5-a130-935d8cd74de0",
   "metadata": {},
   "outputs": [
    {
     "data": {
      "text/plain": [
       "0.01"
      ]
     },
     "execution_count": 24,
     "metadata": {},
     "output_type": "execute_result"
    }
   ],
   "source": [
    "10e-1 # 10/<10>=1\n",
    "10e-2 # 10/<100>=0.1\n",
    "10e-3 # 10<1000>=0.01"
   ]
  },
  {
   "cell_type": "code",
   "execution_count": 25,
   "id": "5e972fd0-b6a6-4ef1-bf29-e7d4994c74ad",
   "metadata": {},
   "outputs": [
    {
     "name": "stdout",
     "output_type": "stream",
     "text": [
      "1.0\n",
      "0.1\n",
      "0.01\n"
     ]
    }
   ],
   "source": [
    "print(10e-1)\n",
    "print(10e-2)\n",
    "print(10e-3)"
   ]
  },
  {
   "cell_type": "markdown",
   "id": "0868d07e-29ac-4c33-8627-20546edb34d9",
   "metadata": {},
   "source": [
    "- In the machine learning we often see the values in exponential format\n",
    "- In some cases we need to search for zero value\n",
    "- In ML with Python we rarely see exact an answer 0.0\n",
    "- instead of 0.0 it will display as 1.2345e-17"
   ]
  },
  {
   "cell_type": "code",
   "execution_count": 26,
   "id": "2faa9aaa-093e-47ea-a8a4-362bec1e7e98",
   "metadata": {},
   "outputs": [
    {
     "data": {
      "text/plain": [
       "0.000774619736"
      ]
     },
     "execution_count": 26,
     "metadata": {},
     "output_type": "execute_result"
    }
   ],
   "source": [
    "7.74619736e-4"
   ]
  },
  {
   "cell_type": "code",
   "execution_count": null,
   "id": "55099f5b-ec54-4ce7-b414-85a58c253434",
   "metadata": {},
   "outputs": [],
   "source": [
    "1"
   ]
  },
  {
   "cell_type": "code",
   "execution_count": null,
   "id": "0685ddfb-d403-4135-9167-1d737be09fc6",
   "metadata": {},
   "outputs": [],
   "source": [
    "1.2345e-17  # 17 zeros in the denominator\n",
    "1.2345/100000000000000000000000000000000=0.0000000000000000000000012345"
   ]
  },
  {
   "cell_type": "markdown",
   "id": "0ff0d848-3875-48f2-98c8-46debe008e2e",
   "metadata": {},
   "source": [
    "**Strings**\n",
    "\n",
    "- strings represent english characters generally\n",
    "- strings will represent with quotes\n",
    "    - Single quotes\n",
    "    - Double quotes\n",
    "    - Triple quotes"
   ]
  },
  {
   "cell_type": "code",
   "execution_count": 2,
   "id": "d428d43b-ba62-4099-aa15-1f6aae6632df",
   "metadata": {},
   "outputs": [
    {
     "data": {
      "text/plain": [
       "'python'"
      ]
     },
     "execution_count": 2,
     "metadata": {},
     "output_type": "execute_result"
    }
   ],
   "source": [
    "str1='python' # single quotes\n",
    "str1"
   ]
  },
  {
   "cell_type": "code",
   "execution_count": 3,
   "id": "a954aabe-c3c1-4edc-ad4c-5933d6eeb834",
   "metadata": {},
   "outputs": [
    {
     "data": {
      "text/plain": [
       "str"
      ]
     },
     "execution_count": 3,
     "metadata": {},
     "output_type": "execute_result"
    }
   ],
   "source": [
    "type(str1)\n"
   ]
  },
  {
   "cell_type": "code",
   "execution_count": 4,
   "id": "b51b5a62-95aa-4cf9-8ae0-4fa48e75319f",
   "metadata": {},
   "outputs": [
    {
     "data": {
      "text/plain": [
       "'python'"
      ]
     },
     "execution_count": 4,
     "metadata": {},
     "output_type": "execute_result"
    }
   ],
   "source": [
    "str2=\"python\" # Double quotes\n",
    "str2"
   ]
  },
  {
   "cell_type": "markdown",
   "id": "fcee770b-b57b-40b9-8b46-b4ce76959a92",
   "metadata": {},
   "source": [
    "- we can represent in any way but python will give in single quotes"
   ]
  },
  {
   "cell_type": "code",
   "execution_count": 5,
   "id": "1c8d026c-d910-41e8-bcec-e7bf640430ca",
   "metadata": {},
   "outputs": [
    {
     "name": "stdout",
     "output_type": "stream",
     "text": [
      "python\n",
      "python\n"
     ]
    }
   ],
   "source": [
    "print(str1)\n",
    "print(str2)"
   ]
  },
  {
   "cell_type": "markdown",
   "id": "fab3b299-daf2-4b76-809b-8231b7e7605d",
   "metadata": {},
   "source": [
    "- when we apply print on string,It will display without quotes"
   ]
  },
  {
   "cell_type": "code",
   "execution_count": 7,
   "id": "cacc0a5d-4d3a-45d1-b8f3-8553eab34261",
   "metadata": {},
   "outputs": [
    {
     "data": {
      "text/plain": [
       "str"
      ]
     },
     "execution_count": 7,
     "metadata": {},
     "output_type": "execute_result"
    }
   ],
   "source": [
    "str3='abc123'\n",
    "type(str3)"
   ]
  },
  {
   "cell_type": "code",
   "execution_count": 8,
   "id": "9f434836-4c87-4b74-8f34-c72bd0a28fb6",
   "metadata": {},
   "outputs": [
    {
     "data": {
      "text/plain": [
       "(str, str, str, str)"
      ]
     },
     "execution_count": 8,
     "metadata": {},
     "output_type": "execute_result"
    }
   ],
   "source": [
    "type('10'),type('10.5'),type('123'),type('apple')"
   ]
  },
  {
   "cell_type": "code",
   "execution_count": 12,
   "id": "92874c95-792a-45b8-b2d2-f84f261adeef",
   "metadata": {},
   "outputs": [
    {
     "data": {
      "text/plain": [
       "'10'"
      ]
     },
     "execution_count": 12,
     "metadata": {},
     "output_type": "execute_result"
    }
   ],
   "source": [
    "a=10\n",
    "str(a)"
   ]
  },
  {
   "cell_type": "code",
   "execution_count": 13,
   "id": "56115bd7-9f33-4508-a99c-ce96371d4bb9",
   "metadata": {},
   "outputs": [
    {
     "data": {
      "text/plain": [
       "'10.34'"
      ]
     },
     "execution_count": 13,
     "metadata": {},
     "output_type": "execute_result"
    }
   ],
   "source": [
    "b=10.34\n",
    "str(b)"
   ]
  },
  {
   "cell_type": "code",
   "execution_count": 14,
   "id": "ccfad7fa-b18c-4436-8a7c-25e0d70876bc",
   "metadata": {},
   "outputs": [
    {
     "data": {
      "text/plain": [
       "'True'"
      ]
     },
     "execution_count": 14,
     "metadata": {},
     "output_type": "execute_result"
    }
   ],
   "source": [
    "c=True\n",
    "str(c)"
   ]
  },
  {
   "cell_type": "code",
   "execution_count": 15,
   "id": "3ee8dee6-a4c8-4156-b526-b3f5eaa4e3ac",
   "metadata": {},
   "outputs": [
    {
     "ename": "ValueError",
     "evalue": "invalid literal for int() with base 10: 'a'",
     "output_type": "error",
     "traceback": [
      "\u001b[1;31m---------------------------------------------------------------------------\u001b[0m",
      "\u001b[1;31mValueError\u001b[0m                                Traceback (most recent call last)",
      "Cell \u001b[1;32mIn[15], line 2\u001b[0m\n\u001b[0;32m      1\u001b[0m d\u001b[38;5;241m=\u001b[39m\u001b[38;5;124m'\u001b[39m\u001b[38;5;124ma\u001b[39m\u001b[38;5;124m'\u001b[39m\n\u001b[1;32m----> 2\u001b[0m \u001b[38;5;28mint\u001b[39m(d)\n",
      "\u001b[1;31mValueError\u001b[0m: invalid literal for int() with base 10: 'a'"
     ]
    }
   ],
   "source": [
    "d='a'\n",
    "int(d)# strings cannot be converted as intgers"
   ]
  },
  {
   "cell_type": "code",
   "execution_count": 18,
   "id": "55c3873c-a2d0-4c53-acd6-55eb8d6cd559",
   "metadata": {},
   "outputs": [
    {
     "ename": "ValueError",
     "evalue": "could not convert string to float: 'abc'",
     "output_type": "error",
     "traceback": [
      "\u001b[1;31m---------------------------------------------------------------------------\u001b[0m",
      "\u001b[1;31mValueError\u001b[0m                                Traceback (most recent call last)",
      "Cell \u001b[1;32mIn[18], line 2\u001b[0m\n\u001b[0;32m      1\u001b[0m string\u001b[38;5;241m=\u001b[39m\u001b[38;5;124m'\u001b[39m\u001b[38;5;124mabc\u001b[39m\u001b[38;5;124m'\u001b[39m\n\u001b[1;32m----> 2\u001b[0m \u001b[38;5;28mfloat\u001b[39m(string)\n",
      "\u001b[1;31mValueError\u001b[0m: could not convert string to float: 'abc'"
     ]
    }
   ],
   "source": [
    "string='abc'\n",
    "float(string)"
   ]
  },
  {
   "cell_type": "code",
   "execution_count": 17,
   "id": "f6a8b4d9-d7e1-495f-bb0f-ebf84028b17b",
   "metadata": {},
   "outputs": [
    {
     "data": {
      "text/plain": [
       "True"
      ]
     },
     "execution_count": 17,
     "metadata": {},
     "output_type": "execute_result"
    }
   ],
   "source": [
    "string1=\"abc\"\n",
    "bool(string1)"
   ]
  },
  {
   "cell_type": "markdown",
   "id": "7d9a06a7-f826-4649-a7a7-be7387660135",
   "metadata": {},
   "source": [
    "- any data type or any value is provided by quotes means\n",
    "- It becomes a string only\n",
    "- String always in Red color \n",
    "- Variables always in black color\n",
    "- keywords or numbers always in Green color"
   ]
  },
  {
   "cell_type": "code",
   "execution_count": null,
   "id": "60466f18-2257-4e2c-87e8-15f6506673d3",
   "metadata": {},
   "outputs": [],
   "source": []
  },
  {
   "cell_type": "code",
   "execution_count": 9,
   "id": "5639984d-83ba-408a-bbbc-c8076b380b14",
   "metadata": {},
   "outputs": [
    {
     "name": "stdout",
     "output_type": "stream",
     "text": [
      "I like 'python'\n"
     ]
    }
   ],
   "source": [
    "str1=\"I like 'python'\"\n",
    "print(str1)"
   ]
  },
  {
   "cell_type": "code",
   "execution_count": 11,
   "id": "62c9b985-92b5-40a4-b8cf-b3a9819f2b24",
   "metadata": {},
   "outputs": [
    {
     "name": "stdout",
     "output_type": "stream",
     "text": [
      "I like \"python\"\n"
     ]
    }
   ],
   "source": [
    "str1='I like \"python\"'\n",
    "print(str1)"
   ]
  },
  {
   "cell_type": "code",
   "execution_count": 12,
   "id": "085b4456-2a07-4ae7-94aa-738e8728762d",
   "metadata": {},
   "outputs": [
    {
     "ename": "SyntaxError",
     "evalue": "invalid syntax (3362287590.py, line 1)",
     "output_type": "error",
     "traceback": [
      "\u001b[1;36m  Cell \u001b[1;32mIn[12], line 1\u001b[1;36m\u001b[0m\n\u001b[1;33m    str1=\"I like \"python\" \"\u001b[0m\n\u001b[1;37m                  ^\u001b[0m\n\u001b[1;31mSyntaxError\u001b[0m\u001b[1;31m:\u001b[0m invalid syntax\n"
     ]
    }
   ],
   "source": [
    "str1=\"I like \"python\" \"\n",
    "print(str1)   # dont give like this"
   ]
  },
  {
   "cell_type": "code",
   "execution_count": 22,
   "id": "d54b1cee-9356-4e49-856f-eb69dfd297b9",
   "metadata": {},
   "outputs": [
    {
     "name": "stdout",
     "output_type": "stream",
     "text": [
      "I like \"python\" \n"
     ]
    }
   ],
   "source": [
    "str1='''I like \"python\" '''\n",
    "print(str1)   "
   ]
  },
  {
   "cell_type": "markdown",
   "id": "4bacfc2c-5f86-4eac-a912-f118ab6794ef",
   "metadata": {},
   "source": [
    "- If you want to highlite any word\n",
    "- represent entire string in single quotes,hightlited word in double quotes vice versa"
   ]
  },
  {
   "cell_type": "code",
   "execution_count": 13,
   "id": "9616babb-8d0f-4f57-a030-54f5742c5996",
   "metadata": {},
   "outputs": [
    {
     "ename": "SyntaxError",
     "evalue": "unterminated string literal (detected at line 1) (3388682316.py, line 1)",
     "output_type": "error",
     "traceback": [
      "\u001b[1;36m  Cell \u001b[1;32mIn[13], line 1\u001b[1;36m\u001b[0m\n\u001b[1;33m    str1='hai\u001b[0m\n\u001b[1;37m         ^\u001b[0m\n\u001b[1;31mSyntaxError\u001b[0m\u001b[1;31m:\u001b[0m unterminated string literal (detected at line 1)\n"
     ]
    }
   ],
   "source": [
    "str1='hai\n",
    "     how are you\n",
    "     im good'"
   ]
  },
  {
   "cell_type": "code",
   "execution_count": null,
   "id": "9db343c8-caf6-4168-82bd-f3345aeb2576",
   "metadata": {},
   "outputs": [],
   "source": [
    "str1=\"hai\n",
    "     how are you\n",
    "     im good\""
   ]
  },
  {
   "cell_type": "code",
   "execution_count": 23,
   "id": "2bb28d8c-c2c0-457d-81fc-45970f555bf5",
   "metadata": {},
   "outputs": [
    {
     "data": {
      "text/plain": [
       "'hai\\n    how are you\\n    im good'"
      ]
     },
     "execution_count": 23,
     "metadata": {},
     "output_type": "execute_result"
    }
   ],
   "source": [
    "str1=\"\"\"hai\n",
    "    how are you\n",
    "    im good\"\"\"\n",
    "str1"
   ]
  },
  {
   "cell_type": "code",
   "execution_count": 15,
   "id": "3b42b395-060d-4ebb-9740-1a16dc28a073",
   "metadata": {},
   "outputs": [
    {
     "name": "stdout",
     "output_type": "stream",
     "text": [
      "hai\n",
      "    how are you\n",
      "    im good\n"
     ]
    }
   ],
   "source": [
    "print(str1)"
   ]
  },
  {
   "cell_type": "code",
   "execution_count": 28,
   "id": "c86610e6-0534-42ab-82fd-ba1b8b5764a7",
   "metadata": {},
   "outputs": [
    {
     "name": "stdout",
     "output_type": "stream",
     "text": [
      "    hai\n",
      "    how are you\n",
      "    im good\n"
     ]
    }
   ],
   "source": [
    "str1='''    hai\n",
    "    how are you\n",
    "    im good'''\n",
    "print(str1)"
   ]
  },
  {
   "cell_type": "code",
   "execution_count": null,
   "id": "777330ee-e7f4-4ef2-bdb0-2e8776849bad",
   "metadata": {},
   "outputs": [],
   "source": [
    "str1='\"hai\n",
    "    how are you\n",
    "    im good'\"\n",
    "str1"
   ]
  },
  {
   "cell_type": "markdown",
   "id": "96196620-f0e4-47dc-bae5-4d4d01571444",
   "metadata": {},
   "source": [
    "- triple quotes is used for write a multiline comments\n",
    "                       \n",
    "- This is called as **Docstring**\n",
    "                       \n",
    "- In order to write a story in jupyter notebook we have a markdown\n",
    "\n",
    "- But other platforms like VScode ,pycharm we dont have a markdown\n",
    "\n",
    "- then how can we write a story : By using Triple quotes \n",
    "\n",
    "- If any person writing some thing using triple quotes,which incdicates\n",
    "\n",
    "    the user is string to convey the information\n",
    "\n",
    "- This is process called as DocString\n",
    "\n",
    "\n",
    "**Boolean**\n",
    "\n",
    "- computer takes the values in Binary Format(1,0)\n",
    "- computer gives the ansswer in Boolean format\n",
    "    - True\n",
    "    - False\n",
    "- True indicates 1\n",
    "- False indicates 0\n",
    "\n",
    "                       "
   ]
  },
  {
   "cell_type": "code",
   "execution_count": 16,
   "id": "673e16e6-1caf-47b5-bb62-10492966d510",
   "metadata": {},
   "outputs": [
    {
     "data": {
      "text/plain": [
       "bool"
      ]
     },
     "execution_count": 16,
     "metadata": {},
     "output_type": "execute_result"
    }
   ],
   "source": [
    "val=True\n",
    "type(val)"
   ]
  },
  {
   "cell_type": "code",
   "execution_count": 17,
   "id": "45cecb5f-43eb-4b4a-a938-b079efcd4e6a",
   "metadata": {},
   "outputs": [
    {
     "data": {
      "text/plain": [
       "bool"
      ]
     },
     "execution_count": 17,
     "metadata": {},
     "output_type": "execute_result"
    }
   ],
   "source": [
    "val2=False\n",
    "type(val2)"
   ]
  },
  {
   "cell_type": "code",
   "execution_count": 18,
   "id": "ea7a2e4a-cea8-446c-a2a6-755c93a12696",
   "metadata": {},
   "outputs": [
    {
     "data": {
      "text/plain": [
       "('True', True)"
      ]
     },
     "execution_count": 18,
     "metadata": {},
     "output_type": "execute_result"
    }
   ],
   "source": [
    "true='True'\n",
    "TRUE=True\n",
    "true,TRUE"
   ]
  },
  {
   "cell_type": "code",
   "execution_count": 19,
   "id": "901711d4-6742-419d-9413-a88b9b450eeb",
   "metadata": {},
   "outputs": [
    {
     "data": {
      "text/plain": [
       "(str, bool)"
      ]
     },
     "execution_count": 19,
     "metadata": {},
     "output_type": "execute_result"
    }
   ],
   "source": [
    "type(true),type(TRUE)"
   ]
  },
  {
   "cell_type": "code",
   "execution_count": 20,
   "id": "95b8d8d7-dfee-4522-9041-734d89d2061b",
   "metadata": {},
   "outputs": [
    {
     "name": "stdout",
     "output_type": "stream",
     "text": [
      "10 10.5 10 True\n"
     ]
    }
   ],
   "source": [
    "a=10\n",
    "b=10.5\n",
    "c='10'\n",
    "d=True\n",
    "print(a,b,c,d)"
   ]
  },
  {
   "cell_type": "code",
   "execution_count": null,
   "id": "629d0e75-8d01-4381-9623-a9d5f5204d8e",
   "metadata": {},
   "outputs": [],
   "source": []
  },
  {
   "cell_type": "code",
   "execution_count": null,
   "id": "7b7e7c00-8ed7-4126-8cd2-e57eba9bf520",
   "metadata": {},
   "outputs": [],
   "source": []
  },
  {
   "cell_type": "code",
   "execution_count": null,
   "id": "8a0fcdaf-e06c-46f7-ba60-2aba3c897ec8",
   "metadata": {},
   "outputs": [],
   "source": []
  },
  {
   "cell_type": "code",
   "execution_count": null,
   "id": "2e197b9c-3222-412d-900c-344bbe93bdd7",
   "metadata": {},
   "outputs": [],
   "source": []
  },
  {
   "cell_type": "code",
   "execution_count": null,
   "id": "716f99e2-71c5-4d5b-a3c0-d55ec9a88303",
   "metadata": {},
   "outputs": [],
   "source": []
  },
  {
   "cell_type": "code",
   "execution_count": 29,
   "id": "d5847bec-3b1c-4782-a2c5-2b07404dea78",
   "metadata": {},
   "outputs": [
    {
     "data": {
      "text/plain": [
       "True"
      ]
     },
     "execution_count": 29,
     "metadata": {},
     "output_type": "execute_result"
    }
   ],
   "source": [
    "bool(float(10))   # first excuted inner bracket"
   ]
  },
  {
   "cell_type": "code",
   "execution_count": null,
   "id": "f4698fed-dd81-4a9c-be8c-eb4598b7e5bc",
   "metadata": {},
   "outputs": [],
   "source": [
    "\n",
    "- 1 feet=12 inches\n",
    "- 1 inch=2.54cm\n",
    "\n",
    "- for example 5 feet 5 inches\n",
    "- 5*12=60inches\n",
    "- 60+5=65inches\n",
    "- 65*2.54cm=165.1cm\n",
    "- convert cm to meters\n",
    "- 1cm=0.01m\n",
    "- 1.65cm*0.01m=1.651m"
   ]
  },
  {
   "cell_type": "code",
   "execution_count": 32,
   "id": "eed808a9-68f3-41ee-ba34-81ee9aacef42",
   "metadata": {},
   "outputs": [
    {
     "name": "stdin",
     "output_type": "stream",
     "text": [
      "enter your height in cm: 152\n",
      "enter your weight: 50\n"
     ]
    },
    {
     "name": "stdout",
     "output_type": "stream",
     "text": [
      "Normal Weight\n",
      "21.641274238227147\n"
     ]
    }
   ],
   "source": [
    "height=int(input(\"enter your height in cm:\"))\n",
    "weight=int(input(\"enter your weight:\"))\n",
    "BMI=weight/((height*0.01)**2)\n",
    "if BMI<18.5:\n",
    "    print(\"Underweight\")\n",
    "elif 18.5<=BMI <25:\n",
    "    print(\"Normal Weight\")\n",
    "elif 25<=BMI <30:\n",
    "    print(\"Over Weight\")\n",
    "elif BMI>30:\n",
    "    print(\"Obesity\")\n",
    "print(BMI)\n",
    "\n"
   ]
  },
  {
   "cell_type": "code",
   "execution_count": 34,
   "id": "9d987a9b-9df5-4566-a744-6d75a4324418",
   "metadata": {},
   "outputs": [
    {
     "name": "stdin",
     "output_type": "stream",
     "text": [
      " M\n",
      "enter your height in meters: 500\n",
      "enter your weight: 50\n"
     ]
    },
    {
     "name": "stdout",
     "output_type": "stream",
     "text": [
      "Underweight\n",
      "0.0002\n"
     ]
    }
   ],
   "source": [
    "a=input()\n",
    "if (a==\"F\"):\n",
    "    Feet=int(input(\"Enter your feet:\"))\n",
    "    inches=int(input(\"Enter your inches:\"))\n",
    "    Feet=Feet*12\n",
    "    height=Feet+inches\n",
    "    Height=(height*2.54)*0.01\n",
    "    print(Height)\n",
    "elif(a==\"M\"):\n",
    "    Height=float(input(\"enter your height in meters:\"))\n",
    "weight=int(input(\"enter your weight:\"))\n",
    "BMI=weight/((Height)**2)\n",
    "if BMI<18.5:\n",
    "    print(\"Underweight\")\n",
    "elif 18.5<=BMI <25:\n",
    "    print(\"Normal Weight\")\n",
    "elif 25<=BMI <30:\n",
    "    print(\"Over Weight\")\n",
    "elif BMI>30:\n",
    "    print(\"Obesity\")\n",
    "    \n",
    "print(BMI)\n"
   ]
  },
  {
   "cell_type": "code",
   "execution_count": 30,
   "id": "10571955-d2ab-4fb6-8e22-db4dae026237",
   "metadata": {},
   "outputs": [
    {
     "name": "stdin",
     "output_type": "stream",
     "text": [
      "enter phone number 06281958598\n"
     ]
    },
    {
     "name": "stdout",
     "output_type": "stream",
     "text": [
      "7\n"
     ]
    }
   ],
   "source": [
    "phone_number=input(\"enter phone number\")\n",
    "total_sum=0\n",
    "index=0\n",
    "while(index<len(phone_number)):\n",
    "    char=phone_number[index]\n",
    "    if char.isdigit():\n",
    "        total_sum+=int(char)\n",
    "    index+=1 \n",
    "\n",
    "a=str(total_sum)\n",
    "sum1=0\n",
    "index1=0\n",
    "while(index1<len(a)):\n",
    "    char1=a[index1]\n",
    "    if char1.isdigit():\n",
    "        sum1=sum1+int(char1)\n",
    "    index1=index1+1\n",
    "\n",
    "b=str(sum1)\n",
    "sum2=0\n",
    "index2=0\n",
    "while(index2<len(b)):\n",
    "    char2=b[index2]\n",
    "    if char2.isdigit():\n",
    "        sum2+=int(char2)\n",
    "    index2+=1\n",
    "print(sum2)\n",
    "\n",
    "\n",
    "    "
   ]
  },
  {
   "cell_type": "code",
   "execution_count": 31,
   "id": "ac7fbe71-15ba-4dec-8be2-ba25adeb3528",
   "metadata": {},
   "outputs": [
    {
     "name": "stdin",
     "output_type": "stream",
     "text": [
      "enter phone number 6279875432\n"
     ]
    }
   ],
   "source": [
    "\n",
    "phone_number=input(\"enter phone number\")\n",
    "total_sum=0\n",
    "index=0\n",
    "while(index<len(phone_number)):\n",
    "    char=phone_number[index]\n",
    "    if char.isdigit():\n",
    "        total_sum+=int(char)\n",
    "    index+=1 \n",
    "sum=0\n"
   ]
  },
  {
   "cell_type": "code",
   "execution_count": null,
   "id": "6b1d275c-764d-4240-8f2a-5f23b45cf93d",
   "metadata": {},
   "outputs": [],
   "source": []
  },
  {
   "cell_type": "code",
   "execution_count": null,
   "id": "1914617c-9d02-42fa-8bb2-420bc27eb81a",
   "metadata": {},
   "outputs": [],
   "source": []
  },
  {
   "cell_type": "code",
   "execution_count": null,
   "id": "fefc6eda-862d-4085-b1d4-8be31bc59eb6",
   "metadata": {},
   "outputs": [],
   "source": []
  },
  {
   "cell_type": "code",
   "execution_count": null,
   "id": "b3263922-392c-44a1-83f6-4056add53c7a",
   "metadata": {},
   "outputs": [],
   "source": []
  },
  {
   "cell_type": "code",
   "execution_count": null,
   "id": "9a6d9192-0385-4b51-8b09-4c07874cea05",
   "metadata": {},
   "outputs": [],
   "source": []
  },
  {
   "cell_type": "code",
   "execution_count": null,
   "id": "870eaa9f-ee5f-42d2-9f0e-f5a9892f796e",
   "metadata": {},
   "outputs": [],
   "source": []
  },
  {
   "cell_type": "code",
   "execution_count": null,
   "id": "1a784f1c-17f4-4cb0-896d-d8aad6d7ba14",
   "metadata": {},
   "outputs": [],
   "source": []
  },
  {
   "cell_type": "code",
   "execution_count": null,
   "id": "c82b29c6-6ec5-42c6-8bfb-2575d08eb7e3",
   "metadata": {},
   "outputs": [],
   "source": []
  },
  {
   "cell_type": "code",
   "execution_count": null,
   "id": "9b121d60-42b5-49b5-9d92-f04338397b0a",
   "metadata": {},
   "outputs": [],
   "source": []
  },
  {
   "cell_type": "code",
   "execution_count": null,
   "id": "b050ec6e-e8dc-4de7-aff7-6510e3bdc1f3",
   "metadata": {},
   "outputs": [],
   "source": []
  },
  {
   "cell_type": "code",
   "execution_count": null,
   "id": "7f6408bd-6978-4eef-ac1f-0c36734cbd29",
   "metadata": {},
   "outputs": [],
   "source": []
  },
  {
   "cell_type": "code",
   "execution_count": null,
   "id": "b95cc7e6-5448-4828-a451-ce3631a7e5bb",
   "metadata": {},
   "outputs": [],
   "source": []
  },
  {
   "cell_type": "code",
   "execution_count": null,
   "id": "ecc0acf2-1ad7-47a6-bc64-15ccf364d87f",
   "metadata": {},
   "outputs": [],
   "source": []
  },
  {
   "cell_type": "code",
   "execution_count": null,
   "id": "fdd2d3c4-97d1-4fe4-a0e3-fa2cb4710ae8",
   "metadata": {},
   "outputs": [],
   "source": []
  },
  {
   "cell_type": "code",
   "execution_count": null,
   "id": "77baaceb-8f70-4164-9b29-464c8573e130",
   "metadata": {},
   "outputs": [],
   "source": []
  },
  {
   "cell_type": "code",
   "execution_count": null,
   "id": "63c47d55-ebca-4f2b-9d60-c6da60813980",
   "metadata": {},
   "outputs": [],
   "source": []
  },
  {
   "cell_type": "code",
   "execution_count": null,
   "id": "008d6870-ccf5-438a-8aab-25ab8ccc531d",
   "metadata": {},
   "outputs": [],
   "source": []
  },
  {
   "cell_type": "code",
   "execution_count": null,
   "id": "7f733185-dbd4-4353-a430-d8abfe6cbdd8",
   "metadata": {},
   "outputs": [],
   "source": []
  },
  {
   "cell_type": "code",
   "execution_count": null,
   "id": "9e8d7cb0-8b37-4776-8009-8c620d9e2278",
   "metadata": {},
   "outputs": [],
   "source": []
  },
  {
   "cell_type": "code",
   "execution_count": null,
   "id": "db4b4916-fadf-4478-81f3-446aebfea7c2",
   "metadata": {},
   "outputs": [],
   "source": []
  },
  {
   "cell_type": "code",
   "execution_count": null,
   "id": "f5b6ff67-71c1-46a5-a65b-d235de89e3fa",
   "metadata": {},
   "outputs": [],
   "source": []
  },
  {
   "cell_type": "code",
   "execution_count": null,
   "id": "9bbbbdc9-163d-444a-8cd4-2973ffe0fa36",
   "metadata": {},
   "outputs": [],
   "source": []
  },
  {
   "cell_type": "code",
   "execution_count": null,
   "id": "2f416d34-53c4-49ee-a80b-c92a74547be0",
   "metadata": {},
   "outputs": [],
   "source": []
  },
  {
   "cell_type": "code",
   "execution_count": null,
   "id": "bada0f44-4c7f-4248-af15-543a2eba1ff2",
   "metadata": {},
   "outputs": [],
   "source": []
  },
  {
   "cell_type": "code",
   "execution_count": null,
   "id": "a0336832-b83e-43c6-a81c-ecf702d085bf",
   "metadata": {},
   "outputs": [],
   "source": []
  },
  {
   "cell_type": "code",
   "execution_count": null,
   "id": "458715cc-799e-498b-b8a6-8c7cef9e3ccb",
   "metadata": {},
   "outputs": [],
   "source": []
  },
  {
   "cell_type": "code",
   "execution_count": null,
   "id": "e7124df1-84d1-4937-996d-ccb63c27776e",
   "metadata": {},
   "outputs": [],
   "source": []
  },
  {
   "cell_type": "code",
   "execution_count": null,
   "id": "d911550a-5a65-429a-8aca-66cb637e0dd3",
   "metadata": {},
   "outputs": [],
   "source": []
  },
  {
   "cell_type": "code",
   "execution_count": null,
   "id": "e66fe9af-c20f-412f-8240-2535d97fd33f",
   "metadata": {},
   "outputs": [],
   "source": []
  },
  {
   "cell_type": "code",
   "execution_count": null,
   "id": "e6a224ef-8c37-4bc7-8637-bec2817aab54",
   "metadata": {},
   "outputs": [],
   "source": []
  },
  {
   "cell_type": "code",
   "execution_count": null,
   "id": "4860cbb2-2499-4659-b4eb-e275d32f4cc5",
   "metadata": {},
   "outputs": [],
   "source": []
  },
  {
   "cell_type": "code",
   "execution_count": null,
   "id": "d62fc1c3-20ef-497b-84ed-153715e81389",
   "metadata": {},
   "outputs": [],
   "source": []
  },
  {
   "cell_type": "code",
   "execution_count": null,
   "id": "4a635dc8-b097-4662-ac90-82f63c758718",
   "metadata": {},
   "outputs": [],
   "source": []
  },
  {
   "cell_type": "code",
   "execution_count": null,
   "id": "7ed126fd-b07c-4944-b607-c0587a97b4e1",
   "metadata": {},
   "outputs": [],
   "source": []
  },
  {
   "cell_type": "code",
   "execution_count": null,
   "id": "c20a26e1-7309-4239-8545-70d61d00937a",
   "metadata": {},
   "outputs": [],
   "source": []
  },
  {
   "cell_type": "code",
   "execution_count": null,
   "id": "7ede5d96-d890-4ed0-9df4-cd7eaf8df0b9",
   "metadata": {},
   "outputs": [],
   "source": []
  },
  {
   "cell_type": "code",
   "execution_count": null,
   "id": "cf69096b-5684-45ea-94f3-24a8a7c8f703",
   "metadata": {},
   "outputs": [],
   "source": []
  },
  {
   "cell_type": "code",
   "execution_count": null,
   "id": "e2bc9577-8af2-4f06-a96c-222236a72c08",
   "metadata": {},
   "outputs": [],
   "source": []
  },
  {
   "cell_type": "code",
   "execution_count": null,
   "id": "97a6153d-fe6f-4d1c-8905-76419d1097e2",
   "metadata": {},
   "outputs": [],
   "source": []
  },
  {
   "cell_type": "code",
   "execution_count": null,
   "id": "c9520d49-7995-42c5-9cc0-6d822904929c",
   "metadata": {},
   "outputs": [],
   "source": []
  },
  {
   "cell_type": "code",
   "execution_count": null,
   "id": "fdabfa16-c2fc-44bf-b2b6-1bf471a5a90a",
   "metadata": {},
   "outputs": [],
   "source": []
  },
  {
   "cell_type": "code",
   "execution_count": null,
   "id": "271cda41-d468-4d23-b98e-a71da8491814",
   "metadata": {},
   "outputs": [],
   "source": []
  },
  {
   "cell_type": "code",
   "execution_count": null,
   "id": "355b3722-8785-45eb-ac47-5381c1a5f03b",
   "metadata": {},
   "outputs": [],
   "source": []
  },
  {
   "cell_type": "code",
   "execution_count": null,
   "id": "14f67999-a270-4c10-8d7f-043d7e17cec8",
   "metadata": {},
   "outputs": [],
   "source": []
  },
  {
   "cell_type": "code",
   "execution_count": null,
   "id": "ea0ac077-f10e-4353-888e-b961fcd4e0af",
   "metadata": {},
   "outputs": [],
   "source": []
  },
  {
   "cell_type": "code",
   "execution_count": null,
   "id": "7dc90aee-9f63-4c4c-a008-13b0c8fb8d75",
   "metadata": {},
   "outputs": [],
   "source": []
  },
  {
   "cell_type": "code",
   "execution_count": null,
   "id": "4d24f675-2048-49f2-9a13-b3fb76f45dda",
   "metadata": {},
   "outputs": [],
   "source": []
  },
  {
   "cell_type": "code",
   "execution_count": null,
   "id": "873b66dc-a5eb-42ce-82d8-c7da0ded93f2",
   "metadata": {},
   "outputs": [],
   "source": []
  },
  {
   "cell_type": "code",
   "execution_count": null,
   "id": "5bc755c3-2050-4b2e-bcfe-4f9de22c4176",
   "metadata": {},
   "outputs": [],
   "source": []
  },
  {
   "cell_type": "code",
   "execution_count": null,
   "id": "90337e49-27b4-41f0-a942-453f708df73c",
   "metadata": {},
   "outputs": [],
   "source": []
  },
  {
   "cell_type": "code",
   "execution_count": null,
   "id": "c92cfa11-00b2-4da7-9f67-d1bddbc28a4b",
   "metadata": {},
   "outputs": [],
   "source": []
  },
  {
   "cell_type": "code",
   "execution_count": null,
   "id": "90352ea6-8e74-4df5-823a-24e3b909739d",
   "metadata": {},
   "outputs": [],
   "source": []
  },
  {
   "cell_type": "code",
   "execution_count": null,
   "id": "c64f22c2-1c49-441a-a354-188644308a17",
   "metadata": {},
   "outputs": [],
   "source": []
  },
  {
   "cell_type": "code",
   "execution_count": null,
   "id": "e3de414c-55a8-4361-8a7e-6f6e8ce5dd0b",
   "metadata": {},
   "outputs": [],
   "source": []
  }
 ],
 "metadata": {
  "kernelspec": {
   "display_name": "Python 3 (ipykernel)",
   "language": "python",
   "name": "python3"
  },
  "language_info": {
   "codemirror_mode": {
    "name": "ipython",
    "version": 3
   },
   "file_extension": ".py",
   "mimetype": "text/x-python",
   "name": "python",
   "nbconvert_exporter": "python",
   "pygments_lexer": "ipython3",
   "version": "3.12.4"
  },
  "widgets": {
   "application/vnd.jupyter.widget-state+json": {
    "state": {},
    "version_major": 2,
    "version_minor": 0
   }
  }
 },
 "nbformat": 4,
 "nbformat_minor": 5
}
